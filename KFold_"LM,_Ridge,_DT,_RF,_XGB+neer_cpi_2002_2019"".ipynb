{
  "nbformat": 4,
  "nbformat_minor": 0,
  "metadata": {
    "colab": {
      "name": "KFold \"LM, Ridge, DT, RF, XGB+neer cpi 2002-2019\"\"",
      "provenance": [],
      "collapsed_sections": [],
      "toc_visible": true,
      "authorship_tag": "ABX9TyMR0yOA87Q499TFjCMYwzAM",
      "include_colab_link": true
    },
    "kernelspec": {
      "display_name": "Python 3",
      "name": "python3"
    }
  },
  "cells": [
    {
      "cell_type": "markdown",
      "metadata": {
        "id": "view-in-github",
        "colab_type": "text"
      },
      "source": [
        "<a href=\"https://colab.research.google.com/github/olsem1/WP-3/blob/master/KFold_%22LM%2C_Ridge%2C_DT%2C_RF%2C_XGB%2Bneer_cpi_2002_2019%22%22.ipynb\" target=\"_parent\"><img src=\"https://colab.research.google.com/assets/colab-badge.svg\" alt=\"Open In Colab\"/></a>"
      ]
    },
    {
      "cell_type": "code",
      "metadata": {
        "id": "stObcNR0Ei_U"
      },
      "source": [
        "import numpy as np\n",
        "import pandas as pd\n",
        "\n",
        "import matplotlib as mpl\n",
        "import matplotlib.pyplot as plt\n",
        "import matplotlib.pyplot as plt\n",
        "\n",
        "from sklearn.model_selection import KFold\n",
        "from sklearn.metrics import mean_squared_error\n"
      ],
      "execution_count": 1,
      "outputs": []
    },
    {
      "cell_type": "code",
      "metadata": {
        "id": "cBBcCeTc-DWY"
      },
      "source": [
        "course = pd.read_excel('RC_2002-2020.xlsx')\r\n",
        "course = course.rename(columns={\"data\": \"date\"})\r\n",
        "course = course.set_index('date')\r\n",
        "course_m = course.resample('MS').mean()"
      ],
      "execution_count": 2,
      "outputs": []
    },
    {
      "cell_type": "markdown",
      "metadata": {
        "id": "y0elr5HmiI5a"
      },
      "source": [
        "# **Переменные**"
      ]
    },
    {
      "cell_type": "code",
      "metadata": {
        "id": "atQOrSCziHzA"
      },
      "source": [
        "cpi = \"year\"\r\n",
        "reg_names = ['RF']\r\n",
        "data_do = \"2019-12-01\"\r\n",
        "train_do = \"2019-09-01\""
      ],
      "execution_count": 3,
      "outputs": []
    },
    {
      "cell_type": "code",
      "metadata": {
        "colab": {
          "base_uri": "https://localhost:8080/"
        },
        "id": "6BPbGQe9FZ8M",
        "outputId": "dc21b64b-20da-4d59-9ea2-a82b710bc9b9"
      },
      "source": [
        "data = pd.read_excel('cpi_reg.xls', sheet_name = cpi)\r\n",
        "data = data.set_index('date')\r\n",
        "data = data.interpolate(method='polynomial', order=2, axis=0)\r\n",
        "data.isna().sum().sum()"
      ],
      "execution_count": 4,
      "outputs": [
        {
          "output_type": "execute_result",
          "data": {
            "text/plain": [
              "0"
            ]
          },
          "metadata": {
            "tags": []
          },
          "execution_count": 4
        }
      ]
    },
    {
      "cell_type": "code",
      "metadata": {
        "colab": {
          "base_uri": "https://localhost:8080/"
        },
        "id": "lgvw-bvCTuXI",
        "outputId": "97298833-5f19-40f7-eea1-352e445583b9"
      },
      "source": [
        "data.min().min()"
      ],
      "execution_count": 5,
      "outputs": [
        {
          "output_type": "execute_result",
          "data": {
            "text/plain": [
              "99.13"
            ]
          },
          "metadata": {
            "tags": []
          },
          "execution_count": 5
        }
      ]
    },
    {
      "cell_type": "code",
      "metadata": {
        "id": "0F-jAhAL_x17"
      },
      "source": [
        "data.tail(12)"
      ],
      "execution_count": null,
      "outputs": []
    },
    {
      "cell_type": "code",
      "metadata": {
        "id": "YwOYGv3_UiXk"
      },
      "source": [
        "data = data[reg_names]\r\n",
        "data = data[:data_do]\r\n",
        "data = data.merge(course_m, left_on='date', right_on='date')\r\n",
        "\r\n",
        "data['month'] = pd.DatetimeIndex(data.index).month"
      ],
      "execution_count": 7,
      "outputs": []
    },
    {
      "cell_type": "code",
      "metadata": {
        "colab": {
          "base_uri": "https://localhost:8080/",
          "height": 450
        },
        "id": "H-3S9_LA0qCU",
        "outputId": "47955278-50ee-4334-adfc-aa2b781f099d"
      },
      "source": [
        "data"
      ],
      "execution_count": 9,
      "outputs": [
        {
          "output_type": "execute_result",
          "data": {
            "text/html": [
              "<div>\n",
              "<style scoped>\n",
              "    .dataframe tbody tr th:only-of-type {\n",
              "        vertical-align: middle;\n",
              "    }\n",
              "\n",
              "    .dataframe tbody tr th {\n",
              "        vertical-align: top;\n",
              "    }\n",
              "\n",
              "    .dataframe thead th {\n",
              "        text-align: right;\n",
              "    }\n",
              "</style>\n",
              "<table border=\"1\" class=\"dataframe\">\n",
              "  <thead>\n",
              "    <tr style=\"text-align: right;\">\n",
              "      <th></th>\n",
              "      <th>RF</th>\n",
              "      <th>curs</th>\n",
              "      <th>month</th>\n",
              "    </tr>\n",
              "    <tr>\n",
              "      <th>date</th>\n",
              "      <th></th>\n",
              "      <th></th>\n",
              "      <th></th>\n",
              "    </tr>\n",
              "  </thead>\n",
              "  <tbody>\n",
              "    <tr>\n",
              "      <th>2002-01-01</th>\n",
              "      <td>115.34</td>\n",
              "      <td>30.472715</td>\n",
              "      <td>1</td>\n",
              "    </tr>\n",
              "    <tr>\n",
              "      <th>2002-02-01</th>\n",
              "      <td>114.07</td>\n",
              "      <td>30.805700</td>\n",
              "      <td>2</td>\n",
              "    </tr>\n",
              "    <tr>\n",
              "      <th>2002-03-01</th>\n",
              "      <td>112.89</td>\n",
              "      <td>31.064267</td>\n",
              "      <td>3</td>\n",
              "    </tr>\n",
              "    <tr>\n",
              "      <th>2002-04-01</th>\n",
              "      <td>112.09</td>\n",
              "      <td>31.173586</td>\n",
              "      <td>4</td>\n",
              "    </tr>\n",
              "    <tr>\n",
              "      <th>2002-05-01</th>\n",
              "      <td>112.16</td>\n",
              "      <td>31.254884</td>\n",
              "      <td>5</td>\n",
              "    </tr>\n",
              "    <tr>\n",
              "      <th>...</th>\n",
              "      <td>...</td>\n",
              "      <td>...</td>\n",
              "      <td>...</td>\n",
              "    </tr>\n",
              "    <tr>\n",
              "      <th>2019-08-01</th>\n",
              "      <td>104.31</td>\n",
              "      <td>65.587483</td>\n",
              "      <td>8</td>\n",
              "    </tr>\n",
              "    <tr>\n",
              "      <th>2019-09-01</th>\n",
              "      <td>104.03</td>\n",
              "      <td>64.958705</td>\n",
              "      <td>9</td>\n",
              "    </tr>\n",
              "    <tr>\n",
              "      <th>2019-10-01</th>\n",
              "      <td>103.76</td>\n",
              "      <td>64.374991</td>\n",
              "      <td>10</td>\n",
              "    </tr>\n",
              "    <tr>\n",
              "      <th>2019-11-01</th>\n",
              "      <td>103.40</td>\n",
              "      <td>63.867119</td>\n",
              "      <td>11</td>\n",
              "    </tr>\n",
              "    <tr>\n",
              "      <th>2019-12-01</th>\n",
              "      <td>102.80</td>\n",
              "      <td>62.932538</td>\n",
              "      <td>12</td>\n",
              "    </tr>\n",
              "  </tbody>\n",
              "</table>\n",
              "<p>216 rows × 3 columns</p>\n",
              "</div>"
            ],
            "text/plain": [
              "                RF       curs  month\n",
              "date                                \n",
              "2002-01-01  115.34  30.472715      1\n",
              "2002-02-01  114.07  30.805700      2\n",
              "2002-03-01  112.89  31.064267      3\n",
              "2002-04-01  112.09  31.173586      4\n",
              "2002-05-01  112.16  31.254884      5\n",
              "...            ...        ...    ...\n",
              "2019-08-01  104.31  65.587483      8\n",
              "2019-09-01  104.03  64.958705      9\n",
              "2019-10-01  103.76  64.374991     10\n",
              "2019-11-01  103.40  63.867119     11\n",
              "2019-12-01  102.80  62.932538     12\n",
              "\n",
              "[216 rows x 3 columns]"
            ]
          },
          "metadata": {
            "tags": []
          },
          "execution_count": 9
        }
      ]
    },
    {
      "cell_type": "markdown",
      "metadata": {
        "id": "8Mmg2xE8jhm5"
      },
      "source": [
        "# **ARIMAX**"
      ]
    },
    {
      "cell_type": "code",
      "metadata": {
        "id": "r-94GCGekGuj"
      },
      "source": [
        "train = data[data.index < train_do]\r\n",
        "test = data[data.index >= train_do]\r\n"
      ],
      "execution_count": 10,
      "outputs": []
    },
    {
      "cell_type": "code",
      "metadata": {
        "id": "zRMi-svHoOlJ",
        "colab": {
          "base_uri": "https://localhost:8080/"
        },
        "outputId": "845388be-87c5-4349-e377-3b16c1f00581"
      },
      "source": [
        "!pip install pmdarima -q\r\n",
        "from pmdarima.arima import ADFTest\r\n",
        "from pmdarima.arima import auto_arima"
      ],
      "execution_count": 11,
      "outputs": [
        {
          "output_type": "stream",
          "text": [
            "\u001b[K     |████████████████████████████████| 1.5MB 6.7MB/s \n",
            "\u001b[K     |████████████████████████████████| 9.5MB 27.8MB/s \n",
            "\u001b[K     |████████████████████████████████| 2.1MB 53.6MB/s \n",
            "\u001b[?25h"
          ],
          "name": "stdout"
        }
      ]
    },
    {
      "cell_type": "code",
      "metadata": {
        "id": "4_ptxJrv1ikp"
      },
      "source": [
        "exogenous_features = ['month', 'curs']\r\n"
      ],
      "execution_count": 12,
      "outputs": []
    },
    {
      "cell_type": "code",
      "metadata": {
        "colab": {
          "base_uri": "https://localhost:8080/"
        },
        "id": "rV3tzZWSoa9n",
        "outputId": "fec43e94-f896-401e-aeaf-77d6ac740533"
      },
      "source": [
        "  # find best params for ARIMA\r\n",
        "  stepwise_model = auto_arima(train[reg_names], start_p=1, start_q=1, max_p=3, max_q=3, m=12, start_P=0, seasonal=True, \\\r\n",
        "                              d=1, D=1, trace=True, error_action='ignore', suppress_warnings=True, stepwise=True)\r\n",
        "\r\n",
        "\"\"\"  stepwise_model = auto_arima(train[reg_names], start_p=1, start_q=1, max_p=3, max_q=3, m=1, start_P=0, seasonal=True, \\\r\n",
        "                              d=1, D=1, trace=True, error_action='ignore', suppress_warnings=True, stepwise=True, \\\r\n",
        "                              out_of_sample_size = test.shape[0], scoring = 'mse', information_criterion = 'oob')\r\n",
        "  \r\n",
        "stepwise_model = auto_arima(train_data['cpi_sfo'], start_p=1, start_q=1, max_p=3, max_q=3, m=1, start_P=0, seasonal=True,\r\n",
        "                           d=1, D=1, trace=True, error_action='ignore', suppress_warnings=True, stepwise=True)\r\n",
        "\"\"\"\r\n",
        "\r\n",
        "stepwise_model.fit(train[reg_names])\r\n",
        "future_forecast = stepwise_model.predict(n_periods=test.shape[0])\r\n",
        "future_forecast = pd.DataFrame(future_forecast, index = test.index, columns=[reg_names])\r\n"
      ],
      "execution_count": 13,
      "outputs": [
        {
          "output_type": "stream",
          "text": [
            "Performing stepwise search to minimize aic\n",
            " ARIMA(1,1,1)(0,1,1)[12]             : AIC=inf, Time=1.71 sec\n",
            " ARIMA(0,1,0)(0,1,0)[12]             : AIC=666.277, Time=0.03 sec\n",
            " ARIMA(1,1,0)(1,1,0)[12]             : AIC=450.443, Time=0.18 sec\n",
            " ARIMA(0,1,1)(0,1,1)[12]             : AIC=inf, Time=1.83 sec\n",
            " ARIMA(1,1,0)(0,1,0)[12]             : AIC=557.809, Time=0.05 sec\n",
            " ARIMA(1,1,0)(2,1,0)[12]             : AIC=414.828, Time=0.48 sec\n",
            " ARIMA(1,1,0)(2,1,1)[12]             : AIC=inf, Time=3.38 sec\n",
            " ARIMA(1,1,0)(1,1,1)[12]             : AIC=inf, Time=1.61 sec\n",
            " ARIMA(0,1,0)(2,1,0)[12]             : AIC=538.406, Time=0.28 sec\n",
            " ARIMA(2,1,0)(2,1,0)[12]             : AIC=405.169, Time=0.67 sec\n",
            " ARIMA(2,1,0)(1,1,0)[12]             : AIC=437.878, Time=0.28 sec\n",
            " ARIMA(2,1,0)(2,1,1)[12]             : AIC=inf, Time=4.33 sec\n",
            " ARIMA(2,1,0)(1,1,1)[12]             : AIC=inf, Time=2.54 sec\n",
            " ARIMA(3,1,0)(2,1,0)[12]             : AIC=405.503, Time=0.75 sec\n",
            " ARIMA(2,1,1)(2,1,0)[12]             : AIC=405.986, Time=1.19 sec\n",
            " ARIMA(1,1,1)(2,1,0)[12]             : AIC=404.230, Time=0.69 sec\n",
            " ARIMA(1,1,1)(1,1,0)[12]             : AIC=437.996, Time=0.31 sec\n",
            " ARIMA(1,1,1)(2,1,1)[12]             : AIC=inf, Time=4.10 sec\n",
            " ARIMA(1,1,1)(1,1,1)[12]             : AIC=inf, Time=2.05 sec\n",
            " ARIMA(0,1,1)(2,1,0)[12]             : AIC=432.672, Time=0.68 sec\n",
            " ARIMA(1,1,2)(2,1,0)[12]             : AIC=405.718, Time=1.07 sec\n",
            " ARIMA(0,1,2)(2,1,0)[12]             : AIC=406.104, Time=0.64 sec\n",
            " ARIMA(2,1,2)(2,1,0)[12]             : AIC=403.714, Time=2.54 sec\n",
            " ARIMA(2,1,2)(1,1,0)[12]             : AIC=437.932, Time=1.02 sec\n",
            " ARIMA(2,1,2)(2,1,1)[12]             : AIC=inf, Time=6.48 sec\n",
            " ARIMA(2,1,2)(1,1,1)[12]             : AIC=inf, Time=3.59 sec\n",
            " ARIMA(3,1,2)(2,1,0)[12]             : AIC=inf, Time=6.51 sec\n",
            " ARIMA(2,1,3)(2,1,0)[12]             : AIC=402.525, Time=2.86 sec\n",
            " ARIMA(2,1,3)(1,1,0)[12]             : AIC=438.595, Time=1.46 sec\n",
            " ARIMA(2,1,3)(2,1,1)[12]             : AIC=inf, Time=8.29 sec\n",
            " ARIMA(2,1,3)(1,1,1)[12]             : AIC=inf, Time=4.72 sec\n",
            " ARIMA(1,1,3)(2,1,0)[12]             : AIC=406.386, Time=1.95 sec\n",
            " ARIMA(3,1,3)(2,1,0)[12]             : AIC=inf, Time=7.12 sec\n",
            " ARIMA(2,1,3)(2,1,0)[12] intercept   : AIC=404.471, Time=5.27 sec\n",
            "\n",
            "Best model:  ARIMA(2,1,3)(2,1,0)[12]          \n",
            "Total fit time: 80.760 seconds\n"
          ],
          "name": "stdout"
        }
      ]
    },
    {
      "cell_type": "code",
      "metadata": {
        "colab": {
          "base_uri": "https://localhost:8080/",
          "height": 299
        },
        "id": "lAe-Ho3ROaYo",
        "outputId": "c16c4483-3d76-4a34-ec92-bd69550891d8"
      },
      "source": [
        "plt.plot(test[reg_names])\r\n",
        "plt.plot(future_forecast[reg_names])\r\n",
        "\r\n",
        "print('rmse: {:.4f}'.format(mean_squared_error(test[reg_names].values, future_forecast[reg_names].values) ** 0.5))\r\n",
        "print('normed rmse: {:.4f}%'.format(mean_squared_error(test[reg_names].values, future_forecast[reg_names].values) ** 0.5 / \r\n",
        "                                    np.mean(test[reg_names].values) * 100))"
      ],
      "execution_count": 14,
      "outputs": [
        {
          "output_type": "stream",
          "text": [
            "rmse: 0.3608\n",
            "normed rmse: 0.3486%\n"
          ],
          "name": "stdout"
        },
        {
          "output_type": "display_data",
          "data": {
            "image/png": "[encoded data removed]",
            "text/plain": [
              "<Figure size 432x288 with 1 Axes>"
            ]
          },
          "metadata": {
            "tags": [],
            "needs_background": "light"
          }
        }
      ]
    },
    {
      "cell_type": "code",
      "metadata": {
        "colab": {
          "base_uri": "https://localhost:8080/"
        },
        "id": "2UvwqI5NNCgJ",
        "outputId": "d60fe42a-1997-46d5-dda7-f7a1117019ff"
      },
      "source": [
        "# find best params for ARIMAX\r\n",
        "stepwise_model = auto_arima(train[reg_names], exogenous = train[exogenous_features], start_p=1, start_q=1, \r\n",
        "                            max_p=4, max_q=4, m=12, start_P=0, seasonal=True,\r\n",
        "                            d=1, D=1, trace=True, error_action='ignore', suppress_warnings=True, stepwise=True)\r\n",
        "  \r\n",
        "stepwise_model.fit(train[reg_names], exogenous = train[exogenous_features])\r\n",
        "future_forecast = stepwise_model.predict(n_periods=test.shape[0], exogenous = test[exogenous_features])\r\n",
        "future_forecast = pd.DataFrame(future_forecast, index = test.index, columns=[reg_names])"
      ],
      "execution_count": 15,
      "outputs": [
        {
          "output_type": "stream",
          "text": [
            "Performing stepwise search to minimize aic\n",
            " ARIMA(1,1,1)(0,1,1)[12]             : AIC=inf, Time=2.63 sec\n",
            " ARIMA(0,1,0)(0,1,0)[12]             : AIC=668.588, Time=0.16 sec\n",
            " ARIMA(1,1,0)(1,1,0)[12]             : AIC=452.909, Time=0.77 sec\n",
            " ARIMA(0,1,1)(0,1,1)[12]             : AIC=inf, Time=2.34 sec\n",
            " ARIMA(1,1,0)(0,1,0)[12]             : AIC=561.794, Time=0.13 sec\n",
            " ARIMA(1,1,0)(2,1,0)[12]             : AIC=416.865, Time=1.52 sec\n",
            " ARIMA(1,1,0)(2,1,1)[12]             : AIC=inf, Time=4.31 sec\n",
            " ARIMA(1,1,0)(1,1,1)[12]             : AIC=inf, Time=1.93 sec\n",
            " ARIMA(0,1,0)(2,1,0)[12]             : AIC=533.016, Time=0.79 sec\n",
            " ARIMA(2,1,0)(2,1,0)[12]             : AIC=408.444, Time=2.10 sec\n",
            " ARIMA(2,1,0)(1,1,0)[12]             : AIC=441.575, Time=0.96 sec\n",
            " ARIMA(2,1,0)(2,1,1)[12]             : AIC=inf, Time=10.47 sec\n",
            " ARIMA(2,1,0)(1,1,1)[12]             : AIC=inf, Time=2.49 sec\n",
            " ARIMA(3,1,0)(2,1,0)[12]             : AIC=408.735, Time=2.01 sec\n",
            " ARIMA(2,1,1)(2,1,0)[12]             : AIC=409.263, Time=3.43 sec\n",
            " ARIMA(1,1,1)(2,1,0)[12]             : AIC=407.433, Time=1.96 sec\n",
            " ARIMA(1,1,1)(1,1,0)[12]             : AIC=441.620, Time=0.85 sec\n",
            " ARIMA(1,1,1)(2,1,1)[12]             : AIC=inf, Time=5.51 sec\n",
            " ARIMA(1,1,1)(1,1,1)[12]             : AIC=inf, Time=5.37 sec\n",
            " ARIMA(0,1,1)(2,1,0)[12]             : AIC=433.920, Time=1.66 sec\n",
            " ARIMA(1,1,2)(2,1,0)[12]             : AIC=409.050, Time=3.87 sec\n",
            " ARIMA(0,1,2)(2,1,0)[12]             : AIC=409.292, Time=1.73 sec\n",
            " ARIMA(2,1,2)(2,1,0)[12]             : AIC=407.011, Time=5.20 sec\n",
            " ARIMA(2,1,2)(1,1,0)[12]             : AIC=441.645, Time=2.24 sec\n",
            " ARIMA(2,1,2)(2,1,1)[12]             : AIC=inf, Time=8.13 sec\n",
            " ARIMA(2,1,2)(1,1,1)[12]             : AIC=inf, Time=2.72 sec\n",
            " ARIMA(3,1,2)(2,1,0)[12]             : AIC=inf, Time=8.30 sec\n",
            " ARIMA(2,1,3)(2,1,0)[12]             : AIC=405.654, Time=8.63 sec\n",
            " ARIMA(2,1,3)(1,1,0)[12]             : AIC=442.259, Time=4.46 sec\n",
            " ARIMA(2,1,3)(2,1,1)[12]             : AIC=inf, Time=9.00 sec\n",
            " ARIMA(2,1,3)(1,1,1)[12]             : AIC=inf, Time=4.92 sec\n",
            " ARIMA(1,1,3)(2,1,0)[12]             : AIC=409.658, Time=4.17 sec\n",
            " ARIMA(3,1,3)(2,1,0)[12]             : AIC=inf, Time=8.41 sec\n",
            " ARIMA(2,1,4)(2,1,0)[12]             : AIC=401.582, Time=9.33 sec\n",
            " ARIMA(2,1,4)(1,1,0)[12]             : AIC=inf, Time=4.72 sec\n",
            " ARIMA(2,1,4)(2,1,1)[12]             : AIC=inf, Time=9.19 sec\n",
            " ARIMA(2,1,4)(1,1,1)[12]             : AIC=inf, Time=5.51 sec\n",
            " ARIMA(1,1,4)(2,1,0)[12]             : AIC=400.780, Time=9.66 sec\n",
            " ARIMA(1,1,4)(1,1,0)[12]             : AIC=inf, Time=3.17 sec\n",
            " ARIMA(1,1,4)(2,1,1)[12]             : AIC=inf, Time=9.71 sec\n",
            " ARIMA(1,1,4)(1,1,1)[12]             : AIC=inf, Time=5.27 sec\n",
            " ARIMA(0,1,4)(2,1,0)[12]             : AIC=405.906, Time=2.48 sec\n",
            " ARIMA(0,1,3)(2,1,0)[12]             : AIC=410.543, Time=1.97 sec\n",
            " ARIMA(1,1,4)(2,1,0)[12] intercept   : AIC=413.590, Time=8.90 sec\n",
            "\n",
            "Best model:  ARIMA(1,1,4)(2,1,0)[12]          \n",
            "Total fit time: 193.177 seconds\n"
          ],
          "name": "stdout"
        }
      ]
    },
    {
      "cell_type": "code",
      "metadata": {
        "colab": {
          "base_uri": "https://localhost:8080/",
          "height": 299
        },
        "id": "xkuYpLrt4uxj",
        "outputId": "94e68366-759a-47c8-dc1a-5c7faa2c5022"
      },
      "source": [
        "plt.plot(test[reg_names])\r\n",
        "plt.plot(future_forecast[reg_names])\r\n",
        "\r\n",
        "print('rmse: {:.4f}'.format(mean_squared_error(test[reg_names].values, future_forecast[reg_names].values) ** 0.5))\r\n",
        "print('normed rmse: {:.4f}%'.format(mean_squared_error(test[reg_names].values, future_forecast[reg_names].values) ** 0.5 / \r\n",
        "                                    np.mean(test[reg_names].values) * 100))"
      ],
      "execution_count": 16,
      "outputs": [
        {
          "output_type": "stream",
          "text": [
            "rmse: 0.2223\n",
            "normed rmse: 0.2148%\n"
          ],
          "name": "stdout"
        },
        {
          "output_type": "display_data",
          "data": {
            "image/png": "[encoded data removed]",
            "text/plain": [
              "<Figure size 432x288 with 1 Axes>"
            ]
          },
          "metadata": {
            "tags": [],
            "needs_background": "light"
          }
        }
      ]
    },
    {
      "cell_type": "code",
      "metadata": {
        "id": "Bn2o2WJxoC9V"
      },
      "source": [
        "data_lags = pd.DataFrame()\r\n",
        "\r\n",
        "#data_lags['curs-2'] = data['curs'].shift(2).values\r\n",
        "data_lags['curs-1'] = data['curs'].shift(1).values\r\n",
        "data_lags['curs'] = data['curs'].values\r\n",
        "data_lags['t'] = data[reg_names].values\r\n",
        "for i in range(1, 13):\r\n",
        "    data_lags['t-'+str(i)] = data[reg_names].shift(i).values\r\n",
        "    \r\n",
        "data_lags.index = data.index\r\n",
        "data_lags = data_lags[12:]\r\n",
        "data_lags['month'] = pd.DatetimeIndex(data_lags.index).month\r\n",
        "data_lags"
      ],
      "execution_count": null,
      "outputs": []
    },
    {
      "cell_type": "code",
      "metadata": {
        "id": "1uEM65WhngmI"
      },
      "source": [
        "data = data_lags\r\n",
        "data_not = data.drop('t', axis=1)\r\n",
        "train = data[data.index < train_do]\r\n",
        "test = data[data.index >= train_do]\r\n",
        "\r\n",
        "X_train = train[['month'] + ['curs'] + ['curs-1'] + ['t-{}'.format(month) for month in range(1,13)]].values\r\n",
        "y_train = train[['t']].values.ravel()\r\n",
        "X_test = test[['month'] + ['curs'] + ['curs-1'] + ['t-{}'.format(month) for month in range(1,13)]].values\r\n",
        "y_test = test[['t']].values.ravel()"
      ],
      "execution_count": 18,
      "outputs": []
    },
    {
      "cell_type": "markdown",
      "metadata": {
        "id": "5mRIBbaHJa7p"
      },
      "source": [
        "# **KNeighborsRegressor**"
      ]
    },
    {
      "cell_type": "code",
      "metadata": {
        "id": "Cr39fmAAjekq",
        "colab": {
          "base_uri": "https://localhost:8080/"
        },
        "outputId": "0331713b-d9c1-47ae-d843-e04d36ee9781"
      },
      "source": [
        "!pip install mglearn -q"
      ],
      "execution_count": 19,
      "outputs": [
        {
          "output_type": "stream",
          "text": [
            "\u001b[?25l\r\u001b[K     |▋                               | 10kB 20.5MB/s eta 0:00:01\r\u001b[K     |█▏                              | 20kB 14.4MB/s eta 0:00:01\r\u001b[K     |█▉                              | 30kB 9.7MB/s eta 0:00:01\r\u001b[K     |██▍                             | 40kB 8.5MB/s eta 0:00:01\r\u001b[K     |███                             | 51kB 5.1MB/s eta 0:00:01\r\u001b[K     |███▋                            | 61kB 5.7MB/s eta 0:00:01\r\u001b[K     |████▎                           | 71kB 5.8MB/s eta 0:00:01\r\u001b[K     |████▉                           | 81kB 6.2MB/s eta 0:00:01\r\u001b[K     |█████▌                          | 92kB 5.8MB/s eta 0:00:01\r\u001b[K     |██████                          | 102kB 6.3MB/s eta 0:00:01\r\u001b[K     |██████▊                         | 112kB 6.3MB/s eta 0:00:01\r\u001b[K     |███████▎                        | 122kB 6.3MB/s eta 0:00:01\r\u001b[K     |███████▉                        | 133kB 6.3MB/s eta 0:00:01\r\u001b[K     |████████▌                       | 143kB 6.3MB/s eta 0:00:01\r\u001b[K     |█████████                       | 153kB 6.3MB/s eta 0:00:01\r\u001b[K     |█████████▊                      | 163kB 6.3MB/s eta 0:00:01\r\u001b[K     |██████████▎                     | 174kB 6.3MB/s eta 0:00:01\r\u001b[K     |███████████                     | 184kB 6.3MB/s eta 0:00:01\r\u001b[K     |███████████▌                    | 194kB 6.3MB/s eta 0:00:01\r\u001b[K     |████████████▏                   | 204kB 6.3MB/s eta 0:00:01\r\u001b[K     |████████████▊                   | 215kB 6.3MB/s eta 0:00:01\r\u001b[K     |█████████████▍                  | 225kB 6.3MB/s eta 0:00:01\r\u001b[K     |██████████████                  | 235kB 6.3MB/s eta 0:00:01\r\u001b[K     |██████████████▋                 | 245kB 6.3MB/s eta 0:00:01\r\u001b[K     |███████████████▏                | 256kB 6.3MB/s eta 0:00:01\r\u001b[K     |███████████████▊                | 266kB 6.3MB/s eta 0:00:01\r\u001b[K     |████████████████▍               | 276kB 6.3MB/s eta 0:00:01\r\u001b[K     |█████████████████               | 286kB 6.3MB/s eta 0:00:01\r\u001b[K     |█████████████████▋              | 296kB 6.3MB/s eta 0:00:01\r\u001b[K     |██████████████████▏             | 307kB 6.3MB/s eta 0:00:01\r\u001b[K     |██████████████████▉             | 317kB 6.3MB/s eta 0:00:01\r\u001b[K     |███████████████████▍            | 327kB 6.3MB/s eta 0:00:01\r\u001b[K     |████████████████████            | 337kB 6.3MB/s eta 0:00:01\r\u001b[K     |████████████████████▋           | 348kB 6.3MB/s eta 0:00:01\r\u001b[K     |█████████████████████▎          | 358kB 6.3MB/s eta 0:00:01\r\u001b[K     |█████████████████████▉          | 368kB 6.3MB/s eta 0:00:01\r\u001b[K     |██████████████████████▌         | 378kB 6.3MB/s eta 0:00:01\r\u001b[K     |███████████████████████         | 389kB 6.3MB/s eta 0:00:01\r\u001b[K     |███████████████████████▋        | 399kB 6.3MB/s eta 0:00:01\r\u001b[K     |████████████████████████▎       | 409kB 6.3MB/s eta 0:00:01\r\u001b[K     |████████████████████████▉       | 419kB 6.3MB/s eta 0:00:01\r\u001b[K     |█████████████████████████▌      | 430kB 6.3MB/s eta 0:00:01\r\u001b[K     |██████████████████████████      | 440kB 6.3MB/s eta 0:00:01\r\u001b[K     |██████████████████████████▊     | 450kB 6.3MB/s eta 0:00:01\r\u001b[K     |███████████████████████████▎    | 460kB 6.3MB/s eta 0:00:01\r\u001b[K     |████████████████████████████    | 471kB 6.3MB/s eta 0:00:01\r\u001b[K     |████████████████████████████▌   | 481kB 6.3MB/s eta 0:00:01\r\u001b[K     |█████████████████████████████▏  | 491kB 6.3MB/s eta 0:00:01\r\u001b[K     |█████████████████████████████▊  | 501kB 6.3MB/s eta 0:00:01\r\u001b[K     |██████████████████████████████▍ | 512kB 6.3MB/s eta 0:00:01\r\u001b[K     |███████████████████████████████ | 522kB 6.3MB/s eta 0:00:01\r\u001b[K     |███████████████████████████████▌| 532kB 6.3MB/s eta 0:00:01\r\u001b[K     |████████████████████████████████| 542kB 6.3MB/s \n",
            "\u001b[?25h  Building wheel for mglearn (setup.py) ... \u001b[?25l\u001b[?25hdone\n"
          ],
          "name": "stdout"
        }
      ]
    },
    {
      "cell_type": "code",
      "metadata": {
        "colab": {
          "base_uri": "https://localhost:8080/"
        },
        "id": "RYnAr54VJd14",
        "outputId": "328dbe4b-e9bd-4a90-b61e-98f7d4ad8862"
      },
      "source": [
        "from sklearn.datasets import make_blobs\r\n",
        "import mglearn\r\n",
        "from sklearn.neighbors import KNeighborsRegressor\r\n",
        "\r\n",
        "# instantiate the model \r\n",
        "KNmodel = KNeighborsRegressor(n_neighbors=7)\r\n",
        "# fit the model using the training data and training targets\r\n",
        "KNmodel.fit(X_train, y_train)\r\n",
        "\r\n",
        "print(\"Training set score: {:.2f}\".format(KNmodel.score(X_train, y_train)))\r\n",
        "print(\"Test set score: {:.2f}\".format(KNmodel.score(X_test, y_test)))\r\n",
        "\r\n",
        "forecast = KNmodel.predict(X_test)\r\n",
        "print('rmse: {:.4f}'.format(mean_squared_error(y_test, forecast) ** 0.5))\r\n",
        "print('normed rmse: {:.4f}%'.format(mean_squared_error(y_test, forecast) ** 0.5 / np.mean(y_test) * 100))"
      ],
      "execution_count": 20,
      "outputs": [
        {
          "output_type": "stream",
          "text": [
            "Training set score: 0.91\n",
            "Test set score: -0.23\n",
            "rmse: 0.5111\n",
            "normed rmse: 0.4939%\n"
          ],
          "name": "stdout"
        }
      ]
    },
    {
      "cell_type": "markdown",
      "metadata": {
        "id": "jjRQP9EcnxYm"
      },
      "source": [
        "# **OLS**"
      ]
    },
    {
      "cell_type": "code",
      "metadata": {
        "colab": {
          "base_uri": "https://localhost:8080/"
        },
        "id": "nLGb05AdnrJU",
        "outputId": "92ff8204-b710-4431-ec32-7b6e99c53157"
      },
      "source": [
        "from sklearn.linear_model import LinearRegression\r\n",
        "lr = LinearRegression().fit(X_train, y_train)\r\n",
        "print(\"Training set score: {:.2f}\".format(lr.score(X_train, y_train)))\r\n",
        "print(\"Test set score: {:.2f}\".format(lr.score(X_test, y_test)))\r\n",
        "\r\n",
        "forecast = lr.predict(X_test)\r\n",
        "print('rmse: {:.4f}'.format(mean_squared_error(y_test, forecast) ** 0.5))\r\n",
        "print('normed rmse: {:.4f}%'.format(mean_squared_error(y_test, forecast) ** 0.5 / np.mean(y_test) * 100))"
      ],
      "execution_count": 21,
      "outputs": [
        {
          "output_type": "stream",
          "text": [
            "Training set score: 0.98\n",
            "Test set score: 0.93\n",
            "rmse: 0.1225\n",
            "normed rmse: 0.1183%\n"
          ],
          "name": "stdout"
        }
      ]
    },
    {
      "cell_type": "markdown",
      "metadata": {
        "id": "yYAfTf3Vp6On"
      },
      "source": [
        "# **Ridge (l2-regularisation)**"
      ]
    },
    {
      "cell_type": "code",
      "metadata": {
        "colab": {
          "base_uri": "https://localhost:8080/"
        },
        "id": "73rpSCnsp87U",
        "outputId": "2f386a85-f5b4-48ab-e876-b769d1e806c0"
      },
      "source": [
        "from sklearn.linear_model import Ridge\r\n",
        "\r\n",
        "ridge = Ridge().fit(X_train, y_train)\r\n",
        "print(\"Training set score: {:.2f}\".format(ridge.score(X_train, y_train)))\r\n",
        "print(\"Test set score: {:.2f}\".format(ridge.score(X_test, y_test)))\r\n",
        "\r\n",
        "forecast = ridge.predict(X_test)\r\n",
        "print('rmse: {:.2f}'.format(mean_squared_error(y_test, forecast) ** 0.5))\r\n",
        "print('normed rmse: {:.2f}%'.format(mean_squared_error(y_test, forecast) ** 0.5 / np.mean(y_test) * 100))"
      ],
      "execution_count": 22,
      "outputs": [
        {
          "output_type": "stream",
          "text": [
            "Training set score: 0.98\n",
            "Test set score: 0.94\n",
            "rmse: 0.11\n",
            "normed rmse: 0.11%\n"
          ],
          "name": "stdout"
        }
      ]
    },
    {
      "cell_type": "code",
      "metadata": {
        "colab": {
          "base_uri": "https://localhost:8080/"
        },
        "id": "JyKRs97OqziG",
        "outputId": "62d39966-bcfb-4291-e487-122e9a001d54"
      },
      "source": [
        "ridge10 = Ridge(alpha=10).fit(X_train, y_train)\r\n",
        "print(\"Training set score: {:.2f}\".format(ridge10.score(X_train, y_train)))\r\n",
        "print(\"Test set score: {:.2f}\".format(ridge10.score(X_test, y_test)))\r\n",
        "\r\n",
        "forecast = ridge10.predict(X_test)\r\n",
        "print('rmse: {:.2f}'.format(mean_squared_error(y_test, forecast) ** 0.5))\r\n",
        "print('normed rmse: {:.2f}%'.format(mean_squared_error(y_test, forecast) ** 0.5 / np.mean(y_test) * 100))"
      ],
      "execution_count": 23,
      "outputs": [
        {
          "output_type": "stream",
          "text": [
            "Training set score: 0.98\n",
            "Test set score: 0.80\n",
            "rmse: 0.21\n",
            "normed rmse: 0.20%\n"
          ],
          "name": "stdout"
        }
      ]
    },
    {
      "cell_type": "code",
      "metadata": {
        "colab": {
          "base_uri": "https://localhost:8080/"
        },
        "id": "XaKIG-E2q6NA",
        "outputId": "50414d66-b72e-46c8-981d-01dc347fbf9d"
      },
      "source": [
        "ridge01 = Ridge(alpha=0.1).fit(X_train, y_train)\r\n",
        "print(\"Training set score: {:.2f}\".format(ridge01.score(X_train, y_train)))\r\n",
        "print(\"Test set score: {:.2f}\".format(ridge01.score(X_test, y_test)))\r\n",
        "\r\n",
        "forecast = ridge10.predict(X_test)\r\n",
        "print('rmse: {:.2f}'.format(mean_squared_error(y_test, forecast) ** 0.5))\r\n",
        "print('normed rmse: {:.2f}%'.format(mean_squared_error(y_test, forecast) ** 0.5 / np.mean(y_test) * 100))"
      ],
      "execution_count": 24,
      "outputs": [
        {
          "output_type": "stream",
          "text": [
            "Training set score: 0.98\n",
            "Test set score: 0.93\n",
            "rmse: 0.21\n",
            "normed rmse: 0.20%\n"
          ],
          "name": "stdout"
        }
      ]
    },
    {
      "cell_type": "markdown",
      "metadata": {
        "id": "6zMFKLQuvvb-"
      },
      "source": [
        "# **Lasso (l1-regularisation)**"
      ]
    },
    {
      "cell_type": "code",
      "metadata": {
        "colab": {
          "base_uri": "https://localhost:8080/"
        },
        "id": "nBl1fT5SvyBa",
        "outputId": "dc7689e4-9ce5-4f1b-aaa7-3232ce2ee682"
      },
      "source": [
        "from sklearn.linear_model import Lasso\r\n",
        "\r\n",
        "lasso = Lasso().fit(X_train, y_train)\r\n",
        "print(\"Training set score: {:.2f}\".format(lasso.score(X_train, y_train)))\r\n",
        "print(\"Test set score: {:.2f}\".format(lasso.score(X_test, y_test)))\r\n",
        "print(\"Number of features used:\", np.sum(lasso.coef_ != 0))\r\n",
        "\r\n",
        "forecast = lasso.predict(X_test)\r\n",
        "print('rmse: {:.2f}'.format(mean_squared_error(y_test, forecast) ** 0.5))\r\n",
        "print('normed rmse: {:.2f}%'.format(mean_squared_error(y_test, forecast) ** 0.5 / np.mean(y_test) * 100))"
      ],
      "execution_count": 25,
      "outputs": [
        {
          "output_type": "stream",
          "text": [
            "Training set score: 0.95\n",
            "Test set score: -1.08\n",
            "Number of features used: 2\n",
            "rmse: 0.66\n",
            "normed rmse: 0.64%\n"
          ],
          "name": "stdout"
        }
      ]
    },
    {
      "cell_type": "code",
      "metadata": {
        "colab": {
          "base_uri": "https://localhost:8080/"
        },
        "id": "vCU4UKIHwKpo",
        "outputId": "5576043e-9084-469e-d2f1-bd7dea28fb23"
      },
      "source": [
        "# we increase the default setting of \"max_iter\",\r\n",
        "# otherwise the model would warn us that we should increase max_iter.\r\n",
        "lasso001 = Lasso(alpha=0.01, max_iter=100000).fit(X_train, y_train)\r\n",
        "print(\"Training set score: {:.2f}\".format(lasso001.score(X_train, y_train)))\r\n",
        "print(\"Test set score: {:.2f}\".format(lasso001.score(X_test, y_test)))\r\n",
        "print(\"Number of features used:\", np.sum(lasso001.coef_ != 0))\r\n",
        "\r\n",
        "forecast = lasso001.predict(X_test)\r\n",
        "print('rmse: {:.2f}'.format(mean_squared_error(y_test, forecast) ** 0.5))\r\n",
        "print('normed rmse: {:.2f}%'.format(mean_squared_error(y_test, forecast) ** 0.5 / np.mean(y_test) * 100))"
      ],
      "execution_count": 26,
      "outputs": [
        {
          "output_type": "stream",
          "text": [
            "Training set score: 0.98\n",
            "Test set score: 0.88\n",
            "Number of features used: 10\n",
            "rmse: 0.16\n",
            "normed rmse: 0.15%\n"
          ],
          "name": "stdout"
        }
      ]
    },
    {
      "cell_type": "markdown",
      "metadata": {
        "id": "89Wk2X8YywhK"
      },
      "source": [
        "# **ElasticNet (l1+l2-regularisation)**"
      ]
    },
    {
      "cell_type": "code",
      "metadata": {
        "colab": {
          "base_uri": "https://localhost:8080/"
        },
        "id": "9bLvKIBNxmtY",
        "outputId": "69bfbe60-ce66-4eda-d044-2dba801bc2d6"
      },
      "source": [
        "from sklearn.linear_model import ElasticNet\r\n",
        "ENmodel = ElasticNet(alpha=0.01, max_iter=100000, random_state=0)\r\n",
        "ENmodel.fit(X_train, y_train)\r\n",
        "print(\"Training set score: {:.2f}\".format(ENmodel.score(X_train, y_train)))\r\n",
        "print(\"Test set score: {:.2f}\".format(ENmodel.score(X_test, y_test)))\r\n",
        "print(\"Number of features used:\", np.sum(ENmodel.coef_ != 0))\r\n",
        "\r\n",
        "forecast = ENmodel.predict(X_test)\r\n",
        "print('rmse: {:.2f}'.format(mean_squared_error(y_test, forecast) ** 0.5))\r\n",
        "print('normed rmse: {:.2f}%'.format(mean_squared_error(y_test, forecast) ** 0.5 / np.mean(y_test) * 100))"
      ],
      "execution_count": 27,
      "outputs": [
        {
          "output_type": "stream",
          "text": [
            "Training set score: 0.98\n",
            "Test set score: 0.91\n",
            "Number of features used: 12\n",
            "rmse: 0.14\n",
            "normed rmse: 0.14%\n"
          ],
          "name": "stdout"
        }
      ]
    },
    {
      "cell_type": "markdown",
      "metadata": {
        "id": "YBAkRHDAz_JA"
      },
      "source": [
        "# **DecisionTree**"
      ]
    },
    {
      "cell_type": "code",
      "metadata": {
        "colab": {
          "base_uri": "https://localhost:8080/"
        },
        "id": "-4kpwm0uz8mD",
        "outputId": "26a170b0-b03a-4974-98ec-9e904c1cfc0a"
      },
      "source": [
        "from sklearn.tree import DecisionTreeRegressor\r\n",
        "\r\n",
        "tree = DecisionTreeRegressor(max_depth=2, random_state=0)\r\n",
        "tree.fit(X_train, y_train)\r\n",
        "print(\"Accuracy on training set: {:.3f}\".format(tree.score(X_train, y_train)))\r\n",
        "print(\"Accuracy on test set: {:.3f}\".format(tree.score(X_test, y_test)))\r\n",
        "\r\n",
        "forecast = tree.predict(X_test)\r\n",
        "print('rmse: {:.2f}'.format(mean_squared_error(y_test, forecast) ** 0.5))\r\n",
        "print('normed rmse: {:.2f}%'.format(mean_squared_error(y_test, forecast) ** 0.5 / np.mean(y_test) * 100))"
      ],
      "execution_count": 28,
      "outputs": [
        {
          "output_type": "stream",
          "text": [
            "Accuracy on training set: 0.880\n",
            "Accuracy on test set: -0.256\n",
            "rmse: 0.52\n",
            "normed rmse: 0.50%\n"
          ],
          "name": "stdout"
        }
      ]
    },
    {
      "cell_type": "markdown",
      "metadata": {
        "id": "B-_ioliGwCqM"
      },
      "source": [
        "# **Random Forest**"
      ]
    },
    {
      "cell_type": "code",
      "metadata": {
        "colab": {
          "base_uri": "https://localhost:8080/",
          "height": 333
        },
        "id": "JQaRfjICJ0J1",
        "outputId": "3ab5521e-21fd-451f-fa33-a19de04b31bc"
      },
      "source": [
        "from sklearn.ensemble import RandomForestRegressor\n",
        "\n",
        "RFmodel = RandomForestRegressor(n_estimators=500, random_state=42)\n",
        "RFmodel.fit(X_train, y_train)\n",
        "forecast = RFmodel.predict(X_test)\n",
        "\n",
        "plt.plot(y_test, label='true')\n",
        "plt.plot(forecast, label='forecast')\n",
        "plt.legend()\n",
        "\n",
        "print('rmse: {:.3f}'.format(mean_squared_error(y_test, forecast) ** 0.5))\n",
        "print('normed rmse: {:.3f}%'.format(mean_squared_error(y_test, forecast) ** 0.5 / \n",
        "                                    np.mean(y_test) * 100))\n",
        "\n",
        "print(\"Accuracy on training set: {:.3f}\".format(RFmodel.score(X_train, y_train)))\n",
        "print(\"Accuracy on test set: {:.3f}\".format(RFmodel.score(X_test, y_test)))"
      ],
      "execution_count": 31,
      "outputs": [
        {
          "output_type": "stream",
          "text": [
            "rmse: 0.425\n",
            "normed rmse: 0.411%\n",
            "Accuracy on training set: 0.994\n",
            "Accuracy on test set: 0.147\n"
          ],
          "name": "stdout"
        },
        {
          "output_type": "display_data",
          "data": {
            "image/png": "[encoded data removed]",
            "text/plain": [
              "<Figure size 432x288 with 1 Axes>"
            ]
          },
          "metadata": {
            "tags": [],
            "needs_background": "light"
          }
        }
      ]
    },
    {
      "cell_type": "code",
      "metadata": {
        "colab": {
          "base_uri": "https://localhost:8080/"
        },
        "id": "p5ro99XxZroW",
        "outputId": "a7e5dff9-87f4-4044-d5ea-e90d709feb3b"
      },
      "source": [
        "RFmodel.feature_importances_"
      ],
      "execution_count": 32,
      "outputs": [
        {
          "output_type": "execute_result",
          "data": {
            "text/plain": [
              "array([0.00214508, 0.00568952, 0.00705665, 0.95557058, 0.00343726,\n",
              "       0.00210835, 0.0017398 , 0.00178774, 0.00247126, 0.00336942,\n",
              "       0.00162231, 0.00144287, 0.00199215, 0.00242439, 0.00714261])"
            ]
          },
          "metadata": {
            "tags": []
          },
          "execution_count": 32
        }
      ]
    },
    {
      "cell_type": "code",
      "metadata": {
        "colab": {
          "base_uri": "https://localhost:8080/",
          "height": 279
        },
        "id": "Uzl6UEi58e0C",
        "outputId": "1c5aad3b-3f91-4cc6-bfed-77397305f5ac"
      },
      "source": [
        "def plot_features(model):\r\n",
        "  n_features = data_not.shape[1]\r\n",
        "  plt.barh(range(n_features), model.feature_importances_, align='center')\r\n",
        "  plt.yticks(np.arange(n_features), data_not.columns)\r\n",
        "  plt.xlabel('Важность признака')\r\n",
        "  plt.ylabel('Признак')\r\n",
        "plot_features(RFmodel)"
      ],
      "execution_count": 33,
      "outputs": [
        {
          "output_type": "display_data",
          "data": {
            "image/png": "[encoded data removed]",
            "text/plain": [
              "<Figure size 432x288 with 1 Axes>"
            ]
          },
          "metadata": {
            "tags": [],
            "needs_background": "light"
          }
        }
      ]
    },
    {
      "cell_type": "markdown",
      "metadata": {
        "id": "lJXj5qe20-JG"
      },
      "source": [
        "# **Кроссвалидация**"
      ]
    },
    {
      "cell_type": "code",
      "metadata": {
        "colab": {
          "base_uri": "https://localhost:8080/"
        },
        "id": "N7Nt89Ai257w",
        "outputId": "4a68cf20-d981-437f-badc-370a93784b7c"
      },
      "source": [
        "from sklearn.model_selection import cross_val_score\r\n",
        "\r\n",
        "scores = cross_val_score(RFmodel, X_train, y_train, cv=3)\r\n",
        "print(\"Cross-validation scores: {}\".format(scores))\r\n",
        "print(\"Average cross-validation score: {:.2f}\".format(scores.mean()))"
      ],
      "execution_count": 34,
      "outputs": [
        {
          "output_type": "stream",
          "text": [
            "Cross-validation scores: [0.90897447 0.92997813 0.82368727]\n",
            "Average cross-validation score: 0.89\n"
          ],
          "name": "stdout"
        }
      ]
    },
    {
      "cell_type": "code",
      "metadata": {
        "colab": {
          "base_uri": "https://localhost:8080/",
          "height": 85
        },
        "id": "_eKCYMar3t2K",
        "outputId": "a287131f-d4b9-46eb-c11a-8c5d057c8d1b"
      },
      "source": [
        "from sklearn.model_selection import cross_validate\r\n",
        "res = cross_validate(RFmodel, X_train, y_train, cv=4,\r\n",
        "                     return_train_score=True)\r\n",
        "display(res)"
      ],
      "execution_count": 35,
      "outputs": [
        {
          "output_type": "display_data",
          "data": {
            "text/plain": [
              "{'fit_time': array([0.93266606, 0.88958216, 0.88947535, 0.907125  ]),\n",
              " 'score_time': array([0.0281198 , 0.0286479 , 0.02873039, 0.02788758]),\n",
              " 'test_score': array([0.8090907 , 0.93063693, 0.90877959, 0.81217418]),\n",
              " 'train_score': array([0.99475159, 0.9926727 , 0.99510009, 0.99325156])}"
            ]
          },
          "metadata": {
            "tags": []
          }
        }
      ]
    },
    {
      "cell_type": "code",
      "metadata": {
        "colab": {
          "base_uri": "https://localhost:8080/",
          "height": 275
        },
        "id": "XqVMouc84Qbj",
        "outputId": "e98b36db-e707-4386-957e-f3b286f3ff95"
      },
      "source": [
        "res_df = pd.DataFrame(res)\r\n",
        "display(res_df)\r\n",
        "print(\"Mean times and scores:\\n\", res_df.mean())"
      ],
      "execution_count": 36,
      "outputs": [
        {
          "output_type": "display_data",
          "data": {
            "text/html": [
              "<div>\n",
              "<style scoped>\n",
              "    .dataframe tbody tr th:only-of-type {\n",
              "        vertical-align: middle;\n",
              "    }\n",
              "\n",
              "    .dataframe tbody tr th {\n",
              "        vertical-align: top;\n",
              "    }\n",
              "\n",
              "    .dataframe thead th {\n",
              "        text-align: right;\n",
              "    }\n",
              "</style>\n",
              "<table border=\"1\" class=\"dataframe\">\n",
              "  <thead>\n",
              "    <tr style=\"text-align: right;\">\n",
              "      <th></th>\n",
              "      <th>fit_time</th>\n",
              "      <th>score_time</th>\n",
              "      <th>test_score</th>\n",
              "      <th>train_score</th>\n",
              "    </tr>\n",
              "  </thead>\n",
              "  <tbody>\n",
              "    <tr>\n",
              "      <th>0</th>\n",
              "      <td>0.932666</td>\n",
              "      <td>0.028120</td>\n",
              "      <td>0.809091</td>\n",
              "      <td>0.994752</td>\n",
              "    </tr>\n",
              "    <tr>\n",
              "      <th>1</th>\n",
              "      <td>0.889582</td>\n",
              "      <td>0.028648</td>\n",
              "      <td>0.930637</td>\n",
              "      <td>0.992673</td>\n",
              "    </tr>\n",
              "    <tr>\n",
              "      <th>2</th>\n",
              "      <td>0.889475</td>\n",
              "      <td>0.028730</td>\n",
              "      <td>0.908780</td>\n",
              "      <td>0.995100</td>\n",
              "    </tr>\n",
              "    <tr>\n",
              "      <th>3</th>\n",
              "      <td>0.907125</td>\n",
              "      <td>0.027888</td>\n",
              "      <td>0.812174</td>\n",
              "      <td>0.993252</td>\n",
              "    </tr>\n",
              "  </tbody>\n",
              "</table>\n",
              "</div>"
            ],
            "text/plain": [
              "   fit_time  score_time  test_score  train_score\n",
              "0  0.932666    0.028120    0.809091     0.994752\n",
              "1  0.889582    0.028648    0.930637     0.992673\n",
              "2  0.889475    0.028730    0.908780     0.995100\n",
              "3  0.907125    0.027888    0.812174     0.993252"
            ]
          },
          "metadata": {
            "tags": []
          }
        },
        {
          "output_type": "stream",
          "text": [
            "Mean times and scores:\n",
            " fit_time       0.904712\n",
            "score_time     0.028346\n",
            "test_score     0.865170\n",
            "train_score    0.993944\n",
            "dtype: float64\n"
          ],
          "name": "stdout"
        }
      ]
    },
    {
      "cell_type": "markdown",
      "metadata": {
        "id": "4LOU5S3B6209"
      },
      "source": [
        "# **Slide test**"
      ]
    },
    {
      "cell_type": "code",
      "metadata": {
        "colab": {
          "base_uri": "https://localhost:8080/"
        },
        "id": "fBClxal6k1nZ",
        "outputId": "2b9b3837-21d2-425e-bcb8-38c1ec66c35a"
      },
      "source": [
        "from datetime import datetime\r\n",
        "from dateutil.relativedelta import relativedelta\r\n",
        "#startdate = pd.to_datetime(data_do)\r\n",
        "startdate = pd.to_datetime(train_do)+ relativedelta(months=1)\r\n",
        "\r\n",
        "#print('Today: ', startdate.strftime('%Y-%m-%d'))\r\n",
        "#print(date_after_month.strftime('%Y-%m-%d'))\r\n",
        "#startdate = str(startdate)[:10]\r\n",
        "startdate"
      ],
      "execution_count": 37,
      "outputs": [
        {
          "output_type": "execute_result",
          "data": {
            "text/plain": [
              "Timestamp('2019-10-01 00:00:00')"
            ]
          },
          "metadata": {
            "tags": []
          },
          "execution_count": 37
        }
      ]
    },
    {
      "cell_type": "code",
      "metadata": {
        "colab": {
          "base_uri": "https://localhost:8080/",
          "height": 299
        },
        "id": "o5Jb3Bo0K1zO",
        "outputId": "b3f161a9-e1f4-4852-c6e1-b5d127b6806d"
      },
      "source": [
        "#forecast = RFmodel.predict(X_test)\n",
        "#slide_test = test[test.index == train_do][data_not.columns.values].values\n",
        "#print(slide_test)\n",
        "slide_test = X_test\n",
        "forecast = []\n",
        "forecast.append(RFmodel.predict(slide_test)[0])\n",
        "\n",
        "for i in range(test.shape[0] - 1):\n",
        "  \n",
        "  slide_test_next = slide_test.copy()\n",
        "  slide_test_next[0, 1] = forecast[-1]\n",
        "\n",
        "  slide_test_next[0, 0] += 1\n",
        "  slide_test_next[0, 2:] = slide_test[0, 1:-1]\n",
        "  \n",
        "  #print(slide_test_next)\n",
        "  slide_test = slide_test_next.copy()\n",
        "\n",
        "  forecast.append(RFmodel.predict(slide_test)[0])\n",
        "\n",
        "forecast = np.array(forecast)\n",
        "\n",
        "plt.plot(y_test, label='true')\n",
        "plt.plot(forecast, label='forecast')\n",
        "plt.legend()\n",
        "\n",
        "print('rmse: {:.4f}'.format(mean_squared_error(y_test, forecast) ** 0.5))\n",
        "print('normed rmse: {:.4f}%'.format((mean_squared_error(y_test, forecast) ** 0.5) / np.mean(y_test) * 100))\n"
      ],
      "execution_count": 39,
      "outputs": [
        {
          "output_type": "stream",
          "text": [
            "rmse: 1.1314\n",
            "normed rmse: 1.0931%\n"
          ],
          "name": "stdout"
        },
        {
          "output_type": "display_data",
          "data": {
            "image/png": "[encoded data removed]",
            "text/plain": [
              "<Figure size 432x288 with 1 Axes>"
            ]
          },
          "metadata": {
            "tags": [],
            "needs_background": "light"
          }
        }
      ]
    },
    {
      "cell_type": "markdown",
      "metadata": {
        "id": "zkhh3vUJ2tTk"
      },
      "source": [
        "# **KFold cross validation**"
      ]
    },
    {
      "cell_type": "code",
      "metadata": {
        "id": "deadTb4020Hy"
      },
      "source": [
        "#!pip install mglearn -q\r\n",
        "from sklearn.datasets import make_blobs\r\n",
        "from sklearn.linear_model import LogisticRegression\r\n",
        "from sklearn.model_selection import train_test_split\r\n",
        "from sklearn.model_selection import cross_val_score\r\n",
        "\r\n",
        "import mglearn\r\n"
      ],
      "execution_count": 40,
      "outputs": []
    },
    {
      "cell_type": "code",
      "metadata": {
        "colab": {
          "base_uri": "https://localhost:8080/"
        },
        "id": "dCRe67DU3Gog",
        "outputId": "6254907b-8337-43d5-df24-d1fe8071e569"
      },
      "source": [
        "%%time\r\n",
        "model = RandomForestRegressor(n_estimators=50, max_depth=5, random_state=1)\r\n",
        "#model.fit(X_train, y_train)\r\n",
        "\r\n",
        "scores = cross_val_score(model, X_train, y_train, cv=5)\r\n",
        "print(\"Cross-validation scores: {}\".format(scores))"
      ],
      "execution_count": 41,
      "outputs": [
        {
          "output_type": "stream",
          "text": [
            "Cross-validation scores: [0.58556953 0.90867979 0.83882082 0.78766715 0.2417129 ]\n",
            "CPU times: user 456 ms, sys: 981 µs, total: 457 ms\n",
            "Wall time: 464 ms\n"
          ],
          "name": "stdout"
        }
      ]
    },
    {
      "cell_type": "code",
      "metadata": {
        "colab": {
          "base_uri": "https://localhost:8080/"
        },
        "id": "5mzaZkBHE5T7",
        "outputId": "8d32f9b5-58ca-4057-db10-bc7cafb0a98f"
      },
      "source": [
        "print(\"Average cross-validation score: {:.2f}\".format(scores.mean()))"
      ],
      "execution_count": 42,
      "outputs": [
        {
          "output_type": "stream",
          "text": [
            "Average cross-validation score: 0.67\n"
          ],
          "name": "stdout"
        }
      ]
    },
    {
      "cell_type": "markdown",
      "metadata": {
        "id": "Q7OnwPFmFYsG"
      },
      "source": [
        "# **Stratified K-Fold cross-validation and other strategies**"
      ]
    },
    {
      "cell_type": "code",
      "metadata": {
        "id": "aIviXw2MEuhq"
      },
      "source": [
        "from sklearn.model_selection import KFold\r\n",
        "kfold = KFold(n_splits=3)"
      ],
      "execution_count": 43,
      "outputs": []
    },
    {
      "cell_type": "code",
      "metadata": {
        "colab": {
          "base_uri": "https://localhost:8080/"
        },
        "id": "RKkRo34wWuXt",
        "outputId": "b5765f2a-a132-4d58-ec0c-6eedce579085"
      },
      "source": [
        "print(\"Cross-validation scores:\\n{}\".format(\r\n",
        "      cross_val_score(model, X_train, y_train, cv=kfold)))"
      ],
      "execution_count": 44,
      "outputs": [
        {
          "output_type": "stream",
          "text": [
            "Cross-validation scores:\n",
            "[0.90253105 0.92674871 0.84084992]\n"
          ],
          "name": "stdout"
        }
      ]
    },
    {
      "cell_type": "code",
      "metadata": {
        "colab": {
          "base_uri": "https://localhost:8080/"
        },
        "id": "3C8WssM7XZq7",
        "outputId": "e6980133-22c7-41ca-d620-018be9f4bb60"
      },
      "source": [
        "kfold = KFold(n_splits=3, shuffle=True, random_state=42)\r\n",
        "print(\"Cross-validation scores:\\n{}\".format(\r\n",
        "    cross_val_score(model, X_train, y_train, cv=kfold)))"
      ],
      "execution_count": 45,
      "outputs": [
        {
          "output_type": "stream",
          "text": [
            "Cross-validation scores:\n",
            "[0.96507139 0.90454448 0.95774674]\n"
          ],
          "name": "stdout"
        }
      ]
    },
    {
      "cell_type": "markdown",
      "metadata": {
        "id": "3mXS2CH3ah8C"
      },
      "source": [
        "# **GradientBoostingRegressor**"
      ]
    },
    {
      "cell_type": "code",
      "metadata": {
        "id": "3Mf3pm1DJOOL"
      },
      "source": [
        "from xgboost import XGBRegressor"
      ],
      "execution_count": 46,
      "outputs": []
    },
    {
      "cell_type": "code",
      "metadata": {
        "colab": {
          "base_uri": "https://localhost:8080/",
          "height": 350
        },
        "id": "V3Aosx-LJOMA",
        "outputId": "aa4a67b8-7857-42be-fa9d-71e6b21c6290"
      },
      "source": [
        "xgb_model = XGBRegressor(n_estimators=10000, learning_rate=0.01, max_depth=3)\n",
        "xgb_model.fit(X_train, y_train, early_stopping_rounds=5, \n",
        "             eval_set=[(X_train, y_train)], verbose=False)\n",
        "# make predictions\n",
        "xgb_forecast = xgb_model.predict(X_test)\n",
        "xgb_model.feature_importances_\n",
        "plt.plot(y_test, label='true')\n",
        "plt.plot(xgb_forecast, label='forecast')\n",
        "plt.legend()\n",
        "\n",
        "from sklearn.metrics import mean_squared_error\n",
        "print('rmse: {:.4f}'.format(mean_squared_error(y_test, xgb_forecast) ** 0.5))\n",
        "print('normed rmse: {:.4f}%'.format((mean_squared_error(y_test, xgb_forecast) ** 0.5) / \n",
        "                                    np.mean(y_test) * 100))\n",
        "\n",
        "print(\"Accuracy on training set: {:.3f}\".format(xgb_model.score(X_train, y_train)))\n",
        "print(\"Accuracy on test set: {:.3f}\".format(xgb_model.score(X_test, y_test)))"
      ],
      "execution_count": 47,
      "outputs": [
        {
          "output_type": "stream",
          "text": [
            "[02:39:50] WARNING: /workspace/src/objective/regression_obj.cu:152: reg:linear is now deprecated in favor of reg:squarederror.\n",
            "rmse: 0.2301\n",
            "normed rmse: 0.2224%\n",
            "Accuracy on training set: 1.000\n",
            "Accuracy on test set: 0.750\n"
          ],
          "name": "stdout"
        },
        {
          "output_type": "display_data",
          "data": {
            "image/png": "[encoded data removed]",
            "text/plain": [
              "<Figure size 432x288 with 1 Axes>"
            ]
          },
          "metadata": {
            "tags": [],
            "needs_background": "light"
          }
        }
      ]
    },
    {
      "cell_type": "code",
      "metadata": {
        "colab": {
          "base_uri": "https://localhost:8080/",
          "height": 279
        },
        "id": "wHuP_555asE-",
        "outputId": "83998a91-365e-43c3-a627-a8db5bee684f"
      },
      "source": [
        "def plot_features(model):\r\n",
        "  n_features = data_not.shape[1]\r\n",
        "  plt.barh(range(n_features), model.feature_importances_, align='center')\r\n",
        "  plt.yticks(np.arange(n_features), data_not.columns)\r\n",
        "  plt.xlabel('Важность признака')\r\n",
        "  plt.ylabel('Признак')\r\n",
        "plot_features(xgb_model)"
      ],
      "execution_count": 48,
      "outputs": [
        {
          "output_type": "display_data",
          "data": {
            "image/png": "[encoded data removed]",
            "text/plain": [
              "<Figure size 432x288 with 1 Axes>"
            ]
          },
          "metadata": {
            "tags": [],
            "needs_background": "light"
          }
        }
      ]
    }
  ]
}