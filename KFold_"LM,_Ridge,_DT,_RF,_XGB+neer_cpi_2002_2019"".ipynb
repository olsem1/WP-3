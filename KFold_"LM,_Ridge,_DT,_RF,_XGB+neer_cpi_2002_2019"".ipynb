{
  "nbformat": 4,
  "nbformat_minor": 0,
  "metadata": {
    "colab": {
      "name": "KFold \"LM, Ridge, DT, RF, XGB+neer cpi 2002-2019\"\"",
      "provenance": [],
      "collapsed_sections": [],
      "toc_visible": true,
      "authorship_tag": "ABX9TyMtN3tgnH4tXuInOqdq0Bpv",
      "include_colab_link": true
    },
    "kernelspec": {
      "display_name": "Python 3",
      "name": "python3"
    }
  },
  "cells": [
    {
      "cell_type": "markdown",
      "metadata": {
        "id": "view-in-github",
        "colab_type": "text"
      },
      "source": [
        "<a href=\"https://colab.research.google.com/github/olsem1/WP-3/blob/master/KFold_%22LM%2C_Ridge%2C_DT%2C_RF%2C_XGB%2Bneer_cpi_2002_2019%22%22.ipynb\" target=\"_parent\"><img src=\"https://colab.research.google.com/assets/colab-badge.svg\" alt=\"Open In Colab\"/></a>"
      ]
    },
    {
      "cell_type": "code",
      "metadata": {
        "id": "stObcNR0Ei_U"
      },
      "source": [
        "import numpy as np\n",
        "import pandas as pd\n",
        "\n",
        "import matplotlib as mpl\n",
        "import matplotlib.pyplot as plt\n",
        "import matplotlib.pyplot as plt\n",
        "\n",
        "from sklearn.model_selection import KFold\n",
        "from sklearn.metrics import mean_squared_error\n"
      ],
      "execution_count": 133,
      "outputs": []
    },
    {
      "cell_type": "code",
      "metadata": {
        "id": "cBBcCeTc-DWY"
      },
      "source": [
        "course = pd.read_excel('RC_2002-2020.xlsx')\r\n",
        "course = course.rename(columns={\"data\": \"date\"})\r\n",
        "course = course.set_index('date')\r\n",
        "course_m = course.resample('MS').mean()"
      ],
      "execution_count": 134,
      "outputs": []
    },
    {
      "cell_type": "markdown",
      "metadata": {
        "id": "y0elr5HmiI5a"
      },
      "source": [
        "# **Переменные**"
      ]
    },
    {
      "cell_type": "code",
      "metadata": {
        "id": "atQOrSCziHzA"
      },
      "source": [
        "cpi = \"year\"\r\n",
        "reg_names = ['RF']\r\n",
        "data_do = \"2019-12-01\"\r\n",
        "train_do = \"2019-09-01\""
      ],
      "execution_count": 135,
      "outputs": []
    },
    {
      "cell_type": "code",
      "metadata": {
        "colab": {
          "base_uri": "https://localhost:8080/"
        },
        "id": "6BPbGQe9FZ8M",
        "outputId": "40b4176f-f235-4449-9774-19bfd1cfd7db"
      },
      "source": [
        "data = pd.read_excel('cpi_reg.xls', sheet_name = cpi)\r\n",
        "data = data.set_index('date')\r\n",
        "data = data.interpolate(method='polynomial', order=2, axis=0)\r\n",
        "data.isna().sum().sum()"
      ],
      "execution_count": 136,
      "outputs": [
        {
          "output_type": "execute_result",
          "data": {
            "text/plain": [
              "0"
            ]
          },
          "metadata": {
            "tags": []
          },
          "execution_count": 136
        }
      ]
    },
    {
      "cell_type": "code",
      "metadata": {
        "colab": {
          "base_uri": "https://localhost:8080/",
          "height": 676
        },
        "id": "0F-jAhAL_x17",
        "outputId": "b65e5d38-4fe7-4e2e-a79f-07969264c5cc"
      },
      "source": [
        "data.tail(12)"
      ],
      "execution_count": 137,
      "outputs": [
        {
          "output_type": "execute_result",
          "data": {
            "text/html": [
              "<div>\n",
              "<style scoped>\n",
              "    .dataframe tbody tr th:only-of-type {\n",
              "        vertical-align: middle;\n",
              "    }\n",
              "\n",
              "    .dataframe tbody tr th {\n",
              "        vertical-align: top;\n",
              "    }\n",
              "\n",
              "    .dataframe thead th {\n",
              "        text-align: right;\n",
              "    }\n",
              "</style>\n",
              "<table border=\"1\" class=\"dataframe\">\n",
              "  <thead>\n",
              "    <tr style=\"text-align: right;\">\n",
              "      <th></th>\n",
              "      <th>RF</th>\n",
              "      <th>BEL</th>\n",
              "      <th>BRY</th>\n",
              "      <th>VLA</th>\n",
              "      <th>VOR</th>\n",
              "      <th>IVA</th>\n",
              "      <th>KAL</th>\n",
              "      <th>KOS</th>\n",
              "      <th>KUR</th>\n",
              "      <th>LIP</th>\n",
              "      <th>MOS</th>\n",
              "      <th>ORL</th>\n",
              "      <th>RYA</th>\n",
              "      <th>SMO</th>\n",
              "      <th>TAM</th>\n",
              "      <th>TVE</th>\n",
              "      <th>TUL</th>\n",
              "      <th>YAR</th>\n",
              "      <th>MOW</th>\n",
              "      <th>KAR</th>\n",
              "      <th>KOM</th>\n",
              "      <th>ARK</th>\n",
              "      <th>VLG</th>\n",
              "      <th>KAG</th>\n",
              "      <th>LEN</th>\n",
              "      <th>MUR</th>\n",
              "      <th>NGR</th>\n",
              "      <th>PSK</th>\n",
              "      <th>SPB</th>\n",
              "      <th>ADY</th>\n",
              "      <th>KLM</th>\n",
              "      <th>KRA</th>\n",
              "      <th>AST</th>\n",
              "      <th>VGG</th>\n",
              "      <th>ROS</th>\n",
              "      <th>DAG</th>\n",
              "      <th>ING</th>\n",
              "      <th>KAB</th>\n",
              "      <th>KAO</th>\n",
              "      <th>NOR</th>\n",
              "      <th>STA</th>\n",
              "      <th>BAS</th>\n",
              "      <th>MAR</th>\n",
              "      <th>MOR</th>\n",
              "      <th>TAT</th>\n",
              "      <th>UDM</th>\n",
              "      <th>CHV</th>\n",
              "      <th>PER</th>\n",
              "      <th>KIR</th>\n",
              "      <th>NIZ</th>\n",
              "      <th>ORE</th>\n",
              "      <th>PNZ</th>\n",
              "      <th>SAM</th>\n",
              "      <th>SAR</th>\n",
              "      <th>ULY</th>\n",
              "      <th>KUG</th>\n",
              "      <th>SVE</th>\n",
              "      <th>TYU</th>\n",
              "      <th>CHE</th>\n",
              "      <th>ALI</th>\n",
              "      <th>TUV</th>\n",
              "      <th>KHK</th>\n",
              "      <th>ALT</th>\n",
              "      <th>KYA</th>\n",
              "      <th>IRK</th>\n",
              "      <th>KEM</th>\n",
              "      <th>NVS</th>\n",
              "      <th>OMS</th>\n",
              "      <th>TOM</th>\n",
              "      <th>BUR</th>\n",
              "      <th>ZAB</th>\n",
              "      <th>SAH</th>\n",
              "      <th>KAM</th>\n",
              "      <th>PRI</th>\n",
              "      <th>KHA</th>\n",
              "      <th>AMU</th>\n",
              "      <th>MAG</th>\n",
              "      <th>SAK</th>\n",
              "      <th>JEW</th>\n",
              "      <th>CHU</th>\n",
              "    </tr>\n",
              "    <tr>\n",
              "      <th>date</th>\n",
              "      <th></th>\n",
              "      <th></th>\n",
              "      <th></th>\n",
              "      <th></th>\n",
              "      <th></th>\n",
              "      <th></th>\n",
              "      <th></th>\n",
              "      <th></th>\n",
              "      <th></th>\n",
              "      <th></th>\n",
              "      <th></th>\n",
              "      <th></th>\n",
              "      <th></th>\n",
              "      <th></th>\n",
              "      <th></th>\n",
              "      <th></th>\n",
              "      <th></th>\n",
              "      <th></th>\n",
              "      <th></th>\n",
              "      <th></th>\n",
              "      <th></th>\n",
              "      <th></th>\n",
              "      <th></th>\n",
              "      <th></th>\n",
              "      <th></th>\n",
              "      <th></th>\n",
              "      <th></th>\n",
              "      <th></th>\n",
              "      <th></th>\n",
              "      <th></th>\n",
              "      <th></th>\n",
              "      <th></th>\n",
              "      <th></th>\n",
              "      <th></th>\n",
              "      <th></th>\n",
              "      <th></th>\n",
              "      <th></th>\n",
              "      <th></th>\n",
              "      <th></th>\n",
              "      <th></th>\n",
              "      <th></th>\n",
              "      <th></th>\n",
              "      <th></th>\n",
              "      <th></th>\n",
              "      <th></th>\n",
              "      <th></th>\n",
              "      <th></th>\n",
              "      <th></th>\n",
              "      <th></th>\n",
              "      <th></th>\n",
              "      <th></th>\n",
              "      <th></th>\n",
              "      <th></th>\n",
              "      <th></th>\n",
              "      <th></th>\n",
              "      <th></th>\n",
              "      <th></th>\n",
              "      <th></th>\n",
              "      <th></th>\n",
              "      <th></th>\n",
              "      <th></th>\n",
              "      <th></th>\n",
              "      <th></th>\n",
              "      <th></th>\n",
              "      <th></th>\n",
              "      <th></th>\n",
              "      <th></th>\n",
              "      <th></th>\n",
              "      <th></th>\n",
              "      <th></th>\n",
              "      <th></th>\n",
              "      <th></th>\n",
              "      <th></th>\n",
              "      <th></th>\n",
              "      <th></th>\n",
              "      <th></th>\n",
              "      <th></th>\n",
              "      <th></th>\n",
              "      <th></th>\n",
              "      <th></th>\n",
              "    </tr>\n",
              "  </thead>\n",
              "  <tbody>\n",
              "    <tr>\n",
              "      <th>2019-11-01</th>\n",
              "      <td>103.40</td>\n",
              "      <td>102.67</td>\n",
              "      <td>103.38</td>\n",
              "      <td>103.09</td>\n",
              "      <td>103.36</td>\n",
              "      <td>103.60</td>\n",
              "      <td>102.96</td>\n",
              "      <td>104.14</td>\n",
              "      <td>104.06</td>\n",
              "      <td>103.48</td>\n",
              "      <td>103.71</td>\n",
              "      <td>103.47</td>\n",
              "      <td>102.94</td>\n",
              "      <td>102.29</td>\n",
              "      <td>104.30</td>\n",
              "      <td>102.94</td>\n",
              "      <td>102.47</td>\n",
              "      <td>104.32</td>\n",
              "      <td>103.85</td>\n",
              "      <td>103.34</td>\n",
              "      <td>103.61</td>\n",
              "      <td>103.17</td>\n",
              "      <td>103.04</td>\n",
              "      <td>103.35</td>\n",
              "      <td>103.13</td>\n",
              "      <td>103.98</td>\n",
              "      <td>103.26</td>\n",
              "      <td>102.37</td>\n",
              "      <td>103.12</td>\n",
              "      <td>101.94</td>\n",
              "      <td>104.04</td>\n",
              "      <td>103.09</td>\n",
              "      <td>103.09</td>\n",
              "      <td>102.65</td>\n",
              "      <td>102.91</td>\n",
              "      <td>103.98</td>\n",
              "      <td>103.79</td>\n",
              "      <td>104.17</td>\n",
              "      <td>102.46</td>\n",
              "      <td>102.77</td>\n",
              "      <td>103.70</td>\n",
              "      <td>103.41</td>\n",
              "      <td>103.36</td>\n",
              "      <td>102.26</td>\n",
              "      <td>102.99</td>\n",
              "      <td>102.57</td>\n",
              "      <td>102.47</td>\n",
              "      <td>103.30</td>\n",
              "      <td>102.72</td>\n",
              "      <td>103.41</td>\n",
              "      <td>103.17</td>\n",
              "      <td>102.73</td>\n",
              "      <td>103.35</td>\n",
              "      <td>102.92</td>\n",
              "      <td>103.20</td>\n",
              "      <td>104.22</td>\n",
              "      <td>103.42</td>\n",
              "      <td>102.22</td>\n",
              "      <td>103.33</td>\n",
              "      <td>101.30</td>\n",
              "      <td>103.18</td>\n",
              "      <td>103.83</td>\n",
              "      <td>103.29</td>\n",
              "      <td>103.49</td>\n",
              "      <td>104.30</td>\n",
              "      <td>103.68</td>\n",
              "      <td>102.69</td>\n",
              "      <td>103.57</td>\n",
              "      <td>103.65</td>\n",
              "      <td>104.56</td>\n",
              "      <td>104.11</td>\n",
              "      <td>103.24</td>\n",
              "      <td>103.78</td>\n",
              "      <td>102.97</td>\n",
              "      <td>103.80</td>\n",
              "      <td>105.08</td>\n",
              "      <td>102.37</td>\n",
              "      <td>103.92</td>\n",
              "      <td>105.24</td>\n",
              "      <td>105.06</td>\n",
              "    </tr>\n",
              "    <tr>\n",
              "      <th>2019-12-01</th>\n",
              "      <td>102.80</td>\n",
              "      <td>102.33</td>\n",
              "      <td>102.93</td>\n",
              "      <td>101.79</td>\n",
              "      <td>102.34</td>\n",
              "      <td>102.84</td>\n",
              "      <td>102.10</td>\n",
              "      <td>103.48</td>\n",
              "      <td>103.18</td>\n",
              "      <td>102.59</td>\n",
              "      <td>102.90</td>\n",
              "      <td>103.02</td>\n",
              "      <td>101.63</td>\n",
              "      <td>101.51</td>\n",
              "      <td>103.59</td>\n",
              "      <td>102.05</td>\n",
              "      <td>101.76</td>\n",
              "      <td>103.07</td>\n",
              "      <td>103.42</td>\n",
              "      <td>102.60</td>\n",
              "      <td>102.58</td>\n",
              "      <td>102.41</td>\n",
              "      <td>102.61</td>\n",
              "      <td>102.43</td>\n",
              "      <td>102.34</td>\n",
              "      <td>103.19</td>\n",
              "      <td>102.61</td>\n",
              "      <td>101.59</td>\n",
              "      <td>102.55</td>\n",
              "      <td>101.72</td>\n",
              "      <td>103.11</td>\n",
              "      <td>102.34</td>\n",
              "      <td>102.40</td>\n",
              "      <td>102.23</td>\n",
              "      <td>101.99</td>\n",
              "      <td>103.48</td>\n",
              "      <td>103.78</td>\n",
              "      <td>103.42</td>\n",
              "      <td>101.77</td>\n",
              "      <td>101.68</td>\n",
              "      <td>102.77</td>\n",
              "      <td>102.56</td>\n",
              "      <td>102.16</td>\n",
              "      <td>101.72</td>\n",
              "      <td>102.50</td>\n",
              "      <td>102.14</td>\n",
              "      <td>101.65</td>\n",
              "      <td>102.87</td>\n",
              "      <td>102.41</td>\n",
              "      <td>102.62</td>\n",
              "      <td>102.19</td>\n",
              "      <td>102.11</td>\n",
              "      <td>102.63</td>\n",
              "      <td>102.38</td>\n",
              "      <td>102.61</td>\n",
              "      <td>103.35</td>\n",
              "      <td>102.74</td>\n",
              "      <td>102.17</td>\n",
              "      <td>102.94</td>\n",
              "      <td>101.65</td>\n",
              "      <td>102.96</td>\n",
              "      <td>103.13</td>\n",
              "      <td>102.90</td>\n",
              "      <td>103.24</td>\n",
              "      <td>103.90</td>\n",
              "      <td>103.17</td>\n",
              "      <td>101.94</td>\n",
              "      <td>103.08</td>\n",
              "      <td>102.96</td>\n",
              "      <td>103.75</td>\n",
              "      <td>103.84</td>\n",
              "      <td>103.12</td>\n",
              "      <td>103.34</td>\n",
              "      <td>102.94</td>\n",
              "      <td>103.50</td>\n",
              "      <td>105.10</td>\n",
              "      <td>102.16</td>\n",
              "      <td>103.98</td>\n",
              "      <td>104.85</td>\n",
              "      <td>104.78</td>\n",
              "    </tr>\n",
              "    <tr>\n",
              "      <th>2020-01-01</th>\n",
              "      <td>102.29</td>\n",
              "      <td>101.66</td>\n",
              "      <td>101.85</td>\n",
              "      <td>101.70</td>\n",
              "      <td>101.84</td>\n",
              "      <td>102.32</td>\n",
              "      <td>101.36</td>\n",
              "      <td>103.08</td>\n",
              "      <td>102.75</td>\n",
              "      <td>102.29</td>\n",
              "      <td>102.13</td>\n",
              "      <td>102.04</td>\n",
              "      <td>101.50</td>\n",
              "      <td>100.93</td>\n",
              "      <td>102.77</td>\n",
              "      <td>101.43</td>\n",
              "      <td>101.06</td>\n",
              "      <td>102.49</td>\n",
              "      <td>102.81</td>\n",
              "      <td>102.16</td>\n",
              "      <td>102.06</td>\n",
              "      <td>102.00</td>\n",
              "      <td>102.26</td>\n",
              "      <td>101.89</td>\n",
              "      <td>102.06</td>\n",
              "      <td>102.88</td>\n",
              "      <td>102.30</td>\n",
              "      <td>101.03</td>\n",
              "      <td>101.95</td>\n",
              "      <td>101.76</td>\n",
              "      <td>102.53</td>\n",
              "      <td>101.86</td>\n",
              "      <td>101.83</td>\n",
              "      <td>101.59</td>\n",
              "      <td>101.68</td>\n",
              "      <td>103.33</td>\n",
              "      <td>103.75</td>\n",
              "      <td>103.01</td>\n",
              "      <td>101.57</td>\n",
              "      <td>101.50</td>\n",
              "      <td>102.32</td>\n",
              "      <td>101.93</td>\n",
              "      <td>101.78</td>\n",
              "      <td>101.12</td>\n",
              "      <td>101.97</td>\n",
              "      <td>101.61</td>\n",
              "      <td>101.58</td>\n",
              "      <td>102.21</td>\n",
              "      <td>102.68</td>\n",
              "      <td>102.41</td>\n",
              "      <td>101.73</td>\n",
              "      <td>101.47</td>\n",
              "      <td>101.89</td>\n",
              "      <td>101.81</td>\n",
              "      <td>101.93</td>\n",
              "      <td>102.81</td>\n",
              "      <td>101.88</td>\n",
              "      <td>101.77</td>\n",
              "      <td>102.59</td>\n",
              "      <td>101.88</td>\n",
              "      <td>102.73</td>\n",
              "      <td>102.61</td>\n",
              "      <td>102.32</td>\n",
              "      <td>102.72</td>\n",
              "      <td>103.79</td>\n",
              "      <td>101.96</td>\n",
              "      <td>101.75</td>\n",
              "      <td>102.40</td>\n",
              "      <td>102.51</td>\n",
              "      <td>103.76</td>\n",
              "      <td>103.65</td>\n",
              "      <td>102.68</td>\n",
              "      <td>103.00</td>\n",
              "      <td>102.89</td>\n",
              "      <td>103.54</td>\n",
              "      <td>105.12</td>\n",
              "      <td>102.10</td>\n",
              "      <td>104.13</td>\n",
              "      <td>104.96</td>\n",
              "      <td>103.42</td>\n",
              "    </tr>\n",
              "    <tr>\n",
              "      <th>2020-02-01</th>\n",
              "      <td>102.05</td>\n",
              "      <td>101.60</td>\n",
              "      <td>101.87</td>\n",
              "      <td>101.57</td>\n",
              "      <td>101.78</td>\n",
              "      <td>102.29</td>\n",
              "      <td>101.65</td>\n",
              "      <td>102.98</td>\n",
              "      <td>102.73</td>\n",
              "      <td>102.04</td>\n",
              "      <td>101.83</td>\n",
              "      <td>101.82</td>\n",
              "      <td>101.39</td>\n",
              "      <td>100.94</td>\n",
              "      <td>102.43</td>\n",
              "      <td>101.43</td>\n",
              "      <td>101.19</td>\n",
              "      <td>102.21</td>\n",
              "      <td>102.34</td>\n",
              "      <td>102.20</td>\n",
              "      <td>102.45</td>\n",
              "      <td>102.05</td>\n",
              "      <td>102.14</td>\n",
              "      <td>102.00</td>\n",
              "      <td>101.95</td>\n",
              "      <td>102.57</td>\n",
              "      <td>102.18</td>\n",
              "      <td>100.68</td>\n",
              "      <td>101.65</td>\n",
              "      <td>101.78</td>\n",
              "      <td>101.85</td>\n",
              "      <td>101.67</td>\n",
              "      <td>101.38</td>\n",
              "      <td>101.55</td>\n",
              "      <td>101.71</td>\n",
              "      <td>103.14</td>\n",
              "      <td>103.53</td>\n",
              "      <td>103.01</td>\n",
              "      <td>101.32</td>\n",
              "      <td>100.50</td>\n",
              "      <td>102.59</td>\n",
              "      <td>101.65</td>\n",
              "      <td>101.90</td>\n",
              "      <td>101.04</td>\n",
              "      <td>101.89</td>\n",
              "      <td>101.55</td>\n",
              "      <td>101.17</td>\n",
              "      <td>102.44</td>\n",
              "      <td>102.41</td>\n",
              "      <td>101.68</td>\n",
              "      <td>101.48</td>\n",
              "      <td>101.22</td>\n",
              "      <td>102.18</td>\n",
              "      <td>101.95</td>\n",
              "      <td>101.98</td>\n",
              "      <td>102.52</td>\n",
              "      <td>101.39</td>\n",
              "      <td>101.48</td>\n",
              "      <td>102.21</td>\n",
              "      <td>101.37</td>\n",
              "      <td>102.39</td>\n",
              "      <td>101.93</td>\n",
              "      <td>102.25</td>\n",
              "      <td>102.40</td>\n",
              "      <td>103.25</td>\n",
              "      <td>101.47</td>\n",
              "      <td>101.21</td>\n",
              "      <td>102.14</td>\n",
              "      <td>102.20</td>\n",
              "      <td>103.17</td>\n",
              "      <td>103.17</td>\n",
              "      <td>102.86</td>\n",
              "      <td>102.58</td>\n",
              "      <td>102.96</td>\n",
              "      <td>103.56</td>\n",
              "      <td>105.08</td>\n",
              "      <td>102.95</td>\n",
              "      <td>103.78</td>\n",
              "      <td>104.57</td>\n",
              "      <td>101.66</td>\n",
              "    </tr>\n",
              "    <tr>\n",
              "      <th>2020-03-01</th>\n",
              "      <td>102.39</td>\n",
              "      <td>101.86</td>\n",
              "      <td>102.67</td>\n",
              "      <td>102.04</td>\n",
              "      <td>102.58</td>\n",
              "      <td>103.08</td>\n",
              "      <td>101.98</td>\n",
              "      <td>103.60</td>\n",
              "      <td>102.86</td>\n",
              "      <td>102.21</td>\n",
              "      <td>101.90</td>\n",
              "      <td>102.45</td>\n",
              "      <td>101.95</td>\n",
              "      <td>101.61</td>\n",
              "      <td>102.73</td>\n",
              "      <td>101.90</td>\n",
              "      <td>102.08</td>\n",
              "      <td>103.11</td>\n",
              "      <td>102.36</td>\n",
              "      <td>102.63</td>\n",
              "      <td>102.51</td>\n",
              "      <td>102.38</td>\n",
              "      <td>103.07</td>\n",
              "      <td>102.40</td>\n",
              "      <td>102.32</td>\n",
              "      <td>102.96</td>\n",
              "      <td>102.81</td>\n",
              "      <td>101.48</td>\n",
              "      <td>102.23</td>\n",
              "      <td>101.85</td>\n",
              "      <td>102.39</td>\n",
              "      <td>101.96</td>\n",
              "      <td>101.91</td>\n",
              "      <td>102.19</td>\n",
              "      <td>101.87</td>\n",
              "      <td>103.34</td>\n",
              "      <td>103.14</td>\n",
              "      <td>103.25</td>\n",
              "      <td>102.00</td>\n",
              "      <td>101.18</td>\n",
              "      <td>102.93</td>\n",
              "      <td>102.49</td>\n",
              "      <td>102.20</td>\n",
              "      <td>101.79</td>\n",
              "      <td>101.96</td>\n",
              "      <td>102.07</td>\n",
              "      <td>101.49</td>\n",
              "      <td>102.65</td>\n",
              "      <td>103.06</td>\n",
              "      <td>102.37</td>\n",
              "      <td>101.92</td>\n",
              "      <td>102.13</td>\n",
              "      <td>102.28</td>\n",
              "      <td>102.70</td>\n",
              "      <td>102.40</td>\n",
              "      <td>102.96</td>\n",
              "      <td>101.94</td>\n",
              "      <td>101.85</td>\n",
              "      <td>102.87</td>\n",
              "      <td>101.27</td>\n",
              "      <td>102.93</td>\n",
              "      <td>102.13</td>\n",
              "      <td>102.56</td>\n",
              "      <td>102.39</td>\n",
              "      <td>103.34</td>\n",
              "      <td>101.94</td>\n",
              "      <td>101.73</td>\n",
              "      <td>102.42</td>\n",
              "      <td>102.19</td>\n",
              "      <td>103.24</td>\n",
              "      <td>103.74</td>\n",
              "      <td>102.80</td>\n",
              "      <td>102.09</td>\n",
              "      <td>102.64</td>\n",
              "      <td>103.35</td>\n",
              "      <td>105.09</td>\n",
              "      <td>103.65</td>\n",
              "      <td>103.84</td>\n",
              "      <td>104.76</td>\n",
              "      <td>101.05</td>\n",
              "    </tr>\n",
              "    <tr>\n",
              "      <th>2020-04-01</th>\n",
              "      <td>103.18</td>\n",
              "      <td>102.77</td>\n",
              "      <td>103.43</td>\n",
              "      <td>102.96</td>\n",
              "      <td>103.73</td>\n",
              "      <td>103.92</td>\n",
              "      <td>103.38</td>\n",
              "      <td>103.94</td>\n",
              "      <td>103.89</td>\n",
              "      <td>103.13</td>\n",
              "      <td>102.63</td>\n",
              "      <td>103.48</td>\n",
              "      <td>103.45</td>\n",
              "      <td>103.39</td>\n",
              "      <td>104.27</td>\n",
              "      <td>103.11</td>\n",
              "      <td>103.32</td>\n",
              "      <td>103.48</td>\n",
              "      <td>102.59</td>\n",
              "      <td>103.38</td>\n",
              "      <td>103.23</td>\n",
              "      <td>103.36</td>\n",
              "      <td>103.72</td>\n",
              "      <td>103.06</td>\n",
              "      <td>103.12</td>\n",
              "      <td>103.88</td>\n",
              "      <td>103.62</td>\n",
              "      <td>102.27</td>\n",
              "      <td>102.87</td>\n",
              "      <td>102.49</td>\n",
              "      <td>103.86</td>\n",
              "      <td>102.85</td>\n",
              "      <td>102.97</td>\n",
              "      <td>103.32</td>\n",
              "      <td>102.82</td>\n",
              "      <td>104.87</td>\n",
              "      <td>104.41</td>\n",
              "      <td>104.33</td>\n",
              "      <td>102.51</td>\n",
              "      <td>102.49</td>\n",
              "      <td>103.34</td>\n",
              "      <td>103.73</td>\n",
              "      <td>103.25</td>\n",
              "      <td>102.49</td>\n",
              "      <td>102.71</td>\n",
              "      <td>102.57</td>\n",
              "      <td>102.89</td>\n",
              "      <td>103.52</td>\n",
              "      <td>104.16</td>\n",
              "      <td>103.43</td>\n",
              "      <td>102.76</td>\n",
              "      <td>103.49</td>\n",
              "      <td>102.97</td>\n",
              "      <td>103.99</td>\n",
              "      <td>103.21</td>\n",
              "      <td>103.90</td>\n",
              "      <td>103.16</td>\n",
              "      <td>102.59</td>\n",
              "      <td>103.72</td>\n",
              "      <td>102.78</td>\n",
              "      <td>103.70</td>\n",
              "      <td>103.38</td>\n",
              "      <td>103.18</td>\n",
              "      <td>103.04</td>\n",
              "      <td>104.06</td>\n",
              "      <td>102.64</td>\n",
              "      <td>102.82</td>\n",
              "      <td>103.06</td>\n",
              "      <td>103.19</td>\n",
              "      <td>103.94</td>\n",
              "      <td>104.71</td>\n",
              "      <td>102.89</td>\n",
              "      <td>102.53</td>\n",
              "      <td>103.71</td>\n",
              "      <td>104.62</td>\n",
              "      <td>105.79</td>\n",
              "      <td>104.02</td>\n",
              "      <td>104.18</td>\n",
              "      <td>106.08</td>\n",
              "      <td>101.33</td>\n",
              "    </tr>\n",
              "    <tr>\n",
              "      <th>2020-05-01</th>\n",
              "      <td>103.07</td>\n",
              "      <td>102.95</td>\n",
              "      <td>103.74</td>\n",
              "      <td>102.52</td>\n",
              "      <td>103.67</td>\n",
              "      <td>103.54</td>\n",
              "      <td>103.51</td>\n",
              "      <td>103.79</td>\n",
              "      <td>103.66</td>\n",
              "      <td>103.14</td>\n",
              "      <td>102.80</td>\n",
              "      <td>103.49</td>\n",
              "      <td>103.61</td>\n",
              "      <td>102.99</td>\n",
              "      <td>103.82</td>\n",
              "      <td>103.11</td>\n",
              "      <td>103.24</td>\n",
              "      <td>103.68</td>\n",
              "      <td>102.65</td>\n",
              "      <td>103.46</td>\n",
              "      <td>103.25</td>\n",
              "      <td>103.36</td>\n",
              "      <td>103.76</td>\n",
              "      <td>102.62</td>\n",
              "      <td>102.84</td>\n",
              "      <td>103.45</td>\n",
              "      <td>103.62</td>\n",
              "      <td>102.50</td>\n",
              "      <td>102.52</td>\n",
              "      <td>102.97</td>\n",
              "      <td>103.36</td>\n",
              "      <td>102.62</td>\n",
              "      <td>102.87</td>\n",
              "      <td>103.14</td>\n",
              "      <td>102.30</td>\n",
              "      <td>104.04</td>\n",
              "      <td>104.02</td>\n",
              "      <td>103.87</td>\n",
              "      <td>102.34</td>\n",
              "      <td>102.17</td>\n",
              "      <td>103.65</td>\n",
              "      <td>103.32</td>\n",
              "      <td>103.29</td>\n",
              "      <td>102.63</td>\n",
              "      <td>102.63</td>\n",
              "      <td>102.82</td>\n",
              "      <td>102.45</td>\n",
              "      <td>103.58</td>\n",
              "      <td>103.84</td>\n",
              "      <td>103.30</td>\n",
              "      <td>102.80</td>\n",
              "      <td>102.72</td>\n",
              "      <td>102.71</td>\n",
              "      <td>104.14</td>\n",
              "      <td>103.26</td>\n",
              "      <td>104.07</td>\n",
              "      <td>102.97</td>\n",
              "      <td>102.36</td>\n",
              "      <td>103.77</td>\n",
              "      <td>102.82</td>\n",
              "      <td>103.13</td>\n",
              "      <td>103.23</td>\n",
              "      <td>102.94</td>\n",
              "      <td>102.59</td>\n",
              "      <td>104.37</td>\n",
              "      <td>102.07</td>\n",
              "      <td>102.60</td>\n",
              "      <td>102.66</td>\n",
              "      <td>103.00</td>\n",
              "      <td>104.03</td>\n",
              "      <td>104.53</td>\n",
              "      <td>102.56</td>\n",
              "      <td>102.76</td>\n",
              "      <td>103.73</td>\n",
              "      <td>104.33</td>\n",
              "      <td>105.97</td>\n",
              "      <td>104.36</td>\n",
              "      <td>104.12</td>\n",
              "      <td>105.83</td>\n",
              "      <td>101.77</td>\n",
              "    </tr>\n",
              "    <tr>\n",
              "      <th>2020-06-01</th>\n",
              "      <td>103.50</td>\n",
              "      <td>103.15</td>\n",
              "      <td>104.50</td>\n",
              "      <td>103.14</td>\n",
              "      <td>104.18</td>\n",
              "      <td>104.40</td>\n",
              "      <td>103.90</td>\n",
              "      <td>104.21</td>\n",
              "      <td>104.23</td>\n",
              "      <td>103.64</td>\n",
              "      <td>103.14</td>\n",
              "      <td>103.54</td>\n",
              "      <td>104.48</td>\n",
              "      <td>103.48</td>\n",
              "      <td>104.27</td>\n",
              "      <td>104.71</td>\n",
              "      <td>103.75</td>\n",
              "      <td>104.32</td>\n",
              "      <td>103.06</td>\n",
              "      <td>104.01</td>\n",
              "      <td>103.52</td>\n",
              "      <td>103.74</td>\n",
              "      <td>104.25</td>\n",
              "      <td>103.73</td>\n",
              "      <td>102.68</td>\n",
              "      <td>103.59</td>\n",
              "      <td>103.84</td>\n",
              "      <td>102.48</td>\n",
              "      <td>102.86</td>\n",
              "      <td>103.51</td>\n",
              "      <td>103.83</td>\n",
              "      <td>103.01</td>\n",
              "      <td>103.34</td>\n",
              "      <td>103.76</td>\n",
              "      <td>103.30</td>\n",
              "      <td>104.56</td>\n",
              "      <td>104.16</td>\n",
              "      <td>104.61</td>\n",
              "      <td>103.78</td>\n",
              "      <td>103.65</td>\n",
              "      <td>104.48</td>\n",
              "      <td>103.46</td>\n",
              "      <td>103.78</td>\n",
              "      <td>102.99</td>\n",
              "      <td>103.04</td>\n",
              "      <td>103.32</td>\n",
              "      <td>103.17</td>\n",
              "      <td>104.18</td>\n",
              "      <td>104.43</td>\n",
              "      <td>104.14</td>\n",
              "      <td>103.13</td>\n",
              "      <td>103.12</td>\n",
              "      <td>103.30</td>\n",
              "      <td>104.81</td>\n",
              "      <td>103.88</td>\n",
              "      <td>104.26</td>\n",
              "      <td>102.99</td>\n",
              "      <td>102.52</td>\n",
              "      <td>103.79</td>\n",
              "      <td>103.65</td>\n",
              "      <td>103.84</td>\n",
              "      <td>103.78</td>\n",
              "      <td>103.44</td>\n",
              "      <td>102.82</td>\n",
              "      <td>104.42</td>\n",
              "      <td>102.49</td>\n",
              "      <td>103.22</td>\n",
              "      <td>103.48</td>\n",
              "      <td>103.20</td>\n",
              "      <td>105.13</td>\n",
              "      <td>104.46</td>\n",
              "      <td>102.69</td>\n",
              "      <td>102.98</td>\n",
              "      <td>103.96</td>\n",
              "      <td>104.83</td>\n",
              "      <td>106.08</td>\n",
              "      <td>104.52</td>\n",
              "      <td>104.03</td>\n",
              "      <td>106.65</td>\n",
              "      <td>102.60</td>\n",
              "    </tr>\n",
              "    <tr>\n",
              "      <th>2020-07-01</th>\n",
              "      <td>103.67</td>\n",
              "      <td>103.46</td>\n",
              "      <td>104.62</td>\n",
              "      <td>103.54</td>\n",
              "      <td>104.24</td>\n",
              "      <td>104.85</td>\n",
              "      <td>104.00</td>\n",
              "      <td>104.27</td>\n",
              "      <td>104.61</td>\n",
              "      <td>104.02</td>\n",
              "      <td>103.39</td>\n",
              "      <td>103.86</td>\n",
              "      <td>104.48</td>\n",
              "      <td>104.07</td>\n",
              "      <td>104.11</td>\n",
              "      <td>104.59</td>\n",
              "      <td>103.57</td>\n",
              "      <td>105.01</td>\n",
              "      <td>103.27</td>\n",
              "      <td>104.66</td>\n",
              "      <td>103.69</td>\n",
              "      <td>103.78</td>\n",
              "      <td>104.56</td>\n",
              "      <td>104.49</td>\n",
              "      <td>103.03</td>\n",
              "      <td>104.28</td>\n",
              "      <td>104.46</td>\n",
              "      <td>102.98</td>\n",
              "      <td>102.97</td>\n",
              "      <td>103.73</td>\n",
              "      <td>104.37</td>\n",
              "      <td>103.11</td>\n",
              "      <td>103.57</td>\n",
              "      <td>104.03</td>\n",
              "      <td>103.45</td>\n",
              "      <td>104.81</td>\n",
              "      <td>104.37</td>\n",
              "      <td>104.60</td>\n",
              "      <td>103.91</td>\n",
              "      <td>103.59</td>\n",
              "      <td>104.60</td>\n",
              "      <td>103.34</td>\n",
              "      <td>103.89</td>\n",
              "      <td>103.23</td>\n",
              "      <td>103.20</td>\n",
              "      <td>103.37</td>\n",
              "      <td>103.33</td>\n",
              "      <td>103.88</td>\n",
              "      <td>104.31</td>\n",
              "      <td>104.24</td>\n",
              "      <td>103.16</td>\n",
              "      <td>103.55</td>\n",
              "      <td>103.96</td>\n",
              "      <td>105.09</td>\n",
              "      <td>104.17</td>\n",
              "      <td>104.22</td>\n",
              "      <td>103.10</td>\n",
              "      <td>102.65</td>\n",
              "      <td>104.19</td>\n",
              "      <td>104.02</td>\n",
              "      <td>104.44</td>\n",
              "      <td>104.19</td>\n",
              "      <td>103.66</td>\n",
              "      <td>103.36</td>\n",
              "      <td>104.38</td>\n",
              "      <td>102.71</td>\n",
              "      <td>103.02</td>\n",
              "      <td>103.54</td>\n",
              "      <td>103.53</td>\n",
              "      <td>105.45</td>\n",
              "      <td>104.99</td>\n",
              "      <td>102.88</td>\n",
              "      <td>103.25</td>\n",
              "      <td>104.35</td>\n",
              "      <td>104.71</td>\n",
              "      <td>106.40</td>\n",
              "      <td>105.17</td>\n",
              "      <td>104.40</td>\n",
              "      <td>106.38</td>\n",
              "      <td>102.76</td>\n",
              "    </tr>\n",
              "    <tr>\n",
              "      <th>2020-08-01</th>\n",
              "      <td>103.88</td>\n",
              "      <td>103.63</td>\n",
              "      <td>104.79</td>\n",
              "      <td>103.91</td>\n",
              "      <td>104.52</td>\n",
              "      <td>105.16</td>\n",
              "      <td>104.46</td>\n",
              "      <td>104.43</td>\n",
              "      <td>104.37</td>\n",
              "      <td>104.31</td>\n",
              "      <td>103.66</td>\n",
              "      <td>104.22</td>\n",
              "      <td>104.62</td>\n",
              "      <td>103.94</td>\n",
              "      <td>104.09</td>\n",
              "      <td>105.12</td>\n",
              "      <td>104.29</td>\n",
              "      <td>105.28</td>\n",
              "      <td>103.52</td>\n",
              "      <td>104.70</td>\n",
              "      <td>103.85</td>\n",
              "      <td>103.51</td>\n",
              "      <td>104.47</td>\n",
              "      <td>105.28</td>\n",
              "      <td>103.08</td>\n",
              "      <td>104.20</td>\n",
              "      <td>104.33</td>\n",
              "      <td>103.56</td>\n",
              "      <td>103.39</td>\n",
              "      <td>103.75</td>\n",
              "      <td>104.13</td>\n",
              "      <td>103.67</td>\n",
              "      <td>103.47</td>\n",
              "      <td>103.99</td>\n",
              "      <td>103.52</td>\n",
              "      <td>105.44</td>\n",
              "      <td>104.45</td>\n",
              "      <td>104.79</td>\n",
              "      <td>104.48</td>\n",
              "      <td>104.10</td>\n",
              "      <td>104.70</td>\n",
              "      <td>103.63</td>\n",
              "      <td>104.27</td>\n",
              "      <td>103.41</td>\n",
              "      <td>103.62</td>\n",
              "      <td>103.34</td>\n",
              "      <td>103.82</td>\n",
              "      <td>103.97</td>\n",
              "      <td>104.41</td>\n",
              "      <td>104.23</td>\n",
              "      <td>103.07</td>\n",
              "      <td>104.02</td>\n",
              "      <td>104.34</td>\n",
              "      <td>105.45</td>\n",
              "      <td>104.55</td>\n",
              "      <td>104.57</td>\n",
              "      <td>103.42</td>\n",
              "      <td>102.85</td>\n",
              "      <td>104.37</td>\n",
              "      <td>104.44</td>\n",
              "      <td>104.25</td>\n",
              "      <td>104.49</td>\n",
              "      <td>104.00</td>\n",
              "      <td>103.37</td>\n",
              "      <td>104.41</td>\n",
              "      <td>102.87</td>\n",
              "      <td>103.27</td>\n",
              "      <td>103.62</td>\n",
              "      <td>103.60</td>\n",
              "      <td>105.34</td>\n",
              "      <td>104.86</td>\n",
              "      <td>102.75</td>\n",
              "      <td>103.51</td>\n",
              "      <td>104.02</td>\n",
              "      <td>104.29</td>\n",
              "      <td>106.19</td>\n",
              "      <td>105.60</td>\n",
              "      <td>104.47</td>\n",
              "      <td>105.60</td>\n",
              "      <td>102.88</td>\n",
              "    </tr>\n",
              "    <tr>\n",
              "      <th>2020-09-01</th>\n",
              "      <td>104.08</td>\n",
              "      <td>104.10</td>\n",
              "      <td>104.52</td>\n",
              "      <td>104.46</td>\n",
              "      <td>104.87</td>\n",
              "      <td>105.34</td>\n",
              "      <td>104.23</td>\n",
              "      <td>104.74</td>\n",
              "      <td>104.36</td>\n",
              "      <td>104.56</td>\n",
              "      <td>103.88</td>\n",
              "      <td>104.25</td>\n",
              "      <td>105.03</td>\n",
              "      <td>103.91</td>\n",
              "      <td>104.42</td>\n",
              "      <td>104.34</td>\n",
              "      <td>104.21</td>\n",
              "      <td>104.92</td>\n",
              "      <td>103.70</td>\n",
              "      <td>104.90</td>\n",
              "      <td>104.53</td>\n",
              "      <td>103.65</td>\n",
              "      <td>104.35</td>\n",
              "      <td>104.64</td>\n",
              "      <td>102.96</td>\n",
              "      <td>104.45</td>\n",
              "      <td>104.35</td>\n",
              "      <td>103.45</td>\n",
              "      <td>103.42</td>\n",
              "      <td>104.76</td>\n",
              "      <td>104.54</td>\n",
              "      <td>104.02</td>\n",
              "      <td>104.14</td>\n",
              "      <td>104.21</td>\n",
              "      <td>103.61</td>\n",
              "      <td>105.48</td>\n",
              "      <td>104.43</td>\n",
              "      <td>105.23</td>\n",
              "      <td>104.99</td>\n",
              "      <td>104.54</td>\n",
              "      <td>104.36</td>\n",
              "      <td>104.18</td>\n",
              "      <td>104.25</td>\n",
              "      <td>103.31</td>\n",
              "      <td>103.98</td>\n",
              "      <td>103.50</td>\n",
              "      <td>103.99</td>\n",
              "      <td>103.91</td>\n",
              "      <td>104.35</td>\n",
              "      <td>104.78</td>\n",
              "      <td>103.42</td>\n",
              "      <td>104.47</td>\n",
              "      <td>104.70</td>\n",
              "      <td>105.98</td>\n",
              "      <td>104.75</td>\n",
              "      <td>104.98</td>\n",
              "      <td>103.87</td>\n",
              "      <td>102.98</td>\n",
              "      <td>104.55</td>\n",
              "      <td>104.34</td>\n",
              "      <td>104.33</td>\n",
              "      <td>105.16</td>\n",
              "      <td>103.95</td>\n",
              "      <td>104.02</td>\n",
              "      <td>104.52</td>\n",
              "      <td>103.53</td>\n",
              "      <td>103.69</td>\n",
              "      <td>103.88</td>\n",
              "      <td>104.09</td>\n",
              "      <td>105.52</td>\n",
              "      <td>104.53</td>\n",
              "      <td>103.50</td>\n",
              "      <td>103.44</td>\n",
              "      <td>104.24</td>\n",
              "      <td>104.44</td>\n",
              "      <td>106.35</td>\n",
              "      <td>105.43</td>\n",
              "      <td>104.55</td>\n",
              "      <td>105.20</td>\n",
              "      <td>102.38</td>\n",
              "    </tr>\n",
              "    <tr>\n",
              "      <th>2020-10-01</th>\n",
              "      <td>104.51</td>\n",
              "      <td>104.51</td>\n",
              "      <td>105.09</td>\n",
              "      <td>104.67</td>\n",
              "      <td>105.61</td>\n",
              "      <td>106.02</td>\n",
              "      <td>105.51</td>\n",
              "      <td>105.15</td>\n",
              "      <td>105.15</td>\n",
              "      <td>104.99</td>\n",
              "      <td>104.55</td>\n",
              "      <td>104.42</td>\n",
              "      <td>105.36</td>\n",
              "      <td>104.53</td>\n",
              "      <td>104.88</td>\n",
              "      <td>104.87</td>\n",
              "      <td>105.05</td>\n",
              "      <td>105.51</td>\n",
              "      <td>103.81</td>\n",
              "      <td>105.58</td>\n",
              "      <td>104.96</td>\n",
              "      <td>103.84</td>\n",
              "      <td>104.32</td>\n",
              "      <td>104.68</td>\n",
              "      <td>103.21</td>\n",
              "      <td>104.34</td>\n",
              "      <td>104.64</td>\n",
              "      <td>104.14</td>\n",
              "      <td>103.75</td>\n",
              "      <td>105.59</td>\n",
              "      <td>105.62</td>\n",
              "      <td>104.53</td>\n",
              "      <td>104.94</td>\n",
              "      <td>105.01</td>\n",
              "      <td>104.27</td>\n",
              "      <td>105.61</td>\n",
              "      <td>104.46</td>\n",
              "      <td>105.45</td>\n",
              "      <td>105.45</td>\n",
              "      <td>105.60</td>\n",
              "      <td>104.91</td>\n",
              "      <td>104.24</td>\n",
              "      <td>104.65</td>\n",
              "      <td>104.28</td>\n",
              "      <td>104.48</td>\n",
              "      <td>104.03</td>\n",
              "      <td>104.76</td>\n",
              "      <td>104.56</td>\n",
              "      <td>104.99</td>\n",
              "      <td>105.39</td>\n",
              "      <td>103.95</td>\n",
              "      <td>105.26</td>\n",
              "      <td>105.11</td>\n",
              "      <td>106.58</td>\n",
              "      <td>105.61</td>\n",
              "      <td>105.35</td>\n",
              "      <td>104.24</td>\n",
              "      <td>103.38</td>\n",
              "      <td>105.03</td>\n",
              "      <td>104.06</td>\n",
              "      <td>104.15</td>\n",
              "      <td>105.46</td>\n",
              "      <td>104.54</td>\n",
              "      <td>104.36</td>\n",
              "      <td>104.62</td>\n",
              "      <td>103.67</td>\n",
              "      <td>104.14</td>\n",
              "      <td>104.52</td>\n",
              "      <td>104.05</td>\n",
              "      <td>105.72</td>\n",
              "      <td>104.66</td>\n",
              "      <td>103.58</td>\n",
              "      <td>103.69</td>\n",
              "      <td>104.63</td>\n",
              "      <td>105.07</td>\n",
              "      <td>106.46</td>\n",
              "      <td>104.80</td>\n",
              "      <td>104.61</td>\n",
              "      <td>105.44</td>\n",
              "      <td>102.41</td>\n",
              "    </tr>\n",
              "  </tbody>\n",
              "</table>\n",
              "</div>"
            ],
            "text/plain": [
              "                RF     BEL     BRY     VLA  ...     MAG     SAK     JEW     CHU\n",
              "date                                        ...                                \n",
              "2019-11-01  103.40  102.67  103.38  103.09  ...  102.37  103.92  105.24  105.06\n",
              "2019-12-01  102.80  102.33  102.93  101.79  ...  102.16  103.98  104.85  104.78\n",
              "2020-01-01  102.29  101.66  101.85  101.70  ...  102.10  104.13  104.96  103.42\n",
              "2020-02-01  102.05  101.60  101.87  101.57  ...  102.95  103.78  104.57  101.66\n",
              "2020-03-01  102.39  101.86  102.67  102.04  ...  103.65  103.84  104.76  101.05\n",
              "2020-04-01  103.18  102.77  103.43  102.96  ...  104.02  104.18  106.08  101.33\n",
              "2020-05-01  103.07  102.95  103.74  102.52  ...  104.36  104.12  105.83  101.77\n",
              "2020-06-01  103.50  103.15  104.50  103.14  ...  104.52  104.03  106.65  102.60\n",
              "2020-07-01  103.67  103.46  104.62  103.54  ...  105.17  104.40  106.38  102.76\n",
              "2020-08-01  103.88  103.63  104.79  103.91  ...  105.60  104.47  105.60  102.88\n",
              "2020-09-01  104.08  104.10  104.52  104.46  ...  105.43  104.55  105.20  102.38\n",
              "2020-10-01  104.51  104.51  105.09  104.67  ...  104.80  104.61  105.44  102.41\n",
              "\n",
              "[12 rows x 80 columns]"
            ]
          },
          "metadata": {
            "tags": []
          },
          "execution_count": 137
        }
      ]
    },
    {
      "cell_type": "code",
      "metadata": {
        "id": "YwOYGv3_UiXk"
      },
      "source": [
        "data = data[reg_names]\r\n",
        "data = data[:data_do]\r\n",
        "data = data.merge(course_m, left_on='date', right_on='date')\r\n",
        "\r\n",
        "data['month'] = pd.DatetimeIndex(data.index).month"
      ],
      "execution_count": 138,
      "outputs": []
    },
    {
      "cell_type": "code",
      "metadata": {
        "colab": {
          "base_uri": "https://localhost:8080/",
          "height": 450
        },
        "id": "H-3S9_LA0qCU",
        "outputId": "6f4543d8-46df-4935-9277-532c84445e86"
      },
      "source": [
        "data"
      ],
      "execution_count": 139,
      "outputs": [
        {
          "output_type": "execute_result",
          "data": {
            "text/html": [
              "<div>\n",
              "<style scoped>\n",
              "    .dataframe tbody tr th:only-of-type {\n",
              "        vertical-align: middle;\n",
              "    }\n",
              "\n",
              "    .dataframe tbody tr th {\n",
              "        vertical-align: top;\n",
              "    }\n",
              "\n",
              "    .dataframe thead th {\n",
              "        text-align: right;\n",
              "    }\n",
              "</style>\n",
              "<table border=\"1\" class=\"dataframe\">\n",
              "  <thead>\n",
              "    <tr style=\"text-align: right;\">\n",
              "      <th></th>\n",
              "      <th>RF</th>\n",
              "      <th>curs</th>\n",
              "      <th>month</th>\n",
              "    </tr>\n",
              "    <tr>\n",
              "      <th>date</th>\n",
              "      <th></th>\n",
              "      <th></th>\n",
              "      <th></th>\n",
              "    </tr>\n",
              "  </thead>\n",
              "  <tbody>\n",
              "    <tr>\n",
              "      <th>2002-01-01</th>\n",
              "      <td>115.34</td>\n",
              "      <td>30.472715</td>\n",
              "      <td>1</td>\n",
              "    </tr>\n",
              "    <tr>\n",
              "      <th>2002-02-01</th>\n",
              "      <td>114.07</td>\n",
              "      <td>30.805700</td>\n",
              "      <td>2</td>\n",
              "    </tr>\n",
              "    <tr>\n",
              "      <th>2002-03-01</th>\n",
              "      <td>112.89</td>\n",
              "      <td>31.064267</td>\n",
              "      <td>3</td>\n",
              "    </tr>\n",
              "    <tr>\n",
              "      <th>2002-04-01</th>\n",
              "      <td>112.09</td>\n",
              "      <td>31.173586</td>\n",
              "      <td>4</td>\n",
              "    </tr>\n",
              "    <tr>\n",
              "      <th>2002-05-01</th>\n",
              "      <td>112.16</td>\n",
              "      <td>31.254884</td>\n",
              "      <td>5</td>\n",
              "    </tr>\n",
              "    <tr>\n",
              "      <th>...</th>\n",
              "      <td>...</td>\n",
              "      <td>...</td>\n",
              "      <td>...</td>\n",
              "    </tr>\n",
              "    <tr>\n",
              "      <th>2019-08-01</th>\n",
              "      <td>104.31</td>\n",
              "      <td>65.587483</td>\n",
              "      <td>8</td>\n",
              "    </tr>\n",
              "    <tr>\n",
              "      <th>2019-09-01</th>\n",
              "      <td>104.03</td>\n",
              "      <td>64.958705</td>\n",
              "      <td>9</td>\n",
              "    </tr>\n",
              "    <tr>\n",
              "      <th>2019-10-01</th>\n",
              "      <td>103.76</td>\n",
              "      <td>64.374991</td>\n",
              "      <td>10</td>\n",
              "    </tr>\n",
              "    <tr>\n",
              "      <th>2019-11-01</th>\n",
              "      <td>103.40</td>\n",
              "      <td>63.867119</td>\n",
              "      <td>11</td>\n",
              "    </tr>\n",
              "    <tr>\n",
              "      <th>2019-12-01</th>\n",
              "      <td>102.80</td>\n",
              "      <td>62.932538</td>\n",
              "      <td>12</td>\n",
              "    </tr>\n",
              "  </tbody>\n",
              "</table>\n",
              "<p>216 rows × 3 columns</p>\n",
              "</div>"
            ],
            "text/plain": [
              "                RF       curs  month\n",
              "date                                \n",
              "2002-01-01  115.34  30.472715      1\n",
              "2002-02-01  114.07  30.805700      2\n",
              "2002-03-01  112.89  31.064267      3\n",
              "2002-04-01  112.09  31.173586      4\n",
              "2002-05-01  112.16  31.254884      5\n",
              "...            ...        ...    ...\n",
              "2019-08-01  104.31  65.587483      8\n",
              "2019-09-01  104.03  64.958705      9\n",
              "2019-10-01  103.76  64.374991     10\n",
              "2019-11-01  103.40  63.867119     11\n",
              "2019-12-01  102.80  62.932538     12\n",
              "\n",
              "[216 rows x 3 columns]"
            ]
          },
          "metadata": {
            "tags": []
          },
          "execution_count": 139
        }
      ]
    },
    {
      "cell_type": "markdown",
      "metadata": {
        "id": "8Mmg2xE8jhm5"
      },
      "source": [
        "# **ARIMAX**"
      ]
    },
    {
      "cell_type": "code",
      "metadata": {
        "id": "r-94GCGekGuj"
      },
      "source": [
        "train = data[data.index < train_do]\r\n",
        "test = data[data.index >= train_do]\r\n"
      ],
      "execution_count": 140,
      "outputs": []
    },
    {
      "cell_type": "code",
      "metadata": {
        "id": "zRMi-svHoOlJ"
      },
      "source": [
        "!pip install pmdarima -q\r\n",
        "from pmdarima.arima import ADFTest\r\n",
        "from pmdarima.arima import auto_arima"
      ],
      "execution_count": 141,
      "outputs": []
    },
    {
      "cell_type": "code",
      "metadata": {
        "id": "4_ptxJrv1ikp"
      },
      "source": [
        "exogenous_features = ['month', 'curs']\r\n"
      ],
      "execution_count": 142,
      "outputs": []
    },
    {
      "cell_type": "code",
      "metadata": {
        "colab": {
          "base_uri": "https://localhost:8080/"
        },
        "id": "rV3tzZWSoa9n",
        "outputId": "dc1cde3f-13d1-4a10-8445-f42734873ee2"
      },
      "source": [
        "  # find best params for ARIMA\r\n",
        "  stepwise_model = auto_arima(train[reg_names], start_p=1, start_q=1, max_p=3, max_q=3, m=12, start_P=0, seasonal=False, \\\r\n",
        "                              d=1, D=1, trace=True, error_action='ignore', suppress_warnings=True, stepwise=True)\r\n",
        "\r\n",
        "\"\"\"  stepwise_model = auto_arima(train[reg_names], start_p=1, start_q=1, max_p=3, max_q=3, m=1, start_P=0, seasonal=True, \\\r\n",
        "                              d=1, D=1, trace=True, error_action='ignore', suppress_warnings=True, stepwise=True, \\\r\n",
        "                              out_of_sample_size = test.shape[0], scoring = 'mse', information_criterion = 'oob')\r\n",
        "  \r\n",
        "stepwise_model = auto_arima(train_data['cpi_sfo'], start_p=1, start_q=1, max_p=3, max_q=3, m=1, start_P=0, seasonal=True,\r\n",
        "                           d=1, D=1, trace=True, error_action='ignore', suppress_warnings=True, stepwise=True)\r\n",
        "\"\"\"\r\n",
        "\r\n",
        "stepwise_model.fit(train[reg_names])\r\n",
        "future_forecast = stepwise_model.predict(n_periods=test.shape[0])\r\n",
        "future_forecast = pd.DataFrame(future_forecast, index = test.index, columns=[reg_names])\r\n"
      ],
      "execution_count": 143,
      "outputs": [
        {
          "output_type": "stream",
          "text": [
            "/usr/local/lib/python3.6/dist-packages/pmdarima/arima/_validation.py:62: UserWarning: m (12) set for non-seasonal fit. Setting to 0\n",
            "  warnings.warn(\"m (%i) set for non-seasonal fit. Setting to 0\" % m)\n"
          ],
          "name": "stderr"
        },
        {
          "output_type": "stream",
          "text": [
            "Performing stepwise search to minimize aic\n",
            " ARIMA(1,1,1)(0,0,0)[0] intercept   : AIC=347.114, Time=0.09 sec\n",
            " ARIMA(0,1,0)(0,0,0)[0] intercept   : AIC=478.952, Time=0.08 sec\n",
            " ARIMA(1,1,0)(0,0,0)[0] intercept   : AIC=360.560, Time=0.07 sec\n",
            " ARIMA(0,1,1)(0,0,0)[0] intercept   : AIC=369.753, Time=0.09 sec\n",
            " ARIMA(0,1,0)(0,0,0)[0]             : AIC=477.987, Time=0.02 sec\n",
            " ARIMA(2,1,1)(0,0,0)[0] intercept   : AIC=349.016, Time=0.13 sec\n",
            " ARIMA(1,1,2)(0,0,0)[0] intercept   : AIC=348.838, Time=0.17 sec\n",
            " ARIMA(0,1,2)(0,0,0)[0] intercept   : AIC=347.545, Time=0.09 sec\n",
            " ARIMA(2,1,0)(0,0,0)[0] intercept   : AIC=349.720, Time=0.09 sec\n",
            " ARIMA(2,1,2)(0,0,0)[0] intercept   : AIC=347.584, Time=0.46 sec\n",
            " ARIMA(1,1,1)(0,0,0)[0]             : AIC=345.538, Time=0.06 sec\n",
            " ARIMA(0,1,1)(0,0,0)[0]             : AIC=368.535, Time=0.05 sec\n",
            " ARIMA(1,1,0)(0,0,0)[0]             : AIC=358.899, Time=0.03 sec\n",
            " ARIMA(2,1,1)(0,0,0)[0]             : AIC=347.448, Time=0.08 sec\n",
            " ARIMA(1,1,2)(0,0,0)[0]             : AIC=347.284, Time=0.16 sec\n",
            " ARIMA(0,1,2)(0,0,0)[0]             : AIC=346.052, Time=0.04 sec\n",
            " ARIMA(2,1,0)(0,0,0)[0]             : AIC=348.167, Time=0.04 sec\n",
            " ARIMA(2,1,2)(0,0,0)[0]             : AIC=346.033, Time=0.24 sec\n",
            "\n",
            "Best model:  ARIMA(1,1,1)(0,0,0)[0]          \n",
            "Total fit time: 2.009 seconds\n"
          ],
          "name": "stdout"
        }
      ]
    },
    {
      "cell_type": "code",
      "metadata": {
        "colab": {
          "base_uri": "https://localhost:8080/",
          "height": 299
        },
        "id": "lAe-Ho3ROaYo",
        "outputId": "bb4e111a-9a31-48df-cac6-84823d23ec25"
      },
      "source": [
        "plt.plot(test[reg_names])\r\n",
        "plt.plot(future_forecast[reg_names])\r\n",
        "\r\n",
        "print('rmse: {:.4f}'.format(mean_squared_error(test[reg_names].values, future_forecast[reg_names].values) ** 0.5))\r\n",
        "print('normed rmse: {:.4f}%'.format(mean_squared_error(test[reg_names].values, future_forecast[reg_names].values) ** 0.5 / \r\n",
        "                                    np.mean(test[reg_names].values) * 100))"
      ],
      "execution_count": 144,
      "outputs": [
        {
          "output_type": "stream",
          "text": [
            "rmse: 0.4520\n",
            "normed rmse: 0.4367%\n"
          ],
          "name": "stdout"
        },
        {
          "output_type": "display_data",
          "data": {
            "image/png": "[encoded data removed]",
            "text/plain": [
              "<Figure size 432x288 with 1 Axes>"
            ]
          },
          "metadata": {
            "tags": [],
            "needs_background": "light"
          }
        }
      ]
    },
    {
      "cell_type": "code",
      "metadata": {
        "colab": {
          "base_uri": "https://localhost:8080/"
        },
        "id": "2UvwqI5NNCgJ",
        "outputId": "f49f0651-633c-4442-ab11-5c4879110bc8"
      },
      "source": [
        "# find best params for ARIMAX\r\n",
        "stepwise_model = auto_arima(train[reg_names], exogenous = train[exogenous_features], start_p=1, start_q=1, \r\n",
        "                            max_p=4, max_q=4, m=12, start_P=0, seasonal=False,\r\n",
        "                            d=1, D=1, trace=True, error_action='ignore', suppress_warnings=True, stepwise=True)\r\n",
        "  \r\n",
        "stepwise_model.fit(train[reg_names], exogenous = train[exogenous_features])\r\n",
        "future_forecast = stepwise_model.predict(n_periods=test.shape[0], exogenous = test[exogenous_features])\r\n",
        "future_forecast = pd.DataFrame(future_forecast, index = test.index, columns=[reg_names])"
      ],
      "execution_count": 145,
      "outputs": [
        {
          "output_type": "stream",
          "text": [
            "/usr/local/lib/python3.6/dist-packages/pmdarima/arima/_validation.py:62: UserWarning: m (12) set for non-seasonal fit. Setting to 0\n",
            "  warnings.warn(\"m (%i) set for non-seasonal fit. Setting to 0\" % m)\n"
          ],
          "name": "stderr"
        },
        {
          "output_type": "stream",
          "text": [
            "Performing stepwise search to minimize aic\n",
            " ARIMA(1,1,1)(0,0,0)[0] intercept   : AIC=350.692, Time=0.20 sec\n",
            " ARIMA(0,1,0)(0,0,0)[0] intercept   : AIC=479.136, Time=0.10 sec\n",
            " ARIMA(1,1,0)(0,0,0)[0] intercept   : AIC=363.892, Time=0.11 sec\n",
            " ARIMA(0,1,1)(0,0,0)[0] intercept   : AIC=372.588, Time=0.21 sec\n",
            " ARIMA(0,1,0)(0,0,0)[0]             : AIC=478.581, Time=0.13 sec\n",
            " ARIMA(2,1,1)(0,0,0)[0] intercept   : AIC=352.612, Time=0.35 sec\n",
            " ARIMA(1,1,2)(0,0,0)[0] intercept   : AIC=352.460, Time=0.45 sec\n",
            " ARIMA(0,1,2)(0,0,0)[0] intercept   : AIC=351.156, Time=0.20 sec\n",
            " ARIMA(2,1,0)(0,0,0)[0] intercept   : AIC=353.366, Time=0.21 sec\n",
            " ARIMA(2,1,2)(0,0,0)[0] intercept   : AIC=351.309, Time=0.89 sec\n",
            " ARIMA(1,1,1)(0,0,0)[0]             : AIC=349.151, Time=0.17 sec\n",
            " ARIMA(0,1,1)(0,0,0)[0]             : AIC=371.505, Time=0.18 sec\n",
            " ARIMA(1,1,0)(0,0,0)[0]             : AIC=362.272, Time=0.14 sec\n",
            " ARIMA(2,1,1)(0,0,0)[0]             : AIC=351.078, Time=0.28 sec\n",
            " ARIMA(1,1,2)(0,0,0)[0]             : AIC=350.939, Time=0.38 sec\n",
            " ARIMA(0,1,2)(0,0,0)[0]             : AIC=349.708, Time=0.15 sec\n",
            " ARIMA(2,1,0)(0,0,0)[0]             : AIC=351.846, Time=0.33 sec\n",
            " ARIMA(2,1,2)(0,0,0)[0]             : AIC=353.151, Time=0.24 sec\n",
            "\n",
            "Best model:  ARIMA(1,1,1)(0,0,0)[0]          \n",
            "Total fit time: 4.743 seconds\n"
          ],
          "name": "stdout"
        }
      ]
    },
    {
      "cell_type": "code",
      "metadata": {
        "colab": {
          "base_uri": "https://localhost:8080/",
          "height": 299
        },
        "id": "xkuYpLrt4uxj",
        "outputId": "75a81ed0-d78b-436c-ea5f-0c64ff79c025"
      },
      "source": [
        "plt.plot(test[reg_names])\r\n",
        "plt.plot(future_forecast[reg_names])\r\n",
        "\r\n",
        "print('rmse: {:.4f}'.format(mean_squared_error(test[reg_names].values, future_forecast[reg_names].values) ** 0.5))\r\n",
        "print('normed rmse: {:.4f}%'.format(mean_squared_error(test[reg_names].values, future_forecast[reg_names].values) ** 0.5 / \r\n",
        "                                    np.mean(test[reg_names].values) * 100))"
      ],
      "execution_count": 146,
      "outputs": [
        {
          "output_type": "stream",
          "text": [
            "rmse: 0.4206\n",
            "normed rmse: 0.4064%\n"
          ],
          "name": "stdout"
        },
        {
          "output_type": "display_data",
          "data": {
            "image/png": "[encoded data removed]",
            "text/plain": [
              "<Figure size 432x288 with 1 Axes>"
            ]
          },
          "metadata": {
            "tags": [],
            "needs_background": "light"
          }
        }
      ]
    },
    {
      "cell_type": "code",
      "metadata": {
        "colab": {
          "base_uri": "https://localhost:8080/",
          "height": 450
        },
        "id": "Bn2o2WJxoC9V",
        "outputId": "b30e109c-01e8-4b92-f775-4af93c187929"
      },
      "source": [
        "data_lags = pd.DataFrame()\r\n",
        "\r\n",
        "data_lags['curs'] = data['curs'].values\r\n",
        "data_lags['t'] = data[reg_names].values\r\n",
        "for i in {1, 6, 12}:\r\n",
        "    data_lags['t-'+str(i)] = data[reg_names].shift(i).values\r\n",
        "    \r\n",
        "data_lags.index = data.index\r\n",
        "data_lags = data_lags[12:]\r\n",
        "data_lags['month'] = pd.DatetimeIndex(data_lags.index).month\r\n",
        "data_lags"
      ],
      "execution_count": 154,
      "outputs": [
        {
          "output_type": "execute_result",
          "data": {
            "text/html": [
              "<div>\n",
              "<style scoped>\n",
              "    .dataframe tbody tr th:only-of-type {\n",
              "        vertical-align: middle;\n",
              "    }\n",
              "\n",
              "    .dataframe tbody tr th {\n",
              "        vertical-align: top;\n",
              "    }\n",
              "\n",
              "    .dataframe thead th {\n",
              "        text-align: right;\n",
              "    }\n",
              "</style>\n",
              "<table border=\"1\" class=\"dataframe\">\n",
              "  <thead>\n",
              "    <tr style=\"text-align: right;\">\n",
              "      <th></th>\n",
              "      <th>curs</th>\n",
              "      <th>t</th>\n",
              "      <th>t-1</th>\n",
              "      <th>t-12</th>\n",
              "      <th>t-6</th>\n",
              "      <th>month</th>\n",
              "    </tr>\n",
              "    <tr>\n",
              "      <th>date</th>\n",
              "      <th></th>\n",
              "      <th></th>\n",
              "      <th></th>\n",
              "      <th></th>\n",
              "      <th></th>\n",
              "      <th></th>\n",
              "    </tr>\n",
              "  </thead>\n",
              "  <tbody>\n",
              "    <tr>\n",
              "      <th>2003-01-01</th>\n",
              "      <td>31.816165</td>\n",
              "      <td>110.65</td>\n",
              "      <td>110.93</td>\n",
              "      <td>115.34</td>\n",
              "      <td>111.38</td>\n",
              "      <td>1</td>\n",
              "    </tr>\n",
              "    <tr>\n",
              "      <th>2003-02-01</th>\n",
              "      <td>31.698979</td>\n",
              "      <td>110.92</td>\n",
              "      <td>110.65</td>\n",
              "      <td>114.07</td>\n",
              "      <td>111.34</td>\n",
              "      <td>2</td>\n",
              "    </tr>\n",
              "    <tr>\n",
              "      <th>2003-03-01</th>\n",
              "      <td>31.453290</td>\n",
              "      <td>111.34</td>\n",
              "      <td>110.92</td>\n",
              "      <td>112.89</td>\n",
              "      <td>110.91</td>\n",
              "      <td>3</td>\n",
              "    </tr>\n",
              "    <tr>\n",
              "      <th>2003-04-01</th>\n",
              "      <td>31.211786</td>\n",
              "      <td>111.28</td>\n",
              "      <td>111.34</td>\n",
              "      <td>112.09</td>\n",
              "      <td>110.67</td>\n",
              "      <td>4</td>\n",
              "    </tr>\n",
              "    <tr>\n",
              "      <th>2003-05-01</th>\n",
              "      <td>30.907055</td>\n",
              "      <td>109.97</td>\n",
              "      <td>111.28</td>\n",
              "      <td>112.16</td>\n",
              "      <td>110.93</td>\n",
              "      <td>5</td>\n",
              "    </tr>\n",
              "    <tr>\n",
              "      <th>...</th>\n",
              "      <td>...</td>\n",
              "      <td>...</td>\n",
              "      <td>...</td>\n",
              "      <td>...</td>\n",
              "      <td>...</td>\n",
              "      <td>...</td>\n",
              "    </tr>\n",
              "    <tr>\n",
              "      <th>2019-08-01</th>\n",
              "      <td>65.587483</td>\n",
              "      <td>104.31</td>\n",
              "      <td>104.64</td>\n",
              "      <td>102.85</td>\n",
              "      <td>105.29</td>\n",
              "      <td>8</td>\n",
              "    </tr>\n",
              "    <tr>\n",
              "      <th>2019-09-01</th>\n",
              "      <td>64.958705</td>\n",
              "      <td>104.03</td>\n",
              "      <td>104.31</td>\n",
              "      <td>103.22</td>\n",
              "      <td>105.35</td>\n",
              "      <td>9</td>\n",
              "    </tr>\n",
              "    <tr>\n",
              "      <th>2019-10-01</th>\n",
              "      <td>64.374991</td>\n",
              "      <td>103.76</td>\n",
              "      <td>104.03</td>\n",
              "      <td>103.39</td>\n",
              "      <td>105.28</td>\n",
              "      <td>10</td>\n",
              "    </tr>\n",
              "    <tr>\n",
              "      <th>2019-11-01</th>\n",
              "      <td>63.867119</td>\n",
              "      <td>103.40</td>\n",
              "      <td>103.76</td>\n",
              "      <td>103.85</td>\n",
              "      <td>105.19</td>\n",
              "      <td>11</td>\n",
              "    </tr>\n",
              "    <tr>\n",
              "      <th>2019-12-01</th>\n",
              "      <td>62.932538</td>\n",
              "      <td>102.80</td>\n",
              "      <td>103.40</td>\n",
              "      <td>104.39</td>\n",
              "      <td>104.59</td>\n",
              "      <td>12</td>\n",
              "    </tr>\n",
              "  </tbody>\n",
              "</table>\n",
              "<p>204 rows × 6 columns</p>\n",
              "</div>"
            ],
            "text/plain": [
              "                 curs       t     t-1    t-12     t-6  month\n",
              "date                                                        \n",
              "2003-01-01  31.816165  110.65  110.93  115.34  111.38      1\n",
              "2003-02-01  31.698979  110.92  110.65  114.07  111.34      2\n",
              "2003-03-01  31.453290  111.34  110.92  112.89  110.91      3\n",
              "2003-04-01  31.211786  111.28  111.34  112.09  110.67      4\n",
              "2003-05-01  30.907055  109.97  111.28  112.16  110.93      5\n",
              "...               ...     ...     ...     ...     ...    ...\n",
              "2019-08-01  65.587483  104.31  104.64  102.85  105.29      8\n",
              "2019-09-01  64.958705  104.03  104.31  103.22  105.35      9\n",
              "2019-10-01  64.374991  103.76  104.03  103.39  105.28     10\n",
              "2019-11-01  63.867119  103.40  103.76  103.85  105.19     11\n",
              "2019-12-01  62.932538  102.80  103.40  104.39  104.59     12\n",
              "\n",
              "[204 rows x 6 columns]"
            ]
          },
          "metadata": {
            "tags": []
          },
          "execution_count": 154
        }
      ]
    },
    {
      "cell_type": "code",
      "metadata": {
        "id": "RLQP6-DzVw_1"
      },
      "source": [
        "df=data_lags\r\n",
        "df.reset_index(drop=False, inplace=True)\r\n",
        "lag_features = [\"t\", \"curs\"]\r\n",
        "window1 = 3\r\n",
        "window2 = 6\r\n",
        "window3 = 12\r\n",
        "\r\n",
        "df_rolled_3m = df[lag_features].rolling(window=window1, min_periods=0)\r\n",
        "df_rolled_6m = df[lag_features].rolling(window=window2, min_periods=0)\r\n",
        "df_rolled_12m = df[lag_features].rolling(window=window3, min_periods=0)\r\n",
        "\r\n",
        "df_mean_3m = df_rolled_3m.mean().shift(1).reset_index().astype(np.float32)\r\n",
        "df_mean_6m = df_rolled_6m.mean().shift(1).reset_index().astype(np.float32)\r\n",
        "df_mean_12m = df_rolled_12m.mean().shift(1).reset_index().astype(np.float32)\r\n",
        "\r\n",
        "df_std_3m = df_rolled_3m.std().shift(1).reset_index().astype(np.float32)\r\n",
        "df_std_6m = df_rolled_6m.std().shift(1).reset_index().astype(np.float32)\r\n",
        "df_std_12m = df_rolled_12m.std().shift(1).reset_index().astype(np.float32)\r\n",
        "\r\n",
        "for feature in lag_features:\r\n",
        "    df[f\"{feature}_mean_lag{window1}\"] = df_mean_3m[feature]\r\n",
        "    df[f\"{feature}_mean_lag{window2}\"] = df_mean_6m[feature]\r\n",
        "    df[f\"{feature}_mean_lag{window3}\"] = df_mean_12m[feature]\r\n",
        "    \r\n",
        "    df[f\"{feature}_std_lag{window1}\"] = df_std_3m[feature]\r\n",
        "    df[f\"{feature}_std_lag{window2}\"] = df_std_6m[feature]\r\n",
        "    df[f\"{feature}_std_lag{window3}\"] = df_std_12m[feature]\r\n",
        "\r\n",
        "df.fillna(df.mean(), inplace=True)\r\n",
        "\r\n",
        "df.set_index(\"date\", drop=True, inplace=True)\r\n",
        "df.head(12)"
      ],
      "execution_count": null,
      "outputs": []
    },
    {
      "cell_type": "code",
      "metadata": {
        "colab": {
          "base_uri": "https://localhost:8080/",
          "height": 459
        },
        "id": "J8lhLmoUio5b",
        "outputId": "9caa1024-fec3-4d30-83fb-3ffa8c8781ae"
      },
      "source": [
        "df.t.plot(figsize=(14, 7))"
      ],
      "execution_count": 156,
      "outputs": [
        {
          "output_type": "execute_result",
          "data": {
            "text/plain": [
              "<matplotlib.axes._subplots.AxesSubplot at 0x7fa840a3ada0>"
            ]
          },
          "metadata": {
            "tags": []
          },
          "execution_count": 156
        },
        {
          "output_type": "display_data",
          "data": {
            "image/png": "[encoded data removed]",
            "text/plain": [
              "<Figure size 1008x504 with 1 Axes>"
            ]
          },
          "metadata": {
            "tags": [],
            "needs_background": "light"
          }
        }
      ]
    },
    {
      "cell_type": "code",
      "metadata": {
        "id": "1uEM65WhngmI"
      },
      "source": [
        "data = df\r\n",
        "data_not = data.drop('t', axis=1)\r\n",
        "train = data[data.index < train_do]\r\n",
        "test = data[data.index >= train_do]\r\n",
        "\r\n",
        "X_train = train[['month'] + ['curs'] + ['curs-1'] + ['t-{}'.format(month) for month in range(1,13)]].values\r\n",
        "y_train = train[['t']].values.ravel()\r\n",
        "X_test = test[['month'] + ['curs'] + ['curs-1'] + ['t-{}'.format(month) for month in range(1,13)]].values\r\n",
        "y_test = test[['t']].values.ravel()"
      ],
      "execution_count": 18,
      "outputs": []
    },
    {
      "cell_type": "markdown",
      "metadata": {
        "id": "5mRIBbaHJa7p"
      },
      "source": [
        "# **KNeighborsRegressor**"
      ]
    },
    {
      "cell_type": "code",
      "metadata": {
        "id": "Cr39fmAAjekq",
        "colab": {
          "base_uri": "https://localhost:8080/"
        },
        "outputId": "0331713b-d9c1-47ae-d843-e04d36ee9781"
      },
      "source": [
        "!pip install mglearn -q"
      ],
      "execution_count": 19,
      "outputs": [
        {
          "output_type": "stream",
          "text": [
            "\u001b[?25l\r\u001b[K     |▋                               | 10kB 20.5MB/s eta 0:00:01\r\u001b[K     |█▏                              | 20kB 14.4MB/s eta 0:00:01\r\u001b[K     |█▉                              | 30kB 9.7MB/s eta 0:00:01\r\u001b[K     |██▍                             | 40kB 8.5MB/s eta 0:00:01\r\u001b[K     |███                             | 51kB 5.1MB/s eta 0:00:01\r\u001b[K     |███▋                            | 61kB 5.7MB/s eta 0:00:01\r\u001b[K     |████▎                           | 71kB 5.8MB/s eta 0:00:01\r\u001b[K     |████▉                           | 81kB 6.2MB/s eta 0:00:01\r\u001b[K     |█████▌                          | 92kB 5.8MB/s eta 0:00:01\r\u001b[K     |██████                          | 102kB 6.3MB/s eta 0:00:01\r\u001b[K     |██████▊                         | 112kB 6.3MB/s eta 0:00:01\r\u001b[K     |███████▎                        | 122kB 6.3MB/s eta 0:00:01\r\u001b[K     |███████▉                        | 133kB 6.3MB/s eta 0:00:01\r\u001b[K     |████████▌                       | 143kB 6.3MB/s eta 0:00:01\r\u001b[K     |█████████                       | 153kB 6.3MB/s eta 0:00:01\r\u001b[K     |█████████▊                      | 163kB 6.3MB/s eta 0:00:01\r\u001b[K     |██████████▎                     | 174kB 6.3MB/s eta 0:00:01\r\u001b[K     |███████████                     | 184kB 6.3MB/s eta 0:00:01\r\u001b[K     |███████████▌                    | 194kB 6.3MB/s eta 0:00:01\r\u001b[K     |████████████▏                   | 204kB 6.3MB/s eta 0:00:01\r\u001b[K     |████████████▊                   | 215kB 6.3MB/s eta 0:00:01\r\u001b[K     |█████████████▍                  | 225kB 6.3MB/s eta 0:00:01\r\u001b[K     |██████████████                  | 235kB 6.3MB/s eta 0:00:01\r\u001b[K     |██████████████▋                 | 245kB 6.3MB/s eta 0:00:01\r\u001b[K     |███████████████▏                | 256kB 6.3MB/s eta 0:00:01\r\u001b[K     |███████████████▊                | 266kB 6.3MB/s eta 0:00:01\r\u001b[K     |████████████████▍               | 276kB 6.3MB/s eta 0:00:01\r\u001b[K     |█████████████████               | 286kB 6.3MB/s eta 0:00:01\r\u001b[K     |█████████████████▋              | 296kB 6.3MB/s eta 0:00:01\r\u001b[K     |██████████████████▏             | 307kB 6.3MB/s eta 0:00:01\r\u001b[K     |██████████████████▉             | 317kB 6.3MB/s eta 0:00:01\r\u001b[K     |███████████████████▍            | 327kB 6.3MB/s eta 0:00:01\r\u001b[K     |████████████████████            | 337kB 6.3MB/s eta 0:00:01\r\u001b[K     |████████████████████▋           | 348kB 6.3MB/s eta 0:00:01\r\u001b[K     |█████████████████████▎          | 358kB 6.3MB/s eta 0:00:01\r\u001b[K     |█████████████████████▉          | 368kB 6.3MB/s eta 0:00:01\r\u001b[K     |██████████████████████▌         | 378kB 6.3MB/s eta 0:00:01\r\u001b[K     |███████████████████████         | 389kB 6.3MB/s eta 0:00:01\r\u001b[K     |███████████████████████▋        | 399kB 6.3MB/s eta 0:00:01\r\u001b[K     |████████████████████████▎       | 409kB 6.3MB/s eta 0:00:01\r\u001b[K     |████████████████████████▉       | 419kB 6.3MB/s eta 0:00:01\r\u001b[K     |█████████████████████████▌      | 430kB 6.3MB/s eta 0:00:01\r\u001b[K     |██████████████████████████      | 440kB 6.3MB/s eta 0:00:01\r\u001b[K     |██████████████████████████▊     | 450kB 6.3MB/s eta 0:00:01\r\u001b[K     |███████████████████████████▎    | 460kB 6.3MB/s eta 0:00:01\r\u001b[K     |████████████████████████████    | 471kB 6.3MB/s eta 0:00:01\r\u001b[K     |████████████████████████████▌   | 481kB 6.3MB/s eta 0:00:01\r\u001b[K     |█████████████████████████████▏  | 491kB 6.3MB/s eta 0:00:01\r\u001b[K     |█████████████████████████████▊  | 501kB 6.3MB/s eta 0:00:01\r\u001b[K     |██████████████████████████████▍ | 512kB 6.3MB/s eta 0:00:01\r\u001b[K     |███████████████████████████████ | 522kB 6.3MB/s eta 0:00:01\r\u001b[K     |███████████████████████████████▌| 532kB 6.3MB/s eta 0:00:01\r\u001b[K     |████████████████████████████████| 542kB 6.3MB/s \n",
            "\u001b[?25h  Building wheel for mglearn (setup.py) ... \u001b[?25l\u001b[?25hdone\n"
          ],
          "name": "stdout"
        }
      ]
    },
    {
      "cell_type": "code",
      "metadata": {
        "colab": {
          "base_uri": "https://localhost:8080/"
        },
        "id": "RYnAr54VJd14",
        "outputId": "328dbe4b-e9bd-4a90-b61e-98f7d4ad8862"
      },
      "source": [
        "from sklearn.datasets import make_blobs\r\n",
        "import mglearn\r\n",
        "from sklearn.neighbors import KNeighborsRegressor\r\n",
        "\r\n",
        "# instantiate the model \r\n",
        "KNmodel = KNeighborsRegressor(n_neighbors=7)\r\n",
        "# fit the model using the training data and training targets\r\n",
        "KNmodel.fit(X_train, y_train)\r\n",
        "\r\n",
        "print(\"Training set score: {:.2f}\".format(KNmodel.score(X_train, y_train)))\r\n",
        "print(\"Test set score: {:.2f}\".format(KNmodel.score(X_test, y_test)))\r\n",
        "\r\n",
        "forecast = KNmodel.predict(X_test)\r\n",
        "print('rmse: {:.4f}'.format(mean_squared_error(y_test, forecast) ** 0.5))\r\n",
        "print('normed rmse: {:.4f}%'.format(mean_squared_error(y_test, forecast) ** 0.5 / np.mean(y_test) * 100))"
      ],
      "execution_count": 20,
      "outputs": [
        {
          "output_type": "stream",
          "text": [
            "Training set score: 0.91\n",
            "Test set score: -0.23\n",
            "rmse: 0.5111\n",
            "normed rmse: 0.4939%\n"
          ],
          "name": "stdout"
        }
      ]
    },
    {
      "cell_type": "markdown",
      "metadata": {
        "id": "jjRQP9EcnxYm"
      },
      "source": [
        "# **OLS**"
      ]
    },
    {
      "cell_type": "code",
      "metadata": {
        "colab": {
          "base_uri": "https://localhost:8080/"
        },
        "id": "nLGb05AdnrJU",
        "outputId": "92ff8204-b710-4431-ec32-7b6e99c53157"
      },
      "source": [
        "from sklearn.linear_model import LinearRegression\r\n",
        "lr = LinearRegression().fit(X_train, y_train)\r\n",
        "print(\"Training set score: {:.2f}\".format(lr.score(X_train, y_train)))\r\n",
        "print(\"Test set score: {:.2f}\".format(lr.score(X_test, y_test)))\r\n",
        "\r\n",
        "forecast = lr.predict(X_test)\r\n",
        "print('rmse: {:.4f}'.format(mean_squared_error(y_test, forecast) ** 0.5))\r\n",
        "print('normed rmse: {:.4f}%'.format(mean_squared_error(y_test, forecast) ** 0.5 / np.mean(y_test) * 100))"
      ],
      "execution_count": 21,
      "outputs": [
        {
          "output_type": "stream",
          "text": [
            "Training set score: 0.98\n",
            "Test set score: 0.93\n",
            "rmse: 0.1225\n",
            "normed rmse: 0.1183%\n"
          ],
          "name": "stdout"
        }
      ]
    },
    {
      "cell_type": "markdown",
      "metadata": {
        "id": "yYAfTf3Vp6On"
      },
      "source": [
        "# **Ridge (l2-regularisation)**"
      ]
    },
    {
      "cell_type": "code",
      "metadata": {
        "colab": {
          "base_uri": "https://localhost:8080/"
        },
        "id": "73rpSCnsp87U",
        "outputId": "2f386a85-f5b4-48ab-e876-b769d1e806c0"
      },
      "source": [
        "from sklearn.linear_model import Ridge\r\n",
        "\r\n",
        "ridge = Ridge().fit(X_train, y_train)\r\n",
        "print(\"Training set score: {:.2f}\".format(ridge.score(X_train, y_train)))\r\n",
        "print(\"Test set score: {:.2f}\".format(ridge.score(X_test, y_test)))\r\n",
        "\r\n",
        "forecast = ridge.predict(X_test)\r\n",
        "print('rmse: {:.2f}'.format(mean_squared_error(y_test, forecast) ** 0.5))\r\n",
        "print('normed rmse: {:.2f}%'.format(mean_squared_error(y_test, forecast) ** 0.5 / np.mean(y_test) * 100))"
      ],
      "execution_count": 22,
      "outputs": [
        {
          "output_type": "stream",
          "text": [
            "Training set score: 0.98\n",
            "Test set score: 0.94\n",
            "rmse: 0.11\n",
            "normed rmse: 0.11%\n"
          ],
          "name": "stdout"
        }
      ]
    },
    {
      "cell_type": "code",
      "metadata": {
        "colab": {
          "base_uri": "https://localhost:8080/"
        },
        "id": "JyKRs97OqziG",
        "outputId": "62d39966-bcfb-4291-e487-122e9a001d54"
      },
      "source": [
        "ridge10 = Ridge(alpha=10).fit(X_train, y_train)\r\n",
        "print(\"Training set score: {:.2f}\".format(ridge10.score(X_train, y_train)))\r\n",
        "print(\"Test set score: {:.2f}\".format(ridge10.score(X_test, y_test)))\r\n",
        "\r\n",
        "forecast = ridge10.predict(X_test)\r\n",
        "print('rmse: {:.2f}'.format(mean_squared_error(y_test, forecast) ** 0.5))\r\n",
        "print('normed rmse: {:.2f}%'.format(mean_squared_error(y_test, forecast) ** 0.5 / np.mean(y_test) * 100))"
      ],
      "execution_count": 23,
      "outputs": [
        {
          "output_type": "stream",
          "text": [
            "Training set score: 0.98\n",
            "Test set score: 0.80\n",
            "rmse: 0.21\n",
            "normed rmse: 0.20%\n"
          ],
          "name": "stdout"
        }
      ]
    },
    {
      "cell_type": "code",
      "metadata": {
        "colab": {
          "base_uri": "https://localhost:8080/"
        },
        "id": "XaKIG-E2q6NA",
        "outputId": "50414d66-b72e-46c8-981d-01dc347fbf9d"
      },
      "source": [
        "ridge01 = Ridge(alpha=0.1).fit(X_train, y_train)\r\n",
        "print(\"Training set score: {:.2f}\".format(ridge01.score(X_train, y_train)))\r\n",
        "print(\"Test set score: {:.2f}\".format(ridge01.score(X_test, y_test)))\r\n",
        "\r\n",
        "forecast = ridge10.predict(X_test)\r\n",
        "print('rmse: {:.2f}'.format(mean_squared_error(y_test, forecast) ** 0.5))\r\n",
        "print('normed rmse: {:.2f}%'.format(mean_squared_error(y_test, forecast) ** 0.5 / np.mean(y_test) * 100))"
      ],
      "execution_count": 24,
      "outputs": [
        {
          "output_type": "stream",
          "text": [
            "Training set score: 0.98\n",
            "Test set score: 0.93\n",
            "rmse: 0.21\n",
            "normed rmse: 0.20%\n"
          ],
          "name": "stdout"
        }
      ]
    },
    {
      "cell_type": "markdown",
      "metadata": {
        "id": "6zMFKLQuvvb-"
      },
      "source": [
        "# **Lasso (l1-regularisation)**"
      ]
    },
    {
      "cell_type": "code",
      "metadata": {
        "colab": {
          "base_uri": "https://localhost:8080/"
        },
        "id": "nBl1fT5SvyBa",
        "outputId": "dc7689e4-9ce5-4f1b-aaa7-3232ce2ee682"
      },
      "source": [
        "from sklearn.linear_model import Lasso\r\n",
        "\r\n",
        "lasso = Lasso().fit(X_train, y_train)\r\n",
        "print(\"Training set score: {:.2f}\".format(lasso.score(X_train, y_train)))\r\n",
        "print(\"Test set score: {:.2f}\".format(lasso.score(X_test, y_test)))\r\n",
        "print(\"Number of features used:\", np.sum(lasso.coef_ != 0))\r\n",
        "\r\n",
        "forecast = lasso.predict(X_test)\r\n",
        "print('rmse: {:.2f}'.format(mean_squared_error(y_test, forecast) ** 0.5))\r\n",
        "print('normed rmse: {:.2f}%'.format(mean_squared_error(y_test, forecast) ** 0.5 / np.mean(y_test) * 100))"
      ],
      "execution_count": 25,
      "outputs": [
        {
          "output_type": "stream",
          "text": [
            "Training set score: 0.95\n",
            "Test set score: -1.08\n",
            "Number of features used: 2\n",
            "rmse: 0.66\n",
            "normed rmse: 0.64%\n"
          ],
          "name": "stdout"
        }
      ]
    },
    {
      "cell_type": "code",
      "metadata": {
        "colab": {
          "base_uri": "https://localhost:8080/"
        },
        "id": "vCU4UKIHwKpo",
        "outputId": "5576043e-9084-469e-d2f1-bd7dea28fb23"
      },
      "source": [
        "# we increase the default setting of \"max_iter\",\r\n",
        "# otherwise the model would warn us that we should increase max_iter.\r\n",
        "lasso001 = Lasso(alpha=0.01, max_iter=100000).fit(X_train, y_train)\r\n",
        "print(\"Training set score: {:.2f}\".format(lasso001.score(X_train, y_train)))\r\n",
        "print(\"Test set score: {:.2f}\".format(lasso001.score(X_test, y_test)))\r\n",
        "print(\"Number of features used:\", np.sum(lasso001.coef_ != 0))\r\n",
        "\r\n",
        "forecast = lasso001.predict(X_test)\r\n",
        "print('rmse: {:.2f}'.format(mean_squared_error(y_test, forecast) ** 0.5))\r\n",
        "print('normed rmse: {:.2f}%'.format(mean_squared_error(y_test, forecast) ** 0.5 / np.mean(y_test) * 100))"
      ],
      "execution_count": 26,
      "outputs": [
        {
          "output_type": "stream",
          "text": [
            "Training set score: 0.98\n",
            "Test set score: 0.88\n",
            "Number of features used: 10\n",
            "rmse: 0.16\n",
            "normed rmse: 0.15%\n"
          ],
          "name": "stdout"
        }
      ]
    },
    {
      "cell_type": "markdown",
      "metadata": {
        "id": "89Wk2X8YywhK"
      },
      "source": [
        "# **ElasticNet (l1+l2-regularisation)**"
      ]
    },
    {
      "cell_type": "code",
      "metadata": {
        "colab": {
          "base_uri": "https://localhost:8080/"
        },
        "id": "9bLvKIBNxmtY",
        "outputId": "69bfbe60-ce66-4eda-d044-2dba801bc2d6"
      },
      "source": [
        "from sklearn.linear_model import ElasticNet\r\n",
        "ENmodel = ElasticNet(alpha=0.01, max_iter=100000, random_state=0)\r\n",
        "ENmodel.fit(X_train, y_train)\r\n",
        "print(\"Training set score: {:.2f}\".format(ENmodel.score(X_train, y_train)))\r\n",
        "print(\"Test set score: {:.2f}\".format(ENmodel.score(X_test, y_test)))\r\n",
        "print(\"Number of features used:\", np.sum(ENmodel.coef_ != 0))\r\n",
        "\r\n",
        "forecast = ENmodel.predict(X_test)\r\n",
        "print('rmse: {:.2f}'.format(mean_squared_error(y_test, forecast) ** 0.5))\r\n",
        "print('normed rmse: {:.2f}%'.format(mean_squared_error(y_test, forecast) ** 0.5 / np.mean(y_test) * 100))"
      ],
      "execution_count": 27,
      "outputs": [
        {
          "output_type": "stream",
          "text": [
            "Training set score: 0.98\n",
            "Test set score: 0.91\n",
            "Number of features used: 12\n",
            "rmse: 0.14\n",
            "normed rmse: 0.14%\n"
          ],
          "name": "stdout"
        }
      ]
    },
    {
      "cell_type": "markdown",
      "metadata": {
        "id": "YBAkRHDAz_JA"
      },
      "source": [
        "# **DecisionTree**"
      ]
    },
    {
      "cell_type": "code",
      "metadata": {
        "colab": {
          "base_uri": "https://localhost:8080/"
        },
        "id": "-4kpwm0uz8mD",
        "outputId": "26a170b0-b03a-4974-98ec-9e904c1cfc0a"
      },
      "source": [
        "from sklearn.tree import DecisionTreeRegressor\r\n",
        "\r\n",
        "tree = DecisionTreeRegressor(max_depth=2, random_state=0)\r\n",
        "tree.fit(X_train, y_train)\r\n",
        "print(\"Accuracy on training set: {:.3f}\".format(tree.score(X_train, y_train)))\r\n",
        "print(\"Accuracy on test set: {:.3f}\".format(tree.score(X_test, y_test)))\r\n",
        "\r\n",
        "forecast = tree.predict(X_test)\r\n",
        "print('rmse: {:.2f}'.format(mean_squared_error(y_test, forecast) ** 0.5))\r\n",
        "print('normed rmse: {:.2f}%'.format(mean_squared_error(y_test, forecast) ** 0.5 / np.mean(y_test) * 100))"
      ],
      "execution_count": 28,
      "outputs": [
        {
          "output_type": "stream",
          "text": [
            "Accuracy on training set: 0.880\n",
            "Accuracy on test set: -0.256\n",
            "rmse: 0.52\n",
            "normed rmse: 0.50%\n"
          ],
          "name": "stdout"
        }
      ]
    },
    {
      "cell_type": "markdown",
      "metadata": {
        "id": "B-_ioliGwCqM"
      },
      "source": [
        "# **Random Forest**"
      ]
    },
    {
      "cell_type": "code",
      "metadata": {
        "colab": {
          "base_uri": "https://localhost:8080/",
          "height": 333
        },
        "id": "JQaRfjICJ0J1",
        "outputId": "3ab5521e-21fd-451f-fa33-a19de04b31bc"
      },
      "source": [
        "from sklearn.ensemble import RandomForestRegressor\n",
        "\n",
        "RFmodel = RandomForestRegressor(n_estimators=500, random_state=42)\n",
        "RFmodel.fit(X_train, y_train)\n",
        "forecast = RFmodel.predict(X_test)\n",
        "\n",
        "plt.plot(y_test, label='true')\n",
        "plt.plot(forecast, label='forecast')\n",
        "plt.legend()\n",
        "\n",
        "print('rmse: {:.3f}'.format(mean_squared_error(y_test, forecast) ** 0.5))\n",
        "print('normed rmse: {:.3f}%'.format(mean_squared_error(y_test, forecast) ** 0.5 / \n",
        "                                    np.mean(y_test) * 100))\n",
        "\n",
        "print(\"Accuracy on training set: {:.3f}\".format(RFmodel.score(X_train, y_train)))\n",
        "print(\"Accuracy on test set: {:.3f}\".format(RFmodel.score(X_test, y_test)))"
      ],
      "execution_count": 31,
      "outputs": [
        {
          "output_type": "stream",
          "text": [
            "rmse: 0.425\n",
            "normed rmse: 0.411%\n",
            "Accuracy on training set: 0.994\n",
            "Accuracy on test set: 0.147\n"
          ],
          "name": "stdout"
        },
        {
          "output_type": "display_data",
          "data": {
            "image/png": "[encoded data removed]",
            "text/plain": [
              "<Figure size 432x288 with 1 Axes>"
            ]
          },
          "metadata": {
            "tags": [],
            "needs_background": "light"
          }
        }
      ]
    },
    {
      "cell_type": "code",
      "metadata": {
        "colab": {
          "base_uri": "https://localhost:8080/"
        },
        "id": "p5ro99XxZroW",
        "outputId": "a7e5dff9-87f4-4044-d5ea-e90d709feb3b"
      },
      "source": [
        "RFmodel.feature_importances_"
      ],
      "execution_count": 32,
      "outputs": [
        {
          "output_type": "execute_result",
          "data": {
            "text/plain": [
              "array([0.00214508, 0.00568952, 0.00705665, 0.95557058, 0.00343726,\n",
              "       0.00210835, 0.0017398 , 0.00178774, 0.00247126, 0.00336942,\n",
              "       0.00162231, 0.00144287, 0.00199215, 0.00242439, 0.00714261])"
            ]
          },
          "metadata": {
            "tags": []
          },
          "execution_count": 32
        }
      ]
    },
    {
      "cell_type": "code",
      "metadata": {
        "colab": {
          "base_uri": "https://localhost:8080/",
          "height": 279
        },
        "id": "Uzl6UEi58e0C",
        "outputId": "1c5aad3b-3f91-4cc6-bfed-77397305f5ac"
      },
      "source": [
        "def plot_features(model):\r\n",
        "  n_features = data_not.shape[1]\r\n",
        "  plt.barh(range(n_features), model.feature_importances_, align='center')\r\n",
        "  plt.yticks(np.arange(n_features), data_not.columns)\r\n",
        "  plt.xlabel('Важность признака')\r\n",
        "  plt.ylabel('Признак')\r\n",
        "plot_features(RFmodel)"
      ],
      "execution_count": 33,
      "outputs": [
        {
          "output_type": "display_data",
          "data": {
            "image/png": "[encoded data removed]",
            "text/plain": [
              "<Figure size 432x288 with 1 Axes>"
            ]
          },
          "metadata": {
            "tags": [],
            "needs_background": "light"
          }
        }
      ]
    },
    {
      "cell_type": "markdown",
      "metadata": {
        "id": "lJXj5qe20-JG"
      },
      "source": [
        "# **Кроссвалидация**"
      ]
    },
    {
      "cell_type": "code",
      "metadata": {
        "colab": {
          "base_uri": "https://localhost:8080/"
        },
        "id": "N7Nt89Ai257w",
        "outputId": "4a68cf20-d981-437f-badc-370a93784b7c"
      },
      "source": [
        "from sklearn.model_selection import cross_val_score\r\n",
        "\r\n",
        "scores = cross_val_score(RFmodel, X_train, y_train, cv=3)\r\n",
        "print(\"Cross-validation scores: {}\".format(scores))\r\n",
        "print(\"Average cross-validation score: {:.2f}\".format(scores.mean()))"
      ],
      "execution_count": 34,
      "outputs": [
        {
          "output_type": "stream",
          "text": [
            "Cross-validation scores: [0.90897447 0.92997813 0.82368727]\n",
            "Average cross-validation score: 0.89\n"
          ],
          "name": "stdout"
        }
      ]
    },
    {
      "cell_type": "code",
      "metadata": {
        "colab": {
          "base_uri": "https://localhost:8080/",
          "height": 85
        },
        "id": "_eKCYMar3t2K",
        "outputId": "a287131f-d4b9-46eb-c11a-8c5d057c8d1b"
      },
      "source": [
        "from sklearn.model_selection import cross_validate\r\n",
        "res = cross_validate(RFmodel, X_train, y_train, cv=4,\r\n",
        "                     return_train_score=True)\r\n",
        "display(res)"
      ],
      "execution_count": 35,
      "outputs": [
        {
          "output_type": "display_data",
          "data": {
            "text/plain": [
              "{'fit_time': array([0.93266606, 0.88958216, 0.88947535, 0.907125  ]),\n",
              " 'score_time': array([0.0281198 , 0.0286479 , 0.02873039, 0.02788758]),\n",
              " 'test_score': array([0.8090907 , 0.93063693, 0.90877959, 0.81217418]),\n",
              " 'train_score': array([0.99475159, 0.9926727 , 0.99510009, 0.99325156])}"
            ]
          },
          "metadata": {
            "tags": []
          }
        }
      ]
    },
    {
      "cell_type": "code",
      "metadata": {
        "colab": {
          "base_uri": "https://localhost:8080/",
          "height": 275
        },
        "id": "XqVMouc84Qbj",
        "outputId": "e98b36db-e707-4386-957e-f3b286f3ff95"
      },
      "source": [
        "res_df = pd.DataFrame(res)\r\n",
        "display(res_df)\r\n",
        "print(\"Mean times and scores:\\n\", res_df.mean())"
      ],
      "execution_count": 36,
      "outputs": [
        {
          "output_type": "display_data",
          "data": {
            "text/html": [
              "<div>\n",
              "<style scoped>\n",
              "    .dataframe tbody tr th:only-of-type {\n",
              "        vertical-align: middle;\n",
              "    }\n",
              "\n",
              "    .dataframe tbody tr th {\n",
              "        vertical-align: top;\n",
              "    }\n",
              "\n",
              "    .dataframe thead th {\n",
              "        text-align: right;\n",
              "    }\n",
              "</style>\n",
              "<table border=\"1\" class=\"dataframe\">\n",
              "  <thead>\n",
              "    <tr style=\"text-align: right;\">\n",
              "      <th></th>\n",
              "      <th>fit_time</th>\n",
              "      <th>score_time</th>\n",
              "      <th>test_score</th>\n",
              "      <th>train_score</th>\n",
              "    </tr>\n",
              "  </thead>\n",
              "  <tbody>\n",
              "    <tr>\n",
              "      <th>0</th>\n",
              "      <td>0.932666</td>\n",
              "      <td>0.028120</td>\n",
              "      <td>0.809091</td>\n",
              "      <td>0.994752</td>\n",
              "    </tr>\n",
              "    <tr>\n",
              "      <th>1</th>\n",
              "      <td>0.889582</td>\n",
              "      <td>0.028648</td>\n",
              "      <td>0.930637</td>\n",
              "      <td>0.992673</td>\n",
              "    </tr>\n",
              "    <tr>\n",
              "      <th>2</th>\n",
              "      <td>0.889475</td>\n",
              "      <td>0.028730</td>\n",
              "      <td>0.908780</td>\n",
              "      <td>0.995100</td>\n",
              "    </tr>\n",
              "    <tr>\n",
              "      <th>3</th>\n",
              "      <td>0.907125</td>\n",
              "      <td>0.027888</td>\n",
              "      <td>0.812174</td>\n",
              "      <td>0.993252</td>\n",
              "    </tr>\n",
              "  </tbody>\n",
              "</table>\n",
              "</div>"
            ],
            "text/plain": [
              "   fit_time  score_time  test_score  train_score\n",
              "0  0.932666    0.028120    0.809091     0.994752\n",
              "1  0.889582    0.028648    0.930637     0.992673\n",
              "2  0.889475    0.028730    0.908780     0.995100\n",
              "3  0.907125    0.027888    0.812174     0.993252"
            ]
          },
          "metadata": {
            "tags": []
          }
        },
        {
          "output_type": "stream",
          "text": [
            "Mean times and scores:\n",
            " fit_time       0.904712\n",
            "score_time     0.028346\n",
            "test_score     0.865170\n",
            "train_score    0.993944\n",
            "dtype: float64\n"
          ],
          "name": "stdout"
        }
      ]
    },
    {
      "cell_type": "markdown",
      "metadata": {
        "id": "4LOU5S3B6209"
      },
      "source": [
        "# **Slide test**"
      ]
    },
    {
      "cell_type": "code",
      "metadata": {
        "colab": {
          "base_uri": "https://localhost:8080/"
        },
        "id": "fBClxal6k1nZ",
        "outputId": "2b9b3837-21d2-425e-bcb8-38c1ec66c35a"
      },
      "source": [
        "from datetime import datetime\r\n",
        "from dateutil.relativedelta import relativedelta\r\n",
        "#startdate = pd.to_datetime(data_do)\r\n",
        "startdate = pd.to_datetime(train_do)+ relativedelta(months=1)\r\n",
        "\r\n",
        "#print('Today: ', startdate.strftime('%Y-%m-%d'))\r\n",
        "#print(date_after_month.strftime('%Y-%m-%d'))\r\n",
        "#startdate = str(startdate)[:10]\r\n",
        "startdate"
      ],
      "execution_count": 37,
      "outputs": [
        {
          "output_type": "execute_result",
          "data": {
            "text/plain": [
              "Timestamp('2019-10-01 00:00:00')"
            ]
          },
          "metadata": {
            "tags": []
          },
          "execution_count": 37
        }
      ]
    },
    {
      "cell_type": "code",
      "metadata": {
        "colab": {
          "base_uri": "https://localhost:8080/",
          "height": 299
        },
        "id": "o5Jb3Bo0K1zO",
        "outputId": "b3f161a9-e1f4-4852-c6e1-b5d127b6806d"
      },
      "source": [
        "#forecast = RFmodel.predict(X_test)\n",
        "#slide_test = test[test.index == train_do][data_not.columns.values].values\n",
        "#print(slide_test)\n",
        "slide_test = X_test\n",
        "forecast = []\n",
        "forecast.append(RFmodel.predict(slide_test)[0])\n",
        "\n",
        "for i in range(test.shape[0] - 1):\n",
        "  \n",
        "  slide_test_next = slide_test.copy()\n",
        "  slide_test_next[0, 1] = forecast[-1]\n",
        "\n",
        "  slide_test_next[0, 0] += 1\n",
        "  slide_test_next[0, 2:] = slide_test[0, 1:-1]\n",
        "  \n",
        "  #print(slide_test_next)\n",
        "  slide_test = slide_test_next.copy()\n",
        "\n",
        "  forecast.append(RFmodel.predict(slide_test)[0])\n",
        "\n",
        "forecast = np.array(forecast)\n",
        "\n",
        "plt.plot(y_test, label='true')\n",
        "plt.plot(forecast, label='forecast')\n",
        "plt.legend()\n",
        "\n",
        "print('rmse: {:.4f}'.format(mean_squared_error(y_test, forecast) ** 0.5))\n",
        "print('normed rmse: {:.4f}%'.format((mean_squared_error(y_test, forecast) ** 0.5) / np.mean(y_test) * 100))\n"
      ],
      "execution_count": 39,
      "outputs": [
        {
          "output_type": "stream",
          "text": [
            "rmse: 1.1314\n",
            "normed rmse: 1.0931%\n"
          ],
          "name": "stdout"
        },
        {
          "output_type": "display_data",
          "data": {
            "image/png": "[encoded data removed]",
            "text/plain": [
              "<Figure size 432x288 with 1 Axes>"
            ]
          },
          "metadata": {
            "tags": [],
            "needs_background": "light"
          }
        }
      ]
    },
    {
      "cell_type": "markdown",
      "metadata": {
        "id": "zkhh3vUJ2tTk"
      },
      "source": [
        "# **KFold cross validation**"
      ]
    },
    {
      "cell_type": "code",
      "metadata": {
        "id": "deadTb4020Hy"
      },
      "source": [
        "#!pip install mglearn -q\r\n",
        "from sklearn.datasets import make_blobs\r\n",
        "from sklearn.linear_model import LogisticRegression\r\n",
        "from sklearn.model_selection import train_test_split\r\n",
        "from sklearn.model_selection import cross_val_score\r\n",
        "\r\n",
        "import mglearn\r\n"
      ],
      "execution_count": 40,
      "outputs": []
    },
    {
      "cell_type": "code",
      "metadata": {
        "colab": {
          "base_uri": "https://localhost:8080/"
        },
        "id": "dCRe67DU3Gog",
        "outputId": "6254907b-8337-43d5-df24-d1fe8071e569"
      },
      "source": [
        "%%time\r\n",
        "model = RandomForestRegressor(n_estimators=50, max_depth=5, random_state=1)\r\n",
        "#model.fit(X_train, y_train)\r\n",
        "\r\n",
        "scores = cross_val_score(model, X_train, y_train, cv=5)\r\n",
        "print(\"Cross-validation scores: {}\".format(scores))"
      ],
      "execution_count": 41,
      "outputs": [
        {
          "output_type": "stream",
          "text": [
            "Cross-validation scores: [0.58556953 0.90867979 0.83882082 0.78766715 0.2417129 ]\n",
            "CPU times: user 456 ms, sys: 981 µs, total: 457 ms\n",
            "Wall time: 464 ms\n"
          ],
          "name": "stdout"
        }
      ]
    },
    {
      "cell_type": "code",
      "metadata": {
        "colab": {
          "base_uri": "https://localhost:8080/"
        },
        "id": "5mzaZkBHE5T7",
        "outputId": "8d32f9b5-58ca-4057-db10-bc7cafb0a98f"
      },
      "source": [
        "print(\"Average cross-validation score: {:.2f}\".format(scores.mean()))"
      ],
      "execution_count": 42,
      "outputs": [
        {
          "output_type": "stream",
          "text": [
            "Average cross-validation score: 0.67\n"
          ],
          "name": "stdout"
        }
      ]
    },
    {
      "cell_type": "markdown",
      "metadata": {
        "id": "Q7OnwPFmFYsG"
      },
      "source": [
        "# **Stratified K-Fold cross-validation and other strategies**"
      ]
    },
    {
      "cell_type": "code",
      "metadata": {
        "id": "aIviXw2MEuhq"
      },
      "source": [
        "from sklearn.model_selection import KFold\r\n",
        "kfold = KFold(n_splits=3)"
      ],
      "execution_count": 43,
      "outputs": []
    },
    {
      "cell_type": "code",
      "metadata": {
        "colab": {
          "base_uri": "https://localhost:8080/"
        },
        "id": "RKkRo34wWuXt",
        "outputId": "b5765f2a-a132-4d58-ec0c-6eedce579085"
      },
      "source": [
        "print(\"Cross-validation scores:\\n{}\".format(\r\n",
        "      cross_val_score(model, X_train, y_train, cv=kfold)))"
      ],
      "execution_count": 44,
      "outputs": [
        {
          "output_type": "stream",
          "text": [
            "Cross-validation scores:\n",
            "[0.90253105 0.92674871 0.84084992]\n"
          ],
          "name": "stdout"
        }
      ]
    },
    {
      "cell_type": "code",
      "metadata": {
        "colab": {
          "base_uri": "https://localhost:8080/"
        },
        "id": "3C8WssM7XZq7",
        "outputId": "e6980133-22c7-41ca-d620-018be9f4bb60"
      },
      "source": [
        "kfold = KFold(n_splits=3, shuffle=True, random_state=42)\r\n",
        "print(\"Cross-validation scores:\\n{}\".format(\r\n",
        "    cross_val_score(model, X_train, y_train, cv=kfold)))"
      ],
      "execution_count": 45,
      "outputs": [
        {
          "output_type": "stream",
          "text": [
            "Cross-validation scores:\n",
            "[0.96507139 0.90454448 0.95774674]\n"
          ],
          "name": "stdout"
        }
      ]
    },
    {
      "cell_type": "markdown",
      "metadata": {
        "id": "3mXS2CH3ah8C"
      },
      "source": [
        "# **GradientBoostingRegressor**"
      ]
    },
    {
      "cell_type": "code",
      "metadata": {
        "id": "3Mf3pm1DJOOL"
      },
      "source": [
        "from xgboost import XGBRegressor"
      ],
      "execution_count": 46,
      "outputs": []
    },
    {
      "cell_type": "code",
      "metadata": {
        "colab": {
          "base_uri": "https://localhost:8080/",
          "height": 350
        },
        "id": "V3Aosx-LJOMA",
        "outputId": "aa4a67b8-7857-42be-fa9d-71e6b21c6290"
      },
      "source": [
        "xgb_model = XGBRegressor(n_estimators=10000, learning_rate=0.01, max_depth=3)\n",
        "xgb_model.fit(X_train, y_train, early_stopping_rounds=5, \n",
        "             eval_set=[(X_train, y_train)], verbose=False)\n",
        "# make predictions\n",
        "xgb_forecast = xgb_model.predict(X_test)\n",
        "xgb_model.feature_importances_\n",
        "plt.plot(y_test, label='true')\n",
        "plt.plot(xgb_forecast, label='forecast')\n",
        "plt.legend()\n",
        "\n",
        "from sklearn.metrics import mean_squared_error\n",
        "print('rmse: {:.4f}'.format(mean_squared_error(y_test, xgb_forecast) ** 0.5))\n",
        "print('normed rmse: {:.4f}%'.format((mean_squared_error(y_test, xgb_forecast) ** 0.5) / \n",
        "                                    np.mean(y_test) * 100))\n",
        "\n",
        "print(\"Accuracy on training set: {:.3f}\".format(xgb_model.score(X_train, y_train)))\n",
        "print(\"Accuracy on test set: {:.3f}\".format(xgb_model.score(X_test, y_test)))"
      ],
      "execution_count": 47,
      "outputs": [
        {
          "output_type": "stream",
          "text": [
            "[02:39:50] WARNING: /workspace/src/objective/regression_obj.cu:152: reg:linear is now deprecated in favor of reg:squarederror.\n",
            "rmse: 0.2301\n",
            "normed rmse: 0.2224%\n",
            "Accuracy on training set: 1.000\n",
            "Accuracy on test set: 0.750\n"
          ],
          "name": "stdout"
        },
        {
          "output_type": "display_data",
          "data": {
            "image/png": "[encoded data removed]",
            "text/plain": [
              "<Figure size 432x288 with 1 Axes>"
            ]
          },
          "metadata": {
            "tags": [],
            "needs_background": "light"
          }
        }
      ]
    },
    {
      "cell_type": "code",
      "metadata": {
        "colab": {
          "base_uri": "https://localhost:8080/",
          "height": 279
        },
        "id": "wHuP_555asE-",
        "outputId": "83998a91-365e-43c3-a627-a8db5bee684f"
      },
      "source": [
        "def plot_features(model):\r\n",
        "  n_features = data_not.shape[1]\r\n",
        "  plt.barh(range(n_features), model.feature_importances_, align='center')\r\n",
        "  plt.yticks(np.arange(n_features), data_not.columns)\r\n",
        "  plt.xlabel('Важность признака')\r\n",
        "  plt.ylabel('Признак')\r\n",
        "plot_features(xgb_model)"
      ],
      "execution_count": 48,
      "outputs": [
        {
          "output_type": "display_data",
          "data": {
            "image/png": "[encoded data removed]",
            "text/plain": [
              "<Figure size 432x288 with 1 Axes>"
            ]
          },
          "metadata": {
            "tags": [],
            "needs_background": "light"
          }
        }
      ]
    }
  ]
}