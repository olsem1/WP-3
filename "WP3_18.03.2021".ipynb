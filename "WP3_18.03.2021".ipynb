{
  "nbformat": 4,
  "nbformat_minor": 0,
  "metadata": {
    "colab": {
      "name": "\"KFold \"LM, Ridge, DT, RF, XGB+neer cpi 2002-2019\"\"\"",
      "provenance": [],
      "collapsed_sections": [],
      "toc_visible": true,
      "authorship_tag": "ABX9TyN0c2npngxHVB8WgDnP9X6b",
      "include_colab_link": true
    },
    "kernelspec": {
      "display_name": "Python 3",
      "name": "python3"
    }
  },
  "cells": [
    {
      "cell_type": "markdown",
      "metadata": {
        "id": "view-in-github",
        "colab_type": "text"
      },
      "source": [
        "<a href=\"https://colab.research.google.com/github/olsem1/WP-3/blob/master/%22WP3_18.03.2021%22.ipynb\" target=\"_parent\"><img src=\"https://colab.research.google.com/assets/colab-badge.svg\" alt=\"Open In Colab\"/></a>"
      ]
    },
    {
      "cell_type": "code",
      "metadata": {
        "id": "stObcNR0Ei_U"
      },
      "source": [
        "import numpy as np\n",
        "import pandas as pd\n",
        "\n",
        "import matplotlib as mpl\n",
        "import matplotlib.pyplot as plt\n",
        "\n",
        "from sklearn.model_selection import KFold\n",
        "from sklearn.metrics import mean_squared_error\n",
        "from sklearn.model_selection import GridSearchCV\n",
        "from sklearn.linear_model import Lasso\n",
        "from sklearn.linear_model import Ridge\n",
        "\n",
        "from sklearn.pipeline import make_pipeline\n",
        "from sklearn.preprocessing import MinMaxScaler\n",
        "\n",
        "!pip install pmdarima -q\n",
        "#from pmdarima.arima import ADFTest\n",
        "from pmdarima.arima import auto_arima\n"
      ],
      "execution_count": null,
      "outputs": []
    },
    {
      "cell_type": "code",
      "metadata": {
        "id": "cBBcCeTc-DWY"
      },
      "source": [
        "course = pd.read_excel('RC_2002-2020.xlsx')\r\n",
        "course = course.rename(columns={\"data\": \"date\"})\r\n",
        "course = course.set_index('date')\r\n",
        "course_m = course.resample('MS').mean()"
      ],
      "execution_count": null,
      "outputs": []
    },
    {
      "cell_type": "markdown",
      "metadata": {
        "id": "y0elr5HmiI5a"
      },
      "source": [
        "# **Переменные**"
      ]
    },
    {
      "cell_type": "code",
      "metadata": {
        "id": "atQOrSCziHzA"
      },
      "source": [
        "cpi = \"month\"\r\n",
        "reg_names = ['ZAB']\r\n",
        "data_do = \"2020-12-01\"\r\n",
        "train_do = \"2019-01-01\"\r\n",
        "mes = (pd.to_datetime(data_do).to_period('M') - pd.to_datetime(train_do).to_period('M')).n+1\r\n",
        "\r\n",
        "result_rmse = pd.DataFrame(columns=['month/year', 'reg_names', 'data_do', 'train_do', 'mes', 'method', 'rmse'])"
      ],
      "execution_count": null,
      "outputs": []
    },
    {
      "cell_type": "code",
      "metadata": {
        "id": "6BPbGQe9FZ8M",
        "colab": {
          "base_uri": "https://localhost:8080/"
        },
        "outputId": "045bd7b7-6228-4d3d-d617-26261ec2670f"
      },
      "source": [
        "data = pd.read_excel('cpi_reg.xls', sheet_name = cpi)\r\n",
        "data = data.set_index('date')\r\n",
        "data = data.interpolate(method='polynomial', order=2, axis=0)\r\n",
        "data.isna().sum().sum()"
      ],
      "execution_count": null,
      "outputs": [
        {
          "output_type": "execute_result",
          "data": {
            "text/plain": [
              "268"
            ]
          },
          "metadata": {
            "tags": []
          },
          "execution_count": 15
        }
      ]
    },
    {
      "cell_type": "code",
      "metadata": {
        "colab": {
          "base_uri": "https://localhost:8080/",
          "height": 417
        },
        "id": "Rfsbr71ACQSm",
        "outputId": "0e8f8067-0d91-4e97-aca7-a04c765c1642"
      },
      "source": [
        "data.tail(6)"
      ],
      "execution_count": null,
      "outputs": [
        {
          "output_type": "execute_result",
          "data": {
            "text/html": [
              "<div>\n",
              "<style scoped>\n",
              "    .dataframe tbody tr th:only-of-type {\n",
              "        vertical-align: middle;\n",
              "    }\n",
              "\n",
              "    .dataframe tbody tr th {\n",
              "        vertical-align: top;\n",
              "    }\n",
              "\n",
              "    .dataframe thead th {\n",
              "        text-align: right;\n",
              "    }\n",
              "</style>\n",
              "<table border=\"1\" class=\"dataframe\">\n",
              "  <thead>\n",
              "    <tr style=\"text-align: right;\">\n",
              "      <th></th>\n",
              "      <th>RF</th>\n",
              "      <th>SFO</th>\n",
              "      <th>BEL</th>\n",
              "      <th>BRY</th>\n",
              "      <th>VLA</th>\n",
              "      <th>VOR</th>\n",
              "      <th>IVA</th>\n",
              "      <th>KAL</th>\n",
              "      <th>KOS</th>\n",
              "      <th>KUR</th>\n",
              "      <th>LIP</th>\n",
              "      <th>MOS</th>\n",
              "      <th>ORL</th>\n",
              "      <th>RYA</th>\n",
              "      <th>SMO</th>\n",
              "      <th>TAM</th>\n",
              "      <th>TVE</th>\n",
              "      <th>TUL</th>\n",
              "      <th>YAR</th>\n",
              "      <th>MOW</th>\n",
              "      <th>KAR</th>\n",
              "      <th>KOM</th>\n",
              "      <th>ARK</th>\n",
              "      <th>VLG</th>\n",
              "      <th>KAG</th>\n",
              "      <th>LEN</th>\n",
              "      <th>MUR</th>\n",
              "      <th>NGR</th>\n",
              "      <th>PSK</th>\n",
              "      <th>SPB</th>\n",
              "      <th>ADY</th>\n",
              "      <th>KLM</th>\n",
              "      <th>KRA</th>\n",
              "      <th>AST</th>\n",
              "      <th>VGG</th>\n",
              "      <th>ROS</th>\n",
              "      <th>DAG</th>\n",
              "      <th>ING</th>\n",
              "      <th>KAB</th>\n",
              "      <th>KAO</th>\n",
              "      <th>...</th>\n",
              "      <th>STA</th>\n",
              "      <th>BAS</th>\n",
              "      <th>MAR</th>\n",
              "      <th>MOR</th>\n",
              "      <th>TAT</th>\n",
              "      <th>UDM</th>\n",
              "      <th>CHV</th>\n",
              "      <th>PER</th>\n",
              "      <th>KIR</th>\n",
              "      <th>NIZ</th>\n",
              "      <th>ORE</th>\n",
              "      <th>PNZ</th>\n",
              "      <th>SAM</th>\n",
              "      <th>SAR</th>\n",
              "      <th>ULY</th>\n",
              "      <th>KUG</th>\n",
              "      <th>SVE</th>\n",
              "      <th>TYU</th>\n",
              "      <th>CHE</th>\n",
              "      <th>ALI</th>\n",
              "      <th>TUV</th>\n",
              "      <th>KHK</th>\n",
              "      <th>ALT</th>\n",
              "      <th>KYA</th>\n",
              "      <th>IRK</th>\n",
              "      <th>KEM</th>\n",
              "      <th>NVS</th>\n",
              "      <th>OMS</th>\n",
              "      <th>TOM</th>\n",
              "      <th>BUR</th>\n",
              "      <th>SAH</th>\n",
              "      <th>ZAB</th>\n",
              "      <th>KAM</th>\n",
              "      <th>PRI</th>\n",
              "      <th>KHA</th>\n",
              "      <th>AMU</th>\n",
              "      <th>MAG</th>\n",
              "      <th>SAK</th>\n",
              "      <th>JEW</th>\n",
              "      <th>CHU</th>\n",
              "    </tr>\n",
              "    <tr>\n",
              "      <th>date</th>\n",
              "      <th></th>\n",
              "      <th></th>\n",
              "      <th></th>\n",
              "      <th></th>\n",
              "      <th></th>\n",
              "      <th></th>\n",
              "      <th></th>\n",
              "      <th></th>\n",
              "      <th></th>\n",
              "      <th></th>\n",
              "      <th></th>\n",
              "      <th></th>\n",
              "      <th></th>\n",
              "      <th></th>\n",
              "      <th></th>\n",
              "      <th></th>\n",
              "      <th></th>\n",
              "      <th></th>\n",
              "      <th></th>\n",
              "      <th></th>\n",
              "      <th></th>\n",
              "      <th></th>\n",
              "      <th></th>\n",
              "      <th></th>\n",
              "      <th></th>\n",
              "      <th></th>\n",
              "      <th></th>\n",
              "      <th></th>\n",
              "      <th></th>\n",
              "      <th></th>\n",
              "      <th></th>\n",
              "      <th></th>\n",
              "      <th></th>\n",
              "      <th></th>\n",
              "      <th></th>\n",
              "      <th></th>\n",
              "      <th></th>\n",
              "      <th></th>\n",
              "      <th></th>\n",
              "      <th></th>\n",
              "      <th></th>\n",
              "      <th></th>\n",
              "      <th></th>\n",
              "      <th></th>\n",
              "      <th></th>\n",
              "      <th></th>\n",
              "      <th></th>\n",
              "      <th></th>\n",
              "      <th></th>\n",
              "      <th></th>\n",
              "      <th></th>\n",
              "      <th></th>\n",
              "      <th></th>\n",
              "      <th></th>\n",
              "      <th></th>\n",
              "      <th></th>\n",
              "      <th></th>\n",
              "      <th></th>\n",
              "      <th></th>\n",
              "      <th></th>\n",
              "      <th></th>\n",
              "      <th></th>\n",
              "      <th></th>\n",
              "      <th></th>\n",
              "      <th></th>\n",
              "      <th></th>\n",
              "      <th></th>\n",
              "      <th></th>\n",
              "      <th></th>\n",
              "      <th></th>\n",
              "      <th></th>\n",
              "      <th></th>\n",
              "      <th></th>\n",
              "      <th></th>\n",
              "      <th></th>\n",
              "      <th></th>\n",
              "      <th></th>\n",
              "      <th></th>\n",
              "      <th></th>\n",
              "      <th></th>\n",
              "      <th></th>\n",
              "    </tr>\n",
              "  </thead>\n",
              "  <tbody>\n",
              "    <tr>\n",
              "      <th>2020-08-01</th>\n",
              "      <td>99.96</td>\n",
              "      <td>100.06</td>\n",
              "      <td>99.95</td>\n",
              "      <td>99.82</td>\n",
              "      <td>99.65</td>\n",
              "      <td>99.93</td>\n",
              "      <td>100.02</td>\n",
              "      <td>99.97</td>\n",
              "      <td>99.94</td>\n",
              "      <td>99.53</td>\n",
              "      <td>99.98</td>\n",
              "      <td>99.77</td>\n",
              "      <td>99.92</td>\n",
              "      <td>99.86</td>\n",
              "      <td>99.51</td>\n",
              "      <td>99.93</td>\n",
              "      <td>99.56</td>\n",
              "      <td>99.76</td>\n",
              "      <td>99.68</td>\n",
              "      <td>99.97</td>\n",
              "      <td>99.88</td>\n",
              "      <td>99.76</td>\n",
              "      <td>99.75</td>\n",
              "      <td>99.68</td>\n",
              "      <td>100.26</td>\n",
              "      <td>99.81</td>\n",
              "      <td>99.66</td>\n",
              "      <td>99.87</td>\n",
              "      <td>100.08</td>\n",
              "      <td>99.86</td>\n",
              "      <td>99.99</td>\n",
              "      <td>99.76</td>\n",
              "      <td>100.42</td>\n",
              "      <td>99.60</td>\n",
              "      <td>99.59</td>\n",
              "      <td>99.85</td>\n",
              "      <td>100.40</td>\n",
              "      <td>99.98</td>\n",
              "      <td>100.11</td>\n",
              "      <td>100.02</td>\n",
              "      <td>...</td>\n",
              "      <td>99.92</td>\n",
              "      <td>99.99</td>\n",
              "      <td>100.01</td>\n",
              "      <td>99.89</td>\n",
              "      <td>100.04</td>\n",
              "      <td>99.91</td>\n",
              "      <td>99.70</td>\n",
              "      <td>100.20</td>\n",
              "      <td>99.96</td>\n",
              "      <td>99.70</td>\n",
              "      <td>100.30</td>\n",
              "      <td>100.08</td>\n",
              "      <td>100.05</td>\n",
              "      <td>99.74</td>\n",
              "      <td>100.03</td>\n",
              "      <td>100.18</td>\n",
              "      <td>99.97</td>\n",
              "      <td>99.94</td>\n",
              "      <td>100.12</td>\n",
              "      <td>100.35</td>\n",
              "      <td>99.79</td>\n",
              "      <td>100.16</td>\n",
              "      <td>100.06</td>\n",
              "      <td>99.80</td>\n",
              "      <td>100.32</td>\n",
              "      <td>99.80</td>\n",
              "      <td>100.00</td>\n",
              "      <td>100.10</td>\n",
              "      <td>99.69</td>\n",
              "      <td>99.96</td>\n",
              "      <td>100.15</td>\n",
              "      <td>100.17</td>\n",
              "      <td>100.43</td>\n",
              "      <td>100.02</td>\n",
              "      <td>100.02</td>\n",
              "      <td>100.37</td>\n",
              "      <td>99.58</td>\n",
              "      <td>99.92</td>\n",
              "      <td>100.03</td>\n",
              "      <td>100.05</td>\n",
              "    </tr>\n",
              "    <tr>\n",
              "      <th>2020-09-01</th>\n",
              "      <td>99.93</td>\n",
              "      <td>99.98</td>\n",
              "      <td>100.09</td>\n",
              "      <td>99.77</td>\n",
              "      <td>99.99</td>\n",
              "      <td>100.10</td>\n",
              "      <td>99.86</td>\n",
              "      <td>99.85</td>\n",
              "      <td>99.89</td>\n",
              "      <td>99.69</td>\n",
              "      <td>100.18</td>\n",
              "      <td>99.79</td>\n",
              "      <td>99.96</td>\n",
              "      <td>99.94</td>\n",
              "      <td>99.95</td>\n",
              "      <td>99.99</td>\n",
              "      <td>99.91</td>\n",
              "      <td>99.74</td>\n",
              "      <td>99.79</td>\n",
              "      <td>99.91</td>\n",
              "      <td>99.77</td>\n",
              "      <td>99.68</td>\n",
              "      <td>99.90</td>\n",
              "      <td>99.89</td>\n",
              "      <td>99.71</td>\n",
              "      <td>99.75</td>\n",
              "      <td>99.93</td>\n",
              "      <td>99.86</td>\n",
              "      <td>99.73</td>\n",
              "      <td>99.83</td>\n",
              "      <td>100.48</td>\n",
              "      <td>99.92</td>\n",
              "      <td>99.80</td>\n",
              "      <td>100.19</td>\n",
              "      <td>100.20</td>\n",
              "      <td>99.93</td>\n",
              "      <td>99.72</td>\n",
              "      <td>99.89</td>\n",
              "      <td>100.13</td>\n",
              "      <td>99.91</td>\n",
              "      <td>...</td>\n",
              "      <td>100.07</td>\n",
              "      <td>100.07</td>\n",
              "      <td>99.84</td>\n",
              "      <td>99.73</td>\n",
              "      <td>100.06</td>\n",
              "      <td>100.02</td>\n",
              "      <td>99.89</td>\n",
              "      <td>99.76</td>\n",
              "      <td>99.86</td>\n",
              "      <td>100.14</td>\n",
              "      <td>99.83</td>\n",
              "      <td>100.03</td>\n",
              "      <td>99.98</td>\n",
              "      <td>99.84</td>\n",
              "      <td>99.78</td>\n",
              "      <td>100.11</td>\n",
              "      <td>100.02</td>\n",
              "      <td>99.68</td>\n",
              "      <td>99.76</td>\n",
              "      <td>99.88</td>\n",
              "      <td>99.87</td>\n",
              "      <td>100.34</td>\n",
              "      <td>99.73</td>\n",
              "      <td>100.10</td>\n",
              "      <td>99.98</td>\n",
              "      <td>100.73</td>\n",
              "      <td>99.71</td>\n",
              "      <td>99.86</td>\n",
              "      <td>100.27</td>\n",
              "      <td>99.95</td>\n",
              "      <td>100.56</td>\n",
              "      <td>99.41</td>\n",
              "      <td>99.95</td>\n",
              "      <td>100.27</td>\n",
              "      <td>100.19</td>\n",
              "      <td>99.99</td>\n",
              "      <td>99.88</td>\n",
              "      <td>100.31</td>\n",
              "      <td>100.58</td>\n",
              "      <td>99.61</td>\n",
              "    </tr>\n",
              "    <tr>\n",
              "      <th>2020-10-01</th>\n",
              "      <td>100.43</td>\n",
              "      <td>100.45</td>\n",
              "      <td>NaN</td>\n",
              "      <td>NaN</td>\n",
              "      <td>NaN</td>\n",
              "      <td>NaN</td>\n",
              "      <td>NaN</td>\n",
              "      <td>NaN</td>\n",
              "      <td>NaN</td>\n",
              "      <td>NaN</td>\n",
              "      <td>NaN</td>\n",
              "      <td>NaN</td>\n",
              "      <td>NaN</td>\n",
              "      <td>NaN</td>\n",
              "      <td>NaN</td>\n",
              "      <td>NaN</td>\n",
              "      <td>NaN</td>\n",
              "      <td>NaN</td>\n",
              "      <td>NaN</td>\n",
              "      <td>NaN</td>\n",
              "      <td>NaN</td>\n",
              "      <td>NaN</td>\n",
              "      <td>NaN</td>\n",
              "      <td>NaN</td>\n",
              "      <td>NaN</td>\n",
              "      <td>NaN</td>\n",
              "      <td>NaN</td>\n",
              "      <td>NaN</td>\n",
              "      <td>NaN</td>\n",
              "      <td>NaN</td>\n",
              "      <td>NaN</td>\n",
              "      <td>NaN</td>\n",
              "      <td>NaN</td>\n",
              "      <td>NaN</td>\n",
              "      <td>NaN</td>\n",
              "      <td>NaN</td>\n",
              "      <td>NaN</td>\n",
              "      <td>NaN</td>\n",
              "      <td>NaN</td>\n",
              "      <td>NaN</td>\n",
              "      <td>...</td>\n",
              "      <td>NaN</td>\n",
              "      <td>NaN</td>\n",
              "      <td>NaN</td>\n",
              "      <td>NaN</td>\n",
              "      <td>NaN</td>\n",
              "      <td>NaN</td>\n",
              "      <td>NaN</td>\n",
              "      <td>NaN</td>\n",
              "      <td>NaN</td>\n",
              "      <td>NaN</td>\n",
              "      <td>NaN</td>\n",
              "      <td>NaN</td>\n",
              "      <td>NaN</td>\n",
              "      <td>NaN</td>\n",
              "      <td>NaN</td>\n",
              "      <td>NaN</td>\n",
              "      <td>NaN</td>\n",
              "      <td>NaN</td>\n",
              "      <td>NaN</td>\n",
              "      <td>100.05</td>\n",
              "      <td>100.40</td>\n",
              "      <td>100.42</td>\n",
              "      <td>100.46</td>\n",
              "      <td>100.38</td>\n",
              "      <td>100.57</td>\n",
              "      <td>100.35</td>\n",
              "      <td>100.57</td>\n",
              "      <td>100.68</td>\n",
              "      <td>100.22</td>\n",
              "      <td>100.30</td>\n",
              "      <td>NaN</td>\n",
              "      <td>100.41</td>\n",
              "      <td>NaN</td>\n",
              "      <td>NaN</td>\n",
              "      <td>NaN</td>\n",
              "      <td>NaN</td>\n",
              "      <td>NaN</td>\n",
              "      <td>NaN</td>\n",
              "      <td>NaN</td>\n",
              "      <td>NaN</td>\n",
              "    </tr>\n",
              "    <tr>\n",
              "      <th>2020-11-01</th>\n",
              "      <td>100.71</td>\n",
              "      <td>100.85</td>\n",
              "      <td>NaN</td>\n",
              "      <td>NaN</td>\n",
              "      <td>NaN</td>\n",
              "      <td>NaN</td>\n",
              "      <td>NaN</td>\n",
              "      <td>NaN</td>\n",
              "      <td>NaN</td>\n",
              "      <td>NaN</td>\n",
              "      <td>NaN</td>\n",
              "      <td>NaN</td>\n",
              "      <td>NaN</td>\n",
              "      <td>NaN</td>\n",
              "      <td>NaN</td>\n",
              "      <td>NaN</td>\n",
              "      <td>NaN</td>\n",
              "      <td>NaN</td>\n",
              "      <td>NaN</td>\n",
              "      <td>NaN</td>\n",
              "      <td>NaN</td>\n",
              "      <td>NaN</td>\n",
              "      <td>NaN</td>\n",
              "      <td>NaN</td>\n",
              "      <td>NaN</td>\n",
              "      <td>NaN</td>\n",
              "      <td>NaN</td>\n",
              "      <td>NaN</td>\n",
              "      <td>NaN</td>\n",
              "      <td>NaN</td>\n",
              "      <td>NaN</td>\n",
              "      <td>NaN</td>\n",
              "      <td>NaN</td>\n",
              "      <td>NaN</td>\n",
              "      <td>NaN</td>\n",
              "      <td>NaN</td>\n",
              "      <td>NaN</td>\n",
              "      <td>NaN</td>\n",
              "      <td>NaN</td>\n",
              "      <td>NaN</td>\n",
              "      <td>...</td>\n",
              "      <td>NaN</td>\n",
              "      <td>NaN</td>\n",
              "      <td>NaN</td>\n",
              "      <td>NaN</td>\n",
              "      <td>NaN</td>\n",
              "      <td>NaN</td>\n",
              "      <td>NaN</td>\n",
              "      <td>NaN</td>\n",
              "      <td>NaN</td>\n",
              "      <td>NaN</td>\n",
              "      <td>NaN</td>\n",
              "      <td>NaN</td>\n",
              "      <td>NaN</td>\n",
              "      <td>NaN</td>\n",
              "      <td>NaN</td>\n",
              "      <td>NaN</td>\n",
              "      <td>NaN</td>\n",
              "      <td>NaN</td>\n",
              "      <td>NaN</td>\n",
              "      <td>100.84</td>\n",
              "      <td>100.63</td>\n",
              "      <td>100.92</td>\n",
              "      <td>101.52</td>\n",
              "      <td>101.01</td>\n",
              "      <td>100.81</td>\n",
              "      <td>100.56</td>\n",
              "      <td>100.86</td>\n",
              "      <td>100.87</td>\n",
              "      <td>100.34</td>\n",
              "      <td>100.64</td>\n",
              "      <td>NaN</td>\n",
              "      <td>100.60</td>\n",
              "      <td>NaN</td>\n",
              "      <td>NaN</td>\n",
              "      <td>NaN</td>\n",
              "      <td>NaN</td>\n",
              "      <td>NaN</td>\n",
              "      <td>NaN</td>\n",
              "      <td>NaN</td>\n",
              "      <td>NaN</td>\n",
              "    </tr>\n",
              "    <tr>\n",
              "      <th>2020-12-01</th>\n",
              "      <td>100.83</td>\n",
              "      <td>100.62</td>\n",
              "      <td>NaN</td>\n",
              "      <td>NaN</td>\n",
              "      <td>NaN</td>\n",
              "      <td>NaN</td>\n",
              "      <td>NaN</td>\n",
              "      <td>NaN</td>\n",
              "      <td>NaN</td>\n",
              "      <td>NaN</td>\n",
              "      <td>NaN</td>\n",
              "      <td>NaN</td>\n",
              "      <td>NaN</td>\n",
              "      <td>NaN</td>\n",
              "      <td>NaN</td>\n",
              "      <td>NaN</td>\n",
              "      <td>NaN</td>\n",
              "      <td>NaN</td>\n",
              "      <td>NaN</td>\n",
              "      <td>NaN</td>\n",
              "      <td>NaN</td>\n",
              "      <td>NaN</td>\n",
              "      <td>NaN</td>\n",
              "      <td>NaN</td>\n",
              "      <td>NaN</td>\n",
              "      <td>NaN</td>\n",
              "      <td>NaN</td>\n",
              "      <td>NaN</td>\n",
              "      <td>NaN</td>\n",
              "      <td>NaN</td>\n",
              "      <td>NaN</td>\n",
              "      <td>NaN</td>\n",
              "      <td>NaN</td>\n",
              "      <td>NaN</td>\n",
              "      <td>NaN</td>\n",
              "      <td>NaN</td>\n",
              "      <td>NaN</td>\n",
              "      <td>NaN</td>\n",
              "      <td>NaN</td>\n",
              "      <td>NaN</td>\n",
              "      <td>...</td>\n",
              "      <td>NaN</td>\n",
              "      <td>NaN</td>\n",
              "      <td>NaN</td>\n",
              "      <td>NaN</td>\n",
              "      <td>NaN</td>\n",
              "      <td>NaN</td>\n",
              "      <td>NaN</td>\n",
              "      <td>NaN</td>\n",
              "      <td>NaN</td>\n",
              "      <td>NaN</td>\n",
              "      <td>NaN</td>\n",
              "      <td>NaN</td>\n",
              "      <td>NaN</td>\n",
              "      <td>NaN</td>\n",
              "      <td>NaN</td>\n",
              "      <td>NaN</td>\n",
              "      <td>NaN</td>\n",
              "      <td>NaN</td>\n",
              "      <td>NaN</td>\n",
              "      <td>100.71</td>\n",
              "      <td>100.91</td>\n",
              "      <td>100.81</td>\n",
              "      <td>100.43</td>\n",
              "      <td>100.89</td>\n",
              "      <td>100.82</td>\n",
              "      <td>100.71</td>\n",
              "      <td>100.06</td>\n",
              "      <td>100.81</td>\n",
              "      <td>100.73</td>\n",
              "      <td>100.80</td>\n",
              "      <td>NaN</td>\n",
              "      <td>100.63</td>\n",
              "      <td>NaN</td>\n",
              "      <td>NaN</td>\n",
              "      <td>NaN</td>\n",
              "      <td>NaN</td>\n",
              "      <td>NaN</td>\n",
              "      <td>NaN</td>\n",
              "      <td>NaN</td>\n",
              "      <td>NaN</td>\n",
              "    </tr>\n",
              "    <tr>\n",
              "      <th>2021-01-01</th>\n",
              "      <td>100.67</td>\n",
              "      <td>100.57</td>\n",
              "      <td>NaN</td>\n",
              "      <td>NaN</td>\n",
              "      <td>NaN</td>\n",
              "      <td>NaN</td>\n",
              "      <td>NaN</td>\n",
              "      <td>NaN</td>\n",
              "      <td>NaN</td>\n",
              "      <td>NaN</td>\n",
              "      <td>NaN</td>\n",
              "      <td>NaN</td>\n",
              "      <td>NaN</td>\n",
              "      <td>NaN</td>\n",
              "      <td>NaN</td>\n",
              "      <td>NaN</td>\n",
              "      <td>NaN</td>\n",
              "      <td>NaN</td>\n",
              "      <td>NaN</td>\n",
              "      <td>NaN</td>\n",
              "      <td>NaN</td>\n",
              "      <td>NaN</td>\n",
              "      <td>NaN</td>\n",
              "      <td>NaN</td>\n",
              "      <td>NaN</td>\n",
              "      <td>NaN</td>\n",
              "      <td>NaN</td>\n",
              "      <td>NaN</td>\n",
              "      <td>NaN</td>\n",
              "      <td>NaN</td>\n",
              "      <td>NaN</td>\n",
              "      <td>NaN</td>\n",
              "      <td>NaN</td>\n",
              "      <td>NaN</td>\n",
              "      <td>NaN</td>\n",
              "      <td>NaN</td>\n",
              "      <td>NaN</td>\n",
              "      <td>NaN</td>\n",
              "      <td>NaN</td>\n",
              "      <td>NaN</td>\n",
              "      <td>...</td>\n",
              "      <td>NaN</td>\n",
              "      <td>NaN</td>\n",
              "      <td>NaN</td>\n",
              "      <td>NaN</td>\n",
              "      <td>NaN</td>\n",
              "      <td>NaN</td>\n",
              "      <td>NaN</td>\n",
              "      <td>NaN</td>\n",
              "      <td>NaN</td>\n",
              "      <td>NaN</td>\n",
              "      <td>NaN</td>\n",
              "      <td>NaN</td>\n",
              "      <td>NaN</td>\n",
              "      <td>NaN</td>\n",
              "      <td>NaN</td>\n",
              "      <td>NaN</td>\n",
              "      <td>NaN</td>\n",
              "      <td>NaN</td>\n",
              "      <td>NaN</td>\n",
              "      <td>100.31</td>\n",
              "      <td>100.64</td>\n",
              "      <td>100.69</td>\n",
              "      <td>100.66</td>\n",
              "      <td>100.58</td>\n",
              "      <td>100.51</td>\n",
              "      <td>100.73</td>\n",
              "      <td>100.38</td>\n",
              "      <td>100.70</td>\n",
              "      <td>100.41</td>\n",
              "      <td>100.56</td>\n",
              "      <td>NaN</td>\n",
              "      <td>100.63</td>\n",
              "      <td>NaN</td>\n",
              "      <td>NaN</td>\n",
              "      <td>NaN</td>\n",
              "      <td>NaN</td>\n",
              "      <td>NaN</td>\n",
              "      <td>NaN</td>\n",
              "      <td>NaN</td>\n",
              "      <td>NaN</td>\n",
              "    </tr>\n",
              "  </tbody>\n",
              "</table>\n",
              "<p>6 rows × 81 columns</p>\n",
              "</div>"
            ],
            "text/plain": [
              "                RF     SFO     BEL    BRY  ...    MAG     SAK     JEW     CHU\n",
              "date                                       ...                               \n",
              "2020-08-01   99.96  100.06   99.95  99.82  ...  99.58   99.92  100.03  100.05\n",
              "2020-09-01   99.93   99.98  100.09  99.77  ...  99.88  100.31  100.58   99.61\n",
              "2020-10-01  100.43  100.45     NaN    NaN  ...    NaN     NaN     NaN     NaN\n",
              "2020-11-01  100.71  100.85     NaN    NaN  ...    NaN     NaN     NaN     NaN\n",
              "2020-12-01  100.83  100.62     NaN    NaN  ...    NaN     NaN     NaN     NaN\n",
              "2021-01-01  100.67  100.57     NaN    NaN  ...    NaN     NaN     NaN     NaN\n",
              "\n",
              "[6 rows x 81 columns]"
            ]
          },
          "metadata": {
            "tags": []
          },
          "execution_count": 16
        }
      ]
    },
    {
      "cell_type": "markdown",
      "metadata": {
        "id": "aNOeIl1LPxZo"
      },
      "source": [
        "# **Проверка на стационарность**"
      ]
    },
    {
      "cell_type": "code",
      "metadata": {
        "id": "10DWKa8mPvvm",
        "colab": {
          "base_uri": "https://localhost:8080/",
          "height": 282
        },
        "outputId": "ecd6efda-4aab-45bd-8d2b-7f911761090b"
      },
      "source": [
        "# to log  and diff\r\n",
        "data_st = pd.DataFrame(index = data.index[1:])\r\n",
        "#data_st = pd.DataFrame(index = data.index)\r\n",
        "\r\n",
        "for region in data.columns:\r\n",
        "#  data_st[region] = np.log(data[region].values)\r\n",
        "#  data_st[region] = np.diff(np.log(data[region].values))\r\n",
        "  data_st[region] = np.diff(data[region].values)\r\n",
        "#data_st=(data_st[:-10])\r\n",
        "\r\n",
        "plt.plot(data_st[reg_names])"
      ],
      "execution_count": null,
      "outputs": [
        {
          "output_type": "execute_result",
          "data": {
            "text/plain": [
              "[<matplotlib.lines.Line2D at 0x7fb3875bc390>]"
            ]
          },
          "metadata": {
            "tags": []
          },
          "execution_count": 17
        },
        {
          "output_type": "display_data",
          "data": {
            "image/png": "[encoded data removed]",
            "text/plain": [
              "<Figure size 432x288 with 1 Axes>"
            ]
          },
          "metadata": {
            "tags": [],
            "needs_background": "light"
          }
        }
      ]
    },
    {
      "cell_type": "code",
      "metadata": {
        "id": "dVTc2qhiXuLO",
        "colab": {
          "base_uri": "https://localhost:8080/",
          "height": 86
        },
        "outputId": "bfdb1391-f1df-4de0-c924-00c56b32289e"
      },
      "source": [
        "\"\"\"\r\n",
        "from statsmodels.tsa.stattools import adfuller\r\n",
        "%matplotlib inline\r\n",
        "st = 0\r\n",
        "notst = 0\r\n",
        "p_value = 0.01\r\n",
        "for num, region in enumerate(data_st.keys()):\r\n",
        "  if region == 'RF':\r\n",
        "    continue\r\n",
        "  adf_result = adfuller(data_st[region])\r\n",
        "  result_text = []\r\n",
        "  result_text.append('ADF: {:.5}, '.format(adf_result[0]))\r\n",
        "  result_text.append('p-val: {:.2}, '.format(adf_result[1]))\r\n",
        "  if adf_result[1] < float(p_value):\r\n",
        "      print('Регион:', region, 'p-val: {:.2}, '.format(adf_result[1]))\r\n",
        "      st += 1\r\n",
        "  else:\r\n",
        "      print('Нестационарный ряд в регионе:', region, 'p-val: {:.2}, '.format(adf_result[1]))\r\n",
        "      notst += 1\r\n",
        "print('Нестационарных рядов всего:', notst, ' на уровне значимости , ', p_value)\r\n",
        "\"\"\""
      ],
      "execution_count": null,
      "outputs": [
        {
          "output_type": "execute_result",
          "data": {
            "application/vnd.google.colaboratory.intrinsic+json": {
              "type": "string"
            },
            "text/plain": [
              "\"\\nfrom statsmodels.tsa.stattools import adfuller\\n%matplotlib inline\\nst = 0\\nnotst = 0\\np_value = 0.01\\nfor num, region in enumerate(data_st.keys()):\\n  if region == 'RF':\\n    continue\\n  adf_result = adfuller(data_st[region])\\n  result_text = []\\n  result_text.append('ADF: {:.5}, '.format(adf_result[0]))\\n  result_text.append('p-val: {:.2}, '.format(adf_result[1]))\\n  if adf_result[1] < float(p_value):\\n      print('Регион:', region, 'p-val: {:.2}, '.format(adf_result[1]))\\n      st += 1\\n  else:\\n      print('Нестационарный ряд в регионе:', region, 'p-val: {:.2}, '.format(adf_result[1]))\\n      notst += 1\\nprint('Нестационарных рядов всего:', notst, ' на уровне значимости , ', p_value)\\n\""
            ]
          },
          "metadata": {
            "tags": []
          },
          "execution_count": 18
        }
      ]
    },
    {
      "cell_type": "code",
      "metadata": {
        "id": "YwOYGv3_UiXk"
      },
      "source": [
        "#if use stationary data\r\n",
        "#data=data_st\r\n",
        "\r\n",
        "# для стационарных рядов\r\n",
        "data_st = data_st[reg_names]\r\n",
        "data_st = data_st[:data_do]\r\n",
        "data_st = data_st.merge(course_m, left_on='date', right_on='date')\r\n",
        "data_st['month'] = pd.DatetimeIndex(data_st.index).month\r\n",
        "train_st = data_st[data_st.index < train_do]\r\n",
        "test_st = data_st[data_st.index >= train_do]\r\n",
        "\r\n",
        "# for ML\r\n",
        "data = data[reg_names]\r\n",
        "data = data[:data_do]\r\n",
        "data = data.merge(course_m, left_on='date', right_on='date')\r\n",
        "data['month'] = pd.DatetimeIndex(data.index).month\r\n",
        "\r\n",
        "train = data[data.index < train_do]\r\n",
        "test = data[data.index >= train_do]"
      ],
      "execution_count": null,
      "outputs": []
    },
    {
      "cell_type": "code",
      "metadata": {
        "colab": {
          "base_uri": "https://localhost:8080/",
          "height": 450
        },
        "id": "02_vDvUzNEbn",
        "outputId": "af576517-af52-4fd3-a7c8-d2e900efd02b"
      },
      "source": [
        "train[reg_names]"
      ],
      "execution_count": null,
      "outputs": [
        {
          "output_type": "execute_result",
          "data": {
            "text/html": [
              "<div>\n",
              "<style scoped>\n",
              "    .dataframe tbody tr th:only-of-type {\n",
              "        vertical-align: middle;\n",
              "    }\n",
              "\n",
              "    .dataframe tbody tr th {\n",
              "        vertical-align: top;\n",
              "    }\n",
              "\n",
              "    .dataframe thead th {\n",
              "        text-align: right;\n",
              "    }\n",
              "</style>\n",
              "<table border=\"1\" class=\"dataframe\">\n",
              "  <thead>\n",
              "    <tr style=\"text-align: right;\">\n",
              "      <th></th>\n",
              "      <th>ZAB</th>\n",
              "    </tr>\n",
              "    <tr>\n",
              "      <th>date</th>\n",
              "      <th></th>\n",
              "    </tr>\n",
              "  </thead>\n",
              "  <tbody>\n",
              "    <tr>\n",
              "      <th>2002-01-01</th>\n",
              "      <td>101.82</td>\n",
              "    </tr>\n",
              "    <tr>\n",
              "      <th>2002-02-01</th>\n",
              "      <td>101.88</td>\n",
              "    </tr>\n",
              "    <tr>\n",
              "      <th>2002-03-01</th>\n",
              "      <td>103.03</td>\n",
              "    </tr>\n",
              "    <tr>\n",
              "      <th>2002-04-01</th>\n",
              "      <td>100.82</td>\n",
              "    </tr>\n",
              "    <tr>\n",
              "      <th>2002-05-01</th>\n",
              "      <td>100.62</td>\n",
              "    </tr>\n",
              "    <tr>\n",
              "      <th>...</th>\n",
              "      <td>...</td>\n",
              "    </tr>\n",
              "    <tr>\n",
              "      <th>2018-08-01</th>\n",
              "      <td>100.26</td>\n",
              "    </tr>\n",
              "    <tr>\n",
              "      <th>2018-09-01</th>\n",
              "      <td>99.99</td>\n",
              "    </tr>\n",
              "    <tr>\n",
              "      <th>2018-10-01</th>\n",
              "      <td>100.89</td>\n",
              "    </tr>\n",
              "    <tr>\n",
              "      <th>2018-11-01</th>\n",
              "      <td>100.33</td>\n",
              "    </tr>\n",
              "    <tr>\n",
              "      <th>2018-12-01</th>\n",
              "      <td>100.46</td>\n",
              "    </tr>\n",
              "  </tbody>\n",
              "</table>\n",
              "<p>204 rows × 1 columns</p>\n",
              "</div>"
            ],
            "text/plain": [
              "               ZAB\n",
              "date              \n",
              "2002-01-01  101.82\n",
              "2002-02-01  101.88\n",
              "2002-03-01  103.03\n",
              "2002-04-01  100.82\n",
              "2002-05-01  100.62\n",
              "...            ...\n",
              "2018-08-01  100.26\n",
              "2018-09-01   99.99\n",
              "2018-10-01  100.89\n",
              "2018-11-01  100.33\n",
              "2018-12-01  100.46\n",
              "\n",
              "[204 rows x 1 columns]"
            ]
          },
          "metadata": {
            "tags": []
          },
          "execution_count": 20
        }
      ]
    },
    {
      "cell_type": "markdown",
      "metadata": {
        "id": "8Mmg2xE8jhm5"
      },
      "source": [
        "# **ARIMA**"
      ]
    },
    {
      "cell_type": "code",
      "metadata": {
        "id": "rV3tzZWSoa9n"
      },
      "source": [
        "# find best params for ARIMA\r\n",
        "stepwise_model = auto_arima(train[reg_names], test='adf', start_p=1, start_q=1, max_p=3, max_q=3, m=12, start_P=0, seasonal=True, \r\n",
        "                                D=1, d=1, max_d=4, trace=True, error_action='ignore', suppress_warnings=True, stepwise=True, information_criterion = 'aic')\r\n",
        "#                               out_of_sample_size = test.shape[0], scoring = 'mse', information_criterion = 'aicc')\r\n",
        "\r\n",
        "stepwise_model.fit(train[reg_names])\r\n",
        "future_forecast = stepwise_model.predict(n_periods=test.shape[0])\r\n",
        "future_forecast = pd.DataFrame(future_forecast, index = test.index, columns=[reg_names])\r\n",
        "\r\n",
        "plt.plot(test[reg_names], label=\"test\")\r\n",
        "plt.plot(future_forecast[reg_names], label=\"forecast\")\r\n",
        "plt.legend()\r\n",
        "\r\n",
        "print('rmse: {:.4f}'.format(mean_squared_error(test[reg_names].values, future_forecast[reg_names].values) ** 0.5))\r\n",
        "print('normed rmse: {:.4f}%'.format(mean_squared_error(test[reg_names].values, future_forecast[reg_names].values) ** 0.5 / \r\n",
        "                                    np.mean(test[reg_names].values) * 100))\r\n"
      ],
      "execution_count": null,
      "outputs": []
    },
    {
      "cell_type": "code",
      "metadata": {
        "id": "QTMEtDmJUDZx",
        "colab": {
          "base_uri": "https://localhost:8080/",
          "height": 80
        },
        "outputId": "fcf3290d-d32d-4d4e-944b-ff1f5a085140"
      },
      "source": [
        "result = pd.DataFrame(np.array(future_forecast), index = test.index, columns=['ARIMA'])\r\n",
        "result_arima = {'month/year': cpi, 'reg_names': reg_names, 'data_do': data_do, 'train_do': train_do, 'mes': mes, 'method': 'ARIMA', 'rmse': mean_squared_error(test[reg_names].values, future_forecast[reg_names].values) ** 0.5} \r\n",
        "result_rmse = result_rmse.append(result_arima, ignore_index = True) \r\n",
        "result_rmse"
      ],
      "execution_count": null,
      "outputs": [
        {
          "output_type": "execute_result",
          "data": {
            "text/html": [
              "<div>\n",
              "<style scoped>\n",
              "    .dataframe tbody tr th:only-of-type {\n",
              "        vertical-align: middle;\n",
              "    }\n",
              "\n",
              "    .dataframe tbody tr th {\n",
              "        vertical-align: top;\n",
              "    }\n",
              "\n",
              "    .dataframe thead th {\n",
              "        text-align: right;\n",
              "    }\n",
              "</style>\n",
              "<table border=\"1\" class=\"dataframe\">\n",
              "  <thead>\n",
              "    <tr style=\"text-align: right;\">\n",
              "      <th></th>\n",
              "      <th>month/year</th>\n",
              "      <th>reg_names</th>\n",
              "      <th>data_do</th>\n",
              "      <th>train_do</th>\n",
              "      <th>mes</th>\n",
              "      <th>method</th>\n",
              "      <th>rmse</th>\n",
              "    </tr>\n",
              "  </thead>\n",
              "  <tbody>\n",
              "    <tr>\n",
              "      <th>0</th>\n",
              "      <td>month</td>\n",
              "      <td>[ZAB]</td>\n",
              "      <td>2020-12-01</td>\n",
              "      <td>2019-01-01</td>\n",
              "      <td>24</td>\n",
              "      <td>ARIMA</td>\n",
              "      <td>0.345872</td>\n",
              "    </tr>\n",
              "  </tbody>\n",
              "</table>\n",
              "</div>"
            ],
            "text/plain": [
              "  month/year reg_names     data_do    train_do mes method      rmse\n",
              "0      month     [ZAB]  2020-12-01  2019-01-01  24  ARIMA  0.345872"
            ]
          },
          "metadata": {
            "tags": []
          },
          "execution_count": 22
        }
      ]
    },
    {
      "cell_type": "markdown",
      "metadata": {
        "id": "FCbKOnHN-NbY"
      },
      "source": [
        "# **ARIMAX**"
      ]
    },
    {
      "cell_type": "code",
      "metadata": {
        "id": "gsBZpxzAbYK-"
      },
      "source": [
        "exogenous_features = ['month', 'curs']"
      ],
      "execution_count": null,
      "outputs": []
    },
    {
      "cell_type": "code",
      "metadata": {
        "id": "2UvwqI5NNCgJ"
      },
      "source": [
        "# find best params for ARIMAX\r\n",
        "stepwise_model = auto_arima(train[reg_names], exogenous = train[exogenous_features], test='adf', start_p=1, start_q=1, max_p=3, max_q=3, m=12, start_P=0, seasonal=True,\r\n",
        "                            d=1, D=1, trace=True, error_action='ignore', suppress_warnings=True, stepwise=True, information_criterion = 'aic')\r\n",
        "#                            out_of_sample_size = test.shape[0], scoring = 'mse', information_criterion = 'aicc')\r\n",
        "  \r\n",
        "stepwise_model.fit(train[reg_names], exogenous = train[exogenous_features])\r\n",
        "future_forecast = stepwise_model.predict(n_periods=test.shape[0], exogenous = test[exogenous_features])\r\n",
        "future_forecast = pd.DataFrame(future_forecast, index = test.index, columns=[reg_names])\r\n",
        "\r\n",
        "plt.plot(test[reg_names], label=\"test\")\r\n",
        "plt.plot(future_forecast[reg_names], label=\"forecast\")\r\n",
        "plt.legend()\r\n",
        "\r\n",
        "print('rmse: {:.4f}'.format(mean_squared_error(test[reg_names].values, future_forecast[reg_names].values) ** 0.5))\r\n",
        "print('normed rmse: {:.4f}%'.format(mean_squared_error(test[reg_names].values, future_forecast[reg_names].values) ** 0.5 / \r\n",
        "                                    np.mean(test[reg_names].values) * 100))"
      ],
      "execution_count": null,
      "outputs": []
    },
    {
      "cell_type": "code",
      "metadata": {
        "id": "vjJsz11TUXbp"
      },
      "source": [
        "result['ARIMAX']=pd.DataFrame(np.array(future_forecast), index = test.index, columns=['ARIMAX'])"
      ],
      "execution_count": null,
      "outputs": []
    },
    {
      "cell_type": "code",
      "metadata": {
        "id": "XTf0g78KoAMW",
        "colab": {
          "base_uri": "https://localhost:8080/",
          "height": 111
        },
        "outputId": "49adeb68-ca34-452b-c72a-667b7ab80d0d"
      },
      "source": [
        "result_arimax = {'month/year': cpi, 'reg_names': reg_names, 'data_do': data_do, 'train_do': train_do, 'mes': mes, 'method': 'ARIMAX', \r\n",
        "                'rmse': mean_squared_error(test[reg_names].values, future_forecast[reg_names].values) ** 0.5} \r\n",
        "result_rmse = result_rmse.append(result_arimax, ignore_index = True) \r\n",
        "result_rmse"
      ],
      "execution_count": null,
      "outputs": [
        {
          "output_type": "execute_result",
          "data": {
            "text/html": [
              "<div>\n",
              "<style scoped>\n",
              "    .dataframe tbody tr th:only-of-type {\n",
              "        vertical-align: middle;\n",
              "    }\n",
              "\n",
              "    .dataframe tbody tr th {\n",
              "        vertical-align: top;\n",
              "    }\n",
              "\n",
              "    .dataframe thead th {\n",
              "        text-align: right;\n",
              "    }\n",
              "</style>\n",
              "<table border=\"1\" class=\"dataframe\">\n",
              "  <thead>\n",
              "    <tr style=\"text-align: right;\">\n",
              "      <th></th>\n",
              "      <th>month/year</th>\n",
              "      <th>reg_names</th>\n",
              "      <th>data_do</th>\n",
              "      <th>train_do</th>\n",
              "      <th>mes</th>\n",
              "      <th>method</th>\n",
              "      <th>rmse</th>\n",
              "    </tr>\n",
              "  </thead>\n",
              "  <tbody>\n",
              "    <tr>\n",
              "      <th>0</th>\n",
              "      <td>month</td>\n",
              "      <td>[ZAB]</td>\n",
              "      <td>2020-12-01</td>\n",
              "      <td>2019-01-01</td>\n",
              "      <td>24</td>\n",
              "      <td>ARIMA</td>\n",
              "      <td>0.345872</td>\n",
              "    </tr>\n",
              "    <tr>\n",
              "      <th>1</th>\n",
              "      <td>month</td>\n",
              "      <td>[ZAB]</td>\n",
              "      <td>2020-12-01</td>\n",
              "      <td>2019-01-01</td>\n",
              "      <td>24</td>\n",
              "      <td>ARIMAX</td>\n",
              "      <td>0.388263</td>\n",
              "    </tr>\n",
              "  </tbody>\n",
              "</table>\n",
              "</div>"
            ],
            "text/plain": [
              "  month/year reg_names     data_do    train_do mes  method      rmse\n",
              "0      month     [ZAB]  2020-12-01  2019-01-01  24   ARIMA  0.345872\n",
              "1      month     [ZAB]  2020-12-01  2019-01-01  24  ARIMAX  0.388263"
            ]
          },
          "metadata": {
            "tags": []
          },
          "execution_count": 26
        }
      ]
    },
    {
      "cell_type": "markdown",
      "metadata": {
        "id": "5V9ronJuUjly"
      },
      "source": [
        "# **Feature Engineering**"
      ]
    },
    {
      "cell_type": "code",
      "metadata": {
        "id": "Bn2o2WJxoC9V",
        "colab": {
          "base_uri": "https://localhost:8080/",
          "height": 450
        },
        "outputId": "812704c8-a1b6-4110-f3f0-52fcedbdb3e0"
      },
      "source": [
        "data_lags = pd.DataFrame()\r\n",
        "\r\n",
        "data_lags['curs'] = data['curs'].values\r\n",
        "data_lags['t'] = data[reg_names].values\r\n",
        "for i in {1, 6, 12}:\r\n",
        "    data_lags['t-'+str(i)] = data[reg_names].shift(i).values\r\n",
        "data_lags.index = data.index\r\n",
        "data_lags = data_lags[12:]\r\n",
        "data_lags['month'] = pd.DatetimeIndex(data_lags.index).month\r\n",
        "data_lags"
      ],
      "execution_count": null,
      "outputs": [
        {
          "output_type": "execute_result",
          "data": {
            "text/html": [
              "<div>\n",
              "<style scoped>\n",
              "    .dataframe tbody tr th:only-of-type {\n",
              "        vertical-align: middle;\n",
              "    }\n",
              "\n",
              "    .dataframe tbody tr th {\n",
              "        vertical-align: top;\n",
              "    }\n",
              "\n",
              "    .dataframe thead th {\n",
              "        text-align: right;\n",
              "    }\n",
              "</style>\n",
              "<table border=\"1\" class=\"dataframe\">\n",
              "  <thead>\n",
              "    <tr style=\"text-align: right;\">\n",
              "      <th></th>\n",
              "      <th>curs</th>\n",
              "      <th>t</th>\n",
              "      <th>t-1</th>\n",
              "      <th>t-12</th>\n",
              "      <th>t-6</th>\n",
              "      <th>month</th>\n",
              "    </tr>\n",
              "    <tr>\n",
              "      <th>date</th>\n",
              "      <th></th>\n",
              "      <th></th>\n",
              "      <th></th>\n",
              "      <th></th>\n",
              "      <th></th>\n",
              "      <th></th>\n",
              "    </tr>\n",
              "  </thead>\n",
              "  <tbody>\n",
              "    <tr>\n",
              "      <th>2003-01-01</th>\n",
              "      <td>31.816165</td>\n",
              "      <td>103.05</td>\n",
              "      <td>101.32</td>\n",
              "      <td>101.82</td>\n",
              "      <td>101.68</td>\n",
              "      <td>1</td>\n",
              "    </tr>\n",
              "    <tr>\n",
              "      <th>2003-02-01</th>\n",
              "      <td>31.698979</td>\n",
              "      <td>100.76</td>\n",
              "      <td>103.05</td>\n",
              "      <td>101.88</td>\n",
              "      <td>99.85</td>\n",
              "      <td>2</td>\n",
              "    </tr>\n",
              "    <tr>\n",
              "      <th>2003-03-01</th>\n",
              "      <td>31.453290</td>\n",
              "      <td>101.79</td>\n",
              "      <td>100.76</td>\n",
              "      <td>103.03</td>\n",
              "      <td>100.35</td>\n",
              "      <td>3</td>\n",
              "    </tr>\n",
              "    <tr>\n",
              "      <th>2003-04-01</th>\n",
              "      <td>31.211786</td>\n",
              "      <td>101.08</td>\n",
              "      <td>101.79</td>\n",
              "      <td>100.82</td>\n",
              "      <td>100.62</td>\n",
              "      <td>4</td>\n",
              "    </tr>\n",
              "    <tr>\n",
              "      <th>2003-05-01</th>\n",
              "      <td>30.907055</td>\n",
              "      <td>101.04</td>\n",
              "      <td>101.08</td>\n",
              "      <td>100.62</td>\n",
              "      <td>101.74</td>\n",
              "      <td>5</td>\n",
              "    </tr>\n",
              "    <tr>\n",
              "      <th>...</th>\n",
              "      <td>...</td>\n",
              "      <td>...</td>\n",
              "      <td>...</td>\n",
              "      <td>...</td>\n",
              "      <td>...</td>\n",
              "      <td>...</td>\n",
              "    </tr>\n",
              "    <tr>\n",
              "      <th>2020-08-01</th>\n",
              "      <td>73.798110</td>\n",
              "      <td>100.17</td>\n",
              "      <td>100.66</td>\n",
              "      <td>100.00</td>\n",
              "      <td>100.42</td>\n",
              "      <td>8</td>\n",
              "    </tr>\n",
              "    <tr>\n",
              "      <th>2020-09-01</th>\n",
              "      <td>75.727986</td>\n",
              "      <td>99.41</td>\n",
              "      <td>100.17</td>\n",
              "      <td>99.76</td>\n",
              "      <td>100.73</td>\n",
              "      <td>9</td>\n",
              "    </tr>\n",
              "    <tr>\n",
              "      <th>2020-10-01</th>\n",
              "      <td>77.663548</td>\n",
              "      <td>100.41</td>\n",
              "      <td>99.41</td>\n",
              "      <td>100.52</td>\n",
              "      <td>100.96</td>\n",
              "      <td>10</td>\n",
              "    </tr>\n",
              "    <tr>\n",
              "      <th>2020-11-01</th>\n",
              "      <td>76.839468</td>\n",
              "      <td>100.60</td>\n",
              "      <td>100.41</td>\n",
              "      <td>100.13</td>\n",
              "      <td>100.39</td>\n",
              "      <td>11</td>\n",
              "    </tr>\n",
              "    <tr>\n",
              "      <th>2020-12-01</th>\n",
              "      <td>74.216704</td>\n",
              "      <td>100.63</td>\n",
              "      <td>100.60</td>\n",
              "      <td>100.21</td>\n",
              "      <td>100.18</td>\n",
              "      <td>12</td>\n",
              "    </tr>\n",
              "  </tbody>\n",
              "</table>\n",
              "<p>216 rows × 6 columns</p>\n",
              "</div>"
            ],
            "text/plain": [
              "                 curs       t     t-1    t-12     t-6  month\n",
              "date                                                        \n",
              "2003-01-01  31.816165  103.05  101.32  101.82  101.68      1\n",
              "2003-02-01  31.698979  100.76  103.05  101.88   99.85      2\n",
              "2003-03-01  31.453290  101.79  100.76  103.03  100.35      3\n",
              "2003-04-01  31.211786  101.08  101.79  100.82  100.62      4\n",
              "2003-05-01  30.907055  101.04  101.08  100.62  101.74      5\n",
              "...               ...     ...     ...     ...     ...    ...\n",
              "2020-08-01  73.798110  100.17  100.66  100.00  100.42      8\n",
              "2020-09-01  75.727986   99.41  100.17   99.76  100.73      9\n",
              "2020-10-01  77.663548  100.41   99.41  100.52  100.96     10\n",
              "2020-11-01  76.839468  100.60  100.41  100.13  100.39     11\n",
              "2020-12-01  74.216704  100.63  100.60  100.21  100.18     12\n",
              "\n",
              "[216 rows x 6 columns]"
            ]
          },
          "metadata": {
            "tags": []
          },
          "execution_count": 27
        }
      ]
    },
    {
      "cell_type": "code",
      "metadata": {
        "id": "RLQP6-DzVw_1",
        "colab": {
          "base_uri": "https://localhost:8080/"
        },
        "outputId": "f3ab4402-66ec-4bf2-d3c0-1e0bac248574"
      },
      "source": [
        "df=data_lags\r\n",
        "df.reset_index(drop=False, inplace=True)\r\n",
        "lag_features = [\"t\", \"curs\"]\r\n",
        "window1 = 3\r\n",
        "window2 = 6\r\n",
        "window3 = 12\r\n",
        "\r\n",
        "df_rolled_3m = df[lag_features].rolling(window=window1, min_periods=0)\r\n",
        "df_rolled_6m = df[lag_features].rolling(window=window2, min_periods=0)\r\n",
        "df_rolled_12m = df[lag_features].rolling(window=window3, min_periods=0)\r\n",
        "\r\n",
        "df_mean_3m = df_rolled_3m.mean().shift(1).reset_index().astype(np.float32)\r\n",
        "df_mean_6m = df_rolled_6m.mean().shift(1).reset_index().astype(np.float32)\r\n",
        "df_mean_12m = df_rolled_12m.mean().shift(1).reset_index().astype(np.float32)\r\n",
        "\r\n",
        "df_std_3m = df_rolled_3m.std().shift(1).reset_index().astype(np.float32)\r\n",
        "df_std_6m = df_rolled_6m.std().shift(1).reset_index().astype(np.float32)\r\n",
        "df_std_12m = df_rolled_12m.std().shift(1).reset_index().astype(np.float32)\r\n",
        "\r\n",
        "for feature in lag_features:\r\n",
        "    df[f\"{feature}_mean_lag{window1}\"] = df_mean_3m[feature]\r\n",
        "    df[f\"{feature}_mean_lag{window2}\"] = df_mean_6m[feature]\r\n",
        "    df[f\"{feature}_mean_lag{window3}\"] = df_mean_12m[feature]\r\n",
        "    \r\n",
        "    df[f\"{feature}_std_lag{window1}\"] = df_std_3m[feature]\r\n",
        "    df[f\"{feature}_std_lag{window2}\"] = df_std_6m[feature]\r\n",
        "    df[f\"{feature}_std_lag{window3}\"] = df_std_12m[feature]\r\n",
        "\r\n",
        "df.fillna(df.mean(), inplace=True)\r\n",
        "\r\n",
        "df.set_index(\"date\", drop=True, inplace=True)\r\n"
      ],
      "execution_count": null,
      "outputs": [
        {
          "output_type": "stream",
          "text": [
            "/usr/local/lib/python3.7/dist-packages/ipykernel_launcher.py:29: FutureWarning: DataFrame.mean and DataFrame.median with numeric_only=None will include datetime64 and datetime64tz columns in a future version.\n"
          ],
          "name": "stderr"
        }
      ]
    },
    {
      "cell_type": "code",
      "metadata": {
        "id": "1uEM65WhngmI"
      },
      "source": [
        "data = df\r\n",
        "data_not = data.drop('t', axis=1)\r\n",
        "train = data[data.index < train_do]\r\n",
        "test = data[data.index >= train_do]\r\n",
        "\r\n",
        "X_train = train.drop(['t'], axis=1).values\r\n",
        "y_train = train[['t']].values.ravel()\r\n",
        "X_test = test.drop(['t'], axis=1).values\r\n",
        "y_test = test[['t']].values.ravel()"
      ],
      "execution_count": null,
      "outputs": []
    },
    {
      "cell_type": "code",
      "metadata": {
        "id": "oZ0ciSWIkq8M"
      },
      "source": [
        "# scale the data using MinMaxScaler\r\n",
        "scaler = MinMaxScaler()\r\n",
        "scaler.fit(X_train)\r\n",
        "X_train_m = scaler.transform(X_train)\r\n",
        "X_test_m = scaler.transform(X_test)"
      ],
      "execution_count": null,
      "outputs": []
    },
    {
      "cell_type": "code",
      "metadata": {
        "id": "73b5vMEVOGVd"
      },
      "source": [
        "result['y_test']=pd.DataFrame(np.array(y_test), index = test.index, columns=['y_test'])\r\n",
        "result"
      ],
      "execution_count": null,
      "outputs": []
    },
    {
      "cell_type": "markdown",
      "metadata": {
        "id": "5mRIBbaHJa7p"
      },
      "source": [
        "# **KNeighborsRegressor**"
      ]
    },
    {
      "cell_type": "code",
      "metadata": {
        "id": "Cr39fmAAjekq",
        "colab": {
          "base_uri": "https://localhost:8080/"
        },
        "outputId": "be5d74f3-4477-452e-8cbf-1b61c2921334"
      },
      "source": [
        "!pip install mglearn -q"
      ],
      "execution_count": null,
      "outputs": [
        {
          "output_type": "stream",
          "text": [
            "\u001b[?25l\r\u001b[K     |▋                               | 10kB 13.3MB/s eta 0:00:01\r\u001b[K     |█▏                              | 20kB 18.4MB/s eta 0:00:01\r\u001b[K     |█▉                              | 30kB 11.3MB/s eta 0:00:01\r\u001b[K     |██▍                             | 40kB 9.1MB/s eta 0:00:01\r\u001b[K     |███                             | 51kB 4.4MB/s eta 0:00:01\r\u001b[K     |███▋                            | 61kB 5.1MB/s eta 0:00:01\r\u001b[K     |████▎                           | 71kB 5.1MB/s eta 0:00:01\r\u001b[K     |████▉                           | 81kB 5.3MB/s eta 0:00:01\r\u001b[K     |█████▌                          | 92kB 5.6MB/s eta 0:00:01\r\u001b[K     |██████                          | 102kB 6.0MB/s eta 0:00:01\r\u001b[K     |██████▊                         | 112kB 6.0MB/s eta 0:00:01\r\u001b[K     |███████▎                        | 122kB 6.0MB/s eta 0:00:01\r\u001b[K     |███████▉                        | 133kB 6.0MB/s eta 0:00:01\r\u001b[K     |████████▌                       | 143kB 6.0MB/s eta 0:00:01\r\u001b[K     |█████████                       | 153kB 6.0MB/s eta 0:00:01\r\u001b[K     |█████████▊                      | 163kB 6.0MB/s eta 0:00:01\r\u001b[K     |██████████▎                     | 174kB 6.0MB/s eta 0:00:01\r\u001b[K     |███████████                     | 184kB 6.0MB/s eta 0:00:01\r\u001b[K     |███████████▌                    | 194kB 6.0MB/s eta 0:00:01\r\u001b[K     |████████████▏                   | 204kB 6.0MB/s eta 0:00:01\r\u001b[K     |████████████▊                   | 215kB 6.0MB/s eta 0:00:01\r\u001b[K     |█████████████▍                  | 225kB 6.0MB/s eta 0:00:01\r\u001b[K     |██████████████                  | 235kB 6.0MB/s eta 0:00:01\r\u001b[K     |██████████████▋                 | 245kB 6.0MB/s eta 0:00:01\r\u001b[K     |███████████████▏                | 256kB 6.0MB/s eta 0:00:01\r\u001b[K     |███████████████▊                | 266kB 6.0MB/s eta 0:00:01\r\u001b[K     |████████████████▍               | 276kB 6.0MB/s eta 0:00:01\r\u001b[K     |█████████████████               | 286kB 6.0MB/s eta 0:00:01\r\u001b[K     |█████████████████▋              | 296kB 6.0MB/s eta 0:00:01\r\u001b[K     |██████████████████▏             | 307kB 6.0MB/s eta 0:00:01\r\u001b[K     |██████████████████▉             | 317kB 6.0MB/s eta 0:00:01\r\u001b[K     |███████████████████▍            | 327kB 6.0MB/s eta 0:00:01\r\u001b[K     |████████████████████            | 337kB 6.0MB/s eta 0:00:01\r\u001b[K     |████████████████████▋           | 348kB 6.0MB/s eta 0:00:01\r\u001b[K     |█████████████████████▎          | 358kB 6.0MB/s eta 0:00:01\r\u001b[K     |█████████████████████▉          | 368kB 6.0MB/s eta 0:00:01\r\u001b[K     |██████████████████████▌         | 378kB 6.0MB/s eta 0:00:01\r\u001b[K     |███████████████████████         | 389kB 6.0MB/s eta 0:00:01\r\u001b[K     |███████████████████████▋        | 399kB 6.0MB/s eta 0:00:01\r\u001b[K     |████████████████████████▎       | 409kB 6.0MB/s eta 0:00:01\r\u001b[K     |████████████████████████▉       | 419kB 6.0MB/s eta 0:00:01\r\u001b[K     |█████████████████████████▌      | 430kB 6.0MB/s eta 0:00:01\r\u001b[K     |██████████████████████████      | 440kB 6.0MB/s eta 0:00:01\r\u001b[K     |██████████████████████████▊     | 450kB 6.0MB/s eta 0:00:01\r\u001b[K     |███████████████████████████▎    | 460kB 6.0MB/s eta 0:00:01\r\u001b[K     |████████████████████████████    | 471kB 6.0MB/s eta 0:00:01\r\u001b[K     |████████████████████████████▌   | 481kB 6.0MB/s eta 0:00:01\r\u001b[K     |█████████████████████████████▏  | 491kB 6.0MB/s eta 0:00:01\r\u001b[K     |█████████████████████████████▊  | 501kB 6.0MB/s eta 0:00:01\r\u001b[K     |██████████████████████████████▍ | 512kB 6.0MB/s eta 0:00:01\r\u001b[K     |███████████████████████████████ | 522kB 6.0MB/s eta 0:00:01\r\u001b[K     |███████████████████████████████▌| 532kB 6.0MB/s eta 0:00:01\r\u001b[K     |████████████████████████████████| 542kB 6.0MB/s \n",
            "\u001b[?25h  Building wheel for mglearn (setup.py) ... \u001b[?25l\u001b[?25hdone\n"
          ],
          "name": "stdout"
        }
      ]
    },
    {
      "cell_type": "code",
      "metadata": {
        "id": "RYnAr54VJd14",
        "colab": {
          "base_uri": "https://localhost:8080/"
        },
        "outputId": "4356543d-5392-4694-85f9-268b47249048"
      },
      "source": [
        "from sklearn.datasets import make_blobs\r\n",
        "import mglearn\r\n",
        "from sklearn.neighbors import KNeighborsRegressor\r\n",
        "\r\n",
        "# instantiate the model \r\n",
        "KNmodel = KNeighborsRegressor(n_neighbors=5)\r\n",
        "# fit the model using the training data and training targets\r\n",
        "KNmodel.fit(X_train, y_train)\r\n",
        "\r\n",
        "print(\"Training set score: {:.2f}\".format(KNmodel.score(X_train, y_train)))\r\n",
        "print(\"Test set score: {:.2f}\".format(KNmodel.score(X_test, y_test)))\r\n",
        "\r\n",
        "forecast = KNmodel.predict(X_test)\r\n",
        "print('rmse: {:.4f}'.format(mean_squared_error(y_test, forecast) ** 0.5))\r\n",
        "print('normed rmse: {:.4f}%'.format(mean_squared_error(y_test, forecast) ** 0.5 / np.mean(y_test) * 100))"
      ],
      "execution_count": null,
      "outputs": [
        {
          "output_type": "stream",
          "text": [
            "Training set score: 0.56\n",
            "Test set score: -0.01\n",
            "rmse: 0.3337\n",
            "normed rmse: 0.3325%\n"
          ],
          "name": "stdout"
        }
      ]
    },
    {
      "cell_type": "code",
      "metadata": {
        "id": "A0V_LhPe4Kby",
        "colab": {
          "base_uri": "https://localhost:8080/",
          "height": 142
        },
        "outputId": "c1b46798-8e2d-483e-893b-fc9aff08ca2d"
      },
      "source": [
        "result['KNR']=pd.DataFrame(np.array(forecast), index = test.index, columns=['KNR'])\r\n",
        "result_KNR = {'month/year': cpi, 'reg_names': reg_names, 'data_do': data_do, 'train_do': train_do, 'mes': mes, 'method': 'KNR', \r\n",
        "                'rmse': mean_squared_error(y_test, forecast) ** 0.5} \r\n",
        "result_rmse = result_rmse.append(result_KNR, ignore_index = True) \r\n",
        "result_rmse"
      ],
      "execution_count": null,
      "outputs": [
        {
          "output_type": "execute_result",
          "data": {
            "text/html": [
              "<div>\n",
              "<style scoped>\n",
              "    .dataframe tbody tr th:only-of-type {\n",
              "        vertical-align: middle;\n",
              "    }\n",
              "\n",
              "    .dataframe tbody tr th {\n",
              "        vertical-align: top;\n",
              "    }\n",
              "\n",
              "    .dataframe thead th {\n",
              "        text-align: right;\n",
              "    }\n",
              "</style>\n",
              "<table border=\"1\" class=\"dataframe\">\n",
              "  <thead>\n",
              "    <tr style=\"text-align: right;\">\n",
              "      <th></th>\n",
              "      <th>month/year</th>\n",
              "      <th>reg_names</th>\n",
              "      <th>data_do</th>\n",
              "      <th>train_do</th>\n",
              "      <th>mes</th>\n",
              "      <th>method</th>\n",
              "      <th>rmse</th>\n",
              "    </tr>\n",
              "  </thead>\n",
              "  <tbody>\n",
              "    <tr>\n",
              "      <th>0</th>\n",
              "      <td>month</td>\n",
              "      <td>[ZAB]</td>\n",
              "      <td>2020-12-01</td>\n",
              "      <td>2019-01-01</td>\n",
              "      <td>24</td>\n",
              "      <td>ARIMA</td>\n",
              "      <td>0.345872</td>\n",
              "    </tr>\n",
              "    <tr>\n",
              "      <th>1</th>\n",
              "      <td>month</td>\n",
              "      <td>[ZAB]</td>\n",
              "      <td>2020-12-01</td>\n",
              "      <td>2019-01-01</td>\n",
              "      <td>24</td>\n",
              "      <td>ARIMAX</td>\n",
              "      <td>0.388263</td>\n",
              "    </tr>\n",
              "    <tr>\n",
              "      <th>2</th>\n",
              "      <td>month</td>\n",
              "      <td>[ZAB]</td>\n",
              "      <td>2020-12-01</td>\n",
              "      <td>2019-01-01</td>\n",
              "      <td>24</td>\n",
              "      <td>KNR</td>\n",
              "      <td>0.333741</td>\n",
              "    </tr>\n",
              "  </tbody>\n",
              "</table>\n",
              "</div>"
            ],
            "text/plain": [
              "  month/year reg_names     data_do    train_do mes  method      rmse\n",
              "0      month     [ZAB]  2020-12-01  2019-01-01  24   ARIMA  0.345872\n",
              "1      month     [ZAB]  2020-12-01  2019-01-01  24  ARIMAX  0.388263\n",
              "2      month     [ZAB]  2020-12-01  2019-01-01  24     KNR  0.333741"
            ]
          },
          "metadata": {
            "tags": []
          },
          "execution_count": 34
        }
      ]
    },
    {
      "cell_type": "markdown",
      "metadata": {
        "id": "jjRQP9EcnxYm"
      },
      "source": [
        "# **OLS**"
      ]
    },
    {
      "cell_type": "code",
      "metadata": {
        "id": "cAJiG4r2Zq7A"
      },
      "source": [
        "# scale the data using MinMaxScaler\r\n",
        "scaler = MinMaxScaler()\r\n",
        "scaler.fit(X_train)\r\n",
        "X_train_m = scaler.transform(X_train)\r\n",
        "X_test_m = scaler.transform(X_test)"
      ],
      "execution_count": null,
      "outputs": []
    },
    {
      "cell_type": "code",
      "metadata": {
        "id": "nLGb05AdnrJU",
        "colab": {
          "base_uri": "https://localhost:8080/"
        },
        "outputId": "4c7deb5b-d25f-41d5-f2fe-518a293ceefd"
      },
      "source": [
        "from sklearn.linear_model import LinearRegression\r\n",
        "lr = LinearRegression().fit(X_train_m, y_train)\r\n",
        "print(\"Training set score: {:.2f}\".format(lr.score(X_train_m, y_train)))\r\n",
        "print(\"Test set score: {:.2f}\".format(lr.score(X_test_m, y_test)))\r\n",
        "\r\n",
        "forecast = lr.predict(X_test_m)\r\n",
        "print('rmse: {:.4f}'.format(mean_squared_error(y_test, forecast) ** 0.5))\r\n",
        "print('normed rmse: {:.4f}%'.format(mean_squared_error(y_test, forecast) ** 0.5 / np.mean(y_test) * 100))"
      ],
      "execution_count": null,
      "outputs": [
        {
          "output_type": "stream",
          "text": [
            "Training set score: 0.40\n",
            "Test set score: -0.70\n",
            "rmse: 0.4324\n",
            "normed rmse: 0.4308%\n"
          ],
          "name": "stdout"
        }
      ]
    },
    {
      "cell_type": "code",
      "metadata": {
        "id": "wL3GE1rO0qpy",
        "colab": {
          "base_uri": "https://localhost:8080/",
          "height": 173
        },
        "outputId": "d494804d-6e73-40bd-b6ba-fe7bdd4b990c"
      },
      "source": [
        "result['OLS']=pd.DataFrame(np.array(forecast), index = test.index, columns=['OLS'])\r\n",
        "result_OLS = {'month/year': cpi, 'reg_names': reg_names, 'data_do': data_do, 'train_do': train_do, 'mes': mes, 'method': 'OLS', \r\n",
        "                'rmse': mean_squared_error(y_test, forecast) ** 0.5} \r\n",
        "result_rmse = result_rmse.append(result_OLS, ignore_index = True) \r\n",
        "result_rmse"
      ],
      "execution_count": null,
      "outputs": [
        {
          "output_type": "execute_result",
          "data": {
            "text/html": [
              "<div>\n",
              "<style scoped>\n",
              "    .dataframe tbody tr th:only-of-type {\n",
              "        vertical-align: middle;\n",
              "    }\n",
              "\n",
              "    .dataframe tbody tr th {\n",
              "        vertical-align: top;\n",
              "    }\n",
              "\n",
              "    .dataframe thead th {\n",
              "        text-align: right;\n",
              "    }\n",
              "</style>\n",
              "<table border=\"1\" class=\"dataframe\">\n",
              "  <thead>\n",
              "    <tr style=\"text-align: right;\">\n",
              "      <th></th>\n",
              "      <th>month/year</th>\n",
              "      <th>reg_names</th>\n",
              "      <th>data_do</th>\n",
              "      <th>train_do</th>\n",
              "      <th>mes</th>\n",
              "      <th>method</th>\n",
              "      <th>rmse</th>\n",
              "    </tr>\n",
              "  </thead>\n",
              "  <tbody>\n",
              "    <tr>\n",
              "      <th>0</th>\n",
              "      <td>month</td>\n",
              "      <td>[ZAB]</td>\n",
              "      <td>2020-12-01</td>\n",
              "      <td>2019-01-01</td>\n",
              "      <td>24</td>\n",
              "      <td>ARIMA</td>\n",
              "      <td>0.345872</td>\n",
              "    </tr>\n",
              "    <tr>\n",
              "      <th>1</th>\n",
              "      <td>month</td>\n",
              "      <td>[ZAB]</td>\n",
              "      <td>2020-12-01</td>\n",
              "      <td>2019-01-01</td>\n",
              "      <td>24</td>\n",
              "      <td>ARIMAX</td>\n",
              "      <td>0.388263</td>\n",
              "    </tr>\n",
              "    <tr>\n",
              "      <th>2</th>\n",
              "      <td>month</td>\n",
              "      <td>[ZAB]</td>\n",
              "      <td>2020-12-01</td>\n",
              "      <td>2019-01-01</td>\n",
              "      <td>24</td>\n",
              "      <td>KNR</td>\n",
              "      <td>0.333741</td>\n",
              "    </tr>\n",
              "    <tr>\n",
              "      <th>3</th>\n",
              "      <td>month</td>\n",
              "      <td>[ZAB]</td>\n",
              "      <td>2020-12-01</td>\n",
              "      <td>2019-01-01</td>\n",
              "      <td>24</td>\n",
              "      <td>OLS</td>\n",
              "      <td>0.432416</td>\n",
              "    </tr>\n",
              "  </tbody>\n",
              "</table>\n",
              "</div>"
            ],
            "text/plain": [
              "  month/year reg_names     data_do    train_do mes  method      rmse\n",
              "0      month     [ZAB]  2020-12-01  2019-01-01  24   ARIMA  0.345872\n",
              "1      month     [ZAB]  2020-12-01  2019-01-01  24  ARIMAX  0.388263\n",
              "2      month     [ZAB]  2020-12-01  2019-01-01  24     KNR  0.333741\n",
              "3      month     [ZAB]  2020-12-01  2019-01-01  24     OLS  0.432416"
            ]
          },
          "metadata": {
            "tags": []
          },
          "execution_count": 37
        }
      ]
    },
    {
      "cell_type": "markdown",
      "metadata": {
        "id": "yYAfTf3Vp6On"
      },
      "source": [
        "# **Ridge (l2-regularisation)**"
      ]
    },
    {
      "cell_type": "code",
      "metadata": {
        "id": "73rpSCnsp87U",
        "colab": {
          "base_uri": "https://localhost:8080/"
        },
        "outputId": "4a9076ba-7e7e-4648-ef3d-0dc02637d9a2"
      },
      "source": [
        "ridge = Ridge().fit(X_train, y_train)\r\n",
        "print(\"Training set score: {:.2f}\".format(ridge.score(X_train, y_train)))\r\n",
        "print(\"Test set score: {:.2f}\".format(ridge.score(X_test, y_test)))\r\n",
        "\r\n",
        "forecast = ridge.predict(X_test)\r\n",
        "print('rmse: {:.5f}'.format(mean_squared_error(y_test, forecast) ** 0.5))\r\n",
        "print('normed rmse: {:.2f}%'.format(mean_squared_error(y_test, forecast) ** 0.5 / np.mean(y_test) * 100))"
      ],
      "execution_count": null,
      "outputs": [
        {
          "output_type": "stream",
          "text": [
            "Training set score: 0.39\n",
            "Test set score: -0.72\n",
            "rmse: 0.43547\n",
            "normed rmse: 0.43%\n"
          ],
          "name": "stdout"
        }
      ]
    },
    {
      "cell_type": "code",
      "metadata": {
        "colab": {
          "base_uri": "https://localhost:8080/"
        },
        "id": "movS8JqQpr_g",
        "outputId": "606ec642-4fdb-40c7-a8cb-70f1c34851cc"
      },
      "source": [
        "param_grid = {'ridge__alpha': [0.001, 0.01, 0.1, 1, 10, 100]}\r\n",
        "pipe = make_pipeline(MinMaxScaler(), Ridge())\r\n",
        "GSRidge = GridSearchCV(pipe, param_grid, cv=5)\r\n",
        "GSRidge.fit(X_train, y_train)\r\n",
        "print(\"Score without poly features: {:.2f}\".format(GSRidge.score(X_test, y_test)))\r\n",
        "\r\n",
        "print(\"Training set score: {:.2f}\".format(GSRidge.score(X_train, y_train)))\r\n",
        "print(\"Test set score: {:.2f}\".format(GSRidge.score(X_test, y_test)))\r\n",
        "\r\n",
        "forecast = GSRidge.predict(X_test)\r\n",
        "print('rmse: {:.5f}'.format(mean_squared_error(y_test, forecast) ** 0.5))\r\n",
        "print('normed rmse: {:.2f}%'.format(mean_squared_error(y_test, forecast) ** 0.5 / np.mean(y_test) * 100))\r\n"
      ],
      "execution_count": null,
      "outputs": [
        {
          "output_type": "stream",
          "text": [
            "Score without poly features: -0.03\n",
            "Training set score: 0.37\n",
            "Test set score: -0.03\n",
            "rmse: 0.33734\n",
            "normed rmse: 0.34%\n"
          ],
          "name": "stdout"
        }
      ]
    },
    {
      "cell_type": "code",
      "metadata": {
        "id": "RQJcSD2SY4qv",
        "colab": {
          "base_uri": "https://localhost:8080/",
          "height": 204
        },
        "outputId": "3dfcfdb9-339f-48ef-95c5-28edea4bde6f"
      },
      "source": [
        "result['Ridge']=pd.DataFrame(np.array(forecast), index = test.index, columns=['Ridge'])\r\n",
        "result_Ridge = {'month/year': cpi, 'reg_names': reg_names, 'data_do': data_do, 'train_do': train_do, 'mes': mes, 'method': 'Ridge', \r\n",
        "                'rmse': mean_squared_error(y_test, forecast) ** 0.5} \r\n",
        "result_rmse = result_rmse.append(result_Ridge, ignore_index = True) \r\n",
        "result_rmse"
      ],
      "execution_count": null,
      "outputs": [
        {
          "output_type": "execute_result",
          "data": {
            "text/html": [
              "<div>\n",
              "<style scoped>\n",
              "    .dataframe tbody tr th:only-of-type {\n",
              "        vertical-align: middle;\n",
              "    }\n",
              "\n",
              "    .dataframe tbody tr th {\n",
              "        vertical-align: top;\n",
              "    }\n",
              "\n",
              "    .dataframe thead th {\n",
              "        text-align: right;\n",
              "    }\n",
              "</style>\n",
              "<table border=\"1\" class=\"dataframe\">\n",
              "  <thead>\n",
              "    <tr style=\"text-align: right;\">\n",
              "      <th></th>\n",
              "      <th>month/year</th>\n",
              "      <th>reg_names</th>\n",
              "      <th>data_do</th>\n",
              "      <th>train_do</th>\n",
              "      <th>mes</th>\n",
              "      <th>method</th>\n",
              "      <th>rmse</th>\n",
              "    </tr>\n",
              "  </thead>\n",
              "  <tbody>\n",
              "    <tr>\n",
              "      <th>0</th>\n",
              "      <td>month</td>\n",
              "      <td>[ZAB]</td>\n",
              "      <td>2020-12-01</td>\n",
              "      <td>2019-01-01</td>\n",
              "      <td>24</td>\n",
              "      <td>ARIMA</td>\n",
              "      <td>0.345872</td>\n",
              "    </tr>\n",
              "    <tr>\n",
              "      <th>1</th>\n",
              "      <td>month</td>\n",
              "      <td>[ZAB]</td>\n",
              "      <td>2020-12-01</td>\n",
              "      <td>2019-01-01</td>\n",
              "      <td>24</td>\n",
              "      <td>ARIMAX</td>\n",
              "      <td>0.388263</td>\n",
              "    </tr>\n",
              "    <tr>\n",
              "      <th>2</th>\n",
              "      <td>month</td>\n",
              "      <td>[ZAB]</td>\n",
              "      <td>2020-12-01</td>\n",
              "      <td>2019-01-01</td>\n",
              "      <td>24</td>\n",
              "      <td>KNR</td>\n",
              "      <td>0.333741</td>\n",
              "    </tr>\n",
              "    <tr>\n",
              "      <th>3</th>\n",
              "      <td>month</td>\n",
              "      <td>[ZAB]</td>\n",
              "      <td>2020-12-01</td>\n",
              "      <td>2019-01-01</td>\n",
              "      <td>24</td>\n",
              "      <td>OLS</td>\n",
              "      <td>0.432416</td>\n",
              "    </tr>\n",
              "    <tr>\n",
              "      <th>4</th>\n",
              "      <td>month</td>\n",
              "      <td>[ZAB]</td>\n",
              "      <td>2020-12-01</td>\n",
              "      <td>2019-01-01</td>\n",
              "      <td>24</td>\n",
              "      <td>Ridge</td>\n",
              "      <td>0.337345</td>\n",
              "    </tr>\n",
              "  </tbody>\n",
              "</table>\n",
              "</div>"
            ],
            "text/plain": [
              "  month/year reg_names     data_do    train_do mes  method      rmse\n",
              "0      month     [ZAB]  2020-12-01  2019-01-01  24   ARIMA  0.345872\n",
              "1      month     [ZAB]  2020-12-01  2019-01-01  24  ARIMAX  0.388263\n",
              "2      month     [ZAB]  2020-12-01  2019-01-01  24     KNR  0.333741\n",
              "3      month     [ZAB]  2020-12-01  2019-01-01  24     OLS  0.432416\n",
              "4      month     [ZAB]  2020-12-01  2019-01-01  24   Ridge  0.337345"
            ]
          },
          "metadata": {
            "tags": []
          },
          "execution_count": 40
        }
      ]
    },
    {
      "cell_type": "markdown",
      "metadata": {
        "id": "6zMFKLQuvvb-"
      },
      "source": [
        "# **Lasso (l1-regularisation)**"
      ]
    },
    {
      "cell_type": "code",
      "metadata": {
        "id": "8R9Xuq78YUSe"
      },
      "source": [
        "# scale the data using MinMaxScaler\r\n",
        "scaler = MinMaxScaler()\r\n",
        "scaler.fit(X_train)\r\n",
        "X_train_m = scaler.transform(X_train)\r\n",
        "X_test_m = scaler.transform(X_test)"
      ],
      "execution_count": null,
      "outputs": []
    },
    {
      "cell_type": "code",
      "metadata": {
        "id": "vCU4UKIHwKpo",
        "colab": {
          "base_uri": "https://localhost:8080/"
        },
        "outputId": "9593cb50-e489-4725-d31e-49eea2031925"
      },
      "source": [
        "# we increase the default setting of \"max_iter\",\r\n",
        "# otherwise the model would warn us that we should increase max_iter.\r\n",
        "lasso001 = Lasso(alpha=0.01, max_iter=100000).fit(X_train_m, y_train)\r\n",
        "print(\"Training set score: {:.2f}\".format(lasso001.score(X_train_m, y_train)))\r\n",
        "print(\"Test set score: {:.2f}\".format(lasso001.score(X_test_m, y_test)))\r\n",
        "print(\"Number of features used:\", np.sum(lasso001.coef_ != 0))\r\n",
        "\r\n",
        "forecast = lasso001.predict(X_test_m)\r\n",
        "print('rmse: {:.5f}'.format(mean_squared_error(y_test, forecast) ** 0.5))\r\n",
        "print('normed rmse: {:.2f}%'.format(mean_squared_error(y_test, forecast) ** 0.5 / np.mean(y_test) * 100))"
      ],
      "execution_count": null,
      "outputs": [
        {
          "output_type": "stream",
          "text": [
            "Training set score: 0.31\n",
            "Test set score: 0.14\n",
            "Number of features used: 5\n",
            "rmse: 0.30674\n",
            "normed rmse: 0.31%\n"
          ],
          "name": "stdout"
        }
      ]
    },
    {
      "cell_type": "code",
      "metadata": {
        "id": "n3OH1F4zZFDS",
        "colab": {
          "base_uri": "https://localhost:8080/",
          "height": 235
        },
        "outputId": "574fdbbc-767a-45dd-b6d2-02bd34934e5d"
      },
      "source": [
        "result['Lasso']=pd.DataFrame(np.array(forecast), index = test.index, columns=['Lasso'])\r\n",
        "result_Lasso = {'month/year': cpi, 'reg_names': reg_names, 'data_do': data_do, 'train_do': train_do, 'mes': mes, 'method': 'Lasso', \r\n",
        "                'rmse': mean_squared_error(y_test, forecast) ** 0.5} \r\n",
        "result_rmse = result_rmse.append(result_Lasso, ignore_index = True) \r\n",
        "result_rmse"
      ],
      "execution_count": null,
      "outputs": [
        {
          "output_type": "execute_result",
          "data": {
            "text/html": [
              "<div>\n",
              "<style scoped>\n",
              "    .dataframe tbody tr th:only-of-type {\n",
              "        vertical-align: middle;\n",
              "    }\n",
              "\n",
              "    .dataframe tbody tr th {\n",
              "        vertical-align: top;\n",
              "    }\n",
              "\n",
              "    .dataframe thead th {\n",
              "        text-align: right;\n",
              "    }\n",
              "</style>\n",
              "<table border=\"1\" class=\"dataframe\">\n",
              "  <thead>\n",
              "    <tr style=\"text-align: right;\">\n",
              "      <th></th>\n",
              "      <th>month/year</th>\n",
              "      <th>reg_names</th>\n",
              "      <th>data_do</th>\n",
              "      <th>train_do</th>\n",
              "      <th>mes</th>\n",
              "      <th>method</th>\n",
              "      <th>rmse</th>\n",
              "    </tr>\n",
              "  </thead>\n",
              "  <tbody>\n",
              "    <tr>\n",
              "      <th>0</th>\n",
              "      <td>month</td>\n",
              "      <td>[ZAB]</td>\n",
              "      <td>2020-12-01</td>\n",
              "      <td>2019-01-01</td>\n",
              "      <td>24</td>\n",
              "      <td>ARIMA</td>\n",
              "      <td>0.345872</td>\n",
              "    </tr>\n",
              "    <tr>\n",
              "      <th>1</th>\n",
              "      <td>month</td>\n",
              "      <td>[ZAB]</td>\n",
              "      <td>2020-12-01</td>\n",
              "      <td>2019-01-01</td>\n",
              "      <td>24</td>\n",
              "      <td>ARIMAX</td>\n",
              "      <td>0.388263</td>\n",
              "    </tr>\n",
              "    <tr>\n",
              "      <th>2</th>\n",
              "      <td>month</td>\n",
              "      <td>[ZAB]</td>\n",
              "      <td>2020-12-01</td>\n",
              "      <td>2019-01-01</td>\n",
              "      <td>24</td>\n",
              "      <td>KNR</td>\n",
              "      <td>0.333741</td>\n",
              "    </tr>\n",
              "    <tr>\n",
              "      <th>3</th>\n",
              "      <td>month</td>\n",
              "      <td>[ZAB]</td>\n",
              "      <td>2020-12-01</td>\n",
              "      <td>2019-01-01</td>\n",
              "      <td>24</td>\n",
              "      <td>OLS</td>\n",
              "      <td>0.432416</td>\n",
              "    </tr>\n",
              "    <tr>\n",
              "      <th>4</th>\n",
              "      <td>month</td>\n",
              "      <td>[ZAB]</td>\n",
              "      <td>2020-12-01</td>\n",
              "      <td>2019-01-01</td>\n",
              "      <td>24</td>\n",
              "      <td>Ridge</td>\n",
              "      <td>0.337345</td>\n",
              "    </tr>\n",
              "    <tr>\n",
              "      <th>5</th>\n",
              "      <td>month</td>\n",
              "      <td>[ZAB]</td>\n",
              "      <td>2020-12-01</td>\n",
              "      <td>2019-01-01</td>\n",
              "      <td>24</td>\n",
              "      <td>Lasso</td>\n",
              "      <td>0.306738</td>\n",
              "    </tr>\n",
              "  </tbody>\n",
              "</table>\n",
              "</div>"
            ],
            "text/plain": [
              "  month/year reg_names     data_do    train_do mes  method      rmse\n",
              "0      month     [ZAB]  2020-12-01  2019-01-01  24   ARIMA  0.345872\n",
              "1      month     [ZAB]  2020-12-01  2019-01-01  24  ARIMAX  0.388263\n",
              "2      month     [ZAB]  2020-12-01  2019-01-01  24     KNR  0.333741\n",
              "3      month     [ZAB]  2020-12-01  2019-01-01  24     OLS  0.432416\n",
              "4      month     [ZAB]  2020-12-01  2019-01-01  24   Ridge  0.337345\n",
              "5      month     [ZAB]  2020-12-01  2019-01-01  24   Lasso  0.306738"
            ]
          },
          "metadata": {
            "tags": []
          },
          "execution_count": 43
        }
      ]
    },
    {
      "cell_type": "markdown",
      "metadata": {
        "id": "89Wk2X8YywhK"
      },
      "source": [
        "# **ElasticNet (l1+l2-regularisation)**"
      ]
    },
    {
      "cell_type": "code",
      "metadata": {
        "id": "9bLvKIBNxmtY",
        "colab": {
          "base_uri": "https://localhost:8080/"
        },
        "outputId": "5dabf890-9cbe-4776-ebc6-773fc427b05a"
      },
      "source": [
        "from sklearn.linear_model import ElasticNet\r\n",
        "ENmodel = ElasticNet(alpha=0.1, max_iter=100000).fit(X_train, y_train)\r\n",
        "\r\n",
        "print(\"Training set score: {:.2f}\".format(ENmodel.score(X_train, y_train)))\r\n",
        "print(\"Test set score: {:.2f}\".format(ENmodel.score(X_test, y_test)))\r\n",
        "print(\"Number of features used:\", np.sum(ENmodel.coef_ != 0))\r\n",
        "\r\n",
        "forecast = ENmodel.predict(X_test)\r\n",
        "print('rmse: {:.5f}'.format(mean_squared_error(y_test, forecast) ** 0.5))\r\n",
        "print('normed rmse: {:.2f}%'.format(mean_squared_error(y_test, forecast) ** 0.5 / np.mean(y_test) * 100))"
      ],
      "execution_count": null,
      "outputs": [
        {
          "output_type": "stream",
          "text": [
            "Training set score: 0.32\n",
            "Test set score: -0.03\n",
            "Number of features used: 7\n",
            "rmse: 0.33659\n",
            "normed rmse: 0.34%\n"
          ],
          "name": "stdout"
        }
      ]
    },
    {
      "cell_type": "code",
      "metadata": {
        "id": "o-v_7zc8ZPc3",
        "colab": {
          "base_uri": "https://localhost:8080/",
          "height": 266
        },
        "outputId": "5f5a751c-9153-486e-c990-ad90f9664fe5"
      },
      "source": [
        "result['ElasticNet']=pd.DataFrame(np.array(forecast), index = test.index, columns=['ElasticNet'])\r\n",
        "result_ElasticNet = {'month/year': cpi, 'reg_names': reg_names, 'data_do': data_do, 'train_do': train_do, 'mes': mes, 'method': 'ElasticNet', \r\n",
        "                'rmse': mean_squared_error(y_test, forecast) ** 0.5} \r\n",
        "result_rmse = result_rmse.append(result_ElasticNet, ignore_index = True) \r\n",
        "result_rmse"
      ],
      "execution_count": null,
      "outputs": [
        {
          "output_type": "execute_result",
          "data": {
            "text/html": [
              "<div>\n",
              "<style scoped>\n",
              "    .dataframe tbody tr th:only-of-type {\n",
              "        vertical-align: middle;\n",
              "    }\n",
              "\n",
              "    .dataframe tbody tr th {\n",
              "        vertical-align: top;\n",
              "    }\n",
              "\n",
              "    .dataframe thead th {\n",
              "        text-align: right;\n",
              "    }\n",
              "</style>\n",
              "<table border=\"1\" class=\"dataframe\">\n",
              "  <thead>\n",
              "    <tr style=\"text-align: right;\">\n",
              "      <th></th>\n",
              "      <th>month/year</th>\n",
              "      <th>reg_names</th>\n",
              "      <th>data_do</th>\n",
              "      <th>train_do</th>\n",
              "      <th>mes</th>\n",
              "      <th>method</th>\n",
              "      <th>rmse</th>\n",
              "    </tr>\n",
              "  </thead>\n",
              "  <tbody>\n",
              "    <tr>\n",
              "      <th>0</th>\n",
              "      <td>month</td>\n",
              "      <td>[ZAB]</td>\n",
              "      <td>2020-12-01</td>\n",
              "      <td>2019-01-01</td>\n",
              "      <td>24</td>\n",
              "      <td>ARIMA</td>\n",
              "      <td>0.345872</td>\n",
              "    </tr>\n",
              "    <tr>\n",
              "      <th>1</th>\n",
              "      <td>month</td>\n",
              "      <td>[ZAB]</td>\n",
              "      <td>2020-12-01</td>\n",
              "      <td>2019-01-01</td>\n",
              "      <td>24</td>\n",
              "      <td>ARIMAX</td>\n",
              "      <td>0.388263</td>\n",
              "    </tr>\n",
              "    <tr>\n",
              "      <th>2</th>\n",
              "      <td>month</td>\n",
              "      <td>[ZAB]</td>\n",
              "      <td>2020-12-01</td>\n",
              "      <td>2019-01-01</td>\n",
              "      <td>24</td>\n",
              "      <td>KNR</td>\n",
              "      <td>0.333741</td>\n",
              "    </tr>\n",
              "    <tr>\n",
              "      <th>3</th>\n",
              "      <td>month</td>\n",
              "      <td>[ZAB]</td>\n",
              "      <td>2020-12-01</td>\n",
              "      <td>2019-01-01</td>\n",
              "      <td>24</td>\n",
              "      <td>OLS</td>\n",
              "      <td>0.432416</td>\n",
              "    </tr>\n",
              "    <tr>\n",
              "      <th>4</th>\n",
              "      <td>month</td>\n",
              "      <td>[ZAB]</td>\n",
              "      <td>2020-12-01</td>\n",
              "      <td>2019-01-01</td>\n",
              "      <td>24</td>\n",
              "      <td>Ridge</td>\n",
              "      <td>0.337345</td>\n",
              "    </tr>\n",
              "    <tr>\n",
              "      <th>5</th>\n",
              "      <td>month</td>\n",
              "      <td>[ZAB]</td>\n",
              "      <td>2020-12-01</td>\n",
              "      <td>2019-01-01</td>\n",
              "      <td>24</td>\n",
              "      <td>Lasso</td>\n",
              "      <td>0.306738</td>\n",
              "    </tr>\n",
              "    <tr>\n",
              "      <th>6</th>\n",
              "      <td>month</td>\n",
              "      <td>[ZAB]</td>\n",
              "      <td>2020-12-01</td>\n",
              "      <td>2019-01-01</td>\n",
              "      <td>24</td>\n",
              "      <td>ElasticNet</td>\n",
              "      <td>0.336595</td>\n",
              "    </tr>\n",
              "  </tbody>\n",
              "</table>\n",
              "</div>"
            ],
            "text/plain": [
              "  month/year reg_names     data_do    train_do mes      method      rmse\n",
              "0      month     [ZAB]  2020-12-01  2019-01-01  24       ARIMA  0.345872\n",
              "1      month     [ZAB]  2020-12-01  2019-01-01  24      ARIMAX  0.388263\n",
              "2      month     [ZAB]  2020-12-01  2019-01-01  24         KNR  0.333741\n",
              "3      month     [ZAB]  2020-12-01  2019-01-01  24         OLS  0.432416\n",
              "4      month     [ZAB]  2020-12-01  2019-01-01  24       Ridge  0.337345\n",
              "5      month     [ZAB]  2020-12-01  2019-01-01  24       Lasso  0.306738\n",
              "6      month     [ZAB]  2020-12-01  2019-01-01  24  ElasticNet  0.336595"
            ]
          },
          "metadata": {
            "tags": []
          },
          "execution_count": 45
        }
      ]
    },
    {
      "cell_type": "markdown",
      "metadata": {
        "id": "YBAkRHDAz_JA"
      },
      "source": [
        "# **DecisionTree**"
      ]
    },
    {
      "cell_type": "code",
      "metadata": {
        "id": "XwUn6_r356Su"
      },
      "source": [
        "from sklearn.tree import DecisionTreeRegressor"
      ],
      "execution_count": null,
      "outputs": []
    },
    {
      "cell_type": "code",
      "metadata": {
        "id": "-4kpwm0uz8mD",
        "colab": {
          "base_uri": "https://localhost:8080/",
          "height": 365
        },
        "outputId": "24798425-f28f-4441-9071-544fb1f9a52e"
      },
      "source": [
        "from sklearn.tree import DecisionTreeRegressor\r\n",
        "\r\n",
        "tree = DecisionTreeRegressor(max_depth=5, random_state=0)\r\n",
        "tree.fit(X_train, y_train)\r\n",
        "print(\"Accuracy on training set: {:.3f}\".format(tree.score(X_train, y_train)))\r\n",
        "print(\"Accuracy on test set: {:.3f}\".format(tree.score(X_test, y_test)))\r\n",
        "\r\n",
        "forecast = tree.predict(X_test)\r\n",
        "print('rmse: {:.5f}'.format(mean_squared_error(y_test, forecast) ** 0.5))\r\n",
        "print('normed rmse: {:.2f}%'.format(mean_squared_error(y_test, forecast) ** 0.5 / np.mean(y_test) * 100))\r\n",
        "\r\n",
        "result['DecisionTree']=pd.DataFrame(np.array(forecast), index = test.index, columns=['DecisionTree'])\r\n",
        "\r\n",
        "result_DT = {'month/year': cpi, 'reg_names': reg_names, 'data_do': data_do, 'train_do': train_do, 'mes': mes, 'method': 'DT', \r\n",
        "                'rmse': mean_squared_error(y_test, forecast) ** 0.5} \r\n",
        "result_rmse = result_rmse.append(result_DT, ignore_index = True) \r\n",
        "result_rmse"
      ],
      "execution_count": null,
      "outputs": [
        {
          "output_type": "stream",
          "text": [
            "Accuracy on training set: 0.683\n",
            "Accuracy on test set: -6.323\n",
            "rmse: 0.89763\n",
            "normed rmse: 0.89%\n"
          ],
          "name": "stdout"
        },
        {
          "output_type": "execute_result",
          "data": {
            "text/html": [
              "<div>\n",
              "<style scoped>\n",
              "    .dataframe tbody tr th:only-of-type {\n",
              "        vertical-align: middle;\n",
              "    }\n",
              "\n",
              "    .dataframe tbody tr th {\n",
              "        vertical-align: top;\n",
              "    }\n",
              "\n",
              "    .dataframe thead th {\n",
              "        text-align: right;\n",
              "    }\n",
              "</style>\n",
              "<table border=\"1\" class=\"dataframe\">\n",
              "  <thead>\n",
              "    <tr style=\"text-align: right;\">\n",
              "      <th></th>\n",
              "      <th>month/year</th>\n",
              "      <th>reg_names</th>\n",
              "      <th>data_do</th>\n",
              "      <th>train_do</th>\n",
              "      <th>mes</th>\n",
              "      <th>method</th>\n",
              "      <th>rmse</th>\n",
              "    </tr>\n",
              "  </thead>\n",
              "  <tbody>\n",
              "    <tr>\n",
              "      <th>0</th>\n",
              "      <td>month</td>\n",
              "      <td>[ZAB]</td>\n",
              "      <td>2020-12-01</td>\n",
              "      <td>2019-01-01</td>\n",
              "      <td>24</td>\n",
              "      <td>ARIMA</td>\n",
              "      <td>0.345872</td>\n",
              "    </tr>\n",
              "    <tr>\n",
              "      <th>1</th>\n",
              "      <td>month</td>\n",
              "      <td>[ZAB]</td>\n",
              "      <td>2020-12-01</td>\n",
              "      <td>2019-01-01</td>\n",
              "      <td>24</td>\n",
              "      <td>ARIMAX</td>\n",
              "      <td>0.388263</td>\n",
              "    </tr>\n",
              "    <tr>\n",
              "      <th>2</th>\n",
              "      <td>month</td>\n",
              "      <td>[ZAB]</td>\n",
              "      <td>2020-12-01</td>\n",
              "      <td>2019-01-01</td>\n",
              "      <td>24</td>\n",
              "      <td>KNR</td>\n",
              "      <td>0.333741</td>\n",
              "    </tr>\n",
              "    <tr>\n",
              "      <th>3</th>\n",
              "      <td>month</td>\n",
              "      <td>[ZAB]</td>\n",
              "      <td>2020-12-01</td>\n",
              "      <td>2019-01-01</td>\n",
              "      <td>24</td>\n",
              "      <td>OLS</td>\n",
              "      <td>0.432416</td>\n",
              "    </tr>\n",
              "    <tr>\n",
              "      <th>4</th>\n",
              "      <td>month</td>\n",
              "      <td>[ZAB]</td>\n",
              "      <td>2020-12-01</td>\n",
              "      <td>2019-01-01</td>\n",
              "      <td>24</td>\n",
              "      <td>Ridge</td>\n",
              "      <td>0.337345</td>\n",
              "    </tr>\n",
              "    <tr>\n",
              "      <th>5</th>\n",
              "      <td>month</td>\n",
              "      <td>[ZAB]</td>\n",
              "      <td>2020-12-01</td>\n",
              "      <td>2019-01-01</td>\n",
              "      <td>24</td>\n",
              "      <td>Lasso</td>\n",
              "      <td>0.306738</td>\n",
              "    </tr>\n",
              "    <tr>\n",
              "      <th>6</th>\n",
              "      <td>month</td>\n",
              "      <td>[ZAB]</td>\n",
              "      <td>2020-12-01</td>\n",
              "      <td>2019-01-01</td>\n",
              "      <td>24</td>\n",
              "      <td>ElasticNet</td>\n",
              "      <td>0.336595</td>\n",
              "    </tr>\n",
              "    <tr>\n",
              "      <th>7</th>\n",
              "      <td>month</td>\n",
              "      <td>[ZAB]</td>\n",
              "      <td>2020-12-01</td>\n",
              "      <td>2019-01-01</td>\n",
              "      <td>24</td>\n",
              "      <td>DT</td>\n",
              "      <td>0.897630</td>\n",
              "    </tr>\n",
              "  </tbody>\n",
              "</table>\n",
              "</div>"
            ],
            "text/plain": [
              "  month/year reg_names     data_do    train_do mes      method      rmse\n",
              "0      month     [ZAB]  2020-12-01  2019-01-01  24       ARIMA  0.345872\n",
              "1      month     [ZAB]  2020-12-01  2019-01-01  24      ARIMAX  0.388263\n",
              "2      month     [ZAB]  2020-12-01  2019-01-01  24         KNR  0.333741\n",
              "3      month     [ZAB]  2020-12-01  2019-01-01  24         OLS  0.432416\n",
              "4      month     [ZAB]  2020-12-01  2019-01-01  24       Ridge  0.337345\n",
              "5      month     [ZAB]  2020-12-01  2019-01-01  24       Lasso  0.306738\n",
              "6      month     [ZAB]  2020-12-01  2019-01-01  24  ElasticNet  0.336595\n",
              "7      month     [ZAB]  2020-12-01  2019-01-01  24          DT  0.897630"
            ]
          },
          "metadata": {
            "tags": []
          },
          "execution_count": 47
        }
      ]
    },
    {
      "cell_type": "markdown",
      "metadata": {
        "id": "3LdapaAQzspS"
      },
      "source": [
        "# **GridSearch DecisionTree**"
      ]
    },
    {
      "cell_type": "code",
      "metadata": {
        "colab": {
          "base_uri": "https://localhost:8080/",
          "height": 831
        },
        "id": "eAyF2rOqzzxf",
        "outputId": "39c6407a-597f-4a57-b003-2ab40261110d"
      },
      "source": [
        "param_grid = {'max_depth': [1, 2, 3, 5, 10],\r\n",
        "              'min_samples_leaf': [1, 2, 3, 50, 100],\r\n",
        "              'max_leaf_nodes': [10, 20, 30, 500, 1000]}\r\n",
        "print(\"Parameter grid:\\n{}\".format(param_grid))\r\n",
        "\r\n",
        "GSDT = GridSearchCV(DecisionTreeRegressor(), param_grid, cv=30)\r\n",
        "GSDT.fit(X_train, y_train)\r\n",
        "\r\n",
        "print(\"Test set score: {:.2f}\".format(GSDT.score(X_test, y_test)))\r\n",
        "print(\"Best parameters: {}\".format(GSDT.best_params_))\r\n",
        "print(\"Best estimator:\\n{}\".format(GSDT.best_estimator_))\r\n",
        "\r\n",
        "# make predictions\r\n",
        "GSDT_forecast = GSDT.predict(X_test)\r\n",
        "\r\n",
        "plt.plot(y_test, label='true')\r\n",
        "plt.plot(GSDT_forecast, label='forecast')\r\n",
        "plt.legend()\r\n",
        "\r\n",
        "from sklearn.metrics import mean_squared_error\r\n",
        "print('rmse: {:.4f}'.format(mean_squared_error(y_test, GSDT_forecast) ** 0.5))\r\n",
        "print('normed rmse: {:.4f}%'.format((mean_squared_error(y_test, GSDT_forecast) ** 0.5) / \r\n",
        "                                    np.mean(y_test) * 100))\r\n",
        "\r\n",
        "print(\"Accuracy on training set: {:.3f}\".format(GSDT.score(X_train, y_train)))\r\n",
        "print(\"Accuracy on test set: {:.3f}\".format(GSDT.score(X_test, y_test)))\r\n",
        "\r\n",
        "result['GSDT']=pd.DataFrame(np.array(GSDT_forecast), index = test.index, columns=['GSDT'])\r\n",
        "\r\n",
        "result_GSDT = {'month/year': cpi, 'reg_names': reg_names, 'data_do': data_do, 'train_do': train_do, 'mes': mes, 'method': 'GSDT', \r\n",
        "                'rmse': mean_squared_error(y_test, GSDT_forecast) ** 0.5} \r\n",
        "result_rmse = result_rmse.append(result_GSDT, ignore_index = True) \r\n",
        "result_rmse"
      ],
      "execution_count": null,
      "outputs": [
        {
          "output_type": "stream",
          "text": [
            "Parameter grid:\n",
            "{'max_depth': [1, 2, 3, 5, 10], 'min_samples_leaf': [1, 2, 3, 50, 100], 'max_leaf_nodes': [10, 20, 30, 500, 1000]}\n",
            "Test set score: -0.66\n",
            "Best parameters: {'max_depth': 1, 'max_leaf_nodes': 10, 'min_samples_leaf': 50}\n",
            "Best estimator:\n",
            "DecisionTreeRegressor(ccp_alpha=0.0, criterion='mse', max_depth=1,\n",
            "                      max_features=None, max_leaf_nodes=10,\n",
            "                      min_impurity_decrease=0.0, min_impurity_split=None,\n",
            "                      min_samples_leaf=50, min_samples_split=2,\n",
            "                      min_weight_fraction_leaf=0.0, presort='deprecated',\n",
            "                      random_state=None, splitter='best')\n",
            "rmse: 0.4273\n",
            "normed rmse: 0.4257%\n",
            "Accuracy on training set: 0.169\n",
            "Accuracy on test set: -0.660\n"
          ],
          "name": "stdout"
        },
        {
          "output_type": "execute_result",
          "data": {
            "text/html": [
              "<div>\n",
              "<style scoped>\n",
              "    .dataframe tbody tr th:only-of-type {\n",
              "        vertical-align: middle;\n",
              "    }\n",
              "\n",
              "    .dataframe tbody tr th {\n",
              "        vertical-align: top;\n",
              "    }\n",
              "\n",
              "    .dataframe thead th {\n",
              "        text-align: right;\n",
              "    }\n",
              "</style>\n",
              "<table border=\"1\" class=\"dataframe\">\n",
              "  <thead>\n",
              "    <tr style=\"text-align: right;\">\n",
              "      <th></th>\n",
              "      <th>month/year</th>\n",
              "      <th>reg_names</th>\n",
              "      <th>data_do</th>\n",
              "      <th>train_do</th>\n",
              "      <th>mes</th>\n",
              "      <th>method</th>\n",
              "      <th>rmse</th>\n",
              "    </tr>\n",
              "  </thead>\n",
              "  <tbody>\n",
              "    <tr>\n",
              "      <th>0</th>\n",
              "      <td>month</td>\n",
              "      <td>[ZAB]</td>\n",
              "      <td>2020-12-01</td>\n",
              "      <td>2019-01-01</td>\n",
              "      <td>24</td>\n",
              "      <td>ARIMA</td>\n",
              "      <td>0.345872</td>\n",
              "    </tr>\n",
              "    <tr>\n",
              "      <th>1</th>\n",
              "      <td>month</td>\n",
              "      <td>[ZAB]</td>\n",
              "      <td>2020-12-01</td>\n",
              "      <td>2019-01-01</td>\n",
              "      <td>24</td>\n",
              "      <td>ARIMAX</td>\n",
              "      <td>0.388263</td>\n",
              "    </tr>\n",
              "    <tr>\n",
              "      <th>2</th>\n",
              "      <td>month</td>\n",
              "      <td>[ZAB]</td>\n",
              "      <td>2020-12-01</td>\n",
              "      <td>2019-01-01</td>\n",
              "      <td>24</td>\n",
              "      <td>KNR</td>\n",
              "      <td>0.333741</td>\n",
              "    </tr>\n",
              "    <tr>\n",
              "      <th>3</th>\n",
              "      <td>month</td>\n",
              "      <td>[ZAB]</td>\n",
              "      <td>2020-12-01</td>\n",
              "      <td>2019-01-01</td>\n",
              "      <td>24</td>\n",
              "      <td>OLS</td>\n",
              "      <td>0.432416</td>\n",
              "    </tr>\n",
              "    <tr>\n",
              "      <th>4</th>\n",
              "      <td>month</td>\n",
              "      <td>[ZAB]</td>\n",
              "      <td>2020-12-01</td>\n",
              "      <td>2019-01-01</td>\n",
              "      <td>24</td>\n",
              "      <td>Ridge</td>\n",
              "      <td>0.337345</td>\n",
              "    </tr>\n",
              "    <tr>\n",
              "      <th>5</th>\n",
              "      <td>month</td>\n",
              "      <td>[ZAB]</td>\n",
              "      <td>2020-12-01</td>\n",
              "      <td>2019-01-01</td>\n",
              "      <td>24</td>\n",
              "      <td>Lasso</td>\n",
              "      <td>0.306738</td>\n",
              "    </tr>\n",
              "    <tr>\n",
              "      <th>6</th>\n",
              "      <td>month</td>\n",
              "      <td>[ZAB]</td>\n",
              "      <td>2020-12-01</td>\n",
              "      <td>2019-01-01</td>\n",
              "      <td>24</td>\n",
              "      <td>ElasticNet</td>\n",
              "      <td>0.336595</td>\n",
              "    </tr>\n",
              "    <tr>\n",
              "      <th>7</th>\n",
              "      <td>month</td>\n",
              "      <td>[ZAB]</td>\n",
              "      <td>2020-12-01</td>\n",
              "      <td>2019-01-01</td>\n",
              "      <td>24</td>\n",
              "      <td>DT</td>\n",
              "      <td>0.897630</td>\n",
              "    </tr>\n",
              "    <tr>\n",
              "      <th>8</th>\n",
              "      <td>month</td>\n",
              "      <td>[ZAB]</td>\n",
              "      <td>2020-12-01</td>\n",
              "      <td>2019-01-01</td>\n",
              "      <td>24</td>\n",
              "      <td>GSDT</td>\n",
              "      <td>0.427329</td>\n",
              "    </tr>\n",
              "  </tbody>\n",
              "</table>\n",
              "</div>"
            ],
            "text/plain": [
              "  month/year reg_names     data_do    train_do mes      method      rmse\n",
              "0      month     [ZAB]  2020-12-01  2019-01-01  24       ARIMA  0.345872\n",
              "1      month     [ZAB]  2020-12-01  2019-01-01  24      ARIMAX  0.388263\n",
              "2      month     [ZAB]  2020-12-01  2019-01-01  24         KNR  0.333741\n",
              "3      month     [ZAB]  2020-12-01  2019-01-01  24         OLS  0.432416\n",
              "4      month     [ZAB]  2020-12-01  2019-01-01  24       Ridge  0.337345\n",
              "5      month     [ZAB]  2020-12-01  2019-01-01  24       Lasso  0.306738\n",
              "6      month     [ZAB]  2020-12-01  2019-01-01  24  ElasticNet  0.336595\n",
              "7      month     [ZAB]  2020-12-01  2019-01-01  24          DT  0.897630\n",
              "8      month     [ZAB]  2020-12-01  2019-01-01  24        GSDT  0.427329"
            ]
          },
          "metadata": {
            "tags": []
          },
          "execution_count": 48
        },
        {
          "output_type": "display_data",
          "data": {
            "image/png": "[encoded data removed]",
            "text/plain": [
              "<Figure size 432x288 with 1 Axes>"
            ]
          },
          "metadata": {
            "tags": [],
            "needs_background": "light"
          }
        }
      ]
    },
    {
      "cell_type": "markdown",
      "metadata": {
        "id": "B-_ioliGwCqM"
      },
      "source": [
        "# **Random Forest**"
      ]
    },
    {
      "cell_type": "code",
      "metadata": {
        "id": "JQaRfjICJ0J1",
        "colab": {
          "base_uri": "https://localhost:8080/",
          "height": 333
        },
        "outputId": "6b477bc9-b960-4c6d-cae5-97fdbca76505"
      },
      "source": [
        "from sklearn.ensemble import RandomForestRegressor\n",
        "\n",
        "RFmodel = RandomForestRegressor(n_estimators=500, random_state=42)\n",
        "RFmodel.fit(X_train, y_train)\n",
        "forecast = RFmodel.predict(X_test)\n",
        "\n",
        "plt.plot(y_test, label='true')\n",
        "plt.plot(forecast, label='forecast')\n",
        "plt.legend()\n",
        "\n",
        "print('rmse: {:.5f}'.format(mean_squared_error(y_test, forecast) ** 0.5))\n",
        "print('normed rmse: {:.3f}%'.format(mean_squared_error(y_test, forecast) ** 0.5 / \n",
        "                                    np.mean(y_test) * 100))\n",
        "\n",
        "print(\"Accuracy on training set: {:.3f}\".format(RFmodel.score(X_train, y_train)))\n",
        "print(\"Accuracy on test set: {:.3f}\".format(RFmodel.score(X_test, y_test)))"
      ],
      "execution_count": null,
      "outputs": [
        {
          "output_type": "stream",
          "text": [
            "rmse: 0.38404\n",
            "normed rmse: 0.383%\n",
            "Accuracy on training set: 0.903\n",
            "Accuracy on test set: -0.341\n"
          ],
          "name": "stdout"
        },
        {
          "output_type": "display_data",
          "data": {
            "image/png": "[encoded data removed]",
            "text/plain": [
              "<Figure size 432x288 with 1 Axes>"
            ]
          },
          "metadata": {
            "tags": [],
            "needs_background": "light"
          }
        }
      ]
    },
    {
      "cell_type": "code",
      "metadata": {
        "id": "6xWKIzF3ZoHj",
        "colab": {
          "base_uri": "https://localhost:8080/",
          "height": 359
        },
        "outputId": "877db490-8ffa-464e-c0cb-6f6280ed5848"
      },
      "source": [
        "result['Random Forest']=pd.DataFrame(np.array(forecast), index = test.index, columns=['Random Forest'])\r\n",
        "result_RF = {'month/year': cpi, 'reg_names': reg_names, 'data_do': data_do, 'train_do': train_do, 'mes': mes, 'method': 'RF', \r\n",
        "                'rmse': mean_squared_error(y_test, forecast) ** 0.5} \r\n",
        "result_rmse = result_rmse.append(result_RF, ignore_index = True) \r\n",
        "result_rmse"
      ],
      "execution_count": null,
      "outputs": [
        {
          "output_type": "execute_result",
          "data": {
            "text/html": [
              "<div>\n",
              "<style scoped>\n",
              "    .dataframe tbody tr th:only-of-type {\n",
              "        vertical-align: middle;\n",
              "    }\n",
              "\n",
              "    .dataframe tbody tr th {\n",
              "        vertical-align: top;\n",
              "    }\n",
              "\n",
              "    .dataframe thead th {\n",
              "        text-align: right;\n",
              "    }\n",
              "</style>\n",
              "<table border=\"1\" class=\"dataframe\">\n",
              "  <thead>\n",
              "    <tr style=\"text-align: right;\">\n",
              "      <th></th>\n",
              "      <th>month/year</th>\n",
              "      <th>reg_names</th>\n",
              "      <th>data_do</th>\n",
              "      <th>train_do</th>\n",
              "      <th>mes</th>\n",
              "      <th>method</th>\n",
              "      <th>rmse</th>\n",
              "    </tr>\n",
              "  </thead>\n",
              "  <tbody>\n",
              "    <tr>\n",
              "      <th>0</th>\n",
              "      <td>month</td>\n",
              "      <td>[ZAB]</td>\n",
              "      <td>2020-12-01</td>\n",
              "      <td>2019-01-01</td>\n",
              "      <td>24</td>\n",
              "      <td>ARIMA</td>\n",
              "      <td>0.345872</td>\n",
              "    </tr>\n",
              "    <tr>\n",
              "      <th>1</th>\n",
              "      <td>month</td>\n",
              "      <td>[ZAB]</td>\n",
              "      <td>2020-12-01</td>\n",
              "      <td>2019-01-01</td>\n",
              "      <td>24</td>\n",
              "      <td>ARIMAX</td>\n",
              "      <td>0.388263</td>\n",
              "    </tr>\n",
              "    <tr>\n",
              "      <th>2</th>\n",
              "      <td>month</td>\n",
              "      <td>[ZAB]</td>\n",
              "      <td>2020-12-01</td>\n",
              "      <td>2019-01-01</td>\n",
              "      <td>24</td>\n",
              "      <td>KNR</td>\n",
              "      <td>0.333741</td>\n",
              "    </tr>\n",
              "    <tr>\n",
              "      <th>3</th>\n",
              "      <td>month</td>\n",
              "      <td>[ZAB]</td>\n",
              "      <td>2020-12-01</td>\n",
              "      <td>2019-01-01</td>\n",
              "      <td>24</td>\n",
              "      <td>OLS</td>\n",
              "      <td>0.432416</td>\n",
              "    </tr>\n",
              "    <tr>\n",
              "      <th>4</th>\n",
              "      <td>month</td>\n",
              "      <td>[ZAB]</td>\n",
              "      <td>2020-12-01</td>\n",
              "      <td>2019-01-01</td>\n",
              "      <td>24</td>\n",
              "      <td>Ridge</td>\n",
              "      <td>0.337345</td>\n",
              "    </tr>\n",
              "    <tr>\n",
              "      <th>5</th>\n",
              "      <td>month</td>\n",
              "      <td>[ZAB]</td>\n",
              "      <td>2020-12-01</td>\n",
              "      <td>2019-01-01</td>\n",
              "      <td>24</td>\n",
              "      <td>Lasso</td>\n",
              "      <td>0.306738</td>\n",
              "    </tr>\n",
              "    <tr>\n",
              "      <th>6</th>\n",
              "      <td>month</td>\n",
              "      <td>[ZAB]</td>\n",
              "      <td>2020-12-01</td>\n",
              "      <td>2019-01-01</td>\n",
              "      <td>24</td>\n",
              "      <td>ElasticNet</td>\n",
              "      <td>0.336595</td>\n",
              "    </tr>\n",
              "    <tr>\n",
              "      <th>7</th>\n",
              "      <td>month</td>\n",
              "      <td>[ZAB]</td>\n",
              "      <td>2020-12-01</td>\n",
              "      <td>2019-01-01</td>\n",
              "      <td>24</td>\n",
              "      <td>DT</td>\n",
              "      <td>0.897630</td>\n",
              "    </tr>\n",
              "    <tr>\n",
              "      <th>8</th>\n",
              "      <td>month</td>\n",
              "      <td>[ZAB]</td>\n",
              "      <td>2020-12-01</td>\n",
              "      <td>2019-01-01</td>\n",
              "      <td>24</td>\n",
              "      <td>GSDT</td>\n",
              "      <td>0.427329</td>\n",
              "    </tr>\n",
              "    <tr>\n",
              "      <th>9</th>\n",
              "      <td>month</td>\n",
              "      <td>[ZAB]</td>\n",
              "      <td>2020-12-01</td>\n",
              "      <td>2019-01-01</td>\n",
              "      <td>24</td>\n",
              "      <td>RF</td>\n",
              "      <td>0.384041</td>\n",
              "    </tr>\n",
              "  </tbody>\n",
              "</table>\n",
              "</div>"
            ],
            "text/plain": [
              "  month/year reg_names     data_do    train_do mes      method      rmse\n",
              "0      month     [ZAB]  2020-12-01  2019-01-01  24       ARIMA  0.345872\n",
              "1      month     [ZAB]  2020-12-01  2019-01-01  24      ARIMAX  0.388263\n",
              "2      month     [ZAB]  2020-12-01  2019-01-01  24         KNR  0.333741\n",
              "3      month     [ZAB]  2020-12-01  2019-01-01  24         OLS  0.432416\n",
              "4      month     [ZAB]  2020-12-01  2019-01-01  24       Ridge  0.337345\n",
              "5      month     [ZAB]  2020-12-01  2019-01-01  24       Lasso  0.306738\n",
              "6      month     [ZAB]  2020-12-01  2019-01-01  24  ElasticNet  0.336595\n",
              "7      month     [ZAB]  2020-12-01  2019-01-01  24          DT  0.897630\n",
              "8      month     [ZAB]  2020-12-01  2019-01-01  24        GSDT  0.427329\n",
              "9      month     [ZAB]  2020-12-01  2019-01-01  24          RF  0.384041"
            ]
          },
          "metadata": {
            "tags": []
          },
          "execution_count": 50
        }
      ]
    },
    {
      "cell_type": "code",
      "metadata": {
        "id": "p5ro99XxZroW",
        "colab": {
          "base_uri": "https://localhost:8080/"
        },
        "outputId": "0de582f8-3bb2-4913-c395-2ead80e99936"
      },
      "source": [
        "RFmodel.feature_importances_"
      ],
      "execution_count": null,
      "outputs": [
        {
          "output_type": "execute_result",
          "data": {
            "text/plain": [
              "array([0.03024817, 0.16111794, 0.06358391, 0.04026805, 0.13826781,\n",
              "       0.09303445, 0.02765107, 0.04716027, 0.05362117, 0.03037603,\n",
              "       0.04820842, 0.03127431, 0.02641584, 0.04214727, 0.10019693,\n",
              "       0.031879  , 0.03454937])"
            ]
          },
          "metadata": {
            "tags": []
          },
          "execution_count": 51
        }
      ]
    },
    {
      "cell_type": "markdown",
      "metadata": {
        "id": "-VtIS_ts9gBH"
      },
      "source": [
        "# **Plot_features**"
      ]
    },
    {
      "cell_type": "code",
      "metadata": {
        "id": "Uzl6UEi58e0C",
        "colab": {
          "base_uri": "https://localhost:8080/",
          "height": 279
        },
        "outputId": "00c0afb3-542c-4dc7-f848-3bef490170ae"
      },
      "source": [
        "def plot_features(model):\r\n",
        "  n_features = data_not.shape[1]\r\n",
        "  plt.barh(range(n_features), model.feature_importances_, align='center')\r\n",
        "  plt.yticks(np.arange(n_features), data_not.columns)\r\n",
        "  plt.xlabel('Важность признака')\r\n",
        "  plt.ylabel('Признак')\r\n",
        "plot_features(RFmodel)"
      ],
      "execution_count": null,
      "outputs": [
        {
          "output_type": "display_data",
          "data": {
            "image/png": "[encoded data removed]",
            "text/plain": [
              "<Figure size 432x288 with 1 Axes>"
            ]
          },
          "metadata": {
            "tags": [],
            "needs_background": "light"
          }
        }
      ]
    },
    {
      "cell_type": "code",
      "metadata": {
        "id": "GwJ1ETcy75nc"
      },
      "source": [
        "def plot_features_GS(model):\r\n",
        "  n_features = data_not.shape[1]\r\n",
        "  plt.barh(range(n_features), model.best_estimator_.feature_importances_, align='center')\r\n",
        "  plt.yticks(np.arange(n_features), data_not.columns)\r\n",
        "  plt.xlabel('Важность признака')\r\n",
        "  plt.ylabel('Признак')"
      ],
      "execution_count": null,
      "outputs": []
    },
    {
      "cell_type": "markdown",
      "metadata": {
        "id": "hZUBvN8MteZ3"
      },
      "source": [
        "# **GSRF**"
      ]
    },
    {
      "cell_type": "code",
      "metadata": {
        "id": "o9VBj9kFtjX_",
        "colab": {
          "base_uri": "https://localhost:8080/",
          "height": 910
        },
        "outputId": "aa09f232-7b8f-4322-9627-b17651a52fe5"
      },
      "source": [
        "param_grid = {'n_estimators': [1, 10, 50, 100, 200, 300]}\r\n",
        "print(\"Parameter grid:\\n{}\".format(param_grid))\r\n",
        "\r\n",
        "GSRF = GridSearchCV(RandomForestRegressor(), param_grid, cv=30)\r\n",
        "GSRF.fit(X_train, y_train)\r\n",
        "\r\n",
        "print(\"Test set score: {:.2f}\".format(GSRF.score(X_test, y_test)))\r\n",
        "print(\"Best parameters: {}\".format(GSRF.best_params_))\r\n",
        "print(\"Best estimator:\\n{}\".format(GSRF.best_estimator_))\r\n",
        "\r\n",
        "# make predictions\r\n",
        "GSRF_forecast = GSRF.predict(X_test)\r\n",
        "\r\n",
        "plt.plot(y_test, label='true')\r\n",
        "plt.plot(GSRF_forecast, label='forecast')\r\n",
        "plt.legend()\r\n",
        "\r\n",
        "from sklearn.metrics import mean_squared_error\r\n",
        "print('rmse: {:.4f}'.format(mean_squared_error(y_test, GSRF_forecast) ** 0.5))\r\n",
        "print('normed rmse: {:.4f}%'.format((mean_squared_error(y_test, GSRF_forecast) ** 0.5) / \r\n",
        "                                    np.mean(y_test) * 100))\r\n",
        "\r\n",
        "print(\"Accuracy on training set: {:.3f}\".format(GSRF.score(X_train, y_train)))\r\n",
        "print(\"Accuracy on test set: {:.3f}\".format(GSRF.score(X_test, y_test)))\r\n",
        "\r\n",
        "result['GSRF']=pd.DataFrame(np.array(GSRF_forecast), index = test.index, columns=['GSRF'])\r\n",
        "\r\n",
        "result_GSRF = {'month/year': cpi, 'reg_names': reg_names, 'data_do': data_do, 'train_do': train_do, 'mes': mes, 'method': 'GSRF', \r\n",
        "                'rmse': mean_squared_error(y_test, GSRF_forecast) ** 0.5} \r\n",
        "result_rmse = result_rmse.append(result_GSRF, ignore_index = True) \r\n",
        "result_rmse"
      ],
      "execution_count": null,
      "outputs": [
        {
          "output_type": "stream",
          "text": [
            "Parameter grid:\n",
            "{'n_estimators': [1, 10, 50, 100, 200, 300]}\n",
            "Test set score: -0.29\n",
            "Best parameters: {'n_estimators': 200}\n",
            "Best estimator:\n",
            "RandomForestRegressor(bootstrap=True, ccp_alpha=0.0, criterion='mse',\n",
            "                      max_depth=None, max_features='auto', max_leaf_nodes=None,\n",
            "                      max_samples=None, min_impurity_decrease=0.0,\n",
            "                      min_impurity_split=None, min_samples_leaf=1,\n",
            "                      min_samples_split=2, min_weight_fraction_leaf=0.0,\n",
            "                      n_estimators=200, n_jobs=None, oob_score=False,\n",
            "                      random_state=None, verbose=0, warm_start=False)\n",
            "rmse: 0.3766\n",
            "normed rmse: 0.3752%\n",
            "Accuracy on training set: 0.905\n",
            "Accuracy on test set: -0.289\n"
          ],
          "name": "stdout"
        },
        {
          "output_type": "execute_result",
          "data": {
            "text/html": [
              "<div>\n",
              "<style scoped>\n",
              "    .dataframe tbody tr th:only-of-type {\n",
              "        vertical-align: middle;\n",
              "    }\n",
              "\n",
              "    .dataframe tbody tr th {\n",
              "        vertical-align: top;\n",
              "    }\n",
              "\n",
              "    .dataframe thead th {\n",
              "        text-align: right;\n",
              "    }\n",
              "</style>\n",
              "<table border=\"1\" class=\"dataframe\">\n",
              "  <thead>\n",
              "    <tr style=\"text-align: right;\">\n",
              "      <th></th>\n",
              "      <th>month/year</th>\n",
              "      <th>reg_names</th>\n",
              "      <th>data_do</th>\n",
              "      <th>train_do</th>\n",
              "      <th>mes</th>\n",
              "      <th>method</th>\n",
              "      <th>rmse</th>\n",
              "    </tr>\n",
              "  </thead>\n",
              "  <tbody>\n",
              "    <tr>\n",
              "      <th>0</th>\n",
              "      <td>month</td>\n",
              "      <td>[ZAB]</td>\n",
              "      <td>2020-12-01</td>\n",
              "      <td>2019-01-01</td>\n",
              "      <td>24</td>\n",
              "      <td>ARIMA</td>\n",
              "      <td>0.345872</td>\n",
              "    </tr>\n",
              "    <tr>\n",
              "      <th>1</th>\n",
              "      <td>month</td>\n",
              "      <td>[ZAB]</td>\n",
              "      <td>2020-12-01</td>\n",
              "      <td>2019-01-01</td>\n",
              "      <td>24</td>\n",
              "      <td>ARIMAX</td>\n",
              "      <td>0.388263</td>\n",
              "    </tr>\n",
              "    <tr>\n",
              "      <th>2</th>\n",
              "      <td>month</td>\n",
              "      <td>[ZAB]</td>\n",
              "      <td>2020-12-01</td>\n",
              "      <td>2019-01-01</td>\n",
              "      <td>24</td>\n",
              "      <td>KNR</td>\n",
              "      <td>0.333741</td>\n",
              "    </tr>\n",
              "    <tr>\n",
              "      <th>3</th>\n",
              "      <td>month</td>\n",
              "      <td>[ZAB]</td>\n",
              "      <td>2020-12-01</td>\n",
              "      <td>2019-01-01</td>\n",
              "      <td>24</td>\n",
              "      <td>OLS</td>\n",
              "      <td>0.432416</td>\n",
              "    </tr>\n",
              "    <tr>\n",
              "      <th>4</th>\n",
              "      <td>month</td>\n",
              "      <td>[ZAB]</td>\n",
              "      <td>2020-12-01</td>\n",
              "      <td>2019-01-01</td>\n",
              "      <td>24</td>\n",
              "      <td>Ridge</td>\n",
              "      <td>0.337345</td>\n",
              "    </tr>\n",
              "    <tr>\n",
              "      <th>5</th>\n",
              "      <td>month</td>\n",
              "      <td>[ZAB]</td>\n",
              "      <td>2020-12-01</td>\n",
              "      <td>2019-01-01</td>\n",
              "      <td>24</td>\n",
              "      <td>Lasso</td>\n",
              "      <td>0.306738</td>\n",
              "    </tr>\n",
              "    <tr>\n",
              "      <th>6</th>\n",
              "      <td>month</td>\n",
              "      <td>[ZAB]</td>\n",
              "      <td>2020-12-01</td>\n",
              "      <td>2019-01-01</td>\n",
              "      <td>24</td>\n",
              "      <td>ElasticNet</td>\n",
              "      <td>0.336595</td>\n",
              "    </tr>\n",
              "    <tr>\n",
              "      <th>7</th>\n",
              "      <td>month</td>\n",
              "      <td>[ZAB]</td>\n",
              "      <td>2020-12-01</td>\n",
              "      <td>2019-01-01</td>\n",
              "      <td>24</td>\n",
              "      <td>DT</td>\n",
              "      <td>0.897630</td>\n",
              "    </tr>\n",
              "    <tr>\n",
              "      <th>8</th>\n",
              "      <td>month</td>\n",
              "      <td>[ZAB]</td>\n",
              "      <td>2020-12-01</td>\n",
              "      <td>2019-01-01</td>\n",
              "      <td>24</td>\n",
              "      <td>GSDT</td>\n",
              "      <td>0.427329</td>\n",
              "    </tr>\n",
              "    <tr>\n",
              "      <th>9</th>\n",
              "      <td>month</td>\n",
              "      <td>[ZAB]</td>\n",
              "      <td>2020-12-01</td>\n",
              "      <td>2019-01-01</td>\n",
              "      <td>24</td>\n",
              "      <td>RF</td>\n",
              "      <td>0.384041</td>\n",
              "    </tr>\n",
              "    <tr>\n",
              "      <th>10</th>\n",
              "      <td>month</td>\n",
              "      <td>[ZAB]</td>\n",
              "      <td>2020-12-01</td>\n",
              "      <td>2019-01-01</td>\n",
              "      <td>24</td>\n",
              "      <td>GSRF</td>\n",
              "      <td>0.376623</td>\n",
              "    </tr>\n",
              "  </tbody>\n",
              "</table>\n",
              "</div>"
            ],
            "text/plain": [
              "   month/year reg_names     data_do    train_do mes      method      rmse\n",
              "0       month     [ZAB]  2020-12-01  2019-01-01  24       ARIMA  0.345872\n",
              "1       month     [ZAB]  2020-12-01  2019-01-01  24      ARIMAX  0.388263\n",
              "2       month     [ZAB]  2020-12-01  2019-01-01  24         KNR  0.333741\n",
              "3       month     [ZAB]  2020-12-01  2019-01-01  24         OLS  0.432416\n",
              "4       month     [ZAB]  2020-12-01  2019-01-01  24       Ridge  0.337345\n",
              "5       month     [ZAB]  2020-12-01  2019-01-01  24       Lasso  0.306738\n",
              "6       month     [ZAB]  2020-12-01  2019-01-01  24  ElasticNet  0.336595\n",
              "7       month     [ZAB]  2020-12-01  2019-01-01  24          DT  0.897630\n",
              "8       month     [ZAB]  2020-12-01  2019-01-01  24        GSDT  0.427329\n",
              "9       month     [ZAB]  2020-12-01  2019-01-01  24          RF  0.384041\n",
              "10      month     [ZAB]  2020-12-01  2019-01-01  24        GSRF  0.376623"
            ]
          },
          "metadata": {
            "tags": []
          },
          "execution_count": 54
        },
        {
          "output_type": "display_data",
          "data": {
            "image/png": "[encoded data removed]",
            "text/plain": [
              "<Figure size 432x288 with 1 Axes>"
            ]
          },
          "metadata": {
            "tags": [],
            "needs_background": "light"
          }
        }
      ]
    },
    {
      "cell_type": "code",
      "metadata": {
        "id": "X2JybbWj8Boa",
        "colab": {
          "base_uri": "https://localhost:8080/",
          "height": 279
        },
        "outputId": "74f284ed-505a-4868-8fc7-18a348cbc44c"
      },
      "source": [
        "plot_features_GS(GSRF)"
      ],
      "execution_count": null,
      "outputs": [
        {
          "output_type": "display_data",
          "data": {
            "image/png": "[encoded data removed]",
            "text/plain": [
              "<Figure size 432x288 with 1 Axes>"
            ]
          },
          "metadata": {
            "tags": [],
            "needs_background": "light"
          }
        }
      ]
    },
    {
      "cell_type": "markdown",
      "metadata": {
        "id": "4LOU5S3B6209"
      },
      "source": [
        "# **Slide test**"
      ]
    },
    {
      "cell_type": "code",
      "metadata": {
        "id": "fBClxal6k1nZ",
        "colab": {
          "base_uri": "https://localhost:8080/",
          "height": 52
        },
        "outputId": "403fa79f-89fc-4418-9533-ba09e84c5eef"
      },
      "source": [
        "\"\"\"\r\n",
        "from datetime import datetime\r\n",
        "from dateutil.relativedelta import relativedelta\r\n",
        "#startdate = pd.to_datetime(data_do)\r\n",
        "startdate = pd.to_datetime(train_do)+ relativedelta(months=1)\r\n",
        "\r\n",
        "#print('Today: ', startdate.strftime('%Y-%m-%d'))\r\n",
        "#print(date_after_month.strftime('%Y-%m-%d'))\r\n",
        "#startdate = str(startdate)[:10]\r\n",
        "startdate\r\n",
        "\"\"\""
      ],
      "execution_count": null,
      "outputs": [
        {
          "output_type": "execute_result",
          "data": {
            "application/vnd.google.colaboratory.intrinsic+json": {
              "type": "string"
            },
            "text/plain": [
              "\"\\nfrom datetime import datetime\\nfrom dateutil.relativedelta import relativedelta\\n#startdate = pd.to_datetime(data_do)\\nstartdate = pd.to_datetime(train_do)+ relativedelta(months=1)\\n\\n#print('Today: ', startdate.strftime('%Y-%m-%d'))\\n#print(date_after_month.strftime('%Y-%m-%d'))\\n#startdate = str(startdate)[:10]\\nstartdate\\n\""
            ]
          },
          "metadata": {
            "tags": []
          },
          "execution_count": 56
        }
      ]
    },
    {
      "cell_type": "code",
      "metadata": {
        "id": "o5Jb3Bo0K1zO",
        "colab": {
          "base_uri": "https://localhost:8080/",
          "height": 103
        },
        "outputId": "7dde0479-1f68-415e-8bac-5ea88eef7fde"
      },
      "source": [
        "\"\"\"\n",
        "#forecast = RFmodel.predict(X_test)\n",
        "#slide_test = test[test.index == train_do][data_not.columns.values].values\n",
        "#print(slide_test)\n",
        "slide_test = X_test\n",
        "forecast = []\n",
        "forecast.append(RFmodel.predict(slide_test)[0])\n",
        "\n",
        "for i in range(test.shape[0] - 1):\n",
        "  \n",
        "  slide_test_next = slide_test.copy()\n",
        "  slide_test_next[0, 1] = forecast[-1]\n",
        "\n",
        "  slide_test_next[0, 0] += 1\n",
        "  slide_test_next[0, 2:] = slide_test[0, 1:-1]\n",
        "  \n",
        "  #print(slide_test_next)\n",
        "  slide_test = slide_test_next.copy()\n",
        "\n",
        "  forecast.append(RFmodel.predict(slide_test)[0])\n",
        "\n",
        "forecast = np.array(forecast)\n",
        "\n",
        "plt.plot(y_test, label='true')\n",
        "plt.plot(forecast, label='forecast')\n",
        "plt.legend()\n",
        "\n",
        "print('rmse: {:.4f}'.format(mean_squared_error(y_test, forecast) ** 0.5))\n",
        "print('normed rmse: {:.4f}%'.format((mean_squared_error(y_test, forecast) ** 0.5) / np.mean(y_test) * 100))\n",
        "\"\"\""
      ],
      "execution_count": null,
      "outputs": [
        {
          "output_type": "execute_result",
          "data": {
            "application/vnd.google.colaboratory.intrinsic+json": {
              "type": "string"
            },
            "text/plain": [
              "\"\\n#forecast = RFmodel.predict(X_test)\\n#slide_test = test[test.index == train_do][data_not.columns.values].values\\n#print(slide_test)\\nslide_test = X_test\\nforecast = []\\nforecast.append(RFmodel.predict(slide_test)[0])\\n\\nfor i in range(test.shape[0] - 1):\\n  \\n  slide_test_next = slide_test.copy()\\n  slide_test_next[0, 1] = forecast[-1]\\n\\n  slide_test_next[0, 0] += 1\\n  slide_test_next[0, 2:] = slide_test[0, 1:-1]\\n  \\n  #print(slide_test_next)\\n  slide_test = slide_test_next.copy()\\n\\n  forecast.append(RFmodel.predict(slide_test)[0])\\n\\nforecast = np.array(forecast)\\n\\nplt.plot(y_test, label='true')\\nplt.plot(forecast, label='forecast')\\nplt.legend()\\n\\nprint('rmse: {:.4f}'.format(mean_squared_error(y_test, forecast) ** 0.5))\\nprint('normed rmse: {:.4f}%'.format((mean_squared_error(y_test, forecast) ** 0.5) / np.mean(y_test) * 100))\\n\""
            ]
          },
          "metadata": {
            "tags": []
          },
          "execution_count": 57
        }
      ]
    },
    {
      "cell_type": "code",
      "metadata": {
        "id": "blQVUfTeuRVF",
        "colab": {
          "base_uri": "https://localhost:8080/",
          "height": 52
        },
        "outputId": "fe439e2e-4cae-421a-f883-fecd8b77b6a8"
      },
      "source": [
        "\"\"\"result_RFST = {'month/year': cpi, 'reg_names': reg_names, 'data_do': data_do, 'train_do': train_do, 'method': 'RFST', \r\n",
        "                'rmse': mean_squared_error(y_test, forecast) ** 0.5} \r\n",
        "result_rmse = result_rmse.append(result_RFST, ignore_index = True) \r\n",
        "result_rmse\r\n",
        "\"\"\""
      ],
      "execution_count": null,
      "outputs": [
        {
          "output_type": "execute_result",
          "data": {
            "application/vnd.google.colaboratory.intrinsic+json": {
              "type": "string"
            },
            "text/plain": [
              "\"result_RFST = {'month/year': cpi, 'reg_names': reg_names, 'data_do': data_do, 'train_do': train_do, 'method': 'RFST', \\n                'rmse': mean_squared_error(y_test, forecast) ** 0.5} \\nresult_rmse = result_rmse.append(result_RFST, ignore_index = True) \\nresult_rmse\\n\""
            ]
          },
          "metadata": {
            "tags": []
          },
          "execution_count": 58
        }
      ]
    },
    {
      "cell_type": "markdown",
      "metadata": {
        "id": "Q7OnwPFmFYsG"
      },
      "source": [
        "# **Stratified K-Fold cross-validation and other strategies**"
      ]
    },
    {
      "cell_type": "code",
      "metadata": {
        "id": "aIviXw2MEuhq",
        "colab": {
          "base_uri": "https://localhost:8080/",
          "height": 52
        },
        "outputId": "d53f3d76-fa80-440d-f5e3-6f0a753f9904"
      },
      "source": [
        "\"\"\"\r\n",
        "from sklearn.model_selection import KFold\r\n",
        "kfold = KFold(n_splits=3)\r\n",
        "\r\n",
        "print(\"Cross-validation scores:\\n{}\".format(\r\n",
        "      cross_val_score(model, X_train, y_train, cv=kfold)))\r\n",
        "\r\n",
        "kfold = KFold(n_splits=3, shuffle=True, random_state=42)\r\n",
        "print(\"Cross-validation scores:\\n{}\".format(\r\n",
        "    cross_val_score(model, X_train, y_train, cv=kfold)))\r\n",
        "\"\"\""
      ],
      "execution_count": null,
      "outputs": [
        {
          "output_type": "execute_result",
          "data": {
            "application/vnd.google.colaboratory.intrinsic+json": {
              "type": "string"
            },
            "text/plain": [
              "'\\nfrom sklearn.model_selection import KFold\\nkfold = KFold(n_splits=3)\\n\\nprint(\"Cross-validation scores:\\n{}\".format(\\n      cross_val_score(model, X_train, y_train, cv=kfold)))\\n\\nkfold = KFold(n_splits=3, shuffle=True, random_state=42)\\nprint(\"Cross-validation scores:\\n{}\".format(\\n    cross_val_score(model, X_train, y_train, cv=kfold)))\\n'"
            ]
          },
          "metadata": {
            "tags": []
          },
          "execution_count": 59
        }
      ]
    },
    {
      "cell_type": "markdown",
      "metadata": {
        "id": "3mXS2CH3ah8C"
      },
      "source": [
        "# **GradientBoostingRegressor**"
      ]
    },
    {
      "cell_type": "code",
      "metadata": {
        "id": "3Mf3pm1DJOOL"
      },
      "source": [
        "from xgboost import XGBRegressor"
      ],
      "execution_count": null,
      "outputs": []
    },
    {
      "cell_type": "code",
      "metadata": {
        "id": "V3Aosx-LJOMA",
        "colab": {
          "base_uri": "https://localhost:8080/",
          "height": 333
        },
        "outputId": "ebef61f4-bb3e-4fea-fd2c-ea433e9059fd"
      },
      "source": [
        "xgb_model = XGBRegressor (objective ='reg:squarederror', n_estimators=50, max_depth=3)\n",
        "xgb_model.fit(X_train, y_train, verbose=False)\n",
        "# make predictions\n",
        "xgb_forecast = xgb_model.predict(X_test)\n",
        "xgb_model.feature_importances_\n",
        "plt.plot(y_test, label='true')\n",
        "plt.plot(xgb_forecast, label='forecast')\n",
        "plt.legend()\n",
        "\n",
        "from sklearn.metrics import mean_squared_error\n",
        "print('rmse: {:.4f}'.format(mean_squared_error(y_test, xgb_forecast) ** 0.5))\n",
        "print('normed rmse: {:.4f}%'.format((mean_squared_error(y_test, xgb_forecast) ** 0.5) / \n",
        "                                    np.mean(y_test) * 100))\n",
        "\n",
        "print(\"Accuracy on training set: {:.3f}\".format(xgb_model.score(X_train, y_train)))\n",
        "print(\"Accuracy on test set: {:.3f}\".format(xgb_model.score(X_test, y_test)))"
      ],
      "execution_count": null,
      "outputs": [
        {
          "output_type": "stream",
          "text": [
            "rmse: 0.5456\n",
            "normed rmse: 0.5436%\n",
            "Accuracy on training set: -0.326\n",
            "Accuracy on test set: -1.705\n"
          ],
          "name": "stdout"
        },
        {
          "output_type": "display_data",
          "data": {
            "image/png": "[encoded data removed]",
            "text/plain": [
              "<Figure size 432x288 with 1 Axes>"
            ]
          },
          "metadata": {
            "tags": [],
            "needs_background": "light"
          }
        }
      ]
    },
    {
      "cell_type": "code",
      "metadata": {
        "id": "11WuZlPWaWoI",
        "colab": {
          "base_uri": "https://localhost:8080/",
          "height": 421
        },
        "outputId": "d29cb8b9-27e2-47dd-827f-8f37c13e76c9"
      },
      "source": [
        "result['GradientBoosting']=pd.DataFrame(np.array(xgb_forecast), index = test.index, columns=['GradientBoosting'])\r\n",
        "result_XGB = {'month/year': cpi, 'reg_names': reg_names, 'data_do': data_do, 'train_do': train_do, 'mes': mes, 'method': 'XGB', \r\n",
        "                'rmse': mean_squared_error(y_test, xgb_forecast) ** 0.5} \r\n",
        "result_rmse = result_rmse.append(result_XGB, ignore_index = True) \r\n",
        "result_rmse"
      ],
      "execution_count": null,
      "outputs": [
        {
          "output_type": "execute_result",
          "data": {
            "text/html": [
              "<div>\n",
              "<style scoped>\n",
              "    .dataframe tbody tr th:only-of-type {\n",
              "        vertical-align: middle;\n",
              "    }\n",
              "\n",
              "    .dataframe tbody tr th {\n",
              "        vertical-align: top;\n",
              "    }\n",
              "\n",
              "    .dataframe thead th {\n",
              "        text-align: right;\n",
              "    }\n",
              "</style>\n",
              "<table border=\"1\" class=\"dataframe\">\n",
              "  <thead>\n",
              "    <tr style=\"text-align: right;\">\n",
              "      <th></th>\n",
              "      <th>month/year</th>\n",
              "      <th>reg_names</th>\n",
              "      <th>data_do</th>\n",
              "      <th>train_do</th>\n",
              "      <th>mes</th>\n",
              "      <th>method</th>\n",
              "      <th>rmse</th>\n",
              "    </tr>\n",
              "  </thead>\n",
              "  <tbody>\n",
              "    <tr>\n",
              "      <th>0</th>\n",
              "      <td>month</td>\n",
              "      <td>[ZAB]</td>\n",
              "      <td>2020-12-01</td>\n",
              "      <td>2019-01-01</td>\n",
              "      <td>24</td>\n",
              "      <td>ARIMA</td>\n",
              "      <td>0.345872</td>\n",
              "    </tr>\n",
              "    <tr>\n",
              "      <th>1</th>\n",
              "      <td>month</td>\n",
              "      <td>[ZAB]</td>\n",
              "      <td>2020-12-01</td>\n",
              "      <td>2019-01-01</td>\n",
              "      <td>24</td>\n",
              "      <td>ARIMAX</td>\n",
              "      <td>0.388263</td>\n",
              "    </tr>\n",
              "    <tr>\n",
              "      <th>2</th>\n",
              "      <td>month</td>\n",
              "      <td>[ZAB]</td>\n",
              "      <td>2020-12-01</td>\n",
              "      <td>2019-01-01</td>\n",
              "      <td>24</td>\n",
              "      <td>KNR</td>\n",
              "      <td>0.333741</td>\n",
              "    </tr>\n",
              "    <tr>\n",
              "      <th>3</th>\n",
              "      <td>month</td>\n",
              "      <td>[ZAB]</td>\n",
              "      <td>2020-12-01</td>\n",
              "      <td>2019-01-01</td>\n",
              "      <td>24</td>\n",
              "      <td>OLS</td>\n",
              "      <td>0.432416</td>\n",
              "    </tr>\n",
              "    <tr>\n",
              "      <th>4</th>\n",
              "      <td>month</td>\n",
              "      <td>[ZAB]</td>\n",
              "      <td>2020-12-01</td>\n",
              "      <td>2019-01-01</td>\n",
              "      <td>24</td>\n",
              "      <td>Ridge</td>\n",
              "      <td>0.337345</td>\n",
              "    </tr>\n",
              "    <tr>\n",
              "      <th>5</th>\n",
              "      <td>month</td>\n",
              "      <td>[ZAB]</td>\n",
              "      <td>2020-12-01</td>\n",
              "      <td>2019-01-01</td>\n",
              "      <td>24</td>\n",
              "      <td>Lasso</td>\n",
              "      <td>0.306738</td>\n",
              "    </tr>\n",
              "    <tr>\n",
              "      <th>6</th>\n",
              "      <td>month</td>\n",
              "      <td>[ZAB]</td>\n",
              "      <td>2020-12-01</td>\n",
              "      <td>2019-01-01</td>\n",
              "      <td>24</td>\n",
              "      <td>ElasticNet</td>\n",
              "      <td>0.336595</td>\n",
              "    </tr>\n",
              "    <tr>\n",
              "      <th>7</th>\n",
              "      <td>month</td>\n",
              "      <td>[ZAB]</td>\n",
              "      <td>2020-12-01</td>\n",
              "      <td>2019-01-01</td>\n",
              "      <td>24</td>\n",
              "      <td>DT</td>\n",
              "      <td>0.897630</td>\n",
              "    </tr>\n",
              "    <tr>\n",
              "      <th>8</th>\n",
              "      <td>month</td>\n",
              "      <td>[ZAB]</td>\n",
              "      <td>2020-12-01</td>\n",
              "      <td>2019-01-01</td>\n",
              "      <td>24</td>\n",
              "      <td>GSDT</td>\n",
              "      <td>0.427329</td>\n",
              "    </tr>\n",
              "    <tr>\n",
              "      <th>9</th>\n",
              "      <td>month</td>\n",
              "      <td>[ZAB]</td>\n",
              "      <td>2020-12-01</td>\n",
              "      <td>2019-01-01</td>\n",
              "      <td>24</td>\n",
              "      <td>RF</td>\n",
              "      <td>0.384041</td>\n",
              "    </tr>\n",
              "    <tr>\n",
              "      <th>10</th>\n",
              "      <td>month</td>\n",
              "      <td>[ZAB]</td>\n",
              "      <td>2020-12-01</td>\n",
              "      <td>2019-01-01</td>\n",
              "      <td>24</td>\n",
              "      <td>GSRF</td>\n",
              "      <td>0.376623</td>\n",
              "    </tr>\n",
              "    <tr>\n",
              "      <th>11</th>\n",
              "      <td>month</td>\n",
              "      <td>[ZAB]</td>\n",
              "      <td>2020-12-01</td>\n",
              "      <td>2019-01-01</td>\n",
              "      <td>24</td>\n",
              "      <td>XGB</td>\n",
              "      <td>0.545582</td>\n",
              "    </tr>\n",
              "  </tbody>\n",
              "</table>\n",
              "</div>"
            ],
            "text/plain": [
              "   month/year reg_names     data_do    train_do mes      method      rmse\n",
              "0       month     [ZAB]  2020-12-01  2019-01-01  24       ARIMA  0.345872\n",
              "1       month     [ZAB]  2020-12-01  2019-01-01  24      ARIMAX  0.388263\n",
              "2       month     [ZAB]  2020-12-01  2019-01-01  24         KNR  0.333741\n",
              "3       month     [ZAB]  2020-12-01  2019-01-01  24         OLS  0.432416\n",
              "4       month     [ZAB]  2020-12-01  2019-01-01  24       Ridge  0.337345\n",
              "5       month     [ZAB]  2020-12-01  2019-01-01  24       Lasso  0.306738\n",
              "6       month     [ZAB]  2020-12-01  2019-01-01  24  ElasticNet  0.336595\n",
              "7       month     [ZAB]  2020-12-01  2019-01-01  24          DT  0.897630\n",
              "8       month     [ZAB]  2020-12-01  2019-01-01  24        GSDT  0.427329\n",
              "9       month     [ZAB]  2020-12-01  2019-01-01  24          RF  0.384041\n",
              "10      month     [ZAB]  2020-12-01  2019-01-01  24        GSRF  0.376623\n",
              "11      month     [ZAB]  2020-12-01  2019-01-01  24         XGB  0.545582"
            ]
          },
          "metadata": {
            "tags": []
          },
          "execution_count": 62
        }
      ]
    },
    {
      "cell_type": "code",
      "metadata": {
        "id": "wHuP_555asE-",
        "colab": {
          "base_uri": "https://localhost:8080/",
          "height": 279
        },
        "outputId": "75803ccd-0d77-431e-a943-e05172a07ac3"
      },
      "source": [
        "plot_features(xgb_model)"
      ],
      "execution_count": null,
      "outputs": [
        {
          "output_type": "display_data",
          "data": {
            "image/png": "[encoded data removed]",
            "text/plain": [
              "<Figure size 432x288 with 1 Axes>"
            ]
          },
          "metadata": {
            "tags": [],
            "needs_background": "light"
          }
        }
      ]
    },
    {
      "cell_type": "markdown",
      "metadata": {
        "id": "GjsuJnxA9pMB"
      },
      "source": [
        "# **Grid Search XGB**"
      ]
    },
    {
      "cell_type": "code",
      "metadata": {
        "id": "mNrnnv7HHq4G",
        "colab": {
          "base_uri": "https://localhost:8080/",
          "height": 972
        },
        "outputId": "ee9c17f2-eecf-4a05-d30c-74c1742ce1f2"
      },
      "source": [
        "param_grid = {'max_depth': [1, 2, 3, 5, 10],\r\n",
        "              'n_estimators': [1, 10, 50, 100, 200, 300, 500]}\r\n",
        "print(\"Parameter grid:\\n{}\".format(param_grid))\r\n",
        "\r\n",
        "GSXGB = GridSearchCV(XGBRegressor(objective ='reg:squarederror'), param_grid, cv=30)\r\n",
        "GSXGB.fit(X_train, y_train, verbose=False)\r\n",
        "\r\n",
        "print(\"Test set score: {:.2f}\".format(GSXGB.score(X_test, y_test)))\r\n",
        "print(\"Best parameters: {}\".format(GSXGB.best_params_))\r\n",
        "print(\"Best estimator:\\n{}\".format(GSXGB.best_estimator_))\r\n",
        "\r\n",
        "# make predictions\r\n",
        "GSXGB_forecast = GSXGB.predict(X_test)\r\n",
        "plt.plot(y_test, label='true')\r\n",
        "plt.plot(GSXGB_forecast, label='forecast')\r\n",
        "plt.legend()\r\n",
        "\r\n",
        "from sklearn.metrics import mean_squared_error\r\n",
        "print('rmse: {:.4f}'.format(mean_squared_error(y_test, GSXGB_forecast) ** 0.5))\r\n",
        "print('normed rmse: {:.4f}%'.format((mean_squared_error(y_test, GSXGB_forecast) ** 0.5) / \r\n",
        "                                    np.mean(y_test) * 100))\r\n",
        "\r\n",
        "print(\"Accuracy on training set: {:.3f}\".format(GSXGB.score(X_train, y_train)))\r\n",
        "print(\"Accuracy on test set: {:.3f}\".format(GSXGB.score(X_test, y_test)))\r\n",
        "\r\n",
        "result['GSXGB']=pd.DataFrame(np.array(GSXGB_forecast), index = test.index, columns=['GSXGB'])\r\n",
        "\r\n",
        "result_GSXGB = {'month/year': cpi, 'reg_names': reg_names, 'data_do': data_do, 'train_do': train_do, 'mes': mes, 'method': 'GSXGB', \r\n",
        "                'rmse': mean_squared_error(y_test, GSXGB_forecast) ** 0.5} \r\n",
        "result_rmse = result_rmse.append(result_GSXGB, ignore_index = True) \r\n",
        "result_rmse"
      ],
      "execution_count": null,
      "outputs": [
        {
          "output_type": "stream",
          "text": [
            "Parameter grid:\n",
            "{'max_depth': [1, 2, 3, 5, 10], 'n_estimators': [1, 10, 50, 100, 200, 300, 500]}\n",
            "Test set score: 0.07\n",
            "Best parameters: {'max_depth': 1, 'n_estimators': 100}\n",
            "Best estimator:\n",
            "XGBRegressor(base_score=0.5, booster='gbtree', colsample_bylevel=1,\n",
            "             colsample_bynode=1, colsample_bytree=1, gamma=0,\n",
            "             importance_type='gain', learning_rate=0.1, max_delta_step=0,\n",
            "             max_depth=1, min_child_weight=1, missing=None, n_estimators=100,\n",
            "             n_jobs=1, nthread=None, objective='reg:squarederror',\n",
            "             random_state=0, reg_alpha=0, reg_lambda=1, scale_pos_weight=1,\n",
            "             seed=None, silent=None, subsample=1, verbosity=1)\n",
            "rmse: 0.3205\n",
            "normed rmse: 0.3193%\n",
            "Accuracy on training set: 0.510\n",
            "Accuracy on test set: 0.066\n"
          ],
          "name": "stdout"
        },
        {
          "output_type": "execute_result",
          "data": {
            "text/html": [
              "<div>\n",
              "<style scoped>\n",
              "    .dataframe tbody tr th:only-of-type {\n",
              "        vertical-align: middle;\n",
              "    }\n",
              "\n",
              "    .dataframe tbody tr th {\n",
              "        vertical-align: top;\n",
              "    }\n",
              "\n",
              "    .dataframe thead th {\n",
              "        text-align: right;\n",
              "    }\n",
              "</style>\n",
              "<table border=\"1\" class=\"dataframe\">\n",
              "  <thead>\n",
              "    <tr style=\"text-align: right;\">\n",
              "      <th></th>\n",
              "      <th>month/year</th>\n",
              "      <th>reg_names</th>\n",
              "      <th>data_do</th>\n",
              "      <th>train_do</th>\n",
              "      <th>mes</th>\n",
              "      <th>method</th>\n",
              "      <th>rmse</th>\n",
              "    </tr>\n",
              "  </thead>\n",
              "  <tbody>\n",
              "    <tr>\n",
              "      <th>0</th>\n",
              "      <td>month</td>\n",
              "      <td>[ZAB]</td>\n",
              "      <td>2020-12-01</td>\n",
              "      <td>2019-01-01</td>\n",
              "      <td>24</td>\n",
              "      <td>ARIMA</td>\n",
              "      <td>0.345872</td>\n",
              "    </tr>\n",
              "    <tr>\n",
              "      <th>1</th>\n",
              "      <td>month</td>\n",
              "      <td>[ZAB]</td>\n",
              "      <td>2020-12-01</td>\n",
              "      <td>2019-01-01</td>\n",
              "      <td>24</td>\n",
              "      <td>ARIMAX</td>\n",
              "      <td>0.388263</td>\n",
              "    </tr>\n",
              "    <tr>\n",
              "      <th>2</th>\n",
              "      <td>month</td>\n",
              "      <td>[ZAB]</td>\n",
              "      <td>2020-12-01</td>\n",
              "      <td>2019-01-01</td>\n",
              "      <td>24</td>\n",
              "      <td>KNR</td>\n",
              "      <td>0.333741</td>\n",
              "    </tr>\n",
              "    <tr>\n",
              "      <th>3</th>\n",
              "      <td>month</td>\n",
              "      <td>[ZAB]</td>\n",
              "      <td>2020-12-01</td>\n",
              "      <td>2019-01-01</td>\n",
              "      <td>24</td>\n",
              "      <td>OLS</td>\n",
              "      <td>0.432416</td>\n",
              "    </tr>\n",
              "    <tr>\n",
              "      <th>4</th>\n",
              "      <td>month</td>\n",
              "      <td>[ZAB]</td>\n",
              "      <td>2020-12-01</td>\n",
              "      <td>2019-01-01</td>\n",
              "      <td>24</td>\n",
              "      <td>Ridge</td>\n",
              "      <td>0.337345</td>\n",
              "    </tr>\n",
              "    <tr>\n",
              "      <th>5</th>\n",
              "      <td>month</td>\n",
              "      <td>[ZAB]</td>\n",
              "      <td>2020-12-01</td>\n",
              "      <td>2019-01-01</td>\n",
              "      <td>24</td>\n",
              "      <td>Lasso</td>\n",
              "      <td>0.306738</td>\n",
              "    </tr>\n",
              "    <tr>\n",
              "      <th>6</th>\n",
              "      <td>month</td>\n",
              "      <td>[ZAB]</td>\n",
              "      <td>2020-12-01</td>\n",
              "      <td>2019-01-01</td>\n",
              "      <td>24</td>\n",
              "      <td>ElasticNet</td>\n",
              "      <td>0.336595</td>\n",
              "    </tr>\n",
              "    <tr>\n",
              "      <th>7</th>\n",
              "      <td>month</td>\n",
              "      <td>[ZAB]</td>\n",
              "      <td>2020-12-01</td>\n",
              "      <td>2019-01-01</td>\n",
              "      <td>24</td>\n",
              "      <td>DT</td>\n",
              "      <td>0.897630</td>\n",
              "    </tr>\n",
              "    <tr>\n",
              "      <th>8</th>\n",
              "      <td>month</td>\n",
              "      <td>[ZAB]</td>\n",
              "      <td>2020-12-01</td>\n",
              "      <td>2019-01-01</td>\n",
              "      <td>24</td>\n",
              "      <td>GSDT</td>\n",
              "      <td>0.427329</td>\n",
              "    </tr>\n",
              "    <tr>\n",
              "      <th>9</th>\n",
              "      <td>month</td>\n",
              "      <td>[ZAB]</td>\n",
              "      <td>2020-12-01</td>\n",
              "      <td>2019-01-01</td>\n",
              "      <td>24</td>\n",
              "      <td>RF</td>\n",
              "      <td>0.384041</td>\n",
              "    </tr>\n",
              "    <tr>\n",
              "      <th>10</th>\n",
              "      <td>month</td>\n",
              "      <td>[ZAB]</td>\n",
              "      <td>2020-12-01</td>\n",
              "      <td>2019-01-01</td>\n",
              "      <td>24</td>\n",
              "      <td>GSRF</td>\n",
              "      <td>0.376623</td>\n",
              "    </tr>\n",
              "    <tr>\n",
              "      <th>11</th>\n",
              "      <td>month</td>\n",
              "      <td>[ZAB]</td>\n",
              "      <td>2020-12-01</td>\n",
              "      <td>2019-01-01</td>\n",
              "      <td>24</td>\n",
              "      <td>XGB</td>\n",
              "      <td>0.545582</td>\n",
              "    </tr>\n",
              "    <tr>\n",
              "      <th>12</th>\n",
              "      <td>month</td>\n",
              "      <td>[ZAB]</td>\n",
              "      <td>2020-12-01</td>\n",
              "      <td>2019-01-01</td>\n",
              "      <td>24</td>\n",
              "      <td>GSXGB</td>\n",
              "      <td>0.320492</td>\n",
              "    </tr>\n",
              "  </tbody>\n",
              "</table>\n",
              "</div>"
            ],
            "text/plain": [
              "   month/year reg_names     data_do    train_do mes      method      rmse\n",
              "0       month     [ZAB]  2020-12-01  2019-01-01  24       ARIMA  0.345872\n",
              "1       month     [ZAB]  2020-12-01  2019-01-01  24      ARIMAX  0.388263\n",
              "2       month     [ZAB]  2020-12-01  2019-01-01  24         KNR  0.333741\n",
              "3       month     [ZAB]  2020-12-01  2019-01-01  24         OLS  0.432416\n",
              "4       month     [ZAB]  2020-12-01  2019-01-01  24       Ridge  0.337345\n",
              "5       month     [ZAB]  2020-12-01  2019-01-01  24       Lasso  0.306738\n",
              "6       month     [ZAB]  2020-12-01  2019-01-01  24  ElasticNet  0.336595\n",
              "7       month     [ZAB]  2020-12-01  2019-01-01  24          DT  0.897630\n",
              "8       month     [ZAB]  2020-12-01  2019-01-01  24        GSDT  0.427329\n",
              "9       month     [ZAB]  2020-12-01  2019-01-01  24          RF  0.384041\n",
              "10      month     [ZAB]  2020-12-01  2019-01-01  24        GSRF  0.376623\n",
              "11      month     [ZAB]  2020-12-01  2019-01-01  24         XGB  0.545582\n",
              "12      month     [ZAB]  2020-12-01  2019-01-01  24       GSXGB  0.320492"
            ]
          },
          "metadata": {
            "tags": []
          },
          "execution_count": 64
        },
        {
          "output_type": "display_data",
          "data": {
            "image/png": "[encoded data removed]",
            "text/plain": [
              "<Figure size 432x288 with 1 Axes>"
            ]
          },
          "metadata": {
            "tags": [],
            "needs_background": "light"
          }
        }
      ]
    },
    {
      "cell_type": "code",
      "metadata": {
        "id": "xENyFZZS4mJt",
        "colab": {
          "base_uri": "https://localhost:8080/"
        },
        "outputId": "58d29609-9b37-421b-bbae-7fd0bf1f183a"
      },
      "source": [
        "feature_importances = GSXGB.best_estimator_.feature_importances_\r\n",
        "feature_importances"
      ],
      "execution_count": null,
      "outputs": [
        {
          "output_type": "execute_result",
          "data": {
            "text/plain": [
              "array([0.        , 0.11521213, 0.07577062, 0.        , 0.09656932,\n",
              "       0.09124381, 0.09189238, 0.15969503, 0.13110985, 0.        ,\n",
              "       0.        , 0.03748888, 0.09124424, 0.05364842, 0.05612529,\n",
              "       0.        , 0.        ], dtype=float32)"
            ]
          },
          "metadata": {
            "tags": []
          },
          "execution_count": 65
        }
      ]
    },
    {
      "cell_type": "code",
      "metadata": {
        "id": "FKrmX-6s6NKI",
        "colab": {
          "base_uri": "https://localhost:8080/",
          "height": 279
        },
        "outputId": "76e2ec56-f398-4e64-e2fb-6b4edadfe4e6"
      },
      "source": [
        "plot_features_GS(GSXGB)"
      ],
      "execution_count": null,
      "outputs": [
        {
          "output_type": "display_data",
          "data": {
            "image/png": "[encoded data removed]",
            "text/plain": [
              "<Figure size 432x288 with 1 Axes>"
            ]
          },
          "metadata": {
            "tags": [],
            "needs_background": "light"
          }
        }
      ]
    },
    {
      "cell_type": "markdown",
      "metadata": {
        "id": "uwGXMr6M-o_v"
      },
      "source": [
        "# **Results**"
      ]
    },
    {
      "cell_type": "code",
      "metadata": {
        "id": "wQ0DyaPQ-reO",
        "colab": {
          "base_uri": "https://localhost:8080/",
          "height": 889
        },
        "outputId": "16a90ef1-560a-4358-c7aa-255c114fa719"
      },
      "source": [
        "result.plot(figsize=(20, 7))\r\n",
        "result_rmse"
      ],
      "execution_count": null,
      "outputs": [
        {
          "output_type": "execute_result",
          "data": {
            "text/html": [
              "<div>\n",
              "<style scoped>\n",
              "    .dataframe tbody tr th:only-of-type {\n",
              "        vertical-align: middle;\n",
              "    }\n",
              "\n",
              "    .dataframe tbody tr th {\n",
              "        vertical-align: top;\n",
              "    }\n",
              "\n",
              "    .dataframe thead th {\n",
              "        text-align: right;\n",
              "    }\n",
              "</style>\n",
              "<table border=\"1\" class=\"dataframe\">\n",
              "  <thead>\n",
              "    <tr style=\"text-align: right;\">\n",
              "      <th></th>\n",
              "      <th>month/year</th>\n",
              "      <th>reg_names</th>\n",
              "      <th>data_do</th>\n",
              "      <th>train_do</th>\n",
              "      <th>mes</th>\n",
              "      <th>method</th>\n",
              "      <th>rmse</th>\n",
              "    </tr>\n",
              "  </thead>\n",
              "  <tbody>\n",
              "    <tr>\n",
              "      <th>0</th>\n",
              "      <td>month</td>\n",
              "      <td>[ZAB]</td>\n",
              "      <td>2020-12-01</td>\n",
              "      <td>2019-01-01</td>\n",
              "      <td>24</td>\n",
              "      <td>ARIMA</td>\n",
              "      <td>0.345872</td>\n",
              "    </tr>\n",
              "    <tr>\n",
              "      <th>1</th>\n",
              "      <td>month</td>\n",
              "      <td>[ZAB]</td>\n",
              "      <td>2020-12-01</td>\n",
              "      <td>2019-01-01</td>\n",
              "      <td>24</td>\n",
              "      <td>ARIMAX</td>\n",
              "      <td>0.388263</td>\n",
              "    </tr>\n",
              "    <tr>\n",
              "      <th>2</th>\n",
              "      <td>month</td>\n",
              "      <td>[ZAB]</td>\n",
              "      <td>2020-12-01</td>\n",
              "      <td>2019-01-01</td>\n",
              "      <td>24</td>\n",
              "      <td>KNR</td>\n",
              "      <td>0.333741</td>\n",
              "    </tr>\n",
              "    <tr>\n",
              "      <th>3</th>\n",
              "      <td>month</td>\n",
              "      <td>[ZAB]</td>\n",
              "      <td>2020-12-01</td>\n",
              "      <td>2019-01-01</td>\n",
              "      <td>24</td>\n",
              "      <td>OLS</td>\n",
              "      <td>0.432416</td>\n",
              "    </tr>\n",
              "    <tr>\n",
              "      <th>4</th>\n",
              "      <td>month</td>\n",
              "      <td>[ZAB]</td>\n",
              "      <td>2020-12-01</td>\n",
              "      <td>2019-01-01</td>\n",
              "      <td>24</td>\n",
              "      <td>Ridge</td>\n",
              "      <td>0.337345</td>\n",
              "    </tr>\n",
              "    <tr>\n",
              "      <th>5</th>\n",
              "      <td>month</td>\n",
              "      <td>[ZAB]</td>\n",
              "      <td>2020-12-01</td>\n",
              "      <td>2019-01-01</td>\n",
              "      <td>24</td>\n",
              "      <td>Lasso</td>\n",
              "      <td>0.306738</td>\n",
              "    </tr>\n",
              "    <tr>\n",
              "      <th>6</th>\n",
              "      <td>month</td>\n",
              "      <td>[ZAB]</td>\n",
              "      <td>2020-12-01</td>\n",
              "      <td>2019-01-01</td>\n",
              "      <td>24</td>\n",
              "      <td>ElasticNet</td>\n",
              "      <td>0.336595</td>\n",
              "    </tr>\n",
              "    <tr>\n",
              "      <th>7</th>\n",
              "      <td>month</td>\n",
              "      <td>[ZAB]</td>\n",
              "      <td>2020-12-01</td>\n",
              "      <td>2019-01-01</td>\n",
              "      <td>24</td>\n",
              "      <td>DT</td>\n",
              "      <td>0.897630</td>\n",
              "    </tr>\n",
              "    <tr>\n",
              "      <th>8</th>\n",
              "      <td>month</td>\n",
              "      <td>[ZAB]</td>\n",
              "      <td>2020-12-01</td>\n",
              "      <td>2019-01-01</td>\n",
              "      <td>24</td>\n",
              "      <td>GSDT</td>\n",
              "      <td>0.427329</td>\n",
              "    </tr>\n",
              "    <tr>\n",
              "      <th>9</th>\n",
              "      <td>month</td>\n",
              "      <td>[ZAB]</td>\n",
              "      <td>2020-12-01</td>\n",
              "      <td>2019-01-01</td>\n",
              "      <td>24</td>\n",
              "      <td>RF</td>\n",
              "      <td>0.384041</td>\n",
              "    </tr>\n",
              "    <tr>\n",
              "      <th>10</th>\n",
              "      <td>month</td>\n",
              "      <td>[ZAB]</td>\n",
              "      <td>2020-12-01</td>\n",
              "      <td>2019-01-01</td>\n",
              "      <td>24</td>\n",
              "      <td>GSRF</td>\n",
              "      <td>0.376623</td>\n",
              "    </tr>\n",
              "    <tr>\n",
              "      <th>11</th>\n",
              "      <td>month</td>\n",
              "      <td>[ZAB]</td>\n",
              "      <td>2020-12-01</td>\n",
              "      <td>2019-01-01</td>\n",
              "      <td>24</td>\n",
              "      <td>XGB</td>\n",
              "      <td>0.545582</td>\n",
              "    </tr>\n",
              "    <tr>\n",
              "      <th>12</th>\n",
              "      <td>month</td>\n",
              "      <td>[ZAB]</td>\n",
              "      <td>2020-12-01</td>\n",
              "      <td>2019-01-01</td>\n",
              "      <td>24</td>\n",
              "      <td>GSXGB</td>\n",
              "      <td>0.320492</td>\n",
              "    </tr>\n",
              "  </tbody>\n",
              "</table>\n",
              "</div>"
            ],
            "text/plain": [
              "   month/year reg_names     data_do    train_do mes      method      rmse\n",
              "0       month     [ZAB]  2020-12-01  2019-01-01  24       ARIMA  0.345872\n",
              "1       month     [ZAB]  2020-12-01  2019-01-01  24      ARIMAX  0.388263\n",
              "2       month     [ZAB]  2020-12-01  2019-01-01  24         KNR  0.333741\n",
              "3       month     [ZAB]  2020-12-01  2019-01-01  24         OLS  0.432416\n",
              "4       month     [ZAB]  2020-12-01  2019-01-01  24       Ridge  0.337345\n",
              "5       month     [ZAB]  2020-12-01  2019-01-01  24       Lasso  0.306738\n",
              "6       month     [ZAB]  2020-12-01  2019-01-01  24  ElasticNet  0.336595\n",
              "7       month     [ZAB]  2020-12-01  2019-01-01  24          DT  0.897630\n",
              "8       month     [ZAB]  2020-12-01  2019-01-01  24        GSDT  0.427329\n",
              "9       month     [ZAB]  2020-12-01  2019-01-01  24          RF  0.384041\n",
              "10      month     [ZAB]  2020-12-01  2019-01-01  24        GSRF  0.376623\n",
              "11      month     [ZAB]  2020-12-01  2019-01-01  24         XGB  0.545582\n",
              "12      month     [ZAB]  2020-12-01  2019-01-01  24       GSXGB  0.320492"
            ]
          },
          "metadata": {
            "tags": []
          },
          "execution_count": 67
        },
        {
          "output_type": "display_data",
          "data": {
            "image/png": "[encoded data removed]",
            "text/plain": [
              "<Figure size 1440x504 with 1 Axes>"
            ]
          },
          "metadata": {
            "tags": [],
            "needs_background": "light"
          }
        }
      ]
    },
    {
      "cell_type": "code",
      "metadata": {
        "id": "SmPs-oeDGDRi",
        "colab": {
          "base_uri": "https://localhost:8080/",
          "height": 824
        },
        "outputId": "c5aea714-1bd4-4a4f-dfa0-30911e7301ac"
      },
      "source": [
        "result"
      ],
      "execution_count": null,
      "outputs": [
        {
          "output_type": "execute_result",
          "data": {
            "text/html": [
              "<div>\n",
              "<style scoped>\n",
              "    .dataframe tbody tr th:only-of-type {\n",
              "        vertical-align: middle;\n",
              "    }\n",
              "\n",
              "    .dataframe tbody tr th {\n",
              "        vertical-align: top;\n",
              "    }\n",
              "\n",
              "    .dataframe thead th {\n",
              "        text-align: right;\n",
              "    }\n",
              "</style>\n",
              "<table border=\"1\" class=\"dataframe\">\n",
              "  <thead>\n",
              "    <tr style=\"text-align: right;\">\n",
              "      <th></th>\n",
              "      <th>ARIMA</th>\n",
              "      <th>ARIMAX</th>\n",
              "      <th>y_test</th>\n",
              "      <th>KNR</th>\n",
              "      <th>OLS</th>\n",
              "      <th>Ridge</th>\n",
              "      <th>Lasso</th>\n",
              "      <th>ElasticNet</th>\n",
              "      <th>DecisionTree</th>\n",
              "      <th>GSDT</th>\n",
              "      <th>Random Forest</th>\n",
              "      <th>GSRF</th>\n",
              "      <th>GradientBoosting</th>\n",
              "      <th>GSXGB</th>\n",
              "    </tr>\n",
              "    <tr>\n",
              "      <th>date</th>\n",
              "      <th></th>\n",
              "      <th></th>\n",
              "      <th></th>\n",
              "      <th></th>\n",
              "      <th></th>\n",
              "      <th></th>\n",
              "      <th></th>\n",
              "      <th></th>\n",
              "      <th></th>\n",
              "      <th></th>\n",
              "      <th></th>\n",
              "      <th></th>\n",
              "      <th></th>\n",
              "      <th></th>\n",
              "    </tr>\n",
              "  </thead>\n",
              "  <tbody>\n",
              "    <tr>\n",
              "      <th>2019-01-01</th>\n",
              "      <td>100.720680</td>\n",
              "      <td>100.536477</td>\n",
              "      <td>100.67</td>\n",
              "      <td>100.412</td>\n",
              "      <td>100.121306</td>\n",
              "      <td>100.309911</td>\n",
              "      <td>100.454372</td>\n",
              "      <td>100.433970</td>\n",
              "      <td>100.465870</td>\n",
              "      <td>100.508148</td>\n",
              "      <td>100.63090</td>\n",
              "      <td>100.65370</td>\n",
              "      <td>99.829247</td>\n",
              "      <td>100.890511</td>\n",
              "    </tr>\n",
              "    <tr>\n",
              "      <th>2019-02-01</th>\n",
              "      <td>100.545800</td>\n",
              "      <td>100.370490</td>\n",
              "      <td>100.77</td>\n",
              "      <td>100.400</td>\n",
              "      <td>99.942129</td>\n",
              "      <td>100.227875</td>\n",
              "      <td>100.460072</td>\n",
              "      <td>100.290325</td>\n",
              "      <td>101.009412</td>\n",
              "      <td>101.013095</td>\n",
              "      <td>100.61786</td>\n",
              "      <td>100.55075</td>\n",
              "      <td>100.105843</td>\n",
              "      <td>100.539268</td>\n",
              "    </tr>\n",
              "    <tr>\n",
              "      <th>2019-03-01</th>\n",
              "      <td>100.279538</td>\n",
              "      <td>100.098313</td>\n",
              "      <td>100.22</td>\n",
              "      <td>100.400</td>\n",
              "      <td>100.035418</td>\n",
              "      <td>100.260709</td>\n",
              "      <td>100.483117</td>\n",
              "      <td>100.248471</td>\n",
              "      <td>101.009412</td>\n",
              "      <td>101.013095</td>\n",
              "      <td>100.72420</td>\n",
              "      <td>100.63495</td>\n",
              "      <td>100.105843</td>\n",
              "      <td>100.539268</td>\n",
              "    </tr>\n",
              "    <tr>\n",
              "      <th>2019-04-01</th>\n",
              "      <td>100.152115</td>\n",
              "      <td>100.084600</td>\n",
              "      <td>100.32</td>\n",
              "      <td>100.460</td>\n",
              "      <td>100.093704</td>\n",
              "      <td>100.175589</td>\n",
              "      <td>100.321335</td>\n",
              "      <td>100.193502</td>\n",
              "      <td>100.465870</td>\n",
              "      <td>100.508148</td>\n",
              "      <td>100.58240</td>\n",
              "      <td>100.58535</td>\n",
              "      <td>100.008507</td>\n",
              "      <td>100.377892</td>\n",
              "    </tr>\n",
              "    <tr>\n",
              "      <th>2019-05-01</th>\n",
              "      <td>100.137364</td>\n",
              "      <td>100.098468</td>\n",
              "      <td>100.39</td>\n",
              "      <td>100.374</td>\n",
              "      <td>100.123372</td>\n",
              "      <td>100.192229</td>\n",
              "      <td>100.328624</td>\n",
              "      <td>100.186346</td>\n",
              "      <td>100.465870</td>\n",
              "      <td>100.508148</td>\n",
              "      <td>100.47868</td>\n",
              "      <td>100.49465</td>\n",
              "      <td>100.008507</td>\n",
              "      <td>100.377892</td>\n",
              "    </tr>\n",
              "    <tr>\n",
              "      <th>2019-06-01</th>\n",
              "      <td>99.994762</td>\n",
              "      <td>99.892890</td>\n",
              "      <td>100.36</td>\n",
              "      <td>100.374</td>\n",
              "      <td>100.088675</td>\n",
              "      <td>100.153003</td>\n",
              "      <td>100.304999</td>\n",
              "      <td>100.134785</td>\n",
              "      <td>100.465870</td>\n",
              "      <td>100.508148</td>\n",
              "      <td>100.39772</td>\n",
              "      <td>100.37755</td>\n",
              "      <td>99.928810</td>\n",
              "      <td>100.319656</td>\n",
              "    </tr>\n",
              "    <tr>\n",
              "      <th>2019-07-01</th>\n",
              "      <td>100.294323</td>\n",
              "      <td>100.135866</td>\n",
              "      <td>100.43</td>\n",
              "      <td>100.260</td>\n",
              "      <td>100.111236</td>\n",
              "      <td>100.123204</td>\n",
              "      <td>100.277781</td>\n",
              "      <td>100.083768</td>\n",
              "      <td>100.465870</td>\n",
              "      <td>100.508148</td>\n",
              "      <td>100.47558</td>\n",
              "      <td>100.44830</td>\n",
              "      <td>99.928810</td>\n",
              "      <td>100.319656</td>\n",
              "    </tr>\n",
              "    <tr>\n",
              "      <th>2019-08-01</th>\n",
              "      <td>99.836672</td>\n",
              "      <td>99.675051</td>\n",
              "      <td>100.00</td>\n",
              "      <td>100.384</td>\n",
              "      <td>100.277983</td>\n",
              "      <td>100.200470</td>\n",
              "      <td>100.310214</td>\n",
              "      <td>100.166850</td>\n",
              "      <td>100.465870</td>\n",
              "      <td>100.508148</td>\n",
              "      <td>100.52870</td>\n",
              "      <td>100.48850</td>\n",
              "      <td>99.928810</td>\n",
              "      <td>100.319656</td>\n",
              "    </tr>\n",
              "    <tr>\n",
              "      <th>2019-09-01</th>\n",
              "      <td>99.950244</td>\n",
              "      <td>99.781726</td>\n",
              "      <td>99.76</td>\n",
              "      <td>100.270</td>\n",
              "      <td>100.099716</td>\n",
              "      <td>100.073911</td>\n",
              "      <td>100.203103</td>\n",
              "      <td>100.106437</td>\n",
              "      <td>100.890000</td>\n",
              "      <td>100.508148</td>\n",
              "      <td>100.31712</td>\n",
              "      <td>100.32720</td>\n",
              "      <td>99.844574</td>\n",
              "      <td>100.264740</td>\n",
              "    </tr>\n",
              "    <tr>\n",
              "      <th>2019-10-01</th>\n",
              "      <td>100.116123</td>\n",
              "      <td>99.915354</td>\n",
              "      <td>100.52</td>\n",
              "      <td>100.270</td>\n",
              "      <td>100.183652</td>\n",
              "      <td>100.125171</td>\n",
              "      <td>100.193787</td>\n",
              "      <td>100.044317</td>\n",
              "      <td>100.890000</td>\n",
              "      <td>100.508148</td>\n",
              "      <td>100.32552</td>\n",
              "      <td>100.35970</td>\n",
              "      <td>99.885582</td>\n",
              "      <td>100.264740</td>\n",
              "    </tr>\n",
              "    <tr>\n",
              "      <th>2019-11-01</th>\n",
              "      <td>100.059905</td>\n",
              "      <td>99.752091</td>\n",
              "      <td>100.13</td>\n",
              "      <td>100.270</td>\n",
              "      <td>100.126352</td>\n",
              "      <td>100.143174</td>\n",
              "      <td>100.279521</td>\n",
              "      <td>99.999472</td>\n",
              "      <td>100.890000</td>\n",
              "      <td>100.508148</td>\n",
              "      <td>100.34616</td>\n",
              "      <td>100.34000</td>\n",
              "      <td>99.864563</td>\n",
              "      <td>100.264740</td>\n",
              "    </tr>\n",
              "    <tr>\n",
              "      <th>2019-12-01</th>\n",
              "      <td>100.455369</td>\n",
              "      <td>100.060129</td>\n",
              "      <td>100.21</td>\n",
              "      <td>100.270</td>\n",
              "      <td>100.092989</td>\n",
              "      <td>100.060735</td>\n",
              "      <td>100.180043</td>\n",
              "      <td>99.925388</td>\n",
              "      <td>100.890000</td>\n",
              "      <td>100.508148</td>\n",
              "      <td>100.30624</td>\n",
              "      <td>100.31960</td>\n",
              "      <td>99.913185</td>\n",
              "      <td>100.387856</td>\n",
              "    </tr>\n",
              "    <tr>\n",
              "      <th>2020-01-01</th>\n",
              "      <td>100.572302</td>\n",
              "      <td>99.942706</td>\n",
              "      <td>100.62</td>\n",
              "      <td>100.304</td>\n",
              "      <td>100.431801</td>\n",
              "      <td>100.350187</td>\n",
              "      <td>100.400315</td>\n",
              "      <td>100.329789</td>\n",
              "      <td>100.890000</td>\n",
              "      <td>100.508148</td>\n",
              "      <td>100.40870</td>\n",
              "      <td>100.43485</td>\n",
              "      <td>99.746849</td>\n",
              "      <td>100.789513</td>\n",
              "    </tr>\n",
              "    <tr>\n",
              "      <th>2020-02-01</th>\n",
              "      <td>100.387477</td>\n",
              "      <td>99.944177</td>\n",
              "      <td>100.42</td>\n",
              "      <td>100.286</td>\n",
              "      <td>100.563744</td>\n",
              "      <td>100.472364</td>\n",
              "      <td>100.508737</td>\n",
              "      <td>100.417457</td>\n",
              "      <td>100.890000</td>\n",
              "      <td>100.508148</td>\n",
              "      <td>100.35218</td>\n",
              "      <td>100.36490</td>\n",
              "      <td>99.851349</td>\n",
              "      <td>100.318367</td>\n",
              "    </tr>\n",
              "    <tr>\n",
              "      <th>2020-03-01</th>\n",
              "      <td>100.188850</td>\n",
              "      <td>100.308042</td>\n",
              "      <td>100.73</td>\n",
              "      <td>100.382</td>\n",
              "      <td>100.473701</td>\n",
              "      <td>100.389625</td>\n",
              "      <td>100.416644</td>\n",
              "      <td>100.672961</td>\n",
              "      <td>100.890000</td>\n",
              "      <td>100.508148</td>\n",
              "      <td>100.34152</td>\n",
              "      <td>100.34145</td>\n",
              "      <td>99.851349</td>\n",
              "      <td>100.318367</td>\n",
              "    </tr>\n",
              "    <tr>\n",
              "      <th>2020-04-01</th>\n",
              "      <td>100.067828</td>\n",
              "      <td>100.307938</td>\n",
              "      <td>100.96</td>\n",
              "      <td>100.494</td>\n",
              "      <td>101.458627</td>\n",
              "      <td>101.005783</td>\n",
              "      <td>100.810158</td>\n",
              "      <td>100.982003</td>\n",
              "      <td>103.280000</td>\n",
              "      <td>101.013095</td>\n",
              "      <td>101.11688</td>\n",
              "      <td>101.01775</td>\n",
              "      <td>100.097290</td>\n",
              "      <td>100.660713</td>\n",
              "    </tr>\n",
              "    <tr>\n",
              "      <th>2020-05-01</th>\n",
              "      <td>100.073586</td>\n",
              "      <td>100.193270</td>\n",
              "      <td>100.39</td>\n",
              "      <td>100.488</td>\n",
              "      <td>101.319700</td>\n",
              "      <td>100.981159</td>\n",
              "      <td>100.818528</td>\n",
              "      <td>100.869417</td>\n",
              "      <td>103.280000</td>\n",
              "      <td>101.013095</td>\n",
              "      <td>101.29924</td>\n",
              "      <td>101.25830</td>\n",
              "      <td>100.142220</td>\n",
              "      <td>100.725639</td>\n",
              "    </tr>\n",
              "    <tr>\n",
              "      <th>2020-06-01</th>\n",
              "      <td>99.978752</td>\n",
              "      <td>99.934494</td>\n",
              "      <td>100.18</td>\n",
              "      <td>100.514</td>\n",
              "      <td>100.384261</td>\n",
              "      <td>100.377010</td>\n",
              "      <td>100.353244</td>\n",
              "      <td>100.473403</td>\n",
              "      <td>100.465870</td>\n",
              "      <td>100.508148</td>\n",
              "      <td>100.62756</td>\n",
              "      <td>100.67845</td>\n",
              "      <td>100.053436</td>\n",
              "      <td>100.430679</td>\n",
              "    </tr>\n",
              "    <tr>\n",
              "      <th>2020-07-01</th>\n",
              "      <td>100.187138</td>\n",
              "      <td>100.196001</td>\n",
              "      <td>100.66</td>\n",
              "      <td>100.514</td>\n",
              "      <td>100.559749</td>\n",
              "      <td>100.455297</td>\n",
              "      <td>100.396538</td>\n",
              "      <td>100.470239</td>\n",
              "      <td>100.465870</td>\n",
              "      <td>100.508148</td>\n",
              "      <td>100.48532</td>\n",
              "      <td>100.51970</td>\n",
              "      <td>100.008507</td>\n",
              "      <td>100.459473</td>\n",
              "    </tr>\n",
              "    <tr>\n",
              "      <th>2020-08-01</th>\n",
              "      <td>99.805905</td>\n",
              "      <td>99.836621</td>\n",
              "      <td>100.17</td>\n",
              "      <td>100.490</td>\n",
              "      <td>100.210154</td>\n",
              "      <td>100.285339</td>\n",
              "      <td>100.385335</td>\n",
              "      <td>100.329726</td>\n",
              "      <td>100.654722</td>\n",
              "      <td>101.013095</td>\n",
              "      <td>100.47642</td>\n",
              "      <td>100.46610</td>\n",
              "      <td>99.976585</td>\n",
              "      <td>100.533279</td>\n",
              "    </tr>\n",
              "    <tr>\n",
              "      <th>2020-09-01</th>\n",
              "      <td>99.855733</td>\n",
              "      <td>99.969527</td>\n",
              "      <td>99.41</td>\n",
              "      <td>100.488</td>\n",
              "      <td>99.944457</td>\n",
              "      <td>100.088827</td>\n",
              "      <td>100.274943</td>\n",
              "      <td>100.172996</td>\n",
              "      <td>100.465870</td>\n",
              "      <td>100.508148</td>\n",
              "      <td>100.42616</td>\n",
              "      <td>100.44895</td>\n",
              "      <td>99.887802</td>\n",
              "      <td>100.413391</td>\n",
              "    </tr>\n",
              "    <tr>\n",
              "      <th>2020-10-01</th>\n",
              "      <td>100.157493</td>\n",
              "      <td>100.443530</td>\n",
              "      <td>100.41</td>\n",
              "      <td>100.488</td>\n",
              "      <td>99.965197</td>\n",
              "      <td>100.037733</td>\n",
              "      <td>100.118102</td>\n",
              "      <td>100.168522</td>\n",
              "      <td>100.890000</td>\n",
              "      <td>100.508148</td>\n",
              "      <td>100.43734</td>\n",
              "      <td>100.49415</td>\n",
              "      <td>99.885582</td>\n",
              "      <td>100.358475</td>\n",
              "    </tr>\n",
              "    <tr>\n",
              "      <th>2020-11-01</th>\n",
              "      <td>100.014299</td>\n",
              "      <td>100.162849</td>\n",
              "      <td>100.60</td>\n",
              "      <td>100.488</td>\n",
              "      <td>99.933126</td>\n",
              "      <td>100.125362</td>\n",
              "      <td>100.279369</td>\n",
              "      <td>100.147051</td>\n",
              "      <td>100.890000</td>\n",
              "      <td>100.508148</td>\n",
              "      <td>100.38150</td>\n",
              "      <td>100.42040</td>\n",
              "      <td>99.864563</td>\n",
              "      <td>100.358475</td>\n",
              "    </tr>\n",
              "    <tr>\n",
              "      <th>2020-12-01</th>\n",
              "      <td>100.337853</td>\n",
              "      <td>100.277041</td>\n",
              "      <td>100.63</td>\n",
              "      <td>100.514</td>\n",
              "      <td>99.833933</td>\n",
              "      <td>100.055235</td>\n",
              "      <td>100.240412</td>\n",
              "      <td>99.981001</td>\n",
              "      <td>100.890000</td>\n",
              "      <td>100.508148</td>\n",
              "      <td>100.43104</td>\n",
              "      <td>100.43135</td>\n",
              "      <td>99.892166</td>\n",
              "      <td>100.387856</td>\n",
              "    </tr>\n",
              "  </tbody>\n",
              "</table>\n",
              "</div>"
            ],
            "text/plain": [
              "                 ARIMA      ARIMAX  ...  GradientBoosting       GSXGB\n",
              "date                                ...                              \n",
              "2019-01-01  100.720680  100.536477  ...         99.829247  100.890511\n",
              "2019-02-01  100.545800  100.370490  ...        100.105843  100.539268\n",
              "2019-03-01  100.279538  100.098313  ...        100.105843  100.539268\n",
              "2019-04-01  100.152115  100.084600  ...        100.008507  100.377892\n",
              "2019-05-01  100.137364  100.098468  ...        100.008507  100.377892\n",
              "2019-06-01   99.994762   99.892890  ...         99.928810  100.319656\n",
              "2019-07-01  100.294323  100.135866  ...         99.928810  100.319656\n",
              "2019-08-01   99.836672   99.675051  ...         99.928810  100.319656\n",
              "2019-09-01   99.950244   99.781726  ...         99.844574  100.264740\n",
              "2019-10-01  100.116123   99.915354  ...         99.885582  100.264740\n",
              "2019-11-01  100.059905   99.752091  ...         99.864563  100.264740\n",
              "2019-12-01  100.455369  100.060129  ...         99.913185  100.387856\n",
              "2020-01-01  100.572302   99.942706  ...         99.746849  100.789513\n",
              "2020-02-01  100.387477   99.944177  ...         99.851349  100.318367\n",
              "2020-03-01  100.188850  100.308042  ...         99.851349  100.318367\n",
              "2020-04-01  100.067828  100.307938  ...        100.097290  100.660713\n",
              "2020-05-01  100.073586  100.193270  ...        100.142220  100.725639\n",
              "2020-06-01   99.978752   99.934494  ...        100.053436  100.430679\n",
              "2020-07-01  100.187138  100.196001  ...        100.008507  100.459473\n",
              "2020-08-01   99.805905   99.836621  ...         99.976585  100.533279\n",
              "2020-09-01   99.855733   99.969527  ...         99.887802  100.413391\n",
              "2020-10-01  100.157493  100.443530  ...         99.885582  100.358475\n",
              "2020-11-01  100.014299  100.162849  ...         99.864563  100.358475\n",
              "2020-12-01  100.337853  100.277041  ...         99.892166  100.387856\n",
              "\n",
              "[24 rows x 14 columns]"
            ]
          },
          "metadata": {
            "tags": []
          },
          "execution_count": 68
        }
      ]
    },
    {
      "cell_type": "code",
      "metadata": {
        "colab": {
          "base_uri": "https://localhost:8080/"
        },
        "id": "MIo6Lw3TvYii",
        "outputId": "57b56a2c-750d-49f3-aece-798f8a3f814e"
      },
      "source": [
        "y_test"
      ],
      "execution_count": null,
      "outputs": [
        {
          "output_type": "execute_result",
          "data": {
            "text/plain": [
              "array([100.67, 100.77, 100.22, 100.32, 100.39, 100.36, 100.43, 100.  ,\n",
              "        99.76, 100.52, 100.13, 100.21, 100.62, 100.42, 100.73, 100.96,\n",
              "       100.39, 100.18, 100.66, 100.17,  99.41, 100.41, 100.6 , 100.63])"
            ]
          },
          "metadata": {
            "tags": []
          },
          "execution_count": 72
        }
      ]
    }
  ]
}