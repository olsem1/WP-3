{
  "nbformat": 4,
  "nbformat_minor": 0,
  "metadata": {
    "colab": {
      "name": "KFold \"RF+XGBoost+neer cpi 2002-2019\"\"",
      "provenance": [],
      "collapsed_sections": [],
      "authorship_tag": "ABX9TyMvdrxLDVK3ShtfRKY2j/VY",
      "include_colab_link": true
    },
    "kernelspec": {
      "name": "python3",
      "display_name": "Python 3"
    }
  },
  "cells": [
    {
      "cell_type": "markdown",
      "metadata": {
        "id": "view-in-github",
        "colab_type": "text"
      },
      "source": [
        "<a href=\"https://colab.research.google.com/github/olsem1/WP-3/blob/master/KFold_%22RF%2BXGBoost%2Bneer_cpi_2002_2019%22%22.ipynb\" target=\"_parent\"><img src=\"https://colab.research.google.com/assets/colab-badge.svg\" alt=\"Open In Colab\"/></a>"
      ]
    },
    {
      "cell_type": "code",
      "metadata": {
        "id": "stObcNR0Ei_U"
      },
      "source": [
        "import numpy as np\n",
        "import pandas as pd\n",
        "\n",
        "import matplotlib as mpl\n",
        "import matplotlib.pyplot as plt\n",
        "\n",
        "from sklearn.model_selection import KFold\n",
        "from sklearn.metrics import mean_squared_error"
      ],
      "execution_count": 10,
      "outputs": []
    },
    {
      "cell_type": "code",
      "metadata": {
        "id": "cBBcCeTc-DWY"
      },
      "source": [
        "course = pd.read_excel('RC_2002-2020.xlsx')\r\n",
        "course = course.rename(columns={\"data\": \"date\"})\r\n",
        "course = course.set_index('date')\r\n",
        "course_m = course.resample('MS').mean()"
      ],
      "execution_count": 11,
      "outputs": []
    },
    {
      "cell_type": "markdown",
      "metadata": {
        "id": "y0elr5HmiI5a"
      },
      "source": [
        "# **Переменные**"
      ]
    },
    {
      "cell_type": "code",
      "metadata": {
        "id": "atQOrSCziHzA"
      },
      "source": [
        "cpi = \"month\"\r\n",
        "reg_names = ['RF']\r\n",
        "data_do = \"2019-12-01\"\r\n",
        "train_do = \"2019-01-01\""
      ],
      "execution_count": 12,
      "outputs": []
    },
    {
      "cell_type": "code",
      "metadata": {
        "id": "6BPbGQe9FZ8M",
        "colab": {
          "base_uri": "https://localhost:8080/"
        },
        "outputId": "89251e6e-ed09-48ba-b561-fc1d00262db1"
      },
      "source": [
        "data = pd.read_excel('cpi_reg.xls', sheet_name = cpi)\r\n",
        "data = data.set_index('date')\r\n",
        "data = data.interpolate(method='polynomial', order=2, axis=0)\r\n",
        "data.isna().sum().sum()"
      ],
      "execution_count": 13,
      "outputs": [
        {
          "output_type": "execute_result",
          "data": {
            "text/plain": [
              "0"
            ]
          },
          "metadata": {
            "tags": []
          },
          "execution_count": 13
        }
      ]
    },
    {
      "cell_type": "code",
      "metadata": {
        "colab": {
          "base_uri": "https://localhost:8080/"
        },
        "id": "lgvw-bvCTuXI",
        "outputId": "c019cc88-3e3b-4157-f56a-2068dbda1b6a"
      },
      "source": [
        "data.min().min()"
      ],
      "execution_count": 14,
      "outputs": [
        {
          "output_type": "execute_result",
          "data": {
            "text/plain": [
              "91.17"
            ]
          },
          "metadata": {
            "tags": []
          },
          "execution_count": 14
        }
      ]
    },
    {
      "cell_type": "code",
      "metadata": {
        "id": "0F-jAhAL_x17",
        "colab": {
          "base_uri": "https://localhost:8080/",
          "height": 676
        },
        "outputId": "fd32e8e5-868b-48a8-ed24-e8572bdb9589"
      },
      "source": [
        "data.tail(12)"
      ],
      "execution_count": 15,
      "outputs": [
        {
          "output_type": "execute_result",
          "data": {
            "text/html": [
              "<div>\n",
              "<style scoped>\n",
              "    .dataframe tbody tr th:only-of-type {\n",
              "        vertical-align: middle;\n",
              "    }\n",
              "\n",
              "    .dataframe tbody tr th {\n",
              "        vertical-align: top;\n",
              "    }\n",
              "\n",
              "    .dataframe thead th {\n",
              "        text-align: right;\n",
              "    }\n",
              "</style>\n",
              "<table border=\"1\" class=\"dataframe\">\n",
              "  <thead>\n",
              "    <tr style=\"text-align: right;\">\n",
              "      <th></th>\n",
              "      <th>RF</th>\n",
              "      <th>BEL</th>\n",
              "      <th>BRY</th>\n",
              "      <th>VLA</th>\n",
              "      <th>VOR</th>\n",
              "      <th>IVA</th>\n",
              "      <th>KAL</th>\n",
              "      <th>KOS</th>\n",
              "      <th>KUR</th>\n",
              "      <th>LIP</th>\n",
              "      <th>MOS</th>\n",
              "      <th>ORL</th>\n",
              "      <th>RYA</th>\n",
              "      <th>SMO</th>\n",
              "      <th>TAM</th>\n",
              "      <th>TVE</th>\n",
              "      <th>TUL</th>\n",
              "      <th>YAR</th>\n",
              "      <th>MOW</th>\n",
              "      <th>KAR</th>\n",
              "      <th>KOM</th>\n",
              "      <th>ARK</th>\n",
              "      <th>VLG</th>\n",
              "      <th>KAG</th>\n",
              "      <th>LEN</th>\n",
              "      <th>MUR</th>\n",
              "      <th>NGR</th>\n",
              "      <th>PSK</th>\n",
              "      <th>SPB</th>\n",
              "      <th>ADY</th>\n",
              "      <th>KLM</th>\n",
              "      <th>KRA</th>\n",
              "      <th>AST</th>\n",
              "      <th>VGG</th>\n",
              "      <th>ROS</th>\n",
              "      <th>DAG</th>\n",
              "      <th>ING</th>\n",
              "      <th>KAB</th>\n",
              "      <th>KAO</th>\n",
              "      <th>NOR</th>\n",
              "      <th>STA</th>\n",
              "      <th>BAS</th>\n",
              "      <th>MAR</th>\n",
              "      <th>MOR</th>\n",
              "      <th>TAT</th>\n",
              "      <th>UDM</th>\n",
              "      <th>CHV</th>\n",
              "      <th>PER</th>\n",
              "      <th>KIR</th>\n",
              "      <th>NIZ</th>\n",
              "      <th>ORE</th>\n",
              "      <th>PNZ</th>\n",
              "      <th>SAM</th>\n",
              "      <th>SAR</th>\n",
              "      <th>ULY</th>\n",
              "      <th>KUG</th>\n",
              "      <th>SVE</th>\n",
              "      <th>TYU</th>\n",
              "      <th>CHE</th>\n",
              "      <th>ALI</th>\n",
              "      <th>TUV</th>\n",
              "      <th>KHK</th>\n",
              "      <th>ALT</th>\n",
              "      <th>KYA</th>\n",
              "      <th>IRK</th>\n",
              "      <th>KEM</th>\n",
              "      <th>NVS</th>\n",
              "      <th>OMS</th>\n",
              "      <th>TOM</th>\n",
              "      <th>BUR</th>\n",
              "      <th>SAH</th>\n",
              "      <th>ZAB</th>\n",
              "      <th>KAM</th>\n",
              "      <th>PRI</th>\n",
              "      <th>KHA</th>\n",
              "      <th>AMU</th>\n",
              "      <th>MAG</th>\n",
              "      <th>SAK</th>\n",
              "      <th>JEW</th>\n",
              "      <th>CHU</th>\n",
              "    </tr>\n",
              "    <tr>\n",
              "      <th>date</th>\n",
              "      <th></th>\n",
              "      <th></th>\n",
              "      <th></th>\n",
              "      <th></th>\n",
              "      <th></th>\n",
              "      <th></th>\n",
              "      <th></th>\n",
              "      <th></th>\n",
              "      <th></th>\n",
              "      <th></th>\n",
              "      <th></th>\n",
              "      <th></th>\n",
              "      <th></th>\n",
              "      <th></th>\n",
              "      <th></th>\n",
              "      <th></th>\n",
              "      <th></th>\n",
              "      <th></th>\n",
              "      <th></th>\n",
              "      <th></th>\n",
              "      <th></th>\n",
              "      <th></th>\n",
              "      <th></th>\n",
              "      <th></th>\n",
              "      <th></th>\n",
              "      <th></th>\n",
              "      <th></th>\n",
              "      <th></th>\n",
              "      <th></th>\n",
              "      <th></th>\n",
              "      <th></th>\n",
              "      <th></th>\n",
              "      <th></th>\n",
              "      <th></th>\n",
              "      <th></th>\n",
              "      <th></th>\n",
              "      <th></th>\n",
              "      <th></th>\n",
              "      <th></th>\n",
              "      <th></th>\n",
              "      <th></th>\n",
              "      <th></th>\n",
              "      <th></th>\n",
              "      <th></th>\n",
              "      <th></th>\n",
              "      <th></th>\n",
              "      <th></th>\n",
              "      <th></th>\n",
              "      <th></th>\n",
              "      <th></th>\n",
              "      <th></th>\n",
              "      <th></th>\n",
              "      <th></th>\n",
              "      <th></th>\n",
              "      <th></th>\n",
              "      <th></th>\n",
              "      <th></th>\n",
              "      <th></th>\n",
              "      <th></th>\n",
              "      <th></th>\n",
              "      <th></th>\n",
              "      <th></th>\n",
              "      <th></th>\n",
              "      <th></th>\n",
              "      <th></th>\n",
              "      <th></th>\n",
              "      <th></th>\n",
              "      <th></th>\n",
              "      <th></th>\n",
              "      <th></th>\n",
              "      <th></th>\n",
              "      <th></th>\n",
              "      <th></th>\n",
              "      <th></th>\n",
              "      <th></th>\n",
              "      <th></th>\n",
              "      <th></th>\n",
              "      <th></th>\n",
              "      <th></th>\n",
              "      <th></th>\n",
              "    </tr>\n",
              "  </thead>\n",
              "  <tbody>\n",
              "    <tr>\n",
              "      <th>2019-10-01</th>\n",
              "      <td>100.13</td>\n",
              "      <td>100.06</td>\n",
              "      <td>100.50</td>\n",
              "      <td>100.26</td>\n",
              "      <td>100.21</td>\n",
              "      <td>99.97</td>\n",
              "      <td>100.03</td>\n",
              "      <td>100.20</td>\n",
              "      <td>100.03</td>\n",
              "      <td>100.27</td>\n",
              "      <td>100.04</td>\n",
              "      <td>100.39</td>\n",
              "      <td>100.33</td>\n",
              "      <td>100.12</td>\n",
              "      <td>100.23</td>\n",
              "      <td>100.17</td>\n",
              "      <td>100.05</td>\n",
              "      <td>100.21</td>\n",
              "      <td>100.06</td>\n",
              "      <td>100.08</td>\n",
              "      <td>99.48</td>\n",
              "      <td>100.08</td>\n",
              "      <td>100.51</td>\n",
              "      <td>100.34</td>\n",
              "      <td>100.06</td>\n",
              "      <td>100.29</td>\n",
              "      <td>100.06</td>\n",
              "      <td>100.21</td>\n",
              "      <td>100.12</td>\n",
              "      <td>99.97</td>\n",
              "      <td>100.14</td>\n",
              "      <td>99.88</td>\n",
              "      <td>100.05</td>\n",
              "      <td>100.25</td>\n",
              "      <td>100.03</td>\n",
              "      <td>100.72</td>\n",
              "      <td>100.43</td>\n",
              "      <td>100.30</td>\n",
              "      <td>100.38</td>\n",
              "      <td>100.00</td>\n",
              "      <td>100.20</td>\n",
              "      <td>100.47</td>\n",
              "      <td>100.23</td>\n",
              "      <td>100.02</td>\n",
              "      <td>100.11</td>\n",
              "      <td>100.19</td>\n",
              "      <td>100.27</td>\n",
              "      <td>99.97</td>\n",
              "      <td>100.07</td>\n",
              "      <td>100.24</td>\n",
              "      <td>100.15</td>\n",
              "      <td>100.13</td>\n",
              "      <td>100.27</td>\n",
              "      <td>100.13</td>\n",
              "      <td>100.01</td>\n",
              "      <td>100.27</td>\n",
              "      <td>100.12</td>\n",
              "      <td>99.81</td>\n",
              "      <td>99.99</td>\n",
              "      <td>100.20</td>\n",
              "      <td>100.40</td>\n",
              "      <td>100.15</td>\n",
              "      <td>100.19</td>\n",
              "      <td>100.15</td>\n",
              "      <td>100.37</td>\n",
              "      <td>100.28</td>\n",
              "      <td>100.37</td>\n",
              "      <td>100.19</td>\n",
              "      <td>100.31</td>\n",
              "      <td>100.16</td>\n",
              "      <td>99.99</td>\n",
              "      <td>100.52</td>\n",
              "      <td>100.24</td>\n",
              "      <td>100.28</td>\n",
              "      <td>99.92</td>\n",
              "      <td>100.28</td>\n",
              "      <td>100.11</td>\n",
              "      <td>100.25</td>\n",
              "      <td>100.11</td>\n",
              "      <td>100.09</td>\n",
              "    </tr>\n",
              "    <tr>\n",
              "      <th>2019-11-01</th>\n",
              "      <td>100.28</td>\n",
              "      <td>100.12</td>\n",
              "      <td>100.29</td>\n",
              "      <td>100.23</td>\n",
              "      <td>100.41</td>\n",
              "      <td>100.37</td>\n",
              "      <td>100.53</td>\n",
              "      <td>100.48</td>\n",
              "      <td>100.16</td>\n",
              "      <td>100.32</td>\n",
              "      <td>100.26</td>\n",
              "      <td>100.38</td>\n",
              "      <td>100.45</td>\n",
              "      <td>100.41</td>\n",
              "      <td>100.14</td>\n",
              "      <td>100.20</td>\n",
              "      <td>100.45</td>\n",
              "      <td>100.58</td>\n",
              "      <td>100.28</td>\n",
              "      <td>100.23</td>\n",
              "      <td>100.34</td>\n",
              "      <td>100.31</td>\n",
              "      <td>100.20</td>\n",
              "      <td>100.21</td>\n",
              "      <td>100.41</td>\n",
              "      <td>100.24</td>\n",
              "      <td>100.21</td>\n",
              "      <td>99.96</td>\n",
              "      <td>100.17</td>\n",
              "      <td>100.15</td>\n",
              "      <td>100.69</td>\n",
              "      <td>100.25</td>\n",
              "      <td>100.14</td>\n",
              "      <td>100.31</td>\n",
              "      <td>100.21</td>\n",
              "      <td>100.75</td>\n",
              "      <td>100.37</td>\n",
              "      <td>100.39</td>\n",
              "      <td>100.56</td>\n",
              "      <td>100.88</td>\n",
              "      <td>100.41</td>\n",
              "      <td>100.01</td>\n",
              "      <td>100.25</td>\n",
              "      <td>100.19</td>\n",
              "      <td>100.26</td>\n",
              "      <td>100.20</td>\n",
              "      <td>100.11</td>\n",
              "      <td>100.34</td>\n",
              "      <td>100.19</td>\n",
              "      <td>100.32</td>\n",
              "      <td>100.21</td>\n",
              "      <td>100.16</td>\n",
              "      <td>100.38</td>\n",
              "      <td>100.43</td>\n",
              "      <td>100.07</td>\n",
              "      <td>100.28</td>\n",
              "      <td>100.27</td>\n",
              "      <td>100.46</td>\n",
              "      <td>100.36</td>\n",
              "      <td>100.25</td>\n",
              "      <td>100.23</td>\n",
              "      <td>100.40</td>\n",
              "      <td>100.27</td>\n",
              "      <td>100.27</td>\n",
              "      <td>100.10</td>\n",
              "      <td>100.26</td>\n",
              "      <td>100.15</td>\n",
              "      <td>100.16</td>\n",
              "      <td>100.43</td>\n",
              "      <td>100.52</td>\n",
              "      <td>100.06</td>\n",
              "      <td>100.13</td>\n",
              "      <td>100.10</td>\n",
              "      <td>100.19</td>\n",
              "      <td>100.48</td>\n",
              "      <td>100.34</td>\n",
              "      <td>100.25</td>\n",
              "      <td>100.64</td>\n",
              "      <td>100.35</td>\n",
              "      <td>100.26</td>\n",
              "    </tr>\n",
              "    <tr>\n",
              "      <th>2019-12-01</th>\n",
              "      <td>100.36</td>\n",
              "      <td>100.23</td>\n",
              "      <td>100.53</td>\n",
              "      <td>100.18</td>\n",
              "      <td>100.20</td>\n",
              "      <td>100.48</td>\n",
              "      <td>100.47</td>\n",
              "      <td>100.44</td>\n",
              "      <td>100.40</td>\n",
              "      <td>100.23</td>\n",
              "      <td>100.30</td>\n",
              "      <td>100.31</td>\n",
              "      <td>100.25</td>\n",
              "      <td>100.24</td>\n",
              "      <td>100.41</td>\n",
              "      <td>100.52</td>\n",
              "      <td>100.39</td>\n",
              "      <td>100.12</td>\n",
              "      <td>100.33</td>\n",
              "      <td>100.57</td>\n",
              "      <td>100.70</td>\n",
              "      <td>100.50</td>\n",
              "      <td>100.34</td>\n",
              "      <td>100.38</td>\n",
              "      <td>100.28</td>\n",
              "      <td>100.50</td>\n",
              "      <td>100.31</td>\n",
              "      <td>100.23</td>\n",
              "      <td>100.37</td>\n",
              "      <td>100.55</td>\n",
              "      <td>100.60</td>\n",
              "      <td>100.25</td>\n",
              "      <td>100.35</td>\n",
              "      <td>100.35</td>\n",
              "      <td>100.42</td>\n",
              "      <td>100.56</td>\n",
              "      <td>100.37</td>\n",
              "      <td>100.41</td>\n",
              "      <td>100.46</td>\n",
              "      <td>100.40</td>\n",
              "      <td>100.29</td>\n",
              "      <td>100.23</td>\n",
              "      <td>100.33</td>\n",
              "      <td>100.39</td>\n",
              "      <td>100.32</td>\n",
              "      <td>100.42</td>\n",
              "      <td>100.15</td>\n",
              "      <td>100.56</td>\n",
              "      <td>100.55</td>\n",
              "      <td>100.16</td>\n",
              "      <td>100.24</td>\n",
              "      <td>100.27</td>\n",
              "      <td>100.23</td>\n",
              "      <td>100.62</td>\n",
              "      <td>100.54</td>\n",
              "      <td>100.29</td>\n",
              "      <td>100.47</td>\n",
              "      <td>100.60</td>\n",
              "      <td>100.43</td>\n",
              "      <td>100.46</td>\n",
              "      <td>100.41</td>\n",
              "      <td>100.34</td>\n",
              "      <td>100.26</td>\n",
              "      <td>100.52</td>\n",
              "      <td>100.54</td>\n",
              "      <td>100.26</td>\n",
              "      <td>100.31</td>\n",
              "      <td>100.56</td>\n",
              "      <td>100.31</td>\n",
              "      <td>100.19</td>\n",
              "      <td>100.44</td>\n",
              "      <td>100.21</td>\n",
              "      <td>100.21</td>\n",
              "      <td>100.29</td>\n",
              "      <td>100.28</td>\n",
              "      <td>100.54</td>\n",
              "      <td>100.45</td>\n",
              "      <td>100.40</td>\n",
              "      <td>100.28</td>\n",
              "      <td>100.13</td>\n",
              "    </tr>\n",
              "    <tr>\n",
              "      <th>2020-01-01</th>\n",
              "      <td>100.40</td>\n",
              "      <td>100.53</td>\n",
              "      <td>100.28</td>\n",
              "      <td>100.76</td>\n",
              "      <td>100.74</td>\n",
              "      <td>100.48</td>\n",
              "      <td>100.12</td>\n",
              "      <td>100.32</td>\n",
              "      <td>100.51</td>\n",
              "      <td>100.53</td>\n",
              "      <td>100.25</td>\n",
              "      <td>100.16</td>\n",
              "      <td>100.40</td>\n",
              "      <td>100.38</td>\n",
              "      <td>100.26</td>\n",
              "      <td>100.25</td>\n",
              "      <td>100.59</td>\n",
              "      <td>100.59</td>\n",
              "      <td>100.42</td>\n",
              "      <td>100.51</td>\n",
              "      <td>101.86</td>\n",
              "      <td>100.64</td>\n",
              "      <td>100.41</td>\n",
              "      <td>100.60</td>\n",
              "      <td>100.29</td>\n",
              "      <td>100.28</td>\n",
              "      <td>100.76</td>\n",
              "      <td>100.49</td>\n",
              "      <td>100.71</td>\n",
              "      <td>100.83</td>\n",
              "      <td>100.41</td>\n",
              "      <td>100.37</td>\n",
              "      <td>100.42</td>\n",
              "      <td>100.58</td>\n",
              "      <td>100.32</td>\n",
              "      <td>100.35</td>\n",
              "      <td>100.52</td>\n",
              "      <td>100.50</td>\n",
              "      <td>100.75</td>\n",
              "      <td>100.50</td>\n",
              "      <td>100.57</td>\n",
              "      <td>100.34</td>\n",
              "      <td>100.21</td>\n",
              "      <td>100.12</td>\n",
              "      <td>100.29</td>\n",
              "      <td>100.36</td>\n",
              "      <td>100.41</td>\n",
              "      <td>100.28</td>\n",
              "      <td>100.18</td>\n",
              "      <td>100.66</td>\n",
              "      <td>100.16</td>\n",
              "      <td>100.45</td>\n",
              "      <td>100.43</td>\n",
              "      <td>100.78</td>\n",
              "      <td>100.21</td>\n",
              "      <td>100.35</td>\n",
              "      <td>100.07</td>\n",
              "      <td>100.09</td>\n",
              "      <td>100.43</td>\n",
              "      <td>100.25</td>\n",
              "      <td>100.36</td>\n",
              "      <td>100.16</td>\n",
              "      <td>100.56</td>\n",
              "      <td>100.24</td>\n",
              "      <td>100.24</td>\n",
              "      <td>100.13</td>\n",
              "      <td>100.26</td>\n",
              "      <td>100.11</td>\n",
              "      <td>100.47</td>\n",
              "      <td>100.87</td>\n",
              "      <td>99.80</td>\n",
              "      <td>100.62</td>\n",
              "      <td>100.38</td>\n",
              "      <td>100.48</td>\n",
              "      <td>100.54</td>\n",
              "      <td>100.73</td>\n",
              "      <td>99.55</td>\n",
              "      <td>100.48</td>\n",
              "      <td>100.50</td>\n",
              "      <td>100.10</td>\n",
              "    </tr>\n",
              "    <tr>\n",
              "      <th>2020-02-01</th>\n",
              "      <td>100.33</td>\n",
              "      <td>100.19</td>\n",
              "      <td>100.29</td>\n",
              "      <td>100.29</td>\n",
              "      <td>100.31</td>\n",
              "      <td>100.42</td>\n",
              "      <td>100.63</td>\n",
              "      <td>100.45</td>\n",
              "      <td>100.27</td>\n",
              "      <td>100.21</td>\n",
              "      <td>100.32</td>\n",
              "      <td>100.47</td>\n",
              "      <td>100.23</td>\n",
              "      <td>100.26</td>\n",
              "      <td>100.14</td>\n",
              "      <td>100.29</td>\n",
              "      <td>100.40</td>\n",
              "      <td>100.65</td>\n",
              "      <td>100.22</td>\n",
              "      <td>100.57</td>\n",
              "      <td>100.81</td>\n",
              "      <td>100.40</td>\n",
              "      <td>100.39</td>\n",
              "      <td>100.25</td>\n",
              "      <td>100.26</td>\n",
              "      <td>100.46</td>\n",
              "      <td>100.37</td>\n",
              "      <td>100.22</td>\n",
              "      <td>100.15</td>\n",
              "      <td>100.11</td>\n",
              "      <td>99.79</td>\n",
              "      <td>100.33</td>\n",
              "      <td>100.02</td>\n",
              "      <td>100.23</td>\n",
              "      <td>100.26</td>\n",
              "      <td>100.20</td>\n",
              "      <td>100.13</td>\n",
              "      <td>100.40</td>\n",
              "      <td>100.28</td>\n",
              "      <td>100.14</td>\n",
              "      <td>100.50</td>\n",
              "      <td>100.39</td>\n",
              "      <td>100.50</td>\n",
              "      <td>100.27</td>\n",
              "      <td>100.42</td>\n",
              "      <td>100.21</td>\n",
              "      <td>100.20</td>\n",
              "      <td>100.46</td>\n",
              "      <td>100.35</td>\n",
              "      <td>100.01</td>\n",
              "      <td>100.06</td>\n",
              "      <td>100.26</td>\n",
              "      <td>100.48</td>\n",
              "      <td>100.74</td>\n",
              "      <td>100.50</td>\n",
              "      <td>100.41</td>\n",
              "      <td>100.22</td>\n",
              "      <td>100.49</td>\n",
              "      <td>100.15</td>\n",
              "      <td>100.41</td>\n",
              "      <td>100.34</td>\n",
              "      <td>100.38</td>\n",
              "      <td>100.46</td>\n",
              "      <td>100.63</td>\n",
              "      <td>100.52</td>\n",
              "      <td>100.61</td>\n",
              "      <td>100.38</td>\n",
              "      <td>100.54</td>\n",
              "      <td>100.46</td>\n",
              "      <td>100.34</td>\n",
              "      <td>100.52</td>\n",
              "      <td>100.42</td>\n",
              "      <td>100.13</td>\n",
              "      <td>100.54</td>\n",
              "      <td>100.55</td>\n",
              "      <td>100.38</td>\n",
              "      <td>100.62</td>\n",
              "      <td>100.33</td>\n",
              "      <td>100.63</td>\n",
              "      <td>100.58</td>\n",
              "    </tr>\n",
              "    <tr>\n",
              "      <th>2020-03-01</th>\n",
              "      <td>100.55</td>\n",
              "      <td>100.61</td>\n",
              "      <td>100.74</td>\n",
              "      <td>100.82</td>\n",
              "      <td>100.85</td>\n",
              "      <td>100.90</td>\n",
              "      <td>100.59</td>\n",
              "      <td>100.44</td>\n",
              "      <td>100.64</td>\n",
              "      <td>100.53</td>\n",
              "      <td>100.37</td>\n",
              "      <td>100.44</td>\n",
              "      <td>100.62</td>\n",
              "      <td>100.82</td>\n",
              "      <td>100.66</td>\n",
              "      <td>100.83</td>\n",
              "      <td>101.30</td>\n",
              "      <td>100.64</td>\n",
              "      <td>100.33</td>\n",
              "      <td>100.60</td>\n",
              "      <td>100.16</td>\n",
              "      <td>100.42</td>\n",
              "      <td>100.75</td>\n",
              "      <td>100.72</td>\n",
              "      <td>100.49</td>\n",
              "      <td>100.45</td>\n",
              "      <td>100.75</td>\n",
              "      <td>100.54</td>\n",
              "      <td>100.79</td>\n",
              "      <td>100.28</td>\n",
              "      <td>100.64</td>\n",
              "      <td>100.65</td>\n",
              "      <td>100.69</td>\n",
              "      <td>100.58</td>\n",
              "      <td>100.61</td>\n",
              "      <td>101.75</td>\n",
              "      <td>100.44</td>\n",
              "      <td>100.67</td>\n",
              "      <td>100.82</td>\n",
              "      <td>100.58</td>\n",
              "      <td>100.47</td>\n",
              "      <td>100.80</td>\n",
              "      <td>100.46</td>\n",
              "      <td>100.69</td>\n",
              "      <td>100.35</td>\n",
              "      <td>100.47</td>\n",
              "      <td>100.32</td>\n",
              "      <td>100.34</td>\n",
              "      <td>100.73</td>\n",
              "      <td>100.98</td>\n",
              "      <td>100.61</td>\n",
              "      <td>100.78</td>\n",
              "      <td>100.58</td>\n",
              "      <td>100.86</td>\n",
              "      <td>100.63</td>\n",
              "      <td>100.61</td>\n",
              "      <td>100.41</td>\n",
              "      <td>100.49</td>\n",
              "      <td>100.50</td>\n",
              "      <td>100.07</td>\n",
              "      <td>100.65</td>\n",
              "      <td>100.58</td>\n",
              "      <td>100.48</td>\n",
              "      <td>100.24</td>\n",
              "      <td>100.16</td>\n",
              "      <td>100.73</td>\n",
              "      <td>100.89</td>\n",
              "      <td>100.25</td>\n",
              "      <td>100.30</td>\n",
              "      <td>100.46</td>\n",
              "      <td>100.06</td>\n",
              "      <td>100.73</td>\n",
              "      <td>100.16</td>\n",
              "      <td>99.96</td>\n",
              "      <td>100.03</td>\n",
              "      <td>100.50</td>\n",
              "      <td>100.76</td>\n",
              "      <td>100.40</td>\n",
              "      <td>100.45</td>\n",
              "      <td>100.59</td>\n",
              "    </tr>\n",
              "    <tr>\n",
              "      <th>2020-04-01</th>\n",
              "      <td>100.83</td>\n",
              "      <td>100.95</td>\n",
              "      <td>100.80</td>\n",
              "      <td>100.91</td>\n",
              "      <td>101.06</td>\n",
              "      <td>100.88</td>\n",
              "      <td>101.34</td>\n",
              "      <td>100.69</td>\n",
              "      <td>101.32</td>\n",
              "      <td>101.04</td>\n",
              "      <td>100.65</td>\n",
              "      <td>101.10</td>\n",
              "      <td>101.30</td>\n",
              "      <td>101.40</td>\n",
              "      <td>101.29</td>\n",
              "      <td>101.22</td>\n",
              "      <td>101.07</td>\n",
              "      <td>100.50</td>\n",
              "      <td>100.44</td>\n",
              "      <td>100.85</td>\n",
              "      <td>100.80</td>\n",
              "      <td>100.95</td>\n",
              "      <td>100.83</td>\n",
              "      <td>100.86</td>\n",
              "      <td>100.79</td>\n",
              "      <td>100.91</td>\n",
              "      <td>100.78</td>\n",
              "      <td>100.79</td>\n",
              "      <td>100.74</td>\n",
              "      <td>100.82</td>\n",
              "      <td>101.55</td>\n",
              "      <td>101.10</td>\n",
              "      <td>101.24</td>\n",
              "      <td>101.25</td>\n",
              "      <td>101.02</td>\n",
              "      <td>101.36</td>\n",
              "      <td>101.48</td>\n",
              "      <td>101.30</td>\n",
              "      <td>100.70</td>\n",
              "      <td>101.28</td>\n",
              "      <td>100.70</td>\n",
              "      <td>101.09</td>\n",
              "      <td>100.79</td>\n",
              "      <td>100.63</td>\n",
              "      <td>100.70</td>\n",
              "      <td>100.67</td>\n",
              "      <td>101.47</td>\n",
              "      <td>100.88</td>\n",
              "      <td>101.14</td>\n",
              "      <td>101.14</td>\n",
              "      <td>100.93</td>\n",
              "      <td>101.11</td>\n",
              "      <td>100.82</td>\n",
              "      <td>101.29</td>\n",
              "      <td>100.91</td>\n",
              "      <td>100.87</td>\n",
              "      <td>100.88</td>\n",
              "      <td>100.67</td>\n",
              "      <td>100.76</td>\n",
              "      <td>100.94</td>\n",
              "      <td>100.88</td>\n",
              "      <td>101.10</td>\n",
              "      <td>100.39</td>\n",
              "      <td>100.63</td>\n",
              "      <td>101.08</td>\n",
              "      <td>100.67</td>\n",
              "      <td>100.84</td>\n",
              "      <td>100.78</td>\n",
              "      <td>100.78</td>\n",
              "      <td>100.94</td>\n",
              "      <td>100.20</td>\n",
              "      <td>100.96</td>\n",
              "      <td>100.51</td>\n",
              "      <td>100.94</td>\n",
              "      <td>100.83</td>\n",
              "      <td>101.05</td>\n",
              "      <td>100.40</td>\n",
              "      <td>100.59</td>\n",
              "      <td>101.06</td>\n",
              "      <td>100.31</td>\n",
              "    </tr>\n",
              "    <tr>\n",
              "      <th>2020-05-01</th>\n",
              "      <td>100.27</td>\n",
              "      <td>100.38</td>\n",
              "      <td>100.36</td>\n",
              "      <td>100.05</td>\n",
              "      <td>100.54</td>\n",
              "      <td>100.25</td>\n",
              "      <td>100.12</td>\n",
              "      <td>100.36</td>\n",
              "      <td>100.41</td>\n",
              "      <td>100.24</td>\n",
              "      <td>100.43</td>\n",
              "      <td>100.17</td>\n",
              "      <td>100.05</td>\n",
              "      <td>100.24</td>\n",
              "      <td>100.24</td>\n",
              "      <td>100.27</td>\n",
              "      <td>100.10</td>\n",
              "      <td>100.33</td>\n",
              "      <td>100.48</td>\n",
              "      <td>100.25</td>\n",
              "      <td>100.70</td>\n",
              "      <td>100.33</td>\n",
              "      <td>100.15</td>\n",
              "      <td>100.15</td>\n",
              "      <td>100.18</td>\n",
              "      <td>100.21</td>\n",
              "      <td>100.21</td>\n",
              "      <td>100.55</td>\n",
              "      <td>100.09</td>\n",
              "      <td>100.71</td>\n",
              "      <td>100.75</td>\n",
              "      <td>100.11</td>\n",
              "      <td>100.56</td>\n",
              "      <td>99.97</td>\n",
              "      <td>100.36</td>\n",
              "      <td>99.83</td>\n",
              "      <td>100.21</td>\n",
              "      <td>100.12</td>\n",
              "      <td>100.11</td>\n",
              "      <td>100.19</td>\n",
              "      <td>100.27</td>\n",
              "      <td>100.17</td>\n",
              "      <td>100.26</td>\n",
              "      <td>100.33</td>\n",
              "      <td>100.19</td>\n",
              "      <td>100.32</td>\n",
              "      <td>100.20</td>\n",
              "      <td>100.12</td>\n",
              "      <td>100.09</td>\n",
              "      <td>100.26</td>\n",
              "      <td>100.20</td>\n",
              "      <td>99.87</td>\n",
              "      <td>100.20</td>\n",
              "      <td>100.14</td>\n",
              "      <td>100.43</td>\n",
              "      <td>100.23</td>\n",
              "      <td>100.15</td>\n",
              "      <td>100.22</td>\n",
              "      <td>100.25</td>\n",
              "      <td>100.18</td>\n",
              "      <td>100.10</td>\n",
              "      <td>100.23</td>\n",
              "      <td>100.33</td>\n",
              "      <td>100.12</td>\n",
              "      <td>100.48</td>\n",
              "      <td>100.19</td>\n",
              "      <td>100.32</td>\n",
              "      <td>100.14</td>\n",
              "      <td>100.30</td>\n",
              "      <td>100.33</td>\n",
              "      <td>100.47</td>\n",
              "      <td>100.39</td>\n",
              "      <td>100.30</td>\n",
              "      <td>100.18</td>\n",
              "      <td>100.03</td>\n",
              "      <td>100.53</td>\n",
              "      <td>100.45</td>\n",
              "      <td>100.16</td>\n",
              "      <td>100.03</td>\n",
              "      <td>100.11</td>\n",
              "    </tr>\n",
              "    <tr>\n",
              "      <th>2020-06-01</th>\n",
              "      <td>100.22</td>\n",
              "      <td>100.13</td>\n",
              "      <td>100.40</td>\n",
              "      <td>100.35</td>\n",
              "      <td>100.21</td>\n",
              "      <td>100.24</td>\n",
              "      <td>100.26</td>\n",
              "      <td>100.35</td>\n",
              "      <td>100.48</td>\n",
              "      <td>100.25</td>\n",
              "      <td>100.35</td>\n",
              "      <td>100.17</td>\n",
              "      <td>100.40</td>\n",
              "      <td>100.05</td>\n",
              "      <td>100.24</td>\n",
              "      <td>100.68</td>\n",
              "      <td>99.84</td>\n",
              "      <td>100.53</td>\n",
              "      <td>100.35</td>\n",
              "      <td>100.41</td>\n",
              "      <td>100.29</td>\n",
              "      <td>100.19</td>\n",
              "      <td>100.25</td>\n",
              "      <td>100.22</td>\n",
              "      <td>99.96</td>\n",
              "      <td>100.15</td>\n",
              "      <td>100.02</td>\n",
              "      <td>99.85</td>\n",
              "      <td>100.00</td>\n",
              "      <td>100.28</td>\n",
              "      <td>100.36</td>\n",
              "      <td>100.08</td>\n",
              "      <td>100.13</td>\n",
              "      <td>100.31</td>\n",
              "      <td>100.50</td>\n",
              "      <td>99.41</td>\n",
              "      <td>100.13</td>\n",
              "      <td>100.01</td>\n",
              "      <td>100.01</td>\n",
              "      <td>100.19</td>\n",
              "      <td>100.05</td>\n",
              "      <td>100.11</td>\n",
              "      <td>100.32</td>\n",
              "      <td>100.22</td>\n",
              "      <td>100.24</td>\n",
              "      <td>100.31</td>\n",
              "      <td>100.30</td>\n",
              "      <td>100.33</td>\n",
              "      <td>100.70</td>\n",
              "      <td>100.35</td>\n",
              "      <td>100.09</td>\n",
              "      <td>100.28</td>\n",
              "      <td>100.19</td>\n",
              "      <td>100.22</td>\n",
              "      <td>100.48</td>\n",
              "      <td>100.17</td>\n",
              "      <td>100.10</td>\n",
              "      <td>100.05</td>\n",
              "      <td>100.28</td>\n",
              "      <td>100.32</td>\n",
              "      <td>100.28</td>\n",
              "      <td>100.28</td>\n",
              "      <td>100.32</td>\n",
              "      <td>100.09</td>\n",
              "      <td>99.76</td>\n",
              "      <td>100.13</td>\n",
              "      <td>100.22</td>\n",
              "      <td>100.31</td>\n",
              "      <td>100.19</td>\n",
              "      <td>100.45</td>\n",
              "      <td>100.49</td>\n",
              "      <td>100.18</td>\n",
              "      <td>100.20</td>\n",
              "      <td>100.15</td>\n",
              "      <td>100.44</td>\n",
              "      <td>99.95</td>\n",
              "      <td>100.33</td>\n",
              "      <td>100.17</td>\n",
              "      <td>100.83</td>\n",
              "      <td>100.00</td>\n",
              "    </tr>\n",
              "    <tr>\n",
              "      <th>2020-07-01</th>\n",
              "      <td>100.35</td>\n",
              "      <td>100.53</td>\n",
              "      <td>100.41</td>\n",
              "      <td>100.42</td>\n",
              "      <td>100.43</td>\n",
              "      <td>100.48</td>\n",
              "      <td>100.13</td>\n",
              "      <td>100.50</td>\n",
              "      <td>100.47</td>\n",
              "      <td>100.44</td>\n",
              "      <td>100.28</td>\n",
              "      <td>100.36</td>\n",
              "      <td>100.51</td>\n",
              "      <td>100.54</td>\n",
              "      <td>100.42</td>\n",
              "      <td>100.15</td>\n",
              "      <td>100.37</td>\n",
              "      <td>100.52</td>\n",
              "      <td>100.35</td>\n",
              "      <td>100.86</td>\n",
              "      <td>100.21</td>\n",
              "      <td>100.09</td>\n",
              "      <td>100.59</td>\n",
              "      <td>100.62</td>\n",
              "      <td>100.77</td>\n",
              "      <td>100.48</td>\n",
              "      <td>100.74</td>\n",
              "      <td>100.79</td>\n",
              "      <td>100.53</td>\n",
              "      <td>100.01</td>\n",
              "      <td>99.51</td>\n",
              "      <td>100.44</td>\n",
              "      <td>100.21</td>\n",
              "      <td>100.15</td>\n",
              "      <td>100.04</td>\n",
              "      <td>99.82</td>\n",
              "      <td>99.76</td>\n",
              "      <td>99.85</td>\n",
              "      <td>100.12</td>\n",
              "      <td>99.53</td>\n",
              "      <td>100.32</td>\n",
              "      <td>100.22</td>\n",
              "      <td>100.53</td>\n",
              "      <td>100.43</td>\n",
              "      <td>100.37</td>\n",
              "      <td>100.40</td>\n",
              "      <td>100.19</td>\n",
              "      <td>100.01</td>\n",
              "      <td>100.21</td>\n",
              "      <td>100.34</td>\n",
              "      <td>100.25</td>\n",
              "      <td>100.45</td>\n",
              "      <td>100.66</td>\n",
              "      <td>100.35</td>\n",
              "      <td>100.42</td>\n",
              "      <td>100.39</td>\n",
              "      <td>100.41</td>\n",
              "      <td>100.20</td>\n",
              "      <td>100.58</td>\n",
              "      <td>100.09</td>\n",
              "      <td>100.76</td>\n",
              "      <td>100.47</td>\n",
              "      <td>100.50</td>\n",
              "      <td>100.47</td>\n",
              "      <td>100.24</td>\n",
              "      <td>99.87</td>\n",
              "      <td>100.18</td>\n",
              "      <td>100.30</td>\n",
              "      <td>100.45</td>\n",
              "      <td>100.78</td>\n",
              "      <td>100.18</td>\n",
              "      <td>100.66</td>\n",
              "      <td>100.21</td>\n",
              "      <td>100.47</td>\n",
              "      <td>100.28</td>\n",
              "      <td>100.80</td>\n",
              "      <td>101.34</td>\n",
              "      <td>100.45</td>\n",
              "      <td>99.90</td>\n",
              "      <td>100.17</td>\n",
              "    </tr>\n",
              "    <tr>\n",
              "      <th>2020-08-01</th>\n",
              "      <td>99.96</td>\n",
              "      <td>99.95</td>\n",
              "      <td>99.82</td>\n",
              "      <td>99.65</td>\n",
              "      <td>99.93</td>\n",
              "      <td>100.02</td>\n",
              "      <td>99.97</td>\n",
              "      <td>99.94</td>\n",
              "      <td>99.53</td>\n",
              "      <td>99.98</td>\n",
              "      <td>99.77</td>\n",
              "      <td>99.92</td>\n",
              "      <td>99.86</td>\n",
              "      <td>99.51</td>\n",
              "      <td>99.93</td>\n",
              "      <td>99.56</td>\n",
              "      <td>99.76</td>\n",
              "      <td>99.68</td>\n",
              "      <td>99.97</td>\n",
              "      <td>99.88</td>\n",
              "      <td>99.76</td>\n",
              "      <td>99.75</td>\n",
              "      <td>99.68</td>\n",
              "      <td>100.26</td>\n",
              "      <td>99.81</td>\n",
              "      <td>99.66</td>\n",
              "      <td>99.87</td>\n",
              "      <td>100.08</td>\n",
              "      <td>99.86</td>\n",
              "      <td>99.99</td>\n",
              "      <td>99.76</td>\n",
              "      <td>100.42</td>\n",
              "      <td>99.60</td>\n",
              "      <td>99.59</td>\n",
              "      <td>99.85</td>\n",
              "      <td>100.40</td>\n",
              "      <td>99.98</td>\n",
              "      <td>100.11</td>\n",
              "      <td>100.02</td>\n",
              "      <td>99.87</td>\n",
              "      <td>99.92</td>\n",
              "      <td>99.99</td>\n",
              "      <td>100.01</td>\n",
              "      <td>99.89</td>\n",
              "      <td>100.04</td>\n",
              "      <td>99.91</td>\n",
              "      <td>99.70</td>\n",
              "      <td>100.20</td>\n",
              "      <td>99.96</td>\n",
              "      <td>99.70</td>\n",
              "      <td>100.30</td>\n",
              "      <td>100.08</td>\n",
              "      <td>100.05</td>\n",
              "      <td>99.74</td>\n",
              "      <td>100.03</td>\n",
              "      <td>100.18</td>\n",
              "      <td>99.97</td>\n",
              "      <td>99.94</td>\n",
              "      <td>100.12</td>\n",
              "      <td>100.35</td>\n",
              "      <td>99.79</td>\n",
              "      <td>100.16</td>\n",
              "      <td>100.06</td>\n",
              "      <td>99.80</td>\n",
              "      <td>100.32</td>\n",
              "      <td>99.80</td>\n",
              "      <td>100.00</td>\n",
              "      <td>100.10</td>\n",
              "      <td>99.69</td>\n",
              "      <td>99.96</td>\n",
              "      <td>100.15</td>\n",
              "      <td>100.17</td>\n",
              "      <td>100.43</td>\n",
              "      <td>100.02</td>\n",
              "      <td>100.02</td>\n",
              "      <td>100.37</td>\n",
              "      <td>99.58</td>\n",
              "      <td>99.92</td>\n",
              "      <td>100.03</td>\n",
              "      <td>100.05</td>\n",
              "    </tr>\n",
              "    <tr>\n",
              "      <th>2020-09-01</th>\n",
              "      <td>99.93</td>\n",
              "      <td>100.09</td>\n",
              "      <td>99.77</td>\n",
              "      <td>99.99</td>\n",
              "      <td>100.10</td>\n",
              "      <td>99.86</td>\n",
              "      <td>99.85</td>\n",
              "      <td>99.89</td>\n",
              "      <td>99.69</td>\n",
              "      <td>100.18</td>\n",
              "      <td>99.79</td>\n",
              "      <td>99.96</td>\n",
              "      <td>99.94</td>\n",
              "      <td>99.95</td>\n",
              "      <td>99.99</td>\n",
              "      <td>99.91</td>\n",
              "      <td>99.74</td>\n",
              "      <td>99.79</td>\n",
              "      <td>99.91</td>\n",
              "      <td>99.77</td>\n",
              "      <td>99.68</td>\n",
              "      <td>99.90</td>\n",
              "      <td>99.89</td>\n",
              "      <td>99.71</td>\n",
              "      <td>99.75</td>\n",
              "      <td>99.93</td>\n",
              "      <td>99.86</td>\n",
              "      <td>99.73</td>\n",
              "      <td>99.83</td>\n",
              "      <td>100.48</td>\n",
              "      <td>99.92</td>\n",
              "      <td>99.80</td>\n",
              "      <td>100.19</td>\n",
              "      <td>100.20</td>\n",
              "      <td>99.93</td>\n",
              "      <td>99.72</td>\n",
              "      <td>99.89</td>\n",
              "      <td>100.13</td>\n",
              "      <td>99.91</td>\n",
              "      <td>100.05</td>\n",
              "      <td>100.07</td>\n",
              "      <td>100.07</td>\n",
              "      <td>99.84</td>\n",
              "      <td>99.73</td>\n",
              "      <td>100.06</td>\n",
              "      <td>100.02</td>\n",
              "      <td>99.89</td>\n",
              "      <td>99.76</td>\n",
              "      <td>99.86</td>\n",
              "      <td>100.14</td>\n",
              "      <td>99.83</td>\n",
              "      <td>100.03</td>\n",
              "      <td>99.98</td>\n",
              "      <td>99.84</td>\n",
              "      <td>99.78</td>\n",
              "      <td>100.11</td>\n",
              "      <td>100.02</td>\n",
              "      <td>99.68</td>\n",
              "      <td>99.76</td>\n",
              "      <td>99.88</td>\n",
              "      <td>99.87</td>\n",
              "      <td>100.34</td>\n",
              "      <td>99.73</td>\n",
              "      <td>100.10</td>\n",
              "      <td>99.98</td>\n",
              "      <td>100.73</td>\n",
              "      <td>99.71</td>\n",
              "      <td>99.86</td>\n",
              "      <td>100.27</td>\n",
              "      <td>99.95</td>\n",
              "      <td>100.56</td>\n",
              "      <td>99.41</td>\n",
              "      <td>99.95</td>\n",
              "      <td>100.27</td>\n",
              "      <td>100.19</td>\n",
              "      <td>99.99</td>\n",
              "      <td>99.88</td>\n",
              "      <td>100.31</td>\n",
              "      <td>100.58</td>\n",
              "      <td>99.61</td>\n",
              "    </tr>\n",
              "  </tbody>\n",
              "</table>\n",
              "</div>"
            ],
            "text/plain": [
              "                RF     BEL     BRY     VLA  ...     MAG     SAK     JEW     CHU\n",
              "date                                        ...                                \n",
              "2019-10-01  100.13  100.06  100.50  100.26  ...  100.11  100.25  100.11  100.09\n",
              "2019-11-01  100.28  100.12  100.29  100.23  ...  100.25  100.64  100.35  100.26\n",
              "2019-12-01  100.36  100.23  100.53  100.18  ...  100.45  100.40  100.28  100.13\n",
              "2020-01-01  100.40  100.53  100.28  100.76  ...   99.55  100.48  100.50  100.10\n",
              "2020-02-01  100.33  100.19  100.29  100.29  ...  100.62  100.33  100.63  100.58\n",
              "2020-03-01  100.55  100.61  100.74  100.82  ...  100.76  100.40  100.45  100.59\n",
              "2020-04-01  100.83  100.95  100.80  100.91  ...  100.40  100.59  101.06  100.31\n",
              "2020-05-01  100.27  100.38  100.36  100.05  ...  100.45  100.16  100.03  100.11\n",
              "2020-06-01  100.22  100.13  100.40  100.35  ...  100.33  100.17  100.83  100.00\n",
              "2020-07-01  100.35  100.53  100.41  100.42  ...  101.34  100.45   99.90  100.17\n",
              "2020-08-01   99.96   99.95   99.82   99.65  ...   99.58   99.92  100.03  100.05\n",
              "2020-09-01   99.93  100.09   99.77   99.99  ...   99.88  100.31  100.58   99.61\n",
              "\n",
              "[12 rows x 80 columns]"
            ]
          },
          "metadata": {
            "tags": []
          },
          "execution_count": 15
        }
      ]
    },
    {
      "cell_type": "code",
      "metadata": {
        "id": "YwOYGv3_UiXk"
      },
      "source": [
        "data = data[reg_names]\r\n",
        "data = data[:data_do]\r\n",
        "data_course = data.merge(course_m, left_on='date', right_on='date')\r\n",
        "data_course.tail()\r\n",
        "data=data_course"
      ],
      "execution_count": 16,
      "outputs": []
    },
    {
      "cell_type": "code",
      "metadata": {
        "id": "0uHohsigPbbo"
      },
      "source": [
        "train_data = data[data.index < train_do]\n",
        "test_data = data[data.index >= train_do]"
      ],
      "execution_count": 17,
      "outputs": []
    },
    {
      "cell_type": "markdown",
      "metadata": {
        "id": "2JmwilwGj2ra"
      },
      "source": [
        ""
      ]
    },
    {
      "cell_type": "code",
      "metadata": {
        "colab": {
          "base_uri": "https://localhost:8080/",
          "height": 450
        },
        "id": "69xcYZaBWBpK",
        "outputId": "ecfcd7fb-a71e-49f3-f28b-fb759fb4f3f2"
      },
      "source": [
        "data\r\n"
      ],
      "execution_count": null,
      "outputs": [
        {
          "output_type": "execute_result",
          "data": {
            "text/html": [
              "<div>\n",
              "<style scoped>\n",
              "    .dataframe tbody tr th:only-of-type {\n",
              "        vertical-align: middle;\n",
              "    }\n",
              "\n",
              "    .dataframe tbody tr th {\n",
              "        vertical-align: top;\n",
              "    }\n",
              "\n",
              "    .dataframe thead th {\n",
              "        text-align: right;\n",
              "    }\n",
              "</style>\n",
              "<table border=\"1\" class=\"dataframe\">\n",
              "  <thead>\n",
              "    <tr style=\"text-align: right;\">\n",
              "      <th></th>\n",
              "      <th>RF</th>\n",
              "      <th>curs</th>\n",
              "    </tr>\n",
              "    <tr>\n",
              "      <th>date</th>\n",
              "      <th></th>\n",
              "      <th></th>\n",
              "    </tr>\n",
              "  </thead>\n",
              "  <tbody>\n",
              "    <tr>\n",
              "      <th>2002-01-01</th>\n",
              "      <td>103.09</td>\n",
              "      <td>30.472715</td>\n",
              "    </tr>\n",
              "    <tr>\n",
              "      <th>2002-02-01</th>\n",
              "      <td>101.16</td>\n",
              "      <td>30.805700</td>\n",
              "    </tr>\n",
              "    <tr>\n",
              "      <th>2002-03-01</th>\n",
              "      <td>101.08</td>\n",
              "      <td>31.064267</td>\n",
              "    </tr>\n",
              "    <tr>\n",
              "      <th>2002-04-01</th>\n",
              "      <td>101.16</td>\n",
              "      <td>31.173586</td>\n",
              "    </tr>\n",
              "    <tr>\n",
              "      <th>2002-05-01</th>\n",
              "      <td>101.69</td>\n",
              "      <td>31.254884</td>\n",
              "    </tr>\n",
              "    <tr>\n",
              "      <th>...</th>\n",
              "      <td>...</td>\n",
              "      <td>...</td>\n",
              "    </tr>\n",
              "    <tr>\n",
              "      <th>2019-08-01</th>\n",
              "      <td>99.76</td>\n",
              "      <td>65.587483</td>\n",
              "    </tr>\n",
              "    <tr>\n",
              "      <th>2019-09-01</th>\n",
              "      <td>99.84</td>\n",
              "      <td>64.958705</td>\n",
              "    </tr>\n",
              "    <tr>\n",
              "      <th>2019-10-01</th>\n",
              "      <td>100.13</td>\n",
              "      <td>64.374991</td>\n",
              "    </tr>\n",
              "    <tr>\n",
              "      <th>2019-11-01</th>\n",
              "      <td>100.28</td>\n",
              "      <td>63.867119</td>\n",
              "    </tr>\n",
              "    <tr>\n",
              "      <th>2019-12-01</th>\n",
              "      <td>100.36</td>\n",
              "      <td>62.932538</td>\n",
              "    </tr>\n",
              "  </tbody>\n",
              "</table>\n",
              "<p>216 rows × 2 columns</p>\n",
              "</div>"
            ],
            "text/plain": [
              "                RF       curs\n",
              "date                         \n",
              "2002-01-01  103.09  30.472715\n",
              "2002-02-01  101.16  30.805700\n",
              "2002-03-01  101.08  31.064267\n",
              "2002-04-01  101.16  31.173586\n",
              "2002-05-01  101.69  31.254884\n",
              "...            ...        ...\n",
              "2019-08-01   99.76  65.587483\n",
              "2019-09-01   99.84  64.958705\n",
              "2019-10-01  100.13  64.374991\n",
              "2019-11-01  100.28  63.867119\n",
              "2019-12-01  100.36  62.932538\n",
              "\n",
              "[216 rows x 2 columns]"
            ]
          },
          "metadata": {
            "tags": []
          },
          "execution_count": 131
        }
      ]
    },
    {
      "cell_type": "code",
      "metadata": {
        "id": "jqfr-tpfJvGw",
        "colab": {
          "base_uri": "https://localhost:8080/",
          "height": 283
        },
        "outputId": "ca540fed-d9ee-45a9-f05e-1590b790ccd6"
      },
      "source": [
        "plt.plot(data[reg_names].values)\n",
        "plt.plot(train_data[reg_names].values)"
      ],
      "execution_count": null,
      "outputs": [
        {
          "output_type": "execute_result",
          "data": {
            "text/plain": [
              "[<matplotlib.lines.Line2D at 0x7fa1f886f2b0>]"
            ]
          },
          "metadata": {
            "tags": []
          },
          "execution_count": 132
        },
        {
          "output_type": "display_data",
          "data": {
            "image/png": "[encoded data removed]",
            "text/plain": [
              "<Figure size 432x288 with 1 Axes>"
            ]
          },
          "metadata": {
            "tags": [],
            "needs_background": "light"
          }
        }
      ]
    },
    {
      "cell_type": "markdown",
      "metadata": {
        "id": "B-_ioliGwCqM"
      },
      "source": [
        "# Random Forest"
      ]
    },
    {
      "cell_type": "code",
      "metadata": {
        "id": "uOoiqUICJ0DL"
      },
      "source": [
        "from sklearn.ensemble import RandomForestRegressor"
      ],
      "execution_count": null,
      "outputs": []
    },
    {
      "cell_type": "code",
      "metadata": {
        "id": "jmQKZlJZ3-nH",
        "colab": {
          "base_uri": "https://localhost:8080/",
          "height": 450
        },
        "outputId": "f236ac3a-451c-4f04-eeee-8905468da769"
      },
      "source": [
        "data"
      ],
      "execution_count": null,
      "outputs": [
        {
          "output_type": "execute_result",
          "data": {
            "text/html": [
              "<div>\n",
              "<style scoped>\n",
              "    .dataframe tbody tr th:only-of-type {\n",
              "        vertical-align: middle;\n",
              "    }\n",
              "\n",
              "    .dataframe tbody tr th {\n",
              "        vertical-align: top;\n",
              "    }\n",
              "\n",
              "    .dataframe thead th {\n",
              "        text-align: right;\n",
              "    }\n",
              "</style>\n",
              "<table border=\"1\" class=\"dataframe\">\n",
              "  <thead>\n",
              "    <tr style=\"text-align: right;\">\n",
              "      <th></th>\n",
              "      <th>RF</th>\n",
              "      <th>curs</th>\n",
              "    </tr>\n",
              "    <tr>\n",
              "      <th>date</th>\n",
              "      <th></th>\n",
              "      <th></th>\n",
              "    </tr>\n",
              "  </thead>\n",
              "  <tbody>\n",
              "    <tr>\n",
              "      <th>2002-01-01</th>\n",
              "      <td>103.09</td>\n",
              "      <td>30.472715</td>\n",
              "    </tr>\n",
              "    <tr>\n",
              "      <th>2002-02-01</th>\n",
              "      <td>101.16</td>\n",
              "      <td>30.805700</td>\n",
              "    </tr>\n",
              "    <tr>\n",
              "      <th>2002-03-01</th>\n",
              "      <td>101.08</td>\n",
              "      <td>31.064267</td>\n",
              "    </tr>\n",
              "    <tr>\n",
              "      <th>2002-04-01</th>\n",
              "      <td>101.16</td>\n",
              "      <td>31.173586</td>\n",
              "    </tr>\n",
              "    <tr>\n",
              "      <th>2002-05-01</th>\n",
              "      <td>101.69</td>\n",
              "      <td>31.254884</td>\n",
              "    </tr>\n",
              "    <tr>\n",
              "      <th>...</th>\n",
              "      <td>...</td>\n",
              "      <td>...</td>\n",
              "    </tr>\n",
              "    <tr>\n",
              "      <th>2019-08-01</th>\n",
              "      <td>99.76</td>\n",
              "      <td>65.587483</td>\n",
              "    </tr>\n",
              "    <tr>\n",
              "      <th>2019-09-01</th>\n",
              "      <td>99.84</td>\n",
              "      <td>64.958705</td>\n",
              "    </tr>\n",
              "    <tr>\n",
              "      <th>2019-10-01</th>\n",
              "      <td>100.13</td>\n",
              "      <td>64.374991</td>\n",
              "    </tr>\n",
              "    <tr>\n",
              "      <th>2019-11-01</th>\n",
              "      <td>100.28</td>\n",
              "      <td>63.867119</td>\n",
              "    </tr>\n",
              "    <tr>\n",
              "      <th>2019-12-01</th>\n",
              "      <td>100.36</td>\n",
              "      <td>62.932538</td>\n",
              "    </tr>\n",
              "  </tbody>\n",
              "</table>\n",
              "<p>216 rows × 2 columns</p>\n",
              "</div>"
            ],
            "text/plain": [
              "                RF       curs\n",
              "date                         \n",
              "2002-01-01  103.09  30.472715\n",
              "2002-02-01  101.16  30.805700\n",
              "2002-03-01  101.08  31.064267\n",
              "2002-04-01  101.16  31.173586\n",
              "2002-05-01  101.69  31.254884\n",
              "...            ...        ...\n",
              "2019-08-01   99.76  65.587483\n",
              "2019-09-01   99.84  64.958705\n",
              "2019-10-01  100.13  64.374991\n",
              "2019-11-01  100.28  63.867119\n",
              "2019-12-01  100.36  62.932538\n",
              "\n",
              "[216 rows x 2 columns]"
            ]
          },
          "metadata": {
            "tags": []
          },
          "execution_count": 134
        }
      ]
    },
    {
      "cell_type": "code",
      "metadata": {
        "id": "ba44XcIgJ0Gd"
      },
      "source": [
        "data_lags = pd.DataFrame()\n",
        "\n",
        "data_lags['curs-1'] = data['curs'].shift(1).values\n",
        "data_lags['curs'] = data['curs'].values\n",
        "data_lags['t'] = data[reg_names].values\n",
        "for i in range(1, 13):\n",
        "    data_lags['t-'+str(i)] = data[reg_names].shift(i).values\n",
        "    \n",
        "data_lags.index = data.index\n",
        "data_lags = data_lags[12:]\n",
        "data_lags['month'] = pd.DatetimeIndex(data_lags.index).month"
      ],
      "execution_count": null,
      "outputs": []
    },
    {
      "cell_type": "code",
      "metadata": {
        "id": "CPUtXPP7B0fl"
      },
      "source": [
        "#course_lags = pd.DataFrame()\n",
        "#for i in range(1, 13):\n",
        "#    course_lags['curs-'+str(i)] = data[\"curs\"].shift(i).values\n",
        "#course_lags.index = data.index\n",
        "#course_lags = course_lags[12:]"
      ],
      "execution_count": null,
      "outputs": []
    },
    {
      "cell_type": "code",
      "metadata": {
        "id": "i5FeFl6bCSE6"
      },
      "source": [
        "#course_lags.head()"
      ],
      "execution_count": null,
      "outputs": []
    },
    {
      "cell_type": "code",
      "metadata": {
        "id": "iN6PJGOcDiI4"
      },
      "source": [
        "#data_lags = data_lags.merge(course_lags, left_on='date', right_on='date')"
      ],
      "execution_count": null,
      "outputs": []
    },
    {
      "cell_type": "code",
      "metadata": {
        "id": "hLS1RXK43reJ",
        "colab": {
          "base_uri": "https://localhost:8080/",
          "height": 340
        },
        "outputId": "7c129f41-b7bf-4765-c053-c91334201f81"
      },
      "source": [
        "data_lags.head(5)"
      ],
      "execution_count": null,
      "outputs": [
        {
          "output_type": "execute_result",
          "data": {
            "text/html": [
              "<div>\n",
              "<style scoped>\n",
              "    .dataframe tbody tr th:only-of-type {\n",
              "        vertical-align: middle;\n",
              "    }\n",
              "\n",
              "    .dataframe tbody tr th {\n",
              "        vertical-align: top;\n",
              "    }\n",
              "\n",
              "    .dataframe thead th {\n",
              "        text-align: right;\n",
              "    }\n",
              "</style>\n",
              "<table border=\"1\" class=\"dataframe\">\n",
              "  <thead>\n",
              "    <tr style=\"text-align: right;\">\n",
              "      <th></th>\n",
              "      <th>curs-1</th>\n",
              "      <th>curs</th>\n",
              "      <th>t</th>\n",
              "      <th>t-1</th>\n",
              "      <th>t-2</th>\n",
              "      <th>t-3</th>\n",
              "      <th>t-4</th>\n",
              "      <th>t-5</th>\n",
              "      <th>t-6</th>\n",
              "      <th>t-7</th>\n",
              "      <th>t-8</th>\n",
              "      <th>t-9</th>\n",
              "      <th>t-10</th>\n",
              "      <th>t-11</th>\n",
              "      <th>t-12</th>\n",
              "      <th>month</th>\n",
              "    </tr>\n",
              "    <tr>\n",
              "      <th>date</th>\n",
              "      <th></th>\n",
              "      <th></th>\n",
              "      <th></th>\n",
              "      <th></th>\n",
              "      <th></th>\n",
              "      <th></th>\n",
              "      <th></th>\n",
              "      <th></th>\n",
              "      <th></th>\n",
              "      <th></th>\n",
              "      <th></th>\n",
              "      <th></th>\n",
              "      <th></th>\n",
              "      <th></th>\n",
              "      <th></th>\n",
              "      <th></th>\n",
              "    </tr>\n",
              "  </thead>\n",
              "  <tbody>\n",
              "    <tr>\n",
              "      <th>2003-01-01</th>\n",
              "      <td>31.836840</td>\n",
              "      <td>31.816165</td>\n",
              "      <td>102.40</td>\n",
              "      <td>101.54</td>\n",
              "      <td>101.61</td>\n",
              "      <td>101.07</td>\n",
              "      <td>100.40</td>\n",
              "      <td>100.09</td>\n",
              "      <td>100.72</td>\n",
              "      <td>100.53</td>\n",
              "      <td>101.69</td>\n",
              "      <td>101.16</td>\n",
              "      <td>101.08</td>\n",
              "      <td>101.16</td>\n",
              "      <td>103.09</td>\n",
              "      <td>1</td>\n",
              "    </tr>\n",
              "    <tr>\n",
              "      <th>2003-02-01</th>\n",
              "      <td>31.816165</td>\n",
              "      <td>31.698979</td>\n",
              "      <td>101.63</td>\n",
              "      <td>102.40</td>\n",
              "      <td>101.54</td>\n",
              "      <td>101.61</td>\n",
              "      <td>101.07</td>\n",
              "      <td>100.40</td>\n",
              "      <td>100.09</td>\n",
              "      <td>100.72</td>\n",
              "      <td>100.53</td>\n",
              "      <td>101.69</td>\n",
              "      <td>101.16</td>\n",
              "      <td>101.08</td>\n",
              "      <td>101.16</td>\n",
              "      <td>2</td>\n",
              "    </tr>\n",
              "    <tr>\n",
              "      <th>2003-03-01</th>\n",
              "      <td>31.698979</td>\n",
              "      <td>31.453290</td>\n",
              "      <td>101.05</td>\n",
              "      <td>101.63</td>\n",
              "      <td>102.40</td>\n",
              "      <td>101.54</td>\n",
              "      <td>101.61</td>\n",
              "      <td>101.07</td>\n",
              "      <td>100.40</td>\n",
              "      <td>100.09</td>\n",
              "      <td>100.72</td>\n",
              "      <td>100.53</td>\n",
              "      <td>101.69</td>\n",
              "      <td>101.16</td>\n",
              "      <td>101.08</td>\n",
              "      <td>3</td>\n",
              "    </tr>\n",
              "    <tr>\n",
              "      <th>2003-04-01</th>\n",
              "      <td>31.453290</td>\n",
              "      <td>31.211786</td>\n",
              "      <td>101.02</td>\n",
              "      <td>101.05</td>\n",
              "      <td>101.63</td>\n",
              "      <td>102.40</td>\n",
              "      <td>101.54</td>\n",
              "      <td>101.61</td>\n",
              "      <td>101.07</td>\n",
              "      <td>100.40</td>\n",
              "      <td>100.09</td>\n",
              "      <td>100.72</td>\n",
              "      <td>100.53</td>\n",
              "      <td>101.69</td>\n",
              "      <td>101.16</td>\n",
              "      <td>4</td>\n",
              "    </tr>\n",
              "    <tr>\n",
              "      <th>2003-05-01</th>\n",
              "      <td>31.211786</td>\n",
              "      <td>30.907055</td>\n",
              "      <td>100.80</td>\n",
              "      <td>101.02</td>\n",
              "      <td>101.05</td>\n",
              "      <td>101.63</td>\n",
              "      <td>102.40</td>\n",
              "      <td>101.54</td>\n",
              "      <td>101.61</td>\n",
              "      <td>101.07</td>\n",
              "      <td>100.40</td>\n",
              "      <td>100.09</td>\n",
              "      <td>100.72</td>\n",
              "      <td>100.53</td>\n",
              "      <td>101.69</td>\n",
              "      <td>5</td>\n",
              "    </tr>\n",
              "  </tbody>\n",
              "</table>\n",
              "</div>"
            ],
            "text/plain": [
              "               curs-1       curs       t     t-1  ...    t-10    t-11    t-12  month\n",
              "date                                              ...                               \n",
              "2003-01-01  31.836840  31.816165  102.40  101.54  ...  101.08  101.16  103.09      1\n",
              "2003-02-01  31.816165  31.698979  101.63  102.40  ...  101.16  101.08  101.16      2\n",
              "2003-03-01  31.698979  31.453290  101.05  101.63  ...  101.69  101.16  101.08      3\n",
              "2003-04-01  31.453290  31.211786  101.02  101.05  ...  100.53  101.69  101.16      4\n",
              "2003-05-01  31.211786  30.907055  100.80  101.02  ...  100.72  100.53  101.69      5\n",
              "\n",
              "[5 rows x 16 columns]"
            ]
          },
          "metadata": {
            "tags": []
          },
          "execution_count": 139
        }
      ]
    },
    {
      "cell_type": "code",
      "metadata": {
        "id": "uxZhMhU-6t_l"
      },
      "source": [
        "df = data_lags.copy()\n",
        "#df['month'] = pd.DatetimeIndex(df.index).month"
      ],
      "execution_count": null,
      "outputs": []
    },
    {
      "cell_type": "code",
      "metadata": {
        "id": "4nOWSVGl67NV",
        "colab": {
          "base_uri": "https://localhost:8080/",
          "height": 676
        },
        "outputId": "99b10717-aecd-4bef-f679-9e28e09761b4"
      },
      "source": [
        "df.tail(12)"
      ],
      "execution_count": null,
      "outputs": [
        {
          "output_type": "execute_result",
          "data": {
            "text/html": [
              "<div>\n",
              "<style scoped>\n",
              "    .dataframe tbody tr th:only-of-type {\n",
              "        vertical-align: middle;\n",
              "    }\n",
              "\n",
              "    .dataframe tbody tr th {\n",
              "        vertical-align: top;\n",
              "    }\n",
              "\n",
              "    .dataframe thead th {\n",
              "        text-align: right;\n",
              "    }\n",
              "</style>\n",
              "<table border=\"1\" class=\"dataframe\">\n",
              "  <thead>\n",
              "    <tr style=\"text-align: right;\">\n",
              "      <th></th>\n",
              "      <th>curs-1</th>\n",
              "      <th>curs</th>\n",
              "      <th>t</th>\n",
              "      <th>t-1</th>\n",
              "      <th>t-2</th>\n",
              "      <th>t-3</th>\n",
              "      <th>t-4</th>\n",
              "      <th>t-5</th>\n",
              "      <th>t-6</th>\n",
              "      <th>t-7</th>\n",
              "      <th>t-8</th>\n",
              "      <th>t-9</th>\n",
              "      <th>t-10</th>\n",
              "      <th>t-11</th>\n",
              "      <th>t-12</th>\n",
              "      <th>month</th>\n",
              "    </tr>\n",
              "    <tr>\n",
              "      <th>date</th>\n",
              "      <th></th>\n",
              "      <th></th>\n",
              "      <th></th>\n",
              "      <th></th>\n",
              "      <th></th>\n",
              "      <th></th>\n",
              "      <th></th>\n",
              "      <th></th>\n",
              "      <th></th>\n",
              "      <th></th>\n",
              "      <th></th>\n",
              "      <th></th>\n",
              "      <th></th>\n",
              "      <th></th>\n",
              "      <th></th>\n",
              "      <th></th>\n",
              "    </tr>\n",
              "  </thead>\n",
              "  <tbody>\n",
              "    <tr>\n",
              "      <th>2019-01-01</th>\n",
              "      <td>67.335314</td>\n",
              "      <td>66.512544</td>\n",
              "      <td>101.01</td>\n",
              "      <td>100.84</td>\n",
              "      <td>100.50</td>\n",
              "      <td>100.35</td>\n",
              "      <td>100.16</td>\n",
              "      <td>100.01</td>\n",
              "      <td>100.27</td>\n",
              "      <td>100.49</td>\n",
              "      <td>100.38</td>\n",
              "      <td>100.38</td>\n",
              "      <td>100.29</td>\n",
              "      <td>100.21</td>\n",
              "      <td>100.31</td>\n",
              "      <td>1</td>\n",
              "    </tr>\n",
              "    <tr>\n",
              "      <th>2019-02-01</th>\n",
              "      <td>66.512544</td>\n",
              "      <td>65.810525</td>\n",
              "      <td>100.44</td>\n",
              "      <td>101.01</td>\n",
              "      <td>100.84</td>\n",
              "      <td>100.50</td>\n",
              "      <td>100.35</td>\n",
              "      <td>100.16</td>\n",
              "      <td>100.01</td>\n",
              "      <td>100.27</td>\n",
              "      <td>100.49</td>\n",
              "      <td>100.38</td>\n",
              "      <td>100.38</td>\n",
              "      <td>100.29</td>\n",
              "      <td>100.21</td>\n",
              "      <td>2</td>\n",
              "    </tr>\n",
              "    <tr>\n",
              "      <th>2019-03-01</th>\n",
              "      <td>65.810525</td>\n",
              "      <td>65.092257</td>\n",
              "      <td>100.32</td>\n",
              "      <td>100.44</td>\n",
              "      <td>101.01</td>\n",
              "      <td>100.84</td>\n",
              "      <td>100.50</td>\n",
              "      <td>100.35</td>\n",
              "      <td>100.16</td>\n",
              "      <td>100.01</td>\n",
              "      <td>100.27</td>\n",
              "      <td>100.49</td>\n",
              "      <td>100.38</td>\n",
              "      <td>100.38</td>\n",
              "      <td>100.29</td>\n",
              "      <td>3</td>\n",
              "    </tr>\n",
              "    <tr>\n",
              "      <th>2019-04-01</th>\n",
              "      <td>65.092257</td>\n",
              "      <td>64.603105</td>\n",
              "      <td>100.29</td>\n",
              "      <td>100.32</td>\n",
              "      <td>100.44</td>\n",
              "      <td>101.01</td>\n",
              "      <td>100.84</td>\n",
              "      <td>100.50</td>\n",
              "      <td>100.35</td>\n",
              "      <td>100.16</td>\n",
              "      <td>100.01</td>\n",
              "      <td>100.27</td>\n",
              "      <td>100.49</td>\n",
              "      <td>100.38</td>\n",
              "      <td>100.38</td>\n",
              "      <td>4</td>\n",
              "    </tr>\n",
              "    <tr>\n",
              "      <th>2019-05-01</th>\n",
              "      <td>64.603105</td>\n",
              "      <td>64.818706</td>\n",
              "      <td>100.34</td>\n",
              "      <td>100.29</td>\n",
              "      <td>100.32</td>\n",
              "      <td>100.44</td>\n",
              "      <td>101.01</td>\n",
              "      <td>100.84</td>\n",
              "      <td>100.50</td>\n",
              "      <td>100.35</td>\n",
              "      <td>100.16</td>\n",
              "      <td>100.01</td>\n",
              "      <td>100.27</td>\n",
              "      <td>100.49</td>\n",
              "      <td>100.38</td>\n",
              "      <td>5</td>\n",
              "    </tr>\n",
              "    <tr>\n",
              "      <th>2019-06-01</th>\n",
              "      <td>64.818706</td>\n",
              "      <td>64.169050</td>\n",
              "      <td>100.04</td>\n",
              "      <td>100.34</td>\n",
              "      <td>100.29</td>\n",
              "      <td>100.32</td>\n",
              "      <td>100.44</td>\n",
              "      <td>101.01</td>\n",
              "      <td>100.84</td>\n",
              "      <td>100.50</td>\n",
              "      <td>100.35</td>\n",
              "      <td>100.16</td>\n",
              "      <td>100.01</td>\n",
              "      <td>100.27</td>\n",
              "      <td>100.49</td>\n",
              "      <td>6</td>\n",
              "    </tr>\n",
              "    <tr>\n",
              "      <th>2019-07-01</th>\n",
              "      <td>64.169050</td>\n",
              "      <td>63.222682</td>\n",
              "      <td>100.20</td>\n",
              "      <td>100.04</td>\n",
              "      <td>100.34</td>\n",
              "      <td>100.29</td>\n",
              "      <td>100.32</td>\n",
              "      <td>100.44</td>\n",
              "      <td>101.01</td>\n",
              "      <td>100.84</td>\n",
              "      <td>100.50</td>\n",
              "      <td>100.35</td>\n",
              "      <td>100.16</td>\n",
              "      <td>100.01</td>\n",
              "      <td>100.27</td>\n",
              "      <td>7</td>\n",
              "    </tr>\n",
              "    <tr>\n",
              "      <th>2019-08-01</th>\n",
              "      <td>63.222682</td>\n",
              "      <td>65.587483</td>\n",
              "      <td>99.76</td>\n",
              "      <td>100.20</td>\n",
              "      <td>100.04</td>\n",
              "      <td>100.34</td>\n",
              "      <td>100.29</td>\n",
              "      <td>100.32</td>\n",
              "      <td>100.44</td>\n",
              "      <td>101.01</td>\n",
              "      <td>100.84</td>\n",
              "      <td>100.50</td>\n",
              "      <td>100.35</td>\n",
              "      <td>100.16</td>\n",
              "      <td>100.01</td>\n",
              "      <td>8</td>\n",
              "    </tr>\n",
              "    <tr>\n",
              "      <th>2019-09-01</th>\n",
              "      <td>65.587483</td>\n",
              "      <td>64.958705</td>\n",
              "      <td>99.84</td>\n",
              "      <td>99.76</td>\n",
              "      <td>100.20</td>\n",
              "      <td>100.04</td>\n",
              "      <td>100.34</td>\n",
              "      <td>100.29</td>\n",
              "      <td>100.32</td>\n",
              "      <td>100.44</td>\n",
              "      <td>101.01</td>\n",
              "      <td>100.84</td>\n",
              "      <td>100.50</td>\n",
              "      <td>100.35</td>\n",
              "      <td>100.16</td>\n",
              "      <td>9</td>\n",
              "    </tr>\n",
              "    <tr>\n",
              "      <th>2019-10-01</th>\n",
              "      <td>64.958705</td>\n",
              "      <td>64.374991</td>\n",
              "      <td>100.13</td>\n",
              "      <td>99.84</td>\n",
              "      <td>99.76</td>\n",
              "      <td>100.20</td>\n",
              "      <td>100.04</td>\n",
              "      <td>100.34</td>\n",
              "      <td>100.29</td>\n",
              "      <td>100.32</td>\n",
              "      <td>100.44</td>\n",
              "      <td>101.01</td>\n",
              "      <td>100.84</td>\n",
              "      <td>100.50</td>\n",
              "      <td>100.35</td>\n",
              "      <td>10</td>\n",
              "    </tr>\n",
              "    <tr>\n",
              "      <th>2019-11-01</th>\n",
              "      <td>64.374991</td>\n",
              "      <td>63.867119</td>\n",
              "      <td>100.28</td>\n",
              "      <td>100.13</td>\n",
              "      <td>99.84</td>\n",
              "      <td>99.76</td>\n",
              "      <td>100.20</td>\n",
              "      <td>100.04</td>\n",
              "      <td>100.34</td>\n",
              "      <td>100.29</td>\n",
              "      <td>100.32</td>\n",
              "      <td>100.44</td>\n",
              "      <td>101.01</td>\n",
              "      <td>100.84</td>\n",
              "      <td>100.50</td>\n",
              "      <td>11</td>\n",
              "    </tr>\n",
              "    <tr>\n",
              "      <th>2019-12-01</th>\n",
              "      <td>63.867119</td>\n",
              "      <td>62.932538</td>\n",
              "      <td>100.36</td>\n",
              "      <td>100.28</td>\n",
              "      <td>100.13</td>\n",
              "      <td>99.84</td>\n",
              "      <td>99.76</td>\n",
              "      <td>100.20</td>\n",
              "      <td>100.04</td>\n",
              "      <td>100.34</td>\n",
              "      <td>100.29</td>\n",
              "      <td>100.32</td>\n",
              "      <td>100.44</td>\n",
              "      <td>101.01</td>\n",
              "      <td>100.84</td>\n",
              "      <td>12</td>\n",
              "    </tr>\n",
              "  </tbody>\n",
              "</table>\n",
              "</div>"
            ],
            "text/plain": [
              "               curs-1       curs       t     t-1  ...    t-10    t-11    t-12  month\n",
              "date                                              ...                               \n",
              "2019-01-01  67.335314  66.512544  101.01  100.84  ...  100.29  100.21  100.31      1\n",
              "2019-02-01  66.512544  65.810525  100.44  101.01  ...  100.38  100.29  100.21      2\n",
              "2019-03-01  65.810525  65.092257  100.32  100.44  ...  100.38  100.38  100.29      3\n",
              "2019-04-01  65.092257  64.603105  100.29  100.32  ...  100.49  100.38  100.38      4\n",
              "2019-05-01  64.603105  64.818706  100.34  100.29  ...  100.27  100.49  100.38      5\n",
              "2019-06-01  64.818706  64.169050  100.04  100.34  ...  100.01  100.27  100.49      6\n",
              "2019-07-01  64.169050  63.222682  100.20  100.04  ...  100.16  100.01  100.27      7\n",
              "2019-08-01  63.222682  65.587483   99.76  100.20  ...  100.35  100.16  100.01      8\n",
              "2019-09-01  65.587483  64.958705   99.84   99.76  ...  100.50  100.35  100.16      9\n",
              "2019-10-01  64.958705  64.374991  100.13   99.84  ...  100.84  100.50  100.35     10\n",
              "2019-11-01  64.374991  63.867119  100.28  100.13  ...  101.01  100.84  100.50     11\n",
              "2019-12-01  63.867119  62.932538  100.36  100.28  ...  100.44  101.01  100.84     12\n",
              "\n",
              "[12 rows x 16 columns]"
            ]
          },
          "metadata": {
            "tags": []
          },
          "execution_count": 141
        }
      ]
    },
    {
      "cell_type": "code",
      "metadata": {
        "id": "mgi6Bfdu8NBi"
      },
      "source": [
        "train = df[df.index < '2019-01-01']\n",
        "test = df[df.index >= '2019-01-01']\n",
        "\n",
        "#X_train = train[['month'] + ['curs'] + ['t-{}'.format(month) for month in range(1,13)] + ['curs-{}'.format(month) for month in range(1,12)]].values\n",
        "X_train = train[['month'] + ['curs'] + ['t-{}'.format(month) for month in range(1,13)]].values\n",
        "y_train = train[['t']].values.ravel()"
      ],
      "execution_count": null,
      "outputs": []
    },
    {
      "cell_type": "code",
      "metadata": {
        "id": "JQaRfjICJ0J1",
        "colab": {
          "base_uri": "https://localhost:8080/"
        },
        "outputId": "d628bc0b-393b-4905-8c69-e68ebc20a18f"
      },
      "source": [
        "%%time\n",
        "model = RandomForestRegressor(n_estimators=50, max_depth=5, random_state=1)\n",
        "model.fit(X_train, y_train)"
      ],
      "execution_count": null,
      "outputs": [
        {
          "output_type": "stream",
          "text": [
            "CPU times: user 91 ms, sys: 0 ns, total: 91 ms\n",
            "Wall time: 91.8 ms\n"
          ],
          "name": "stdout"
        }
      ]
    },
    {
      "cell_type": "code",
      "metadata": {
        "id": "GwLddlIC9_WP"
      },
      "source": [
        "#X_test = test[['month'] + ['curs'] + ['curs-{}'.format(month) for month in range(1,12)] + ['t-{}'.format(month) for month in range(1,13)]].values\n",
        "X_test = test[['month'] + ['curs'] + ['curs-1'] + ['t-{}'.format(month) for month in range(1,12)]].values\n",
        "y_test = test[['t']].values.ravel()"
      ],
      "execution_count": null,
      "outputs": []
    },
    {
      "cell_type": "code",
      "metadata": {
        "id": "nuqhuq3AHNWg",
        "colab": {
          "base_uri": "https://localhost:8080/"
        },
        "outputId": "46387d91-ef4f-4f00-d643-08c1cdb39bf6"
      },
      "source": [
        "[['month'] + ['curs'] + ['curs-1'] + ['t-{}'.format(month) for month in range(1,13)]]"
      ],
      "execution_count": null,
      "outputs": [
        {
          "output_type": "execute_result",
          "data": {
            "text/plain": [
              "[['month',\n",
              "  'curs',\n",
              "  'curs-1',\n",
              "  't-1',\n",
              "  't-2',\n",
              "  't-3',\n",
              "  't-4',\n",
              "  't-5',\n",
              "  't-6',\n",
              "  't-7',\n",
              "  't-8',\n",
              "  't-9',\n",
              "  't-10',\n",
              "  't-11',\n",
              "  't-12']]"
            ]
          },
          "metadata": {
            "tags": []
          },
          "execution_count": 145
        }
      ]
    },
    {
      "cell_type": "code",
      "metadata": {
        "id": "EOkvUP8o7dF5"
      },
      "source": [
        "forecast = model.predict(X_test)"
      ],
      "execution_count": null,
      "outputs": []
    },
    {
      "cell_type": "code",
      "metadata": {
        "id": "HeFez1HTcO8J",
        "colab": {
          "base_uri": "https://localhost:8080/"
        },
        "outputId": "cf769df6-7571-425a-ae13-6ede0e1e34cb"
      },
      "source": [
        "model.feature_importances_"
      ],
      "execution_count": null,
      "outputs": [
        {
          "output_type": "execute_result",
          "data": {
            "text/plain": [
              "array([0.19270961, 0.04368385, 0.46999856, 0.01562988, 0.00808367,\n",
              "       0.01250167, 0.02051499, 0.01020147, 0.02150408, 0.01451188,\n",
              "       0.04272717, 0.01812241, 0.03050794, 0.09930281])"
            ]
          },
          "metadata": {
            "tags": []
          },
          "execution_count": 147
        }
      ]
    },
    {
      "cell_type": "code",
      "metadata": {
        "id": "uxa8lnIt-hfQ",
        "colab": {
          "base_uri": "https://localhost:8080/",
          "height": 282
        },
        "outputId": "c755e9ed-f4ce-48e4-9244-cfb381f39981"
      },
      "source": [
        "plt.plot(y_test, label='true')\n",
        "plt.plot(forecast, label='forecast')\n",
        "plt.legend()"
      ],
      "execution_count": null,
      "outputs": [
        {
          "output_type": "execute_result",
          "data": {
            "text/plain": [
              "<matplotlib.legend.Legend at 0x7fa1f8a0b390>"
            ]
          },
          "metadata": {
            "tags": []
          },
          "execution_count": 148
        },
        {
          "output_type": "display_data",
          "data": {
            "image/png": "[encoded data removed]",
            "text/plain": [
              "<Figure size 432x288 with 1 Axes>"
            ]
          },
          "metadata": {
            "tags": [],
            "needs_background": "light"
          }
        }
      ]
    },
    {
      "cell_type": "code",
      "metadata": {
        "id": "EvoVHftq8qCy",
        "colab": {
          "base_uri": "https://localhost:8080/"
        },
        "outputId": "3039185f-2a51-4d5b-f612-ef38743c35f3"
      },
      "source": [
        "print('rmse: {:.4f}'.format(mean_squared_error(y_test, forecast) ** 0.5))\n",
        "print('normed rmse: {:.4f}%'.format(mean_squared_error(y_test, forecast) ** 0.5 / np.mean(y_test) * 100))"
      ],
      "execution_count": null,
      "outputs": [
        {
          "output_type": "stream",
          "text": [
            "rmse: 0.3765\n",
            "normed rmse: 0.3755%\n"
          ],
          "name": "stdout"
        }
      ]
    },
    {
      "cell_type": "markdown",
      "metadata": {
        "id": "4LOU5S3B6209"
      },
      "source": [
        "# **Slide test**"
      ]
    },
    {
      "cell_type": "code",
      "metadata": {
        "id": "o5Jb3Bo0K1zO",
        "colab": {
          "base_uri": "https://localhost:8080/"
        },
        "outputId": "7c2fda54-9475-44f2-bf55-6625942457ae"
      },
      "source": [
        "slide_test = test[test.index == '2019-01-01'][['month'] + ['curs'] + ['curs-1'] + ['t-{}'.\n",
        "                                            format(month) for month in range(1,12)]].values\n",
        "#print(slide_test)\n",
        "\n",
        "forecast = []\n",
        "forecast.append(model.predict(slide_test)[0])\n",
        "\n",
        "for i in range(11):\n",
        "  \n",
        "  slide_test_next = slide_test.copy()\n",
        "  slide_test_next[0, 1] = forecast[-1]\n",
        "\n",
        "  slide_test_next[0, 0] += 1\n",
        "  slide_test_next[0, 2:] = slide_test[0, 1:-1]\n",
        "  \n",
        "  print(slide_test_next)\n",
        "  slide_test = slide_test_next.copy()\n",
        "\n",
        "  forecast.append(model.predict(slide_test)[0])\n",
        "\n",
        "forecast = np.array(forecast)"
      ],
      "execution_count": null,
      "outputs": [
        {
          "output_type": "stream",
          "text": [
            "[[  1.          66.51254375  67.33531364 100.84       100.5\n",
            "  100.35       100.16       100.01       100.27       100.49\n",
            "  100.38       100.38       100.29       100.21      ]]\n",
            "[[  2.         100.12699754  66.51254375  67.33531364 100.84\n",
            "  100.5        100.35       100.16       100.01       100.27\n",
            "  100.49       100.38       100.38       100.29      ]]\n",
            "[[  3.         100.00717377 100.12699754  66.51254375  67.33531364\n",
            "  100.84       100.5        100.35       100.16       100.01\n",
            "  100.27       100.49       100.38       100.38      ]]\n",
            "[[  4.         100.35306925 100.00717377 100.12699754  66.51254375\n",
            "   67.33531364 100.84       100.5        100.35       100.16\n",
            "  100.01       100.27       100.49       100.38      ]]\n",
            "[[  5.          99.9999996  100.35306925 100.00717377 100.12699754\n",
            "   66.51254375  67.33531364 100.84       100.5        100.35\n",
            "  100.16       100.01       100.27       100.49      ]]\n",
            "[[  6.         100.46389333  99.9999996  100.35306925 100.00717377\n",
            "  100.12699754  66.51254375  67.33531364 100.84       100.5\n",
            "  100.35       100.16       100.01       100.27      ]]\n",
            "[[  7.          99.79457101 100.46389333  99.9999996  100.35306925\n",
            "  100.00717377 100.12699754  66.51254375  67.33531364 100.84\n",
            "  100.5        100.35       100.16       100.01      ]]\n",
            "[[  8.         100.39956532  99.79457101 100.46389333  99.9999996\n",
            "  100.35306925 100.00717377 100.12699754  66.51254375  67.33531364\n",
            "  100.84       100.5        100.35       100.16      ]]\n",
            "[[  9.          99.89024148 100.39956532  99.79457101 100.46389333\n",
            "   99.9999996  100.35306925 100.00717377 100.12699754  66.51254375\n",
            "   67.33531364 100.84       100.5        100.35      ]]\n",
            "[[ 10.         100.4365081   99.89024148 100.39956532  99.79457101\n",
            "  100.46389333  99.9999996  100.35306925 100.00717377 100.12699754\n",
            "   66.51254375  67.33531364 100.84       100.5       ]]\n",
            "[[ 11.         100.1222024  100.4365081   99.89024148 100.39956532\n",
            "   99.79457101 100.46389333  99.9999996  100.35306925 100.00717377\n",
            "  100.12699754  66.51254375  67.33531364 100.84      ]]\n",
            "[[ 12.         100.45349806 100.1222024  100.4365081   99.89024148\n",
            "  100.39956532  99.79457101 100.46389333  99.9999996  100.35306925\n",
            "  100.00717377 100.12699754  66.51254375  67.33531364]]\n"
          ],
          "name": "stdout"
        }
      ]
    },
    {
      "cell_type": "code",
      "metadata": {
        "id": "HZqUcjOCKmRP",
        "colab": {
          "base_uri": "https://localhost:8080/",
          "height": 282
        },
        "outputId": "2e814873-b3fa-4e7b-f8b2-6c96ba687665"
      },
      "source": [
        "plt.plot(y_test, label='true')\n",
        "plt.plot(forecast, label='forecast')\n",
        "plt.legend()"
      ],
      "execution_count": null,
      "outputs": [
        {
          "output_type": "execute_result",
          "data": {
            "text/plain": [
              "<matplotlib.legend.Legend at 0x7fa1f883a2b0>"
            ]
          },
          "metadata": {
            "tags": []
          },
          "execution_count": 151
        },
        {
          "output_type": "display_data",
          "data": {
            "image/png": "[encoded data removed]",
            "text/plain": [
              "<Figure size 432x288 with 1 Axes>"
            ]
          },
          "metadata": {
            "tags": [],
            "needs_background": "light"
          }
        }
      ]
    },
    {
      "cell_type": "code",
      "metadata": {
        "id": "81nyCdaRR-4O",
        "colab": {
          "base_uri": "https://localhost:8080/"
        },
        "outputId": "750fe993-18d3-4bfa-ac81-9e2fa3cf136b"
      },
      "source": [
        "y_test.shape"
      ],
      "execution_count": null,
      "outputs": [
        {
          "output_type": "execute_result",
          "data": {
            "text/plain": [
              "(12,)"
            ]
          },
          "metadata": {
            "tags": []
          },
          "execution_count": 152
        }
      ]
    },
    {
      "cell_type": "code",
      "metadata": {
        "id": "2FDvHnq5JNuR",
        "colab": {
          "base_uri": "https://localhost:8080/"
        },
        "outputId": "0bf0a444-29e5-47ae-fbef-e14fe82b1cea"
      },
      "source": [
        "print('rmse: {:.4f}'.format(mean_squared_error(y_test, forecast) ** 0.5))\n",
        "print('normed rmse: {:.4f}%'.format((mean_squared_error(y_test, forecast) ** 0.5) / np.mean(y_test) * 100))"
      ],
      "execution_count": null,
      "outputs": [
        {
          "output_type": "stream",
          "text": [
            "rmse: 0.3632\n",
            "normed rmse: 0.3622%\n"
          ],
          "name": "stdout"
        }
      ]
    },
    {
      "cell_type": "markdown",
      "metadata": {
        "id": "zkhh3vUJ2tTk"
      },
      "source": [
        "# **KFold cross validation**"
      ]
    },
    {
      "cell_type": "code",
      "metadata": {
        "id": "deadTb4020Hy"
      },
      "source": [
        "#!pip install mglearn -q\r\n",
        "from sklearn.datasets import make_blobs\r\n",
        "from sklearn.linear_model import LogisticRegression\r\n",
        "from sklearn.model_selection import train_test_split\r\n",
        "from sklearn.model_selection import cross_val_score\r\n",
        "\r\n",
        "import mglearn\r\n"
      ],
      "execution_count": null,
      "outputs": []
    },
    {
      "cell_type": "code",
      "metadata": {
        "colab": {
          "base_uri": "https://localhost:8080/"
        },
        "id": "dCRe67DU3Gog",
        "outputId": "f5a8e746-5ed3-4d73-bd6f-f671da42bf13"
      },
      "source": [
        "%%time\r\n",
        "model = RandomForestRegressor(n_estimators=50, max_depth=5, random_state=1)\r\n",
        "#model.fit(X_train, y_train)\r\n",
        "\r\n",
        "scores = cross_val_score(model, X_train, y_train, cv=18)\r\n",
        "print(\"Cross-validation scores: {}\".format(scores))"
      ],
      "execution_count": null,
      "outputs": [
        {
          "output_type": "stream",
          "text": [
            "Cross-validation scores: [ 0.75231786  0.28656564  0.793014    0.68088778  0.6248957   0.34404087\n",
            "  0.41976411  0.5546579   0.59339139 -1.39516319 -1.06773112 -0.49604937\n",
            " -0.48894466  0.37282206 -7.70395664 -0.36051359 -0.75913552 -0.01996642]\n",
            "CPU times: user 1.75 s, sys: 6.86 ms, total: 1.75 s\n",
            "Wall time: 1.78 s\n"
          ],
          "name": "stdout"
        }
      ]
    },
    {
      "cell_type": "code",
      "metadata": {
        "id": "5mzaZkBHE5T7",
        "colab": {
          "base_uri": "https://localhost:8080/"
        },
        "outputId": "9987c24e-9bb6-4d55-b9dc-909bd63b957b"
      },
      "source": [
        "print(\"Average cross-validation score: {:.2f}\".format(scores.mean()))"
      ],
      "execution_count": null,
      "outputs": [
        {
          "output_type": "stream",
          "text": [
            "Average cross-validation score: -0.38\n"
          ],
          "name": "stdout"
        }
      ]
    },
    {
      "cell_type": "markdown",
      "metadata": {
        "id": "Q7OnwPFmFYsG"
      },
      "source": [
        "# **Stratified K-Fold cross-validation and other strategies**"
      ]
    },
    {
      "cell_type": "code",
      "metadata": {
        "id": "aIviXw2MEuhq"
      },
      "source": [
        "from sklearn.model_selection import KFold\r\n",
        "kfold = KFold(n_splits=3)"
      ],
      "execution_count": null,
      "outputs": []
    },
    {
      "cell_type": "code",
      "metadata": {
        "id": "RKkRo34wWuXt",
        "colab": {
          "base_uri": "https://localhost:8080/"
        },
        "outputId": "d6241ac9-4c91-40c7-81a2-5b6960e92a1c"
      },
      "source": [
        "print(\"Cross-validation scores:\\n{}\".format(\r\n",
        "      cross_val_score(model, X_train, y_train, cv=kfold)))"
      ],
      "execution_count": null,
      "outputs": [
        {
          "output_type": "stream",
          "text": [
            "Cross-validation scores:\n",
            "[0.50936696 0.27489509 0.41966097]\n"
          ],
          "name": "stdout"
        }
      ]
    },
    {
      "cell_type": "code",
      "metadata": {
        "id": "3C8WssM7XZq7",
        "colab": {
          "base_uri": "https://localhost:8080/"
        },
        "outputId": "812bbd8f-2ba9-4817-8ad5-3c49ab50fdda"
      },
      "source": [
        "kfold = KFold(n_splits=3, shuffle=True, random_state=42)\r\n",
        "print(\"Cross-validation scores:\\n{}\".format(\r\n",
        "    cross_val_score(model, X_train, y_train, cv=kfold)))"
      ],
      "execution_count": null,
      "outputs": [
        {
          "output_type": "stream",
          "text": [
            "Cross-validation scores:\n",
            "[0.50001589 0.63632115 0.52135481]\n"
          ],
          "name": "stdout"
        }
      ]
    },
    {
      "cell_type": "markdown",
      "metadata": {
        "id": "3mXS2CH3ah8C"
      },
      "source": [
        "# **GradientBoostingRegressor**"
      ]
    },
    {
      "cell_type": "code",
      "metadata": {
        "id": "3Mf3pm1DJOOL"
      },
      "source": [
        "from xgboost import XGBRegressor"
      ],
      "execution_count": null,
      "outputs": []
    },
    {
      "cell_type": "code",
      "metadata": {
        "id": "V3Aosx-LJOMA",
        "colab": {
          "base_uri": "https://localhost:8080/"
        },
        "outputId": "f2bbf583-a933-4b2a-98ce-94c43cb3234d"
      },
      "source": [
        "%%time\n",
        "xgb_model = XGBRegressor(n_estimators=1000, learning_rate=0.1)\n",
        "xgb_model.fit(X_train, y_train, early_stopping_rounds=5, \n",
        "             eval_set=[(X_train, y_train)], verbose=False)"
      ],
      "execution_count": null,
      "outputs": [
        {
          "output_type": "stream",
          "text": [
            "[03:27:22] WARNING: /workspace/src/objective/regression_obj.cu:152: reg:linear is now deprecated in favor of reg:squarederror.\n",
            "CPU times: user 830 ms, sys: 27 ms, total: 857 ms\n",
            "Wall time: 975 ms\n"
          ],
          "name": "stdout"
        }
      ]
    },
    {
      "cell_type": "code",
      "metadata": {
        "id": "GsCWShdMJ0A7"
      },
      "source": [
        "# make predictions\n",
        "xgb_forecast = xgb_model.predict(X_test)"
      ],
      "execution_count": null,
      "outputs": []
    },
    {
      "cell_type": "code",
      "metadata": {
        "id": "xC57SpPgM8_p",
        "colab": {
          "base_uri": "https://localhost:8080/"
        },
        "outputId": "502dccc5-d930-410d-a0b6-916d1f892afd"
      },
      "source": [
        "xgb_model.feature_importances_"
      ],
      "execution_count": null,
      "outputs": [
        {
          "output_type": "execute_result",
          "data": {
            "text/plain": [
              "array([0.31881148, 0.04166211, 0.19852424, 0.02328142, 0.03589753,\n",
              "       0.02537155, 0.02686704, 0.02650805, 0.07238238, 0.03375017,\n",
              "       0.06011055, 0.04735634, 0.05307289, 0.03640426], dtype=float32)"
            ]
          },
          "metadata": {
            "tags": []
          },
          "execution_count": 46
        }
      ]
    },
    {
      "cell_type": "code",
      "metadata": {
        "id": "CAvhGjg4NNCv",
        "colab": {
          "base_uri": "https://localhost:8080/",
          "height": 282
        },
        "outputId": "85a21d14-95f5-4587-ab85-a42195a27b07"
      },
      "source": [
        "plt.plot(y_test, label='true')\n",
        "plt.plot(xgb_forecast, label='forecast')\n",
        "plt.legend()"
      ],
      "execution_count": null,
      "outputs": [
        {
          "output_type": "execute_result",
          "data": {
            "text/plain": [
              "<matplotlib.legend.Legend at 0x7fa1fc7fb5f8>"
            ]
          },
          "metadata": {
            "tags": []
          },
          "execution_count": 47
        },
        {
          "output_type": "display_data",
          "data": {
            "image/png": "[encoded data removed]",
            "text/plain": [
              "<Figure size 432x288 with 1 Axes>"
            ]
          },
          "metadata": {
            "tags": [],
            "needs_background": "light"
          }
        }
      ]
    },
    {
      "cell_type": "code",
      "metadata": {
        "id": "s0423Grm5J-Z",
        "colab": {
          "base_uri": "https://localhost:8080/"
        },
        "outputId": "ffbde537-fab2-4ed2-8634-beb49bba9605"
      },
      "source": [
        "from sklearn.metrics import mean_squared_error\n",
        "print('rmse: {:.4f}'.format(mean_squared_error(y_test, xgb_forecast) ** 0.5))\n",
        "print('normed rmse: {:.4f}%'.format((mean_squared_error(y_test, xgb_forecast) ** 0.5) / np.mean(y_test) * 100))"
      ],
      "execution_count": null,
      "outputs": [
        {
          "output_type": "stream",
          "text": [
            "rmse: 0.3146\n",
            "normed rmse: 0.3138%\n"
          ],
          "name": "stdout"
        }
      ]
    }
  ]
}