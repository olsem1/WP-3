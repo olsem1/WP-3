{
  "nbformat": 4,
  "nbformat_minor": 0,
  "metadata": {
    "colab": {
      "name": "\"fit_ensemble\"",
      "provenance": [],
      "collapsed_sections": [],
      "toc_visible": true,
      "authorship_tag": "ABX9TyMs7BAhVfMkmSIQWKCup/KT",
      "include_colab_link": true
    },
    "kernelspec": {
      "display_name": "Python 3",
      "name": "python3"
    }
  },
  "cells": [
    {
      "cell_type": "markdown",
      "metadata": {
        "id": "view-in-github",
        "colab_type": "text"
      },
      "source": [
        "<a href=\"https://colab.research.google.com/github/olsem1/WP-3/blob/master/%22fit_ensemble%22.ipynb\" target=\"_parent\"><img src=\"https://colab.research.google.com/assets/colab-badge.svg\" alt=\"Open In Colab\"/></a>"
      ]
    },
    {
      "cell_type": "code",
      "metadata": {
        "id": "stObcNR0Ei_U"
      },
      "source": [
        "import numpy as np\n",
        "import pandas as pd\n",
        "\n",
        "import matplotlib as mpl\n",
        "import matplotlib.pyplot as plt\n",
        "\n",
        "from sklearn.model_selection import KFold\n",
        "from sklearn.metrics import mean_squared_error\n",
        "from sklearn.model_selection import GridSearchCV\n",
        "from sklearn.linear_model import Lasso\n",
        "from sklearn.linear_model import Ridge\n",
        "from sklearn.tree import DecisionTreeRegressor\n",
        "from sklearn.ensemble import RandomForestRegressor\n",
        "from xgboost import XGBRegressor\n",
        "from sklearn.pipeline import make_pipeline\n",
        "from sklearn.preprocessing import MinMaxScaler\n",
        "\n",
        "!pip install pmdarima -q\n",
        "#from pmdarima.arima import ADFTest\n",
        "from pmdarima.arima import auto_arima\n"
      ],
      "execution_count": 47,
      "outputs": []
    },
    {
      "cell_type": "markdown",
      "metadata": {
        "id": "y0elr5HmiI5a"
      },
      "source": [
        "# **Переменные**"
      ]
    },
    {
      "cell_type": "code",
      "metadata": {
        "id": "atQOrSCziHzA"
      },
      "source": [
        "cpi = \"month\"\n",
        "reg_names = ['SFO']\n",
        "data_do = \"2020-12-01\"\n",
        "train_do = \"2019-01-01\"\n",
        "\n",
        "mes = (pd.to_datetime(data_do).to_period('M') - pd.to_datetime(train_do).to_period('M')).n+1\n",
        "result_rmse = pd.DataFrame(columns=['month/year', 'reg_names', 'data_do', 'train_do', 'mes', 'method', 'rmse'])"
      ],
      "execution_count": 48,
      "outputs": []
    },
    {
      "cell_type": "code",
      "metadata": {
        "id": "6BPbGQe9FZ8M"
      },
      "source": [
        "course = pd.read_excel('RC_2002-2020.xlsx')\n",
        "course = course.rename(columns={\"data\": \"date\"})\n",
        "course = course.set_index('date')\n",
        "course_m = course.resample('MS').mean()\n",
        "\n",
        "data = pd.read_excel('cpi_reg.xls', sheet_name = cpi)\n",
        "data = data.set_index('date')\n",
        "data = data.interpolate(method='polynomial', order=2, axis=0)"
      ],
      "execution_count": 49,
      "outputs": []
    },
    {
      "cell_type": "code",
      "metadata": {
        "id": "YwOYGv3_UiXk"
      },
      "source": [
        "# for ML\n",
        "data = data[reg_names]\n",
        "data = data[:data_do]\n",
        "data = data.merge(course_m, left_on='date', right_on='date')\n",
        "data['month'] = pd.DatetimeIndex(data.index).month\n",
        "\n",
        "train = data[data.index < train_do]\n",
        "test = data[data.index >= train_do]"
      ],
      "execution_count": 50,
      "outputs": []
    },
    {
      "cell_type": "markdown",
      "metadata": {
        "id": "8Mmg2xE8jhm5"
      },
      "source": [
        "# **ARIMA**"
      ]
    },
    {
      "cell_type": "code",
      "metadata": {
        "id": "rV3tzZWSoa9n",
        "colab": {
          "base_uri": "https://localhost:8080/",
          "height": 741
        },
        "outputId": "b08f4d75-a5f4-4320-9b38-abb3cd535b28"
      },
      "source": [
        "# find best params for ARIMA\n",
        "stepwise_model = auto_arima(train[reg_names], test='adf', start_p=1, start_q=1, max_p=3, max_q=3, m=12, start_P=0, seasonal=True, \n",
        "                                D=1, d=1, max_d=4, trace=True, error_action='ignore', suppress_warnings=True, stepwise=True, information_criterion = 'aic')\n",
        "#                               out_of_sample_size = test.shape[0], scoring = 'mse', information_criterion = 'aicc')\n",
        "\n",
        "stepwise_model.fit(train[reg_names])\n",
        "future_forecast = stepwise_model.predict(n_periods=test.shape[0])\n",
        "future_forecast = pd.DataFrame(future_forecast, index = test.index, columns=[reg_names])\n",
        "\n",
        "plt.plot(test[reg_names], label=\"test\")\n",
        "plt.plot(future_forecast[reg_names], label=\"forecast\")\n",
        "plt.legend()\n",
        "\n",
        "print('rmse: {:.4f}'.format(mean_squared_error(test[reg_names].values, future_forecast[reg_names].values) ** 0.5))\n",
        "print('normed rmse: {:.4f}%'.format(mean_squared_error(test[reg_names].values, future_forecast[reg_names].values) ** 0.5 / \n",
        "                                    np.mean(test[reg_names].values) * 100))\n"
      ],
      "execution_count": 51,
      "outputs": [
        {
          "output_type": "stream",
          "text": [
            "Performing stepwise search to minimize aic\n",
            " ARIMA(1,1,1)(0,1,1)[12]             : AIC=inf, Time=1.39 sec\n",
            " ARIMA(0,1,0)(0,1,0)[12]             : AIC=261.834, Time=0.06 sec\n",
            " ARIMA(1,1,0)(1,1,0)[12]             : AIC=218.492, Time=0.36 sec\n",
            " ARIMA(0,1,1)(0,1,1)[12]             : AIC=173.737, Time=0.61 sec\n",
            " ARIMA(0,1,1)(0,1,0)[12]             : AIC=263.359, Time=0.05 sec\n",
            " ARIMA(0,1,1)(1,1,1)[12]             : AIC=173.884, Time=0.62 sec\n",
            " ARIMA(0,1,1)(0,1,2)[12]             : AIC=172.460, Time=1.19 sec\n",
            " ARIMA(0,1,1)(1,1,2)[12]             : AIC=168.217, Time=2.96 sec\n",
            " ARIMA(0,1,1)(2,1,2)[12]             : AIC=167.371, Time=2.23 sec\n",
            " ARIMA(0,1,1)(2,1,1)[12]             : AIC=170.770, Time=1.52 sec\n",
            " ARIMA(0,1,0)(2,1,2)[12]             : AIC=172.216, Time=1.60 sec\n",
            " ARIMA(1,1,1)(2,1,2)[12]             : AIC=148.308, Time=6.14 sec\n",
            " ARIMA(1,1,1)(1,1,2)[12]             : AIC=inf, Time=4.88 sec\n",
            " ARIMA(1,1,1)(2,1,1)[12]             : AIC=inf, Time=4.13 sec\n",
            " ARIMA(1,1,1)(1,1,1)[12]             : AIC=inf, Time=2.25 sec\n",
            " ARIMA(1,1,0)(2,1,2)[12]             : AIC=169.135, Time=2.08 sec\n",
            " ARIMA(2,1,1)(2,1,2)[12]             : AIC=inf, Time=5.83 sec\n",
            " ARIMA(1,1,2)(2,1,2)[12]             : AIC=inf, Time=5.48 sec\n",
            " ARIMA(0,1,2)(2,1,2)[12]             : AIC=161.183, Time=4.16 sec\n",
            " ARIMA(2,1,0)(2,1,2)[12]             : AIC=170.110, Time=2.81 sec\n",
            " ARIMA(2,1,2)(2,1,2)[12]             : AIC=inf, Time=5.84 sec\n",
            " ARIMA(1,1,1)(2,1,2)[12] intercept   : AIC=inf, Time=8.55 sec\n",
            "\n",
            "Best model:  ARIMA(1,1,1)(2,1,2)[12]          \n",
            "Total fit time: 64.793 seconds\n",
            "rmse: 0.2612\n",
            "normed rmse: 0.2603%\n"
          ],
          "name": "stdout"
        },
        {
          "output_type": "display_data",
          "data": {
            "image/png": "[encoded data removed]",
            "text/plain": [
              "<Figure size 432x288 with 1 Axes>"
            ]
          },
          "metadata": {
            "tags": [],
            "needs_background": "light"
          }
        }
      ]
    },
    {
      "cell_type": "code",
      "metadata": {
        "id": "QTMEtDmJUDZx",
        "colab": {
          "base_uri": "https://localhost:8080/",
          "height": 80
        },
        "outputId": "efd46d74-6792-4bd4-851f-da8f3bc7ec91"
      },
      "source": [
        "result = pd.DataFrame(np.array(future_forecast), index = test.index, columns=['ARIMA'])\n",
        "result_arima = {'month/year': cpi, 'reg_names': reg_names, 'data_do': data_do, 'train_do': train_do, 'mes': mes, 'method': 'ARIMA', 'rmse': mean_squared_error(test[reg_names].values, future_forecast[reg_names].values) ** 0.5} \n",
        "result_rmse = result_rmse.append(result_arima, ignore_index = True) \n",
        "result_rmse"
      ],
      "execution_count": 52,
      "outputs": [
        {
          "output_type": "execute_result",
          "data": {
            "text/html": [
              "<div>\n",
              "<style scoped>\n",
              "    .dataframe tbody tr th:only-of-type {\n",
              "        vertical-align: middle;\n",
              "    }\n",
              "\n",
              "    .dataframe tbody tr th {\n",
              "        vertical-align: top;\n",
              "    }\n",
              "\n",
              "    .dataframe thead th {\n",
              "        text-align: right;\n",
              "    }\n",
              "</style>\n",
              "<table border=\"1\" class=\"dataframe\">\n",
              "  <thead>\n",
              "    <tr style=\"text-align: right;\">\n",
              "      <th></th>\n",
              "      <th>month/year</th>\n",
              "      <th>reg_names</th>\n",
              "      <th>data_do</th>\n",
              "      <th>train_do</th>\n",
              "      <th>mes</th>\n",
              "      <th>method</th>\n",
              "      <th>rmse</th>\n",
              "    </tr>\n",
              "  </thead>\n",
              "  <tbody>\n",
              "    <tr>\n",
              "      <th>0</th>\n",
              "      <td>month</td>\n",
              "      <td>[SFO]</td>\n",
              "      <td>2020-12-01</td>\n",
              "      <td>2019-01-01</td>\n",
              "      <td>24</td>\n",
              "      <td>ARIMA</td>\n",
              "      <td>0.261217</td>\n",
              "    </tr>\n",
              "  </tbody>\n",
              "</table>\n",
              "</div>"
            ],
            "text/plain": [
              "  month/year reg_names     data_do    train_do mes method      rmse\n",
              "0      month     [SFO]  2020-12-01  2019-01-01  24  ARIMA  0.261217"
            ]
          },
          "metadata": {
            "tags": []
          },
          "execution_count": 52
        }
      ]
    },
    {
      "cell_type": "markdown",
      "metadata": {
        "id": "FCbKOnHN-NbY"
      },
      "source": [
        "# **ARIMAX**"
      ]
    },
    {
      "cell_type": "code",
      "metadata": {
        "id": "gsBZpxzAbYK-"
      },
      "source": [
        "exogenous_features = ['month', 'curs']"
      ],
      "execution_count": 53,
      "outputs": []
    },
    {
      "cell_type": "code",
      "metadata": {
        "id": "2UvwqI5NNCgJ",
        "colab": {
          "base_uri": "https://localhost:8080/",
          "height": 707
        },
        "outputId": "048466a2-5ddd-48cc-fd5e-6b5a5864b0e2"
      },
      "source": [
        "# find best params for ARIMAX\n",
        "stepwise_model = auto_arima(train[reg_names], exogenous = train[exogenous_features], test='adf', start_p=1, start_q=1, max_p=3, max_q=3, m=12, start_P=0, seasonal=True,\n",
        "                            d=1, D=1, trace=True, error_action='ignore', suppress_warnings=True, stepwise=True, information_criterion = 'aic')\n",
        "#                            out_of_sample_size = test.shape[0], scoring = 'mse', information_criterion = 'aicc')\n",
        "  \n",
        "stepwise_model.fit(train[reg_names], exogenous = train[exogenous_features])\n",
        "future_forecast = stepwise_model.predict(n_periods=test.shape[0], exogenous = test[exogenous_features])\n",
        "future_forecast = pd.DataFrame(future_forecast, index = test.index, columns=[reg_names])\n",
        "\n",
        "plt.plot(test[reg_names], label=\"test\")\n",
        "plt.plot(future_forecast[reg_names], label=\"forecast\")\n",
        "plt.legend()\n",
        "\n",
        "print('rmse: {:.4f}'.format(mean_squared_error(test[reg_names].values, future_forecast[reg_names].values) ** 0.5))\n",
        "print('normed rmse: {:.4f}%'.format(mean_squared_error(test[reg_names].values, future_forecast[reg_names].values) ** 0.5 / \n",
        "                                    np.mean(test[reg_names].values) * 100))"
      ],
      "execution_count": 54,
      "outputs": [
        {
          "output_type": "stream",
          "text": [
            "Performing stepwise search to minimize aic\n",
            " ARIMA(1,1,1)(0,1,1)[12]             : AIC=146.650, Time=2.05 sec\n",
            " ARIMA(0,1,0)(0,1,0)[12]             : AIC=247.238, Time=0.16 sec\n",
            " ARIMA(1,1,0)(1,1,0)[12]             : AIC=190.983, Time=0.59 sec\n",
            " ARIMA(0,1,1)(0,1,1)[12]             : AIC=151.819, Time=1.18 sec\n",
            " ARIMA(1,1,1)(0,1,0)[12]             : AIC=inf, Time=0.74 sec\n",
            " ARIMA(1,1,1)(1,1,1)[12]             : AIC=145.888, Time=2.02 sec\n",
            " ARIMA(1,1,1)(1,1,0)[12]             : AIC=184.483, Time=1.23 sec\n",
            " ARIMA(1,1,1)(2,1,1)[12]             : AIC=143.251, Time=3.17 sec\n",
            " ARIMA(1,1,1)(2,1,0)[12]             : AIC=159.900, Time=2.45 sec\n",
            " ARIMA(1,1,1)(2,1,2)[12]             : AIC=140.052, Time=6.07 sec\n",
            " ARIMA(1,1,1)(1,1,2)[12]             : AIC=140.953, Time=5.52 sec\n",
            " ARIMA(0,1,1)(2,1,2)[12]             : AIC=142.940, Time=3.67 sec\n",
            " ARIMA(1,1,0)(2,1,2)[12]             : AIC=147.883, Time=3.84 sec\n",
            " ARIMA(2,1,1)(2,1,2)[12]             : AIC=141.940, Time=6.65 sec\n",
            " ARIMA(1,1,2)(2,1,2)[12]             : AIC=141.991, Time=6.20 sec\n",
            " ARIMA(0,1,0)(2,1,2)[12]             : AIC=159.053, Time=2.82 sec\n",
            " ARIMA(0,1,2)(2,1,2)[12]             : AIC=141.892, Time=5.57 sec\n",
            " ARIMA(2,1,0)(2,1,2)[12]             : AIC=147.998, Time=4.96 sec\n",
            " ARIMA(2,1,2)(2,1,2)[12]             : AIC=143.972, Time=6.75 sec\n",
            " ARIMA(1,1,1)(2,1,2)[12] intercept   : AIC=143.204, Time=7.12 sec\n",
            "\n",
            "Best model:  ARIMA(1,1,1)(2,1,2)[12]          \n",
            "Total fit time: 72.814 seconds\n",
            "rmse: 0.4298\n",
            "normed rmse: 0.4283%\n"
          ],
          "name": "stdout"
        },
        {
          "output_type": "display_data",
          "data": {
            "image/png": "[encoded data removed]",
            "text/plain": [
              "<Figure size 432x288 with 1 Axes>"
            ]
          },
          "metadata": {
            "tags": [],
            "needs_background": "light"
          }
        }
      ]
    },
    {
      "cell_type": "code",
      "metadata": {
        "id": "vjJsz11TUXbp"
      },
      "source": [
        "result['ARIMAX']=pd.DataFrame(np.array(future_forecast), index = test.index, columns=['ARIMAX'])"
      ],
      "execution_count": 55,
      "outputs": []
    },
    {
      "cell_type": "code",
      "metadata": {
        "id": "XTf0g78KoAMW",
        "colab": {
          "base_uri": "https://localhost:8080/",
          "height": 111
        },
        "outputId": "b12cfed4-8312-4337-d286-0a6fa5e25be7"
      },
      "source": [
        "result_arimax = {'month/year': cpi, 'reg_names': reg_names, 'data_do': data_do, 'train_do': train_do, 'mes': mes, 'method': 'ARIMAX', \n",
        "                'rmse': mean_squared_error(test[reg_names].values, future_forecast[reg_names].values) ** 0.5} \n",
        "result_rmse = result_rmse.append(result_arimax, ignore_index = True) \n",
        "result_rmse"
      ],
      "execution_count": 56,
      "outputs": [
        {
          "output_type": "execute_result",
          "data": {
            "text/html": [
              "<div>\n",
              "<style scoped>\n",
              "    .dataframe tbody tr th:only-of-type {\n",
              "        vertical-align: middle;\n",
              "    }\n",
              "\n",
              "    .dataframe tbody tr th {\n",
              "        vertical-align: top;\n",
              "    }\n",
              "\n",
              "    .dataframe thead th {\n",
              "        text-align: right;\n",
              "    }\n",
              "</style>\n",
              "<table border=\"1\" class=\"dataframe\">\n",
              "  <thead>\n",
              "    <tr style=\"text-align: right;\">\n",
              "      <th></th>\n",
              "      <th>month/year</th>\n",
              "      <th>reg_names</th>\n",
              "      <th>data_do</th>\n",
              "      <th>train_do</th>\n",
              "      <th>mes</th>\n",
              "      <th>method</th>\n",
              "      <th>rmse</th>\n",
              "    </tr>\n",
              "  </thead>\n",
              "  <tbody>\n",
              "    <tr>\n",
              "      <th>0</th>\n",
              "      <td>month</td>\n",
              "      <td>[SFO]</td>\n",
              "      <td>2020-12-01</td>\n",
              "      <td>2019-01-01</td>\n",
              "      <td>24</td>\n",
              "      <td>ARIMA</td>\n",
              "      <td>0.261217</td>\n",
              "    </tr>\n",
              "    <tr>\n",
              "      <th>1</th>\n",
              "      <td>month</td>\n",
              "      <td>[SFO]</td>\n",
              "      <td>2020-12-01</td>\n",
              "      <td>2019-01-01</td>\n",
              "      <td>24</td>\n",
              "      <td>ARIMAX</td>\n",
              "      <td>0.429832</td>\n",
              "    </tr>\n",
              "  </tbody>\n",
              "</table>\n",
              "</div>"
            ],
            "text/plain": [
              "  month/year reg_names     data_do    train_do mes  method      rmse\n",
              "0      month     [SFO]  2020-12-01  2019-01-01  24   ARIMA  0.261217\n",
              "1      month     [SFO]  2020-12-01  2019-01-01  24  ARIMAX  0.429832"
            ]
          },
          "metadata": {
            "tags": []
          },
          "execution_count": 56
        }
      ]
    },
    {
      "cell_type": "markdown",
      "metadata": {
        "id": "5V9ronJuUjly"
      },
      "source": [
        "# **Feature Engineering**"
      ]
    },
    {
      "cell_type": "code",
      "metadata": {
        "id": "Bn2o2WJxoC9V",
        "colab": {
          "base_uri": "https://localhost:8080/",
          "height": 450
        },
        "outputId": "4c787056-04c6-4a67-ec0a-51a46d92edca"
      },
      "source": [
        "data_lags = pd.DataFrame()\n",
        "\n",
        "data_lags['curs'] = data['curs'].values\n",
        "data_lags['t'] = data[reg_names].values\n",
        "for i in {1, 6, 12}:\n",
        "    data_lags['t-'+str(i)] = data[reg_names].shift(i).values\n",
        "data_lags.index = data.index\n",
        "data_lags = data_lags[12:]\n",
        "data_lags['month'] = pd.DatetimeIndex(data_lags.index).month\n",
        "data_lags"
      ],
      "execution_count": 57,
      "outputs": [
        {
          "output_type": "execute_result",
          "data": {
            "text/html": [
              "<div>\n",
              "<style scoped>\n",
              "    .dataframe tbody tr th:only-of-type {\n",
              "        vertical-align: middle;\n",
              "    }\n",
              "\n",
              "    .dataframe tbody tr th {\n",
              "        vertical-align: top;\n",
              "    }\n",
              "\n",
              "    .dataframe thead th {\n",
              "        text-align: right;\n",
              "    }\n",
              "</style>\n",
              "<table border=\"1\" class=\"dataframe\">\n",
              "  <thead>\n",
              "    <tr style=\"text-align: right;\">\n",
              "      <th></th>\n",
              "      <th>curs</th>\n",
              "      <th>t</th>\n",
              "      <th>t-1</th>\n",
              "      <th>t-12</th>\n",
              "      <th>t-6</th>\n",
              "      <th>month</th>\n",
              "    </tr>\n",
              "    <tr>\n",
              "      <th>date</th>\n",
              "      <th></th>\n",
              "      <th></th>\n",
              "      <th></th>\n",
              "      <th></th>\n",
              "      <th></th>\n",
              "      <th></th>\n",
              "    </tr>\n",
              "  </thead>\n",
              "  <tbody>\n",
              "    <tr>\n",
              "      <th>2003-01-01</th>\n",
              "      <td>31.816165</td>\n",
              "      <td>102.50</td>\n",
              "      <td>101.30</td>\n",
              "      <td>102.70</td>\n",
              "      <td>101.10</td>\n",
              "      <td>1</td>\n",
              "    </tr>\n",
              "    <tr>\n",
              "      <th>2003-02-01</th>\n",
              "      <td>31.698979</td>\n",
              "      <td>101.93</td>\n",
              "      <td>102.50</td>\n",
              "      <td>101.10</td>\n",
              "      <td>100.10</td>\n",
              "      <td>2</td>\n",
              "    </tr>\n",
              "    <tr>\n",
              "      <th>2003-03-01</th>\n",
              "      <td>31.453290</td>\n",
              "      <td>101.19</td>\n",
              "      <td>101.93</td>\n",
              "      <td>101.10</td>\n",
              "      <td>100.80</td>\n",
              "      <td>3</td>\n",
              "    </tr>\n",
              "    <tr>\n",
              "      <th>2003-04-01</th>\n",
              "      <td>31.211786</td>\n",
              "      <td>101.07</td>\n",
              "      <td>101.19</td>\n",
              "      <td>101.00</td>\n",
              "      <td>101.30</td>\n",
              "      <td>4</td>\n",
              "    </tr>\n",
              "    <tr>\n",
              "      <th>2003-05-01</th>\n",
              "      <td>30.907055</td>\n",
              "      <td>100.62</td>\n",
              "      <td>101.07</td>\n",
              "      <td>101.30</td>\n",
              "      <td>101.30</td>\n",
              "      <td>5</td>\n",
              "    </tr>\n",
              "    <tr>\n",
              "      <th>...</th>\n",
              "      <td>...</td>\n",
              "      <td>...</td>\n",
              "      <td>...</td>\n",
              "      <td>...</td>\n",
              "      <td>...</td>\n",
              "      <td>...</td>\n",
              "    </tr>\n",
              "    <tr>\n",
              "      <th>2020-08-01</th>\n",
              "      <td>73.798110</td>\n",
              "      <td>100.06</td>\n",
              "      <td>100.26</td>\n",
              "      <td>99.84</td>\n",
              "      <td>100.50</td>\n",
              "      <td>8</td>\n",
              "    </tr>\n",
              "    <tr>\n",
              "      <th>2020-09-01</th>\n",
              "      <td>75.727986</td>\n",
              "      <td>99.98</td>\n",
              "      <td>100.06</td>\n",
              "      <td>99.81</td>\n",
              "      <td>100.48</td>\n",
              "      <td>9</td>\n",
              "    </tr>\n",
              "    <tr>\n",
              "      <th>2020-10-01</th>\n",
              "      <td>77.663548</td>\n",
              "      <td>100.45</td>\n",
              "      <td>99.98</td>\n",
              "      <td>100.27</td>\n",
              "      <td>100.81</td>\n",
              "      <td>10</td>\n",
              "    </tr>\n",
              "    <tr>\n",
              "      <th>2020-11-01</th>\n",
              "      <td>76.839468</td>\n",
              "      <td>100.85</td>\n",
              "      <td>100.45</td>\n",
              "      <td>100.24</td>\n",
              "      <td>100.32</td>\n",
              "      <td>11</td>\n",
              "    </tr>\n",
              "    <tr>\n",
              "      <th>2020-12-01</th>\n",
              "      <td>74.216704</td>\n",
              "      <td>100.62</td>\n",
              "      <td>100.85</td>\n",
              "      <td>100.37</td>\n",
              "      <td>100.13</td>\n",
              "      <td>12</td>\n",
              "    </tr>\n",
              "  </tbody>\n",
              "</table>\n",
              "<p>216 rows × 6 columns</p>\n",
              "</div>"
            ],
            "text/plain": [
              "                 curs       t     t-1    t-12     t-6  month\n",
              "date                                                        \n",
              "2003-01-01  31.816165  102.50  101.30  102.70  101.10      1\n",
              "2003-02-01  31.698979  101.93  102.50  101.10  100.10      2\n",
              "2003-03-01  31.453290  101.19  101.93  101.10  100.80      3\n",
              "2003-04-01  31.211786  101.07  101.19  101.00  101.30      4\n",
              "2003-05-01  30.907055  100.62  101.07  101.30  101.30      5\n",
              "...               ...     ...     ...     ...     ...    ...\n",
              "2020-08-01  73.798110  100.06  100.26   99.84  100.50      8\n",
              "2020-09-01  75.727986   99.98  100.06   99.81  100.48      9\n",
              "2020-10-01  77.663548  100.45   99.98  100.27  100.81     10\n",
              "2020-11-01  76.839468  100.85  100.45  100.24  100.32     11\n",
              "2020-12-01  74.216704  100.62  100.85  100.37  100.13     12\n",
              "\n",
              "[216 rows x 6 columns]"
            ]
          },
          "metadata": {
            "tags": []
          },
          "execution_count": 57
        }
      ]
    },
    {
      "cell_type": "code",
      "metadata": {
        "id": "RLQP6-DzVw_1",
        "colab": {
          "base_uri": "https://localhost:8080/"
        },
        "outputId": "81306771-e5d6-43b4-a144-a2e73d1959a0"
      },
      "source": [
        "df=data_lags\n",
        "df.reset_index(drop=False, inplace=True)\n",
        "lag_features = [\"t\", \"curs\"]\n",
        "window1 = 3\n",
        "window2 = 6\n",
        "window3 = 12\n",
        "\n",
        "df_rolled_3m = df[lag_features].rolling(window=window1, min_periods=0)\n",
        "df_rolled_6m = df[lag_features].rolling(window=window2, min_periods=0)\n",
        "df_rolled_12m = df[lag_features].rolling(window=window3, min_periods=0)\n",
        "\n",
        "df_mean_3m = df_rolled_3m.mean().shift(1).reset_index().astype(np.float32)\n",
        "df_mean_6m = df_rolled_6m.mean().shift(1).reset_index().astype(np.float32)\n",
        "df_mean_12m = df_rolled_12m.mean().shift(1).reset_index().astype(np.float32)\n",
        "\n",
        "df_std_3m = df_rolled_3m.std().shift(1).reset_index().astype(np.float32)\n",
        "df_std_6m = df_rolled_6m.std().shift(1).reset_index().astype(np.float32)\n",
        "df_std_12m = df_rolled_12m.std().shift(1).reset_index().astype(np.float32)\n",
        "\n",
        "for feature in lag_features:\n",
        "    df[f\"{feature}_mean_lag{window1}\"] = df_mean_3m[feature]\n",
        "    df[f\"{feature}_mean_lag{window2}\"] = df_mean_6m[feature]\n",
        "    df[f\"{feature}_mean_lag{window3}\"] = df_mean_12m[feature]\n",
        "    \n",
        "    df[f\"{feature}_std_lag{window1}\"] = df_std_3m[feature]\n",
        "    df[f\"{feature}_std_lag{window2}\"] = df_std_6m[feature]\n",
        "    df[f\"{feature}_std_lag{window3}\"] = df_std_12m[feature]\n",
        "\n",
        "df.fillna(df.mean(), inplace=True)\n",
        "\n",
        "df.set_index(\"date\", drop=True, inplace=True)\n"
      ],
      "execution_count": 58,
      "outputs": [
        {
          "output_type": "stream",
          "text": [
            "/usr/local/lib/python3.7/dist-packages/ipykernel_launcher.py:29: FutureWarning: DataFrame.mean and DataFrame.median with numeric_only=None will include datetime64 and datetime64tz columns in a future version.\n"
          ],
          "name": "stderr"
        }
      ]
    },
    {
      "cell_type": "code",
      "metadata": {
        "id": "1uEM65WhngmI"
      },
      "source": [
        "data = df\n",
        "data_not = data.drop('t', axis=1)\n",
        "train = data[data.index < train_do]\n",
        "test = data[data.index >= train_do]\n",
        "\n",
        "X_train = train.drop(['t'], axis=1).values\n",
        "y_train = train[['t']].values.ravel()\n",
        "X_test = test.drop(['t'], axis=1).values\n",
        "y_test = test[['t']].values.ravel()\n",
        "\n",
        "X = data.drop(['t'], axis=1).values\n",
        "y = data[['t']].values.ravel()"
      ],
      "execution_count": 59,
      "outputs": []
    },
    {
      "cell_type": "markdown",
      "metadata": {
        "id": "rqYEluZXTg6G"
      },
      "source": [
        "# **SCALER**"
      ]
    },
    {
      "cell_type": "code",
      "metadata": {
        "id": "oZ0ciSWIkq8M"
      },
      "source": [
        "# scale the data using MinMaxScaler\n",
        "scaler = MinMaxScaler()\n",
        "scaler.fit(X_train)\n",
        "X_train_m = scaler.transform(X_train)\n",
        "X_test_m = scaler.transform(X_test)"
      ],
      "execution_count": 60,
      "outputs": []
    },
    {
      "cell_type": "code",
      "metadata": {
        "id": "73b5vMEVOGVd",
        "colab": {
          "base_uri": "https://localhost:8080/",
          "height": 824
        },
        "outputId": "eccea684-89a4-45e9-9611-848065694403"
      },
      "source": [
        "result['y_test']=pd.DataFrame(np.array(y_test), index = test.index, columns=['y_test'])\n",
        "result"
      ],
      "execution_count": 61,
      "outputs": [
        {
          "output_type": "execute_result",
          "data": {
            "text/html": [
              "<div>\n",
              "<style scoped>\n",
              "    .dataframe tbody tr th:only-of-type {\n",
              "        vertical-align: middle;\n",
              "    }\n",
              "\n",
              "    .dataframe tbody tr th {\n",
              "        vertical-align: top;\n",
              "    }\n",
              "\n",
              "    .dataframe thead th {\n",
              "        text-align: right;\n",
              "    }\n",
              "</style>\n",
              "<table border=\"1\" class=\"dataframe\">\n",
              "  <thead>\n",
              "    <tr style=\"text-align: right;\">\n",
              "      <th></th>\n",
              "      <th>ARIMA</th>\n",
              "      <th>ARIMAX</th>\n",
              "      <th>y_test</th>\n",
              "    </tr>\n",
              "    <tr>\n",
              "      <th>date</th>\n",
              "      <th></th>\n",
              "      <th></th>\n",
              "      <th></th>\n",
              "    </tr>\n",
              "  </thead>\n",
              "  <tbody>\n",
              "    <tr>\n",
              "      <th>2019-01-01</th>\n",
              "      <td>100.814498</td>\n",
              "      <td>100.530307</td>\n",
              "      <td>101.00</td>\n",
              "    </tr>\n",
              "    <tr>\n",
              "      <th>2019-02-01</th>\n",
              "      <td>100.688363</td>\n",
              "      <td>100.334597</td>\n",
              "      <td>100.71</td>\n",
              "    </tr>\n",
              "    <tr>\n",
              "      <th>2019-03-01</th>\n",
              "      <td>100.436199</td>\n",
              "      <td>100.083243</td>\n",
              "      <td>100.38</td>\n",
              "    </tr>\n",
              "    <tr>\n",
              "      <th>2019-04-01</th>\n",
              "      <td>100.189324</td>\n",
              "      <td>99.922662</td>\n",
              "      <td>100.18</td>\n",
              "    </tr>\n",
              "    <tr>\n",
              "      <th>2019-05-01</th>\n",
              "      <td>100.188216</td>\n",
              "      <td>99.946103</td>\n",
              "      <td>100.37</td>\n",
              "    </tr>\n",
              "    <tr>\n",
              "      <th>2019-06-01</th>\n",
              "      <td>100.106512</td>\n",
              "      <td>99.822328</td>\n",
              "      <td>100.07</td>\n",
              "    </tr>\n",
              "    <tr>\n",
              "      <th>2019-07-01</th>\n",
              "      <td>100.422987</td>\n",
              "      <td>99.956812</td>\n",
              "      <td>100.32</td>\n",
              "    </tr>\n",
              "    <tr>\n",
              "      <th>2019-08-01</th>\n",
              "      <td>100.068666</td>\n",
              "      <td>99.647644</td>\n",
              "      <td>99.84</td>\n",
              "    </tr>\n",
              "    <tr>\n",
              "      <th>2019-09-01</th>\n",
              "      <td>100.255851</td>\n",
              "      <td>99.716079</td>\n",
              "      <td>99.81</td>\n",
              "    </tr>\n",
              "    <tr>\n",
              "      <th>2019-10-01</th>\n",
              "      <td>100.437203</td>\n",
              "      <td>99.975319</td>\n",
              "      <td>100.27</td>\n",
              "    </tr>\n",
              "    <tr>\n",
              "      <th>2019-11-01</th>\n",
              "      <td>100.447991</td>\n",
              "      <td>99.851278</td>\n",
              "      <td>100.24</td>\n",
              "    </tr>\n",
              "    <tr>\n",
              "      <th>2019-12-01</th>\n",
              "      <td>100.840478</td>\n",
              "      <td>100.031986</td>\n",
              "      <td>100.37</td>\n",
              "    </tr>\n",
              "    <tr>\n",
              "      <th>2020-01-01</th>\n",
              "      <td>100.767393</td>\n",
              "      <td>99.822021</td>\n",
              "      <td>100.32</td>\n",
              "    </tr>\n",
              "    <tr>\n",
              "      <th>2020-02-01</th>\n",
              "      <td>100.641238</td>\n",
              "      <td>99.785967</td>\n",
              "      <td>100.50</td>\n",
              "    </tr>\n",
              "    <tr>\n",
              "      <th>2020-03-01</th>\n",
              "      <td>100.356854</td>\n",
              "      <td>100.023983</td>\n",
              "      <td>100.48</td>\n",
              "    </tr>\n",
              "    <tr>\n",
              "      <th>2020-04-01</th>\n",
              "      <td>100.143869</td>\n",
              "      <td>100.023636</td>\n",
              "      <td>100.81</td>\n",
              "    </tr>\n",
              "    <tr>\n",
              "      <th>2020-05-01</th>\n",
              "      <td>100.128568</td>\n",
              "      <td>99.943337</td>\n",
              "      <td>100.32</td>\n",
              "    </tr>\n",
              "    <tr>\n",
              "      <th>2020-06-01</th>\n",
              "      <td>100.116451</td>\n",
              "      <td>99.851790</td>\n",
              "      <td>100.13</td>\n",
              "    </tr>\n",
              "    <tr>\n",
              "      <th>2020-07-01</th>\n",
              "      <td>100.329923</td>\n",
              "      <td>99.899586</td>\n",
              "      <td>100.26</td>\n",
              "    </tr>\n",
              "    <tr>\n",
              "      <th>2020-08-01</th>\n",
              "      <td>99.958552</td>\n",
              "      <td>99.562226</td>\n",
              "      <td>100.06</td>\n",
              "    </tr>\n",
              "    <tr>\n",
              "      <th>2020-09-01</th>\n",
              "      <td>100.136077</td>\n",
              "      <td>99.769849</td>\n",
              "      <td>99.98</td>\n",
              "    </tr>\n",
              "    <tr>\n",
              "      <th>2020-10-01</th>\n",
              "      <td>100.362928</td>\n",
              "      <td>100.187511</td>\n",
              "      <td>100.45</td>\n",
              "    </tr>\n",
              "    <tr>\n",
              "      <th>2020-11-01</th>\n",
              "      <td>100.360565</td>\n",
              "      <td>100.065982</td>\n",
              "      <td>100.85</td>\n",
              "    </tr>\n",
              "    <tr>\n",
              "      <th>2020-12-01</th>\n",
              "      <td>100.711539</td>\n",
              "      <td>100.131620</td>\n",
              "      <td>100.62</td>\n",
              "    </tr>\n",
              "  </tbody>\n",
              "</table>\n",
              "</div>"
            ],
            "text/plain": [
              "                 ARIMA      ARIMAX  y_test\n",
              "date                                      \n",
              "2019-01-01  100.814498  100.530307  101.00\n",
              "2019-02-01  100.688363  100.334597  100.71\n",
              "2019-03-01  100.436199  100.083243  100.38\n",
              "2019-04-01  100.189324   99.922662  100.18\n",
              "2019-05-01  100.188216   99.946103  100.37\n",
              "2019-06-01  100.106512   99.822328  100.07\n",
              "2019-07-01  100.422987   99.956812  100.32\n",
              "2019-08-01  100.068666   99.647644   99.84\n",
              "2019-09-01  100.255851   99.716079   99.81\n",
              "2019-10-01  100.437203   99.975319  100.27\n",
              "2019-11-01  100.447991   99.851278  100.24\n",
              "2019-12-01  100.840478  100.031986  100.37\n",
              "2020-01-01  100.767393   99.822021  100.32\n",
              "2020-02-01  100.641238   99.785967  100.50\n",
              "2020-03-01  100.356854  100.023983  100.48\n",
              "2020-04-01  100.143869  100.023636  100.81\n",
              "2020-05-01  100.128568   99.943337  100.32\n",
              "2020-06-01  100.116451   99.851790  100.13\n",
              "2020-07-01  100.329923   99.899586  100.26\n",
              "2020-08-01   99.958552   99.562226  100.06\n",
              "2020-09-01  100.136077   99.769849   99.98\n",
              "2020-10-01  100.362928  100.187511  100.45\n",
              "2020-11-01  100.360565  100.065982  100.85\n",
              "2020-12-01  100.711539  100.131620  100.62"
            ]
          },
          "metadata": {
            "tags": []
          },
          "execution_count": 61
        }
      ]
    },
    {
      "cell_type": "markdown",
      "metadata": {
        "id": "yYAfTf3Vp6On"
      },
      "source": [
        "# **Ridge (l2-regularisation)**"
      ]
    },
    {
      "cell_type": "code",
      "metadata": {
        "colab": {
          "base_uri": "https://localhost:8080/"
        },
        "id": "movS8JqQpr_g",
        "outputId": "26ca049a-9328-42d3-fcb2-5fdab156d7f9"
      },
      "source": [
        "param_grid = {'ridge__alpha': [0.001, 0.01, 0.1, 1, 10, 100]}\n",
        "pipe = make_pipeline(MinMaxScaler(), Ridge())\n",
        "GSRidge = GridSearchCV(pipe, param_grid, cv=5)\n",
        "GSRidge.fit(X_train, y_train)\n",
        "print(\"Training set score: {:.2f}\".format(GSRidge.score(X_train, y_train)))\n",
        "print(\"Test set score: {:.2f}\".format(GSRidge.score(X_test, y_test)))\n",
        "\n",
        "forecast = GSRidge.predict(X_test)\n",
        "print('rmse: {:.5f}'.format(mean_squared_error(y_test, forecast) ** 0.5))\n",
        "print('normed rmse: {:.2f}%'.format(mean_squared_error(y_test, forecast) ** 0.5 / np.mean(y_test) * 100))"
      ],
      "execution_count": 62,
      "outputs": [
        {
          "output_type": "stream",
          "text": [
            "Training set score: 0.39\n",
            "Test set score: 0.20\n",
            "rmse: 0.26355\n",
            "normed rmse: 0.26%\n"
          ],
          "name": "stdout"
        }
      ]
    },
    {
      "cell_type": "code",
      "metadata": {
        "id": "RQJcSD2SY4qv",
        "colab": {
          "base_uri": "https://localhost:8080/",
          "height": 142
        },
        "outputId": "5536d619-174e-4250-96cb-82a7926337ab"
      },
      "source": [
        "result['Ridge']=pd.DataFrame(np.array(forecast), index = test.index, columns=['Ridge'])\n",
        "result_Ridge = {'month/year': cpi, 'reg_names': reg_names, 'data_do': data_do, 'train_do': train_do, 'mes': mes, 'method': 'Ridge', \n",
        "                'rmse': mean_squared_error(y_test, forecast) ** 0.5} \n",
        "result_rmse = result_rmse.append(result_Ridge, ignore_index = True) \n",
        "result_rmse"
      ],
      "execution_count": 63,
      "outputs": [
        {
          "output_type": "execute_result",
          "data": {
            "text/html": [
              "<div>\n",
              "<style scoped>\n",
              "    .dataframe tbody tr th:only-of-type {\n",
              "        vertical-align: middle;\n",
              "    }\n",
              "\n",
              "    .dataframe tbody tr th {\n",
              "        vertical-align: top;\n",
              "    }\n",
              "\n",
              "    .dataframe thead th {\n",
              "        text-align: right;\n",
              "    }\n",
              "</style>\n",
              "<table border=\"1\" class=\"dataframe\">\n",
              "  <thead>\n",
              "    <tr style=\"text-align: right;\">\n",
              "      <th></th>\n",
              "      <th>month/year</th>\n",
              "      <th>reg_names</th>\n",
              "      <th>data_do</th>\n",
              "      <th>train_do</th>\n",
              "      <th>mes</th>\n",
              "      <th>method</th>\n",
              "      <th>rmse</th>\n",
              "    </tr>\n",
              "  </thead>\n",
              "  <tbody>\n",
              "    <tr>\n",
              "      <th>0</th>\n",
              "      <td>month</td>\n",
              "      <td>[SFO]</td>\n",
              "      <td>2020-12-01</td>\n",
              "      <td>2019-01-01</td>\n",
              "      <td>24</td>\n",
              "      <td>ARIMA</td>\n",
              "      <td>0.261217</td>\n",
              "    </tr>\n",
              "    <tr>\n",
              "      <th>1</th>\n",
              "      <td>month</td>\n",
              "      <td>[SFO]</td>\n",
              "      <td>2020-12-01</td>\n",
              "      <td>2019-01-01</td>\n",
              "      <td>24</td>\n",
              "      <td>ARIMAX</td>\n",
              "      <td>0.429832</td>\n",
              "    </tr>\n",
              "    <tr>\n",
              "      <th>2</th>\n",
              "      <td>month</td>\n",
              "      <td>[SFO]</td>\n",
              "      <td>2020-12-01</td>\n",
              "      <td>2019-01-01</td>\n",
              "      <td>24</td>\n",
              "      <td>Ridge</td>\n",
              "      <td>0.263553</td>\n",
              "    </tr>\n",
              "  </tbody>\n",
              "</table>\n",
              "</div>"
            ],
            "text/plain": [
              "  month/year reg_names     data_do    train_do mes  method      rmse\n",
              "0      month     [SFO]  2020-12-01  2019-01-01  24   ARIMA  0.261217\n",
              "1      month     [SFO]  2020-12-01  2019-01-01  24  ARIMAX  0.429832\n",
              "2      month     [SFO]  2020-12-01  2019-01-01  24   Ridge  0.263553"
            ]
          },
          "metadata": {
            "tags": []
          },
          "execution_count": 63
        }
      ]
    },
    {
      "cell_type": "markdown",
      "metadata": {
        "id": "6zMFKLQuvvb-"
      },
      "source": [
        "# **Lasso (l1-regularisation)**"
      ]
    },
    {
      "cell_type": "code",
      "metadata": {
        "id": "vCU4UKIHwKpo",
        "colab": {
          "base_uri": "https://localhost:8080/"
        },
        "outputId": "60fbb389-3317-4f30-93af-c764a26a2a90"
      },
      "source": [
        "lasso001 = Lasso(alpha=0.01, max_iter=100000).fit(X_train_m, y_train)\n",
        "print(\"Training set score: {:.2f}\".format(lasso001.score(X_train_m, y_train)))\n",
        "print(\"Test set score: {:.2f}\".format(lasso001.score(X_test_m, y_test)))\n",
        "print(\"Number of features used:\", np.sum(lasso001.coef_ != 0))\n",
        "\n",
        "forecast = lasso001.predict(X_test_m)\n",
        "print('rmse: {:.5f}'.format(mean_squared_error(y_test, forecast) ** 0.5))\n",
        "print('normed rmse: {:.2f}%'.format(mean_squared_error(y_test, forecast) ** 0.5 / np.mean(y_test) * 100))"
      ],
      "execution_count": 64,
      "outputs": [
        {
          "output_type": "stream",
          "text": [
            "Training set score: 0.48\n",
            "Test set score: 0.35\n",
            "Number of features used: 4\n",
            "rmse: 0.23826\n",
            "normed rmse: 0.24%\n"
          ],
          "name": "stdout"
        }
      ]
    },
    {
      "cell_type": "code",
      "metadata": {
        "id": "n3OH1F4zZFDS",
        "colab": {
          "base_uri": "https://localhost:8080/",
          "height": 173
        },
        "outputId": "21fb2ce8-a3c6-455c-a20c-053a1a05235e"
      },
      "source": [
        "result['Lasso']=pd.DataFrame(np.array(forecast), index = test.index, columns=['Lasso'])\n",
        "result_Lasso = {'month/year': cpi, 'reg_names': reg_names, 'data_do': data_do, 'train_do': train_do, 'mes': mes, 'method': 'Lasso', \n",
        "                'rmse': mean_squared_error(y_test, forecast) ** 0.5} \n",
        "result_rmse = result_rmse.append(result_Lasso, ignore_index = True) \n",
        "result_rmse"
      ],
      "execution_count": 65,
      "outputs": [
        {
          "output_type": "execute_result",
          "data": {
            "text/html": [
              "<div>\n",
              "<style scoped>\n",
              "    .dataframe tbody tr th:only-of-type {\n",
              "        vertical-align: middle;\n",
              "    }\n",
              "\n",
              "    .dataframe tbody tr th {\n",
              "        vertical-align: top;\n",
              "    }\n",
              "\n",
              "    .dataframe thead th {\n",
              "        text-align: right;\n",
              "    }\n",
              "</style>\n",
              "<table border=\"1\" class=\"dataframe\">\n",
              "  <thead>\n",
              "    <tr style=\"text-align: right;\">\n",
              "      <th></th>\n",
              "      <th>month/year</th>\n",
              "      <th>reg_names</th>\n",
              "      <th>data_do</th>\n",
              "      <th>train_do</th>\n",
              "      <th>mes</th>\n",
              "      <th>method</th>\n",
              "      <th>rmse</th>\n",
              "    </tr>\n",
              "  </thead>\n",
              "  <tbody>\n",
              "    <tr>\n",
              "      <th>0</th>\n",
              "      <td>month</td>\n",
              "      <td>[SFO]</td>\n",
              "      <td>2020-12-01</td>\n",
              "      <td>2019-01-01</td>\n",
              "      <td>24</td>\n",
              "      <td>ARIMA</td>\n",
              "      <td>0.261217</td>\n",
              "    </tr>\n",
              "    <tr>\n",
              "      <th>1</th>\n",
              "      <td>month</td>\n",
              "      <td>[SFO]</td>\n",
              "      <td>2020-12-01</td>\n",
              "      <td>2019-01-01</td>\n",
              "      <td>24</td>\n",
              "      <td>ARIMAX</td>\n",
              "      <td>0.429832</td>\n",
              "    </tr>\n",
              "    <tr>\n",
              "      <th>2</th>\n",
              "      <td>month</td>\n",
              "      <td>[SFO]</td>\n",
              "      <td>2020-12-01</td>\n",
              "      <td>2019-01-01</td>\n",
              "      <td>24</td>\n",
              "      <td>Ridge</td>\n",
              "      <td>0.263553</td>\n",
              "    </tr>\n",
              "    <tr>\n",
              "      <th>3</th>\n",
              "      <td>month</td>\n",
              "      <td>[SFO]</td>\n",
              "      <td>2020-12-01</td>\n",
              "      <td>2019-01-01</td>\n",
              "      <td>24</td>\n",
              "      <td>Lasso</td>\n",
              "      <td>0.238259</td>\n",
              "    </tr>\n",
              "  </tbody>\n",
              "</table>\n",
              "</div>"
            ],
            "text/plain": [
              "  month/year reg_names     data_do    train_do mes  method      rmse\n",
              "0      month     [SFO]  2020-12-01  2019-01-01  24   ARIMA  0.261217\n",
              "1      month     [SFO]  2020-12-01  2019-01-01  24  ARIMAX  0.429832\n",
              "2      month     [SFO]  2020-12-01  2019-01-01  24   Ridge  0.263553\n",
              "3      month     [SFO]  2020-12-01  2019-01-01  24   Lasso  0.238259"
            ]
          },
          "metadata": {
            "tags": []
          },
          "execution_count": 65
        }
      ]
    },
    {
      "cell_type": "markdown",
      "metadata": {
        "id": "89Wk2X8YywhK"
      },
      "source": [
        "# **ElasticNet (l1+l2-regularisation)**"
      ]
    },
    {
      "cell_type": "code",
      "metadata": {
        "id": "9bLvKIBNxmtY",
        "colab": {
          "base_uri": "https://localhost:8080/"
        },
        "outputId": "e63f9cc9-2769-4364-87e9-70a5efaa9cba"
      },
      "source": [
        "from sklearn.linear_model import ElasticNet\n",
        "ENmodel = ElasticNet(alpha=0.1, max_iter=100000).fit(X_train, y_train)\n",
        "\n",
        "print(\"Training set score: {:.2f}\".format(ENmodel.score(X_train, y_train)))\n",
        "print(\"Test set score: {:.2f}\".format(ENmodel.score(X_test, y_test)))\n",
        "print(\"Number of features used:\", np.sum(ENmodel.coef_ != 0))\n",
        "\n",
        "forecast = ENmodel.predict(X_test)\n",
        "print('rmse: {:.5f}'.format(mean_squared_error(y_test, forecast) ** 0.5))\n",
        "print('normed rmse: {:.2f}%'.format(mean_squared_error(y_test, forecast) ** 0.5 / np.mean(y_test) * 100))"
      ],
      "execution_count": 66,
      "outputs": [
        {
          "output_type": "stream",
          "text": [
            "Training set score: 0.46\n",
            "Test set score: 0.24\n",
            "Number of features used: 7\n",
            "rmse: 0.25812\n",
            "normed rmse: 0.26%\n"
          ],
          "name": "stdout"
        }
      ]
    },
    {
      "cell_type": "code",
      "metadata": {
        "id": "o-v_7zc8ZPc3",
        "colab": {
          "base_uri": "https://localhost:8080/",
          "height": 204
        },
        "outputId": "30f1fb6e-fa2b-49c8-ad8d-5c2e37203b39"
      },
      "source": [
        "result['ElasticNet']=pd.DataFrame(np.array(forecast), index = test.index, columns=['ElasticNet'])\n",
        "result_ElasticNet = {'month/year': cpi, 'reg_names': reg_names, 'data_do': data_do, 'train_do': train_do, 'mes': mes, 'method': 'ElasticNet', \n",
        "                'rmse': mean_squared_error(y_test, forecast) ** 0.5} \n",
        "result_rmse = result_rmse.append(result_ElasticNet, ignore_index = True) \n",
        "result_rmse"
      ],
      "execution_count": 67,
      "outputs": [
        {
          "output_type": "execute_result",
          "data": {
            "text/html": [
              "<div>\n",
              "<style scoped>\n",
              "    .dataframe tbody tr th:only-of-type {\n",
              "        vertical-align: middle;\n",
              "    }\n",
              "\n",
              "    .dataframe tbody tr th {\n",
              "        vertical-align: top;\n",
              "    }\n",
              "\n",
              "    .dataframe thead th {\n",
              "        text-align: right;\n",
              "    }\n",
              "</style>\n",
              "<table border=\"1\" class=\"dataframe\">\n",
              "  <thead>\n",
              "    <tr style=\"text-align: right;\">\n",
              "      <th></th>\n",
              "      <th>month/year</th>\n",
              "      <th>reg_names</th>\n",
              "      <th>data_do</th>\n",
              "      <th>train_do</th>\n",
              "      <th>mes</th>\n",
              "      <th>method</th>\n",
              "      <th>rmse</th>\n",
              "    </tr>\n",
              "  </thead>\n",
              "  <tbody>\n",
              "    <tr>\n",
              "      <th>0</th>\n",
              "      <td>month</td>\n",
              "      <td>[SFO]</td>\n",
              "      <td>2020-12-01</td>\n",
              "      <td>2019-01-01</td>\n",
              "      <td>24</td>\n",
              "      <td>ARIMA</td>\n",
              "      <td>0.261217</td>\n",
              "    </tr>\n",
              "    <tr>\n",
              "      <th>1</th>\n",
              "      <td>month</td>\n",
              "      <td>[SFO]</td>\n",
              "      <td>2020-12-01</td>\n",
              "      <td>2019-01-01</td>\n",
              "      <td>24</td>\n",
              "      <td>ARIMAX</td>\n",
              "      <td>0.429832</td>\n",
              "    </tr>\n",
              "    <tr>\n",
              "      <th>2</th>\n",
              "      <td>month</td>\n",
              "      <td>[SFO]</td>\n",
              "      <td>2020-12-01</td>\n",
              "      <td>2019-01-01</td>\n",
              "      <td>24</td>\n",
              "      <td>Ridge</td>\n",
              "      <td>0.263553</td>\n",
              "    </tr>\n",
              "    <tr>\n",
              "      <th>3</th>\n",
              "      <td>month</td>\n",
              "      <td>[SFO]</td>\n",
              "      <td>2020-12-01</td>\n",
              "      <td>2019-01-01</td>\n",
              "      <td>24</td>\n",
              "      <td>Lasso</td>\n",
              "      <td>0.238259</td>\n",
              "    </tr>\n",
              "    <tr>\n",
              "      <th>4</th>\n",
              "      <td>month</td>\n",
              "      <td>[SFO]</td>\n",
              "      <td>2020-12-01</td>\n",
              "      <td>2019-01-01</td>\n",
              "      <td>24</td>\n",
              "      <td>ElasticNet</td>\n",
              "      <td>0.258118</td>\n",
              "    </tr>\n",
              "  </tbody>\n",
              "</table>\n",
              "</div>"
            ],
            "text/plain": [
              "  month/year reg_names     data_do    train_do mes      method      rmse\n",
              "0      month     [SFO]  2020-12-01  2019-01-01  24       ARIMA  0.261217\n",
              "1      month     [SFO]  2020-12-01  2019-01-01  24      ARIMAX  0.429832\n",
              "2      month     [SFO]  2020-12-01  2019-01-01  24       Ridge  0.263553\n",
              "3      month     [SFO]  2020-12-01  2019-01-01  24       Lasso  0.238259\n",
              "4      month     [SFO]  2020-12-01  2019-01-01  24  ElasticNet  0.258118"
            ]
          },
          "metadata": {
            "tags": []
          },
          "execution_count": 67
        }
      ]
    },
    {
      "cell_type": "markdown",
      "metadata": {
        "id": "-VtIS_ts9gBH"
      },
      "source": [
        "# **Plot_features**"
      ]
    },
    {
      "cell_type": "code",
      "metadata": {
        "id": "Uzl6UEi58e0C"
      },
      "source": [
        "def plot_features(model):\n",
        "  n_features = data_not.shape[1]\n",
        "  plt.barh(range(n_features), model.feature_importances_, align='center')\n",
        "  plt.yticks(np.arange(n_features), data_not.columns)\n",
        "  plt.xlabel('Важность признака')\n",
        "  plt.ylabel('Признак')\n"
      ],
      "execution_count": 68,
      "outputs": []
    },
    {
      "cell_type": "code",
      "metadata": {
        "id": "GwJ1ETcy75nc"
      },
      "source": [
        "def plot_features_GS(model):\n",
        "  n_features = data_not.shape[1]\n",
        "  plt.barh(range(n_features), model.best_estimator_.feature_importances_, align='center')\n",
        "  plt.yticks(np.arange(n_features), data_not.columns)\n",
        "  plt.xlabel('Важность признака')\n",
        "  plt.ylabel('Признак')"
      ],
      "execution_count": 69,
      "outputs": []
    },
    {
      "cell_type": "markdown",
      "metadata": {
        "id": "hZUBvN8MteZ3"
      },
      "source": [
        "# **GSRF**"
      ]
    },
    {
      "cell_type": "code",
      "metadata": {
        "id": "o9VBj9kFtjX_",
        "colab": {
          "base_uri": "https://localhost:8080/",
          "height": 755
        },
        "outputId": "f0e99be4-ba35-49a8-f0b3-e9de09d67183"
      },
      "source": [
        "param_grid = {'n_estimators': [1, 10, 50, 100, 200, 300]}\n",
        "print(\"Parameter grid:\\n{}\".format(param_grid))\n",
        "\n",
        "GSRF = GridSearchCV(RandomForestRegressor(), param_grid, cv=30)\n",
        "GSRF.fit(X_train, y_train)\n",
        "\n",
        "print(\"Test set score: {:.2f}\".format(GSRF.score(X_test, y_test)))\n",
        "print(\"Best parameters: {}\".format(GSRF.best_params_))\n",
        "print(\"Best estimator:\\n{}\".format(GSRF.best_estimator_))\n",
        "\n",
        "# make predictions\n",
        "GSRF_forecast = GSRF.predict(X_test)\n",
        "\n",
        "plt.plot(y_test, label='true')\n",
        "plt.plot(GSRF_forecast, label='forecast')\n",
        "plt.legend()\n",
        "\n",
        "from sklearn.metrics import mean_squared_error\n",
        "print('rmse: {:.4f}'.format(mean_squared_error(y_test, GSRF_forecast) ** 0.5))\n",
        "print('normed rmse: {:.4f}%'.format((mean_squared_error(y_test, GSRF_forecast) ** 0.5) / \n",
        "                                    np.mean(y_test) * 100))\n",
        "\n",
        "print(\"Accuracy on training set: {:.3f}\".format(GSRF.score(X_train, y_train)))\n",
        "print(\"Accuracy on test set: {:.3f}\".format(GSRF.score(X_test, y_test)))\n",
        "\n",
        "result['GSRF']=pd.DataFrame(np.array(GSRF_forecast), index = test.index, columns=['GSRF'])\n",
        "\n",
        "result_GSRF = {'month/year': cpi, 'reg_names': reg_names, 'data_do': data_do, 'train_do': train_do, 'mes': mes, 'method': 'GSRF', \n",
        "                'rmse': mean_squared_error(y_test, GSRF_forecast) ** 0.5} \n",
        "result_rmse = result_rmse.append(result_GSRF, ignore_index = True) \n",
        "result_rmse"
      ],
      "execution_count": 70,
      "outputs": [
        {
          "output_type": "stream",
          "text": [
            "Parameter grid:\n",
            "{'n_estimators': [1, 10, 50, 100, 200, 300]}\n",
            "Test set score: 0.31\n",
            "Best parameters: {'n_estimators': 300}\n",
            "Best estimator:\n",
            "RandomForestRegressor(bootstrap=True, ccp_alpha=0.0, criterion='mse',\n",
            "                      max_depth=None, max_features='auto', max_leaf_nodes=None,\n",
            "                      max_samples=None, min_impurity_decrease=0.0,\n",
            "                      min_impurity_split=None, min_samples_leaf=1,\n",
            "                      min_samples_split=2, min_weight_fraction_leaf=0.0,\n",
            "                      n_estimators=300, n_jobs=None, oob_score=False,\n",
            "                      random_state=None, verbose=0, warm_start=False)\n",
            "rmse: 0.2458\n",
            "normed rmse: 0.2449%\n",
            "Accuracy on training set: 0.933\n",
            "Accuracy on test set: 0.308\n"
          ],
          "name": "stdout"
        },
        {
          "output_type": "execute_result",
          "data": {
            "text/html": [
              "<div>\n",
              "<style scoped>\n",
              "    .dataframe tbody tr th:only-of-type {\n",
              "        vertical-align: middle;\n",
              "    }\n",
              "\n",
              "    .dataframe tbody tr th {\n",
              "        vertical-align: top;\n",
              "    }\n",
              "\n",
              "    .dataframe thead th {\n",
              "        text-align: right;\n",
              "    }\n",
              "</style>\n",
              "<table border=\"1\" class=\"dataframe\">\n",
              "  <thead>\n",
              "    <tr style=\"text-align: right;\">\n",
              "      <th></th>\n",
              "      <th>month/year</th>\n",
              "      <th>reg_names</th>\n",
              "      <th>data_do</th>\n",
              "      <th>train_do</th>\n",
              "      <th>mes</th>\n",
              "      <th>method</th>\n",
              "      <th>rmse</th>\n",
              "    </tr>\n",
              "  </thead>\n",
              "  <tbody>\n",
              "    <tr>\n",
              "      <th>0</th>\n",
              "      <td>month</td>\n",
              "      <td>[SFO]</td>\n",
              "      <td>2020-12-01</td>\n",
              "      <td>2019-01-01</td>\n",
              "      <td>24</td>\n",
              "      <td>ARIMA</td>\n",
              "      <td>0.261217</td>\n",
              "    </tr>\n",
              "    <tr>\n",
              "      <th>1</th>\n",
              "      <td>month</td>\n",
              "      <td>[SFO]</td>\n",
              "      <td>2020-12-01</td>\n",
              "      <td>2019-01-01</td>\n",
              "      <td>24</td>\n",
              "      <td>ARIMAX</td>\n",
              "      <td>0.429832</td>\n",
              "    </tr>\n",
              "    <tr>\n",
              "      <th>2</th>\n",
              "      <td>month</td>\n",
              "      <td>[SFO]</td>\n",
              "      <td>2020-12-01</td>\n",
              "      <td>2019-01-01</td>\n",
              "      <td>24</td>\n",
              "      <td>Ridge</td>\n",
              "      <td>0.263553</td>\n",
              "    </tr>\n",
              "    <tr>\n",
              "      <th>3</th>\n",
              "      <td>month</td>\n",
              "      <td>[SFO]</td>\n",
              "      <td>2020-12-01</td>\n",
              "      <td>2019-01-01</td>\n",
              "      <td>24</td>\n",
              "      <td>Lasso</td>\n",
              "      <td>0.238259</td>\n",
              "    </tr>\n",
              "    <tr>\n",
              "      <th>4</th>\n",
              "      <td>month</td>\n",
              "      <td>[SFO]</td>\n",
              "      <td>2020-12-01</td>\n",
              "      <td>2019-01-01</td>\n",
              "      <td>24</td>\n",
              "      <td>ElasticNet</td>\n",
              "      <td>0.258118</td>\n",
              "    </tr>\n",
              "    <tr>\n",
              "      <th>5</th>\n",
              "      <td>month</td>\n",
              "      <td>[SFO]</td>\n",
              "      <td>2020-12-01</td>\n",
              "      <td>2019-01-01</td>\n",
              "      <td>24</td>\n",
              "      <td>GSRF</td>\n",
              "      <td>0.245764</td>\n",
              "    </tr>\n",
              "  </tbody>\n",
              "</table>\n",
              "</div>"
            ],
            "text/plain": [
              "  month/year reg_names     data_do    train_do mes      method      rmse\n",
              "0      month     [SFO]  2020-12-01  2019-01-01  24       ARIMA  0.261217\n",
              "1      month     [SFO]  2020-12-01  2019-01-01  24      ARIMAX  0.429832\n",
              "2      month     [SFO]  2020-12-01  2019-01-01  24       Ridge  0.263553\n",
              "3      month     [SFO]  2020-12-01  2019-01-01  24       Lasso  0.238259\n",
              "4      month     [SFO]  2020-12-01  2019-01-01  24  ElasticNet  0.258118\n",
              "5      month     [SFO]  2020-12-01  2019-01-01  24        GSRF  0.245764"
            ]
          },
          "metadata": {
            "tags": []
          },
          "execution_count": 70
        },
        {
          "output_type": "display_data",
          "data": {
            "image/png": "[encoded data removed]",
            "text/plain": [
              "<Figure size 432x288 with 1 Axes>"
            ]
          },
          "metadata": {
            "tags": [],
            "needs_background": "light"
          }
        }
      ]
    },
    {
      "cell_type": "code",
      "metadata": {
        "id": "X2JybbWj8Boa",
        "colab": {
          "base_uri": "https://localhost:8080/",
          "height": 279
        },
        "outputId": "d971ffdc-6899-4ab8-e91a-83fb20311534"
      },
      "source": [
        "plot_features_GS(GSRF)"
      ],
      "execution_count": 71,
      "outputs": [
        {
          "output_type": "display_data",
          "data": {
            "image/png": "[encoded data removed]",
            "text/plain": [
              "<Figure size 432x288 with 1 Axes>"
            ]
          },
          "metadata": {
            "tags": [],
            "needs_background": "light"
          }
        }
      ]
    },
    {
      "cell_type": "markdown",
      "metadata": {
        "id": "GjsuJnxA9pMB"
      },
      "source": [
        "# **Grid Search XGB**"
      ]
    },
    {
      "cell_type": "code",
      "metadata": {
        "id": "mNrnnv7HHq4G"
      },
      "source": [
        "param_grid = {'max_depth': [1, 2, 3, 5, 10],\n",
        "              'n_estimators': [1, 10, 50, 100, 200, 300, 500]}\n",
        "print(\"Parameter grid:\\n{}\".format(param_grid))\n",
        "\n",
        "GSXGB = GridSearchCV(XGBRegressor(objective ='reg:squarederror'), param_grid, cv=30)\n",
        "GSXGB.fit(X_train, y_train, verbose=False)\n",
        "\n",
        "print(\"Test set score: {:.2f}\".format(GSXGB.score(X_test, y_test)))\n",
        "print(\"Best parameters: {}\".format(GSXGB.best_params_))\n",
        "print(\"Best estimator:\\n{}\".format(GSXGB.best_estimator_))\n",
        "\n",
        "# make predictions\n",
        "GSXGB_forecast = GSXGB.predict(X_test)\n",
        "plt.plot(y_test, label='true')\n",
        "plt.plot(GSXGB_forecast, label='forecast')\n",
        "plt.legend()\n",
        "\n",
        "from sklearn.metrics import mean_squared_error\n",
        "print('rmse: {:.4f}'.format(mean_squared_error(y_test, GSXGB_forecast) ** 0.5))\n",
        "print('normed rmse: {:.4f}%'.format((mean_squared_error(y_test, GSXGB_forecast) ** 0.5) / \n",
        "                                    np.mean(y_test) * 100))\n",
        "\n",
        "print(\"Accuracy on training set: {:.3f}\".format(GSXGB.score(X_train, y_train)))\n",
        "print(\"Accuracy on test set: {:.3f}\".format(GSXGB.score(X_test, y_test)))\n",
        "\n",
        "result['GSXGB']=pd.DataFrame(np.array(GSXGB_forecast), index = test.index, columns=['GSXGB'])\n",
        "\n",
        "result_GSXGB = {'month/year': cpi, 'reg_names': reg_names, 'data_do': data_do, 'train_do': train_do, 'mes': mes, 'method': 'GSXGB', \n",
        "                'rmse': mean_squared_error(y_test, GSXGB_forecast) ** 0.5} \n",
        "result_rmse = result_rmse.append(result_GSXGB, ignore_index = True) \n",
        "result_rmse"
      ],
      "execution_count": null,
      "outputs": []
    },
    {
      "cell_type": "code",
      "metadata": {
        "id": "FKrmX-6s6NKI",
        "colab": {
          "base_uri": "https://localhost:8080/",
          "height": 279
        },
        "outputId": "1799a106-6449-4980-e237-57e11d30dca8"
      },
      "source": [
        "plot_features_GS(GSXGB)"
      ],
      "execution_count": 73,
      "outputs": [
        {
          "output_type": "display_data",
          "data": {
            "image/png": "[encoded data removed]",
            "text/plain": [
              "<Figure size 432x288 with 1 Axes>"
            ]
          },
          "metadata": {
            "tags": [],
            "needs_background": "light"
          }
        }
      ]
    },
    {
      "cell_type": "markdown",
      "metadata": {
        "id": "SpvS8RFm3rpw"
      },
      "source": [
        "# **Blend weight**"
      ]
    },
    {
      "cell_type": "code",
      "metadata": {
        "id": "LfXGdMvh3ub5"
      },
      "source": [
        "result_rmse['weight'] = 1/result_rmse['rmse']/(1/result_rmse['rmse']).sum()\n",
        "\n",
        "meta_X = result_rmse['weight']\n",
        "meta_Y = result.drop(['y_test'], axis=1)\n",
        "a = np.array(meta_X)\n",
        "b = np.array(meta_Y)\n",
        "meta_blend = (np.sum(a * b, axis = 1))\n",
        "\n",
        "result['Blend']=pd.DataFrame(np.array(meta_blend), index = test.index, columns=['Blend'])\n",
        "result_Blend = {'month/year': cpi, 'reg_names': reg_names, 'data_do': data_do, 'train_do': train_do, 'mes': mes, 'method': 'GSXGB', \n",
        "                'rmse': mean_squared_error(y_test, meta_blend) ** 0.5} \n",
        "result_rmse = result_rmse.append(result_Blend, ignore_index = True)"
      ],
      "execution_count": null,
      "outputs": []
    },
    {
      "cell_type": "code",
      "metadata": {
        "id": "uKvdguFEC2LS"
      },
      "source": [
        ""
      ],
      "execution_count": null,
      "outputs": []
    },
    {
      "cell_type": "markdown",
      "metadata": {
        "id": "gfQZ85DhfIVg"
      },
      "source": [
        "# **Blend**"
      ]
    },
    {
      "cell_type": "code",
      "metadata": {
        "id": "WkBusnkjZUI4"
      },
      "source": [
        "\"\"\"\n",
        "# evaluate blending ensemble for regression\n",
        "from numpy import hstack\n",
        "from sklearn.datasets import make_regression\n",
        "from sklearn.model_selection import train_test_split\n",
        "from sklearn.linear_model import LinearRegression\n",
        "from sklearn.neighbors import KNeighborsRegressor\n",
        "from sklearn.tree import DecisionTreeRegressor\n",
        "from sklearn.svm import SVR\n",
        "\n",
        "# get the dataset\n",
        "def get_dataset():\n",
        "  X = data.drop(['t'], axis=1).values\n",
        "  y = data[['t']].values.ravel()\n",
        "  return X, y\n",
        "\n",
        "# get a list of base models\n",
        "def get_models():\n",
        "  models = list()\n",
        "  models.append(('lr', LinearRegression()))\n",
        "  # models.append(('knn', KNeighborsRegressor()))\n",
        "  models.append(('cart', DecisionTreeRegressor()))\n",
        "  models.append(('Ridge', Ridge()))\n",
        "  models.append(('Lasso', Lasso()))\n",
        "  models.append(('ElasticNet', ElasticNet()))\n",
        "  models.append(('RandomForest', RandomForestRegressor()))\n",
        "  models.append(('XGBRegressor', XGBRegressor()))\n",
        "  \n",
        "  return models\n",
        "\n",
        "# fit the blending ensemble\n",
        "def fit_ensemble(models, X_train, X_val, y_train, y_val):\n",
        "  # fit all models on the training set and predict on hold out set\n",
        "  meta_X = list()\n",
        "  for name, model in models:\n",
        "  # fit in training set\n",
        "    model.fit(X_train, y_train)\n",
        "    # predict on hold out set\n",
        "    yhat = model.predict(X_val)\n",
        "    # reshape predictions into a matrix with one column\n",
        "    yhat = yhat.reshape(len(yhat), 1)\n",
        "    # store predictions as input for blending\n",
        "  meta_X.append(yhat)\n",
        "  # create 2d array from predictions, each set is an input feature\n",
        "  meta_X = hstack(meta_X)\n",
        "  # define blending model\n",
        "  blender = LinearRegression()\n",
        "  # fit on predictions from base models\n",
        "  blender.fit(meta_X, y_val)\n",
        "  return blender\n",
        "\n",
        "# make a prediction with the blending ensemble\n",
        "def predict_ensemble(models, blender, X_test):\n",
        "  # make predictions with base models\n",
        "  meta_X = list()\n",
        "  for name, model in models:\n",
        "    # predict with base model\n",
        "    yhat = model.predict(X_test)\n",
        "    # reshape predictions into a matrix with one column\n",
        "    yhat = yhat.reshape(len(yhat), 1)\n",
        "  # store prediction\n",
        "  meta_X.append(yhat)\n",
        "  # create 2d array from predictions, each set is an input feature\n",
        "  meta_X = hstack(meta_X)\n",
        "  # predict\n",
        "  return blender.predict(meta_X)\n",
        "\n",
        "# define dataset\n",
        "X, y = get_dataset()\n",
        "# split dataset into train and test sets\n",
        "X_train_full, X_test, y_train_full, y_test = train_test_split(X, y, test_size=0.5, random_state=1)\n",
        "# split training set into train and validation sets\n",
        "X_train, X_val, y_train, y_val = train_test_split(X_train_full, y_train_full, test_size=0.33, random_state=1)\n",
        "# summarize data split\n",
        "print('Train: %s, Val: %s, Test: %s' % (X_train.shape, X_val.shape, X_test.shape))\n",
        "# create the base models\n",
        "models = get_models()\n",
        "# train the blending ensemble\n",
        "blender = fit_ensemble(models, X_train, X_val, y_train, y_val)\n",
        "# make predictions on test set\n",
        "yhat = predict_ensemble(models, blender, X_test)\n",
        "# evaluate predictions\n",
        "\n",
        "score = mean_squared_error(y_test, yhat) ** 0.5\n",
        "print('Blending rmse: %.3f' % score)\n",
        "\"\"\"\n"
      ],
      "execution_count": null,
      "outputs": []
    },
    {
      "cell_type": "markdown",
      "metadata": {
        "id": "dAV7JT8JCHTI"
      },
      "source": [
        "# **Results**"
      ]
    },
    {
      "cell_type": "code",
      "metadata": {
        "colab": {
          "base_uri": "https://localhost:8080/",
          "height": 734
        },
        "id": "-OncjnWUCGT6",
        "outputId": "dfc6ee66-7b02-4f66-e065-984f47916633"
      },
      "source": [
        "result.plot(figsize=(20, 7))\n",
        "result_rmse"
      ],
      "execution_count": 86,
      "outputs": [
        {
          "output_type": "execute_result",
          "data": {
            "text/html": [
              "<div>\n",
              "<style scoped>\n",
              "    .dataframe tbody tr th:only-of-type {\n",
              "        vertical-align: middle;\n",
              "    }\n",
              "\n",
              "    .dataframe tbody tr th {\n",
              "        vertical-align: top;\n",
              "    }\n",
              "\n",
              "    .dataframe thead th {\n",
              "        text-align: right;\n",
              "    }\n",
              "</style>\n",
              "<table border=\"1\" class=\"dataframe\">\n",
              "  <thead>\n",
              "    <tr style=\"text-align: right;\">\n",
              "      <th></th>\n",
              "      <th>month/year</th>\n",
              "      <th>reg_names</th>\n",
              "      <th>data_do</th>\n",
              "      <th>train_do</th>\n",
              "      <th>mes</th>\n",
              "      <th>method</th>\n",
              "      <th>rmse</th>\n",
              "      <th>weight</th>\n",
              "    </tr>\n",
              "  </thead>\n",
              "  <tbody>\n",
              "    <tr>\n",
              "      <th>0</th>\n",
              "      <td>month</td>\n",
              "      <td>[SFO]</td>\n",
              "      <td>2020-12-01</td>\n",
              "      <td>2019-01-01</td>\n",
              "      <td>24</td>\n",
              "      <td>ARIMA</td>\n",
              "      <td>0.261217</td>\n",
              "      <td>0.147437</td>\n",
              "    </tr>\n",
              "    <tr>\n",
              "      <th>1</th>\n",
              "      <td>month</td>\n",
              "      <td>[SFO]</td>\n",
              "      <td>2020-12-01</td>\n",
              "      <td>2019-01-01</td>\n",
              "      <td>24</td>\n",
              "      <td>ARIMAX</td>\n",
              "      <td>0.429832</td>\n",
              "      <td>0.089600</td>\n",
              "    </tr>\n",
              "    <tr>\n",
              "      <th>2</th>\n",
              "      <td>month</td>\n",
              "      <td>[SFO]</td>\n",
              "      <td>2020-12-01</td>\n",
              "      <td>2019-01-01</td>\n",
              "      <td>24</td>\n",
              "      <td>Ridge</td>\n",
              "      <td>0.263553</td>\n",
              "      <td>0.146131</td>\n",
              "    </tr>\n",
              "    <tr>\n",
              "      <th>3</th>\n",
              "      <td>month</td>\n",
              "      <td>[SFO]</td>\n",
              "      <td>2020-12-01</td>\n",
              "      <td>2019-01-01</td>\n",
              "      <td>24</td>\n",
              "      <td>Lasso</td>\n",
              "      <td>0.238259</td>\n",
              "      <td>0.161644</td>\n",
              "    </tr>\n",
              "    <tr>\n",
              "      <th>4</th>\n",
              "      <td>month</td>\n",
              "      <td>[SFO]</td>\n",
              "      <td>2020-12-01</td>\n",
              "      <td>2019-01-01</td>\n",
              "      <td>24</td>\n",
              "      <td>ElasticNet</td>\n",
              "      <td>0.258118</td>\n",
              "      <td>0.149208</td>\n",
              "    </tr>\n",
              "    <tr>\n",
              "      <th>5</th>\n",
              "      <td>month</td>\n",
              "      <td>[SFO]</td>\n",
              "      <td>2020-12-01</td>\n",
              "      <td>2019-01-01</td>\n",
              "      <td>24</td>\n",
              "      <td>GSRF</td>\n",
              "      <td>0.245764</td>\n",
              "      <td>0.156708</td>\n",
              "    </tr>\n",
              "    <tr>\n",
              "      <th>6</th>\n",
              "      <td>month</td>\n",
              "      <td>[SFO]</td>\n",
              "      <td>2020-12-01</td>\n",
              "      <td>2019-01-01</td>\n",
              "      <td>24</td>\n",
              "      <td>GSXGB</td>\n",
              "      <td>0.258008</td>\n",
              "      <td>0.149272</td>\n",
              "    </tr>\n",
              "    <tr>\n",
              "      <th>7</th>\n",
              "      <td>month</td>\n",
              "      <td>[SFO]</td>\n",
              "      <td>2020-12-01</td>\n",
              "      <td>2019-01-01</td>\n",
              "      <td>24</td>\n",
              "      <td>GSXGB</td>\n",
              "      <td>0.211985</td>\n",
              "      <td>NaN</td>\n",
              "    </tr>\n",
              "  </tbody>\n",
              "</table>\n",
              "</div>"
            ],
            "text/plain": [
              "  month/year reg_names     data_do  ...      method      rmse    weight\n",
              "0      month     [SFO]  2020-12-01  ...       ARIMA  0.261217  0.147437\n",
              "1      month     [SFO]  2020-12-01  ...      ARIMAX  0.429832  0.089600\n",
              "2      month     [SFO]  2020-12-01  ...       Ridge  0.263553  0.146131\n",
              "3      month     [SFO]  2020-12-01  ...       Lasso  0.238259  0.161644\n",
              "4      month     [SFO]  2020-12-01  ...  ElasticNet  0.258118  0.149208\n",
              "5      month     [SFO]  2020-12-01  ...        GSRF  0.245764  0.156708\n",
              "6      month     [SFO]  2020-12-01  ...       GSXGB  0.258008  0.149272\n",
              "7      month     [SFO]  2020-12-01  ...       GSXGB  0.211985       NaN\n",
              "\n",
              "[8 rows x 8 columns]"
            ]
          },
          "metadata": {
            "tags": []
          },
          "execution_count": 86
        },
        {
          "output_type": "display_data",
          "data": {
            "image/png": "[encoded data removed]",
            "text/plain": [
              "<Figure size 1440x504 with 1 Axes>"
            ]
          },
          "metadata": {
            "tags": [],
            "needs_background": "light"
          }
        }
      ]
    }
  ]
}